





<!DOCTYPE html>
<html lang="en" data-color-mode="auto" data-light-theme="light" data-dark-theme="dark"  data-a11y-animated-images="system">
  <head>
    <meta charset="utf-8">
  <link rel="dns-prefetch" href="https://github.githubassets.com">
  <link rel="dns-prefetch" href="https://avatars.githubusercontent.com">
  <link rel="dns-prefetch" href="https://github-cloud.s3.amazonaws.com">
  <link rel="dns-prefetch" href="https://user-images.githubusercontent.com/">
  <link rel="preconnect" href="https://github.githubassets.com" crossorigin>
  <link rel="preconnect" href="https://avatars.githubusercontent.com">

  


  <link crossorigin="anonymous" media="all" rel="stylesheet" href="https://github.githubassets.com/assets/light-8cafbcbd78f4.css" /><link crossorigin="anonymous" media="all" rel="stylesheet" href="https://github.githubassets.com/assets/dark-31dc14e38457.css" /><link data-color-theme="dark_dimmed" crossorigin="anonymous" media="all" rel="stylesheet" data-href="https://github.githubassets.com/assets/dark_dimmed-71414d661fe2.css" /><link data-color-theme="dark_high_contrast" crossorigin="anonymous" media="all" rel="stylesheet" data-href="https://github.githubassets.com/assets/dark_high_contrast-ba96c7f1d660.css" /><link data-color-theme="dark_colorblind" crossorigin="anonymous" media="all" rel="stylesheet" data-href="https://github.githubassets.com/assets/dark_colorblind-7471c22cdb6a.css" /><link data-color-theme="light_colorblind" crossorigin="anonymous" media="all" rel="stylesheet" data-href="https://github.githubassets.com/assets/light_colorblind-80180bed15ed.css" /><link data-color-theme="light_high_contrast" crossorigin="anonymous" media="all" rel="stylesheet" data-href="https://github.githubassets.com/assets/light_high_contrast-e89b9cdecb75.css" /><link data-color-theme="light_tritanopia" crossorigin="anonymous" media="all" rel="stylesheet" data-href="https://github.githubassets.com/assets/light_tritanopia-77f15e9154df.css" /><link data-color-theme="dark_tritanopia" crossorigin="anonymous" media="all" rel="stylesheet" data-href="https://github.githubassets.com/assets/dark_tritanopia-f598f8dd18ae.css" />
  
    <link crossorigin="anonymous" media="all" rel="stylesheet" href="https://github.githubassets.com/assets/primer-primitives-fb1d51d1ef66.css" />
    <link crossorigin="anonymous" media="all" rel="stylesheet" href="https://github.githubassets.com/assets/primer-05fec56eb582.css" />
    <link crossorigin="anonymous" media="all" rel="stylesheet" href="https://github.githubassets.com/assets/global-280e28c4e8be.css" />
    <link crossorigin="anonymous" media="all" rel="stylesheet" href="https://github.githubassets.com/assets/github-21dc4e5af19d.css" />
  <link crossorigin="anonymous" media="all" rel="stylesheet" href="https://github.githubassets.com/assets/code-ca6467096a82.css" />

  

  <script type="application/json" id="client-env">{"locale":"en","featureFlags":["failbot_handle_non_errors","fix_react_title","geojson_azure_maps","image_metric_tracking","turbo_experiment_risky","use_scroll_restoration"]}</script>
<script crossorigin="anonymous" defer="defer" type="application/javascript" src="https://github.githubassets.com/assets/wp-runtime-eb5012c99a20.js"></script>
<script crossorigin="anonymous" defer="defer" type="application/javascript" src="https://github.githubassets.com/assets/vendors-node_modules_dompurify_dist_purify_js-64d590970fa6.js"></script>
<script crossorigin="anonymous" defer="defer" type="application/javascript" src="https://github.githubassets.com/assets/vendors-node_modules_stacktrace-parser_dist_stack-trace-parser_esm_js-node_modules_github_bro-a4c183-ae93d3fba59c.js"></script>
<script crossorigin="anonymous" defer="defer" type="application/javascript" src="https://github.githubassets.com/assets/ui_packages_soft-nav_soft-nav_ts-db8b037dfa8f.js"></script>
<script crossorigin="anonymous" defer="defer" type="application/javascript" src="https://github.githubassets.com/assets/environment-c2140938ffde.js"></script>
<script crossorigin="anonymous" defer="defer" type="application/javascript" src="https://github.githubassets.com/assets/vendors-node_modules_github_selector-observer_dist_index_esm_js-2646a2c533e3.js"></script>
<script crossorigin="anonymous" defer="defer" type="application/javascript" src="https://github.githubassets.com/assets/vendors-node_modules_primer_behaviors_dist_esm_focus-zone_js-d55308df5023.js"></script>
<script crossorigin="anonymous" defer="defer" type="application/javascript" src="https://github.githubassets.com/assets/vendors-node_modules_github_relative-time-element_dist_index_js-99e288659d4f.js"></script>
<script crossorigin="anonymous" defer="defer" type="application/javascript" src="https://github.githubassets.com/assets/vendors-node_modules_fzy_js_index_js-node_modules_github_markdown-toolbar-element_dist_index_js-d2119e75298d.js"></script>
<script crossorigin="anonymous" defer="defer" type="application/javascript" src="https://github.githubassets.com/assets/vendors-node_modules_delegated-events_dist_index_js-node_modules_github_auto-complete-element-5b3870-9b38c0812424.js"></script>
<script crossorigin="anonymous" defer="defer" type="application/javascript" src="https://github.githubassets.com/assets/vendors-node_modules_github_filter-input-element_dist_index_js-node_modules_github_remote-inp-8873b7-5771678648e0.js"></script>
<script crossorigin="anonymous" defer="defer" type="application/javascript" src="https://github.githubassets.com/assets/vendors-node_modules_github_file-attachment-element_dist_index_js-node_modules_github_text-ex-3415a8-7ecc10fb88d0.js"></script>
<script crossorigin="anonymous" defer="defer" type="application/javascript" src="https://github.githubassets.com/assets/vendors-node_modules_primer_view-components_app_components_primer_primer_js-node_modules_gith-e7a1e2-0c753046063c.js"></script>
<script crossorigin="anonymous" defer="defer" type="application/javascript" src="https://github.githubassets.com/assets/github-elements-82e8d1a2fb81.js"></script>
<script crossorigin="anonymous" defer="defer" type="application/javascript" src="https://github.githubassets.com/assets/element-registry-0c082928b31c.js"></script>
<script crossorigin="anonymous" defer="defer" type="application/javascript" src="https://github.githubassets.com/assets/vendors-node_modules_lit-html_lit-html_js-9d9fe1859ce5.js"></script>
<script crossorigin="anonymous" defer="defer" type="application/javascript" src="https://github.githubassets.com/assets/vendors-node_modules_github_hydro-analytics-client_dist_analytics-client_js-node_modules_gith-f3aee1-fd3c22610e40.js"></script>
<script crossorigin="anonymous" defer="defer" type="application/javascript" src="https://github.githubassets.com/assets/vendors-node_modules_morphdom_dist_morphdom-esm_js-b1fdd7158cf0.js"></script>
<script crossorigin="anonymous" defer="defer" type="application/javascript" src="https://github.githubassets.com/assets/vendors-node_modules_github_mini-throttle_dist_index_js-node_modules_github_alive-client_dist-bf5aa2-4aefce0fc3c8.js"></script>
<script crossorigin="anonymous" defer="defer" type="application/javascript" src="https://github.githubassets.com/assets/vendors-node_modules_github_turbo_dist_turbo_es2017-esm_js-1f4793023fcd.js"></script>
<script crossorigin="anonymous" defer="defer" type="application/javascript" src="https://github.githubassets.com/assets/vendors-node_modules_github_remote-form_dist_index_js-node_modules_scroll-anchoring_dist_scro-52dc4b-e1e33bfc0b7e.js"></script>
<script crossorigin="anonymous" defer="defer" type="application/javascript" src="https://github.githubassets.com/assets/vendors-node_modules_color-convert_index_js-35b3ae68c408.js"></script>
<script crossorigin="anonymous" defer="defer" type="application/javascript" src="https://github.githubassets.com/assets/vendors-node_modules_github_paste-markdown_dist_index_esm_js-node_modules_github_quote-select-7a8e2b-f036384374ea.js"></script>
<script crossorigin="anonymous" defer="defer" type="application/javascript" src="https://github.githubassets.com/assets/app_assets_modules_github_updatable-content_ts-126aeb5c22c9.js"></script>
<script crossorigin="anonymous" defer="defer" type="application/javascript" src="https://github.githubassets.com/assets/app_assets_modules_github_behaviors_task-list_ts-app_assets_modules_github_onfocus_ts-app_ass-079b43-c46fa3ecf26e.js"></script>
<script crossorigin="anonymous" defer="defer" type="application/javascript" src="https://github.githubassets.com/assets/app_assets_modules_github_sticky-scroll-into-view_ts-050ad6637d58.js"></script>
<script crossorigin="anonymous" defer="defer" type="application/javascript" src="https://github.githubassets.com/assets/app_assets_modules_github_blob-anchor_ts-app_assets_modules_github_cookies_ts-app_assets_modu-4c025d-7e5d24b6e472.js"></script>
<script crossorigin="anonymous" defer="defer" type="application/javascript" src="https://github.githubassets.com/assets/app_assets_modules_github_behaviors_commenting_edit_ts-app_assets_modules_github_behaviors_ht-83c235-f22ac6b94445.js"></script>
<script crossorigin="anonymous" defer="defer" type="application/javascript" src="https://github.githubassets.com/assets/app_assets_modules_github_behaviors_ajax-error_ts-app_assets_modules_github_behaviors_include-2e2258-113626c1b575.js"></script>
<script crossorigin="anonymous" defer="defer" type="application/javascript" src="https://github.githubassets.com/assets/behaviors-dd3089ddb7d6.js"></script>
<script crossorigin="anonymous" defer="defer" type="application/javascript" src="https://github.githubassets.com/assets/vendors-node_modules_delegated-events_dist_index_js-node_modules_github_catalyst_lib_index_js-06ff531-fe0b8ccc90a5.js"></script>
<script crossorigin="anonymous" defer="defer" type="application/javascript" src="https://github.githubassets.com/assets/notifications-global-f57687007bfc.js"></script>
<script crossorigin="anonymous" defer="defer" type="application/javascript" src="https://github.githubassets.com/assets/code-menu-edcbb51ff424.js"></script>
  
  <script crossorigin="anonymous" defer="defer" type="application/javascript" src="https://github.githubassets.com/assets/react-lib-210c4b5934c3.js"></script>
<script crossorigin="anonymous" defer="defer" type="application/javascript" src="https://github.githubassets.com/assets/vendors-node_modules_primer_octicons-react_dist_index_esm_js-node_modules_primer_react_lib-es-4edbf7-5ec044a77573.js"></script>
<script crossorigin="anonymous" defer="defer" type="application/javascript" src="https://github.githubassets.com/assets/vendors-node_modules_primer_react_lib-esm_Button_index_js-de75df76800b.js"></script>
<script crossorigin="anonymous" defer="defer" type="application/javascript" src="https://github.githubassets.com/assets/vendors-node_modules_primer_react_lib-esm_ActionList_index_js-cf279ec390fe.js"></script>
<script crossorigin="anonymous" defer="defer" type="application/javascript" src="https://github.githubassets.com/assets/vendors-node_modules_primer_react_lib-esm_Overlay_Overlay_js-node_modules_primer_react_lib-es-c25505-7256d09cc6de.js"></script>
<script crossorigin="anonymous" defer="defer" type="application/javascript" src="https://github.githubassets.com/assets/vendors-node_modules_primer_react_lib-esm_TextInput_TextInput_js-bda16ad5f5c0.js"></script>
<script crossorigin="anonymous" defer="defer" type="application/javascript" src="https://github.githubassets.com/assets/vendors-node_modules_primer_react_lib-esm_ActionMenu_js-fb2356b308cf.js"></script>
<script crossorigin="anonymous" defer="defer" type="application/javascript" src="https://github.githubassets.com/assets/vendors-node_modules_primer_behaviors_dist_esm_scroll-into-view_js-node_modules_primer_react_-04bb1b-f1078ffd63d6.js"></script>
<script crossorigin="anonymous" defer="defer" type="application/javascript" src="https://github.githubassets.com/assets/vendors-node_modules_primer_react_lib-esm_FormControl_FormControl_js-3ec7b5d8c7d7.js"></script>
<script crossorigin="anonymous" defer="defer" type="application/javascript" src="https://github.githubassets.com/assets/vendors-node_modules_react-router-dom_dist_index_js-4a785319b497.js"></script>
<script crossorigin="anonymous" defer="defer" type="application/javascript" src="https://github.githubassets.com/assets/vendors-node_modules_primer_react_lib-esm_Heading_Heading_js-node_modules_primer_react_lib-es-20c766-3952b4d6d547.js"></script>
<script crossorigin="anonymous" defer="defer" type="application/javascript" src="https://github.githubassets.com/assets/vendors-node_modules_primer_react_lib-esm_Dialog_ConfirmationDialog_js-a160e95ee1e8.js"></script>
<script crossorigin="anonymous" defer="defer" type="application/javascript" src="https://github.githubassets.com/assets/vendors-node_modules_primer_react_lib-esm_Dialog_js-node_modules_primer_react_lib-esm_TabNav_-8321f5-f6c3aa4bc5a3.js"></script>
<script crossorigin="anonymous" defer="defer" type="application/javascript" src="https://github.githubassets.com/assets/vendors-node_modules_primer_react_lib-esm_TreeView_TreeView_js-2d5a3fb3b8ec.js"></script>
<script crossorigin="anonymous" defer="defer" type="application/javascript" src="https://github.githubassets.com/assets/vendors-node_modules_primer_react_lib-esm_Label_Label_js-node_modules_primer_react_lib-esm_Na-46dd9b-87cea263d02a.js"></script>
<script crossorigin="anonymous" defer="defer" type="application/javascript" src="https://github.githubassets.com/assets/vendors-node_modules_primer_react_lib-esm_AvatarStack_AvatarStack_js-node_modules_primer_reac-0b4173-d8ba3894d9e9.js"></script>
<script crossorigin="anonymous" defer="defer" type="application/javascript" src="https://github.githubassets.com/assets/vendors-node_modules_primer_react_lib-esm_Avatar_Avatar_js-node_modules_primer_react_lib-esm_-df8a0c-dd641d38ef01.js"></script>
<script crossorigin="anonymous" defer="defer" type="application/javascript" src="https://github.githubassets.com/assets/ui_packages_react-core_create-browser-history_ts-ui_packages_react-core_deferred-registry_ts--ebbb92-50880bdc5744.js"></script>
<script crossorigin="anonymous" defer="defer" type="application/javascript" src="https://github.githubassets.com/assets/ui_packages_react-core_register-app_ts-93cc6fb20bd5.js"></script>
<script crossorigin="anonymous" defer="defer" type="application/javascript" src="https://github.githubassets.com/assets/ui_packages_ref-selector_RefSelector_tsx-ui_packages_safe-html_SafeHTML_tsx-5e5aa97558ac.js"></script>
<script crossorigin="anonymous" defer="defer" type="application/javascript" src="https://github.githubassets.com/assets/app_assets_modules_blackbird-monolith_utilities_append-and-focus-search-bar_ts-app_assets_mod-a1e934-d2871ae49f44.js"></script>
<script crossorigin="anonymous" defer="defer" type="application/javascript" src="https://github.githubassets.com/assets/ui_packages_trusted-types-policies_policy_ts-ui_packages_trusted-types_trusted-types_ts-app_a-af1c83-b613c6d6ed8b.js"></script>
<script crossorigin="anonymous" defer="defer" type="application/javascript" src="https://github.githubassets.com/assets/react-code-view-69c93727396c.js"></script>


  <title>StockPrediction/StockPrediction.ipynb at main · Arunima-Singh/StockPrediction</title>



  <meta name="route-pattern" content="/:user_id/:repository/blob/*name(/*path)">

    
  <meta name="current-catalog-service-hash" content="82c569b93da5c18ed649ebd4c2c79437db4611a6a1373e805a3cb001c64130b7">


  <meta name="request-id" content="DB3C:3C7478:294D56:2C89B8:64C7DBB5" data-turbo-transient="true" /><meta name="html-safe-nonce" content="b7c006aa259ac3f5856714d2f44ac25afe83f54819470dc7ffc63ea7ab829143" data-turbo-transient="true" /><meta name="visitor-payload" content="eyJyZWZlcnJlciI6Imh0dHBzOi8vZ2l0aHViLmNvbS9BcnVuaW1hLVNpbmdoL1N0b2NrUHJlZGljdGlvbiIsInJlcXVlc3RfaWQiOiJEQjNDOjNDNzQ3ODoyOTRENTY6MkM4OUI4OjY0QzdEQkI1IiwidmlzaXRvcl9pZCI6IjQ3MTQ1NjQ4NjIwOTU3MzAyODAiLCJyZWdpb25fZWRnZSI6ImNlbnRyYWxpbmRpYSIsInJlZ2lvbl9yZW5kZXIiOiJpYWQifQ==" data-turbo-transient="true" /><meta name="visitor-hmac" content="8889672fb460b9ca280e3a72a3e0b6fee18f4324ccc41276f70f977cd1260712" data-turbo-transient="true" />


    <meta name="hovercard-subject-tag" content="repository:535329618" data-turbo-transient>


  <meta name="github-keyboard-shortcuts" content="repository,source-code,file-tree" data-turbo-transient="true" />
  

  <meta name="selected-link" value="repo_source" data-turbo-transient>
  <link rel="assets" href="https://github.githubassets.com/">

    <meta name="google-site-verification" content="c1kuD-K2HIVF635lypcsWPoD4kilo5-jA_wBFyT4uMY">
  <meta name="google-site-verification" content="KT5gs8h0wvaagLKAVWq8bbeNwnZZK1r1XQysX3xurLU">
  <meta name="google-site-verification" content="ZzhVyEFwb7w3e0-uOTltm8Jsck2F5StVihD0exw2fsA">
  <meta name="google-site-verification" content="GXs5KoUUkNCoaAZn7wPN-t01Pywp9M3sEjnt_3_ZWPc">
  <meta name="google-site-verification" content="Apib7-x98H0j5cPqHWwSMm6dNU4GmODRoqxLiDzdx9I">

<meta name="octolytics-url" content="https://collector.github.com/github/collect" /><meta name="octolytics-actor-id" content="112893710" /><meta name="octolytics-actor-login" content="Gaurav8683" /><meta name="octolytics-actor-hash" content="9075d6195f8c6c251ce5a5e43256a0254ca3e3f267f9c0c4e4aa7a256de43e8b" />

  <meta name="analytics-location" content="/&lt;user-name&gt;/&lt;repo-name&gt;/blob/show" data-turbo-transient="true" />

  




  

    <meta name="user-login" content="Gaurav8683">

  <link rel="sudo-modal" href="/sessions/sudo_modal">

    <meta name="viewport" content="width=device-width">
    
      <meta name="description" content="Stock market prediction of a stock using stacked LSTM - StockPrediction/StockPrediction.ipynb at main · Arunima-Singh/StockPrediction">
      <link rel="search" type="application/opensearchdescription+xml" href="/opensearch.xml" title="GitHub">
    <link rel="fluid-icon" href="https://github.com/fluidicon.png" title="GitHub">
    <meta property="fb:app_id" content="1401488693436528">
    <meta name="apple-itunes-app" content="app-id=1477376905, app-argument=https://github.com/Arunima-Singh/StockPrediction/blob/main/StockPrediction.ipynb" />
      <meta name="twitter:image:src" content="https://opengraph.githubassets.com/46e5204b084ec4a30a83f5ccbf85f70796b4c7e6670370df5877449aa6350fb0/Arunima-Singh/StockPrediction" /><meta name="twitter:site" content="@github" /><meta name="twitter:card" content="summary_large_image" /><meta name="twitter:title" content="StockPrediction/StockPrediction.ipynb at main · Arunima-Singh/StockPrediction" /><meta name="twitter:description" content="Stock market prediction of a stock using stacked LSTM - Arunima-Singh/StockPrediction" />
      <meta property="og:image" content="https://opengraph.githubassets.com/46e5204b084ec4a30a83f5ccbf85f70796b4c7e6670370df5877449aa6350fb0/Arunima-Singh/StockPrediction" /><meta property="og:image:alt" content="Stock market prediction of a stock using stacked LSTM - Arunima-Singh/StockPrediction" /><meta property="og:image:width" content="1200" /><meta property="og:image:height" content="600" /><meta property="og:site_name" content="GitHub" /><meta property="og:type" content="object" /><meta property="og:title" content="StockPrediction/StockPrediction.ipynb at main · Arunima-Singh/StockPrediction" /><meta property="og:url" content="https://github.com/Arunima-Singh/StockPrediction/blob/main/StockPrediction.ipynb" /><meta property="og:description" content="Stock market prediction of a stock using stacked LSTM - Arunima-Singh/StockPrediction" />
      

      <link rel="shared-web-socket" href="wss://alive.github.com/_sockets/u/112893710/ws?session=eyJ2IjoiVjMiLCJ1IjoxMTI4OTM3MTAsInMiOjExNjQ0ODEyMDAsImMiOjMyODk0MDI2MDksInQiOjE2OTA4MTk1MTB9--ec30df1d0e7ebc4b1b407b999ee8efe2048d1e6cd9bbfc8e7f9697dbfee29e73" data-refresh-url="/_alive" data-session-id="c9621f0356c36b4d33685cce578cfe18005c1e8fae76ec911512d7bf42bb6ef8">
      <link rel="shared-web-socket-src" href="/assets-cdn/worker/socket-worker-71e98f781d79.js">


        <meta name="hostname" content="github.com">


      <meta name="keyboard-shortcuts-preference" content="all">

        <meta name="expected-hostname" content="github.com">

    <meta name="enabled-features" content="FAILBOT_HANDLE_NON_ERRORS,FIX_REACT_TITLE,GEOJSON_AZURE_MAPS,IMAGE_METRIC_TRACKING,TURBO_EXPERIMENT_RISKY,USE_SCROLL_RESTORATION">


  <meta http-equiv="x-pjax-version" content="5035e84497392a623afd1d4e715a47aa06afef0f96a436e68f8d92afae41bf31" data-turbo-track="reload">
  <meta http-equiv="x-pjax-csp-version" content="d578db686ab50f6f79f53006983acd122464dfeec8531d38fe12d520f9cbf1bc" data-turbo-track="reload">
  <meta http-equiv="x-pjax-css-version" content="47de9ea4ba354274ad6fb00f07b40f43b45df955eb0f7b9cfe16932b5e192042" data-turbo-track="reload">
  <meta http-equiv="x-pjax-js-version" content="11b1f476398b249c6cc04fbbad36e53b296e290fd2d8c0d3fcb3562a895f4790" data-turbo-track="reload">

  <meta name="turbo-cache-control" content="no-preview" data-turbo-transient="">

      <meta name="turbo-cache-control" content="no-cache" data-turbo-transient>
    <meta data-hydrostats="publish">

  <meta name="go-import" content="github.com/Arunima-Singh/StockPrediction git https://github.com/Arunima-Singh/StockPrediction.git">

  <meta name="octolytics-dimension-user_id" content="25866301" /><meta name="octolytics-dimension-user_login" content="Arunima-Singh" /><meta name="octolytics-dimension-repository_id" content="535329618" /><meta name="octolytics-dimension-repository_nwo" content="Arunima-Singh/StockPrediction" /><meta name="octolytics-dimension-repository_public" content="true" /><meta name="octolytics-dimension-repository_is_fork" content="false" /><meta name="octolytics-dimension-repository_network_root_id" content="535329618" /><meta name="octolytics-dimension-repository_network_root_nwo" content="Arunima-Singh/StockPrediction" />



  <meta name="turbo-body-classes" content="logged-in env-production page-responsive">


  <meta name="browser-stats-url" content="https://api.github.com/_private/browser/stats">

  <meta name="browser-errors-url" content="https://api.github.com/_private/browser/errors">

  <meta name="browser-optimizely-client-errors-url" content="https://api.github.com/_private/browser/optimizely_client/errors">

  <link rel="mask-icon" href="https://github.githubassets.com/pinned-octocat.svg" color="#000000">
  <link rel="alternate icon" class="js-site-favicon" type="image/png" href="https://github.githubassets.com/favicons/favicon.png">
  <link rel="icon" class="js-site-favicon" type="image/svg+xml" href="https://github.githubassets.com/favicons/favicon.svg">

<meta name="theme-color" content="#1e2327">
<meta name="color-scheme" content="light dark" />


  <link rel="manifest" href="/manifest.json" crossOrigin="use-credentials">

  </head>

  <body class="logged-in env-production page-responsive" style="word-wrap: break-word;">
    <div data-turbo-body class="logged-in env-production page-responsive" style="word-wrap: break-word;">
      


    <div class="position-relative js-header-wrapper ">
      <a href="#start-of-content" class="p-3 color-bg-accent-emphasis color-fg-on-emphasis show-on-focus js-skip-to-content">Skip to content</a>
      <span data-view-component="true" class="progress-pjax-loader Progress position-fixed width-full">
    <span style="width: 0%;" data-view-component="true" class="Progress-item progress-pjax-loader-bar left-0 top-0 color-bg-accent-emphasis"></span>
</span>      
      


      

        <script crossorigin="anonymous" defer="defer" type="application/javascript" src="https://github.githubassets.com/assets/vendors-node_modules_allex_crc32_lib_crc32_esm_js-node_modules_github_clipboard-copy-element_-2da1d5-ca2e742c29fb.js"></script>
<script crossorigin="anonymous" defer="defer" type="application/javascript" src="https://github.githubassets.com/assets/app_assets_modules_github_command-palette_items_help-item_ts-app_assets_modules_github_comman-48ad9d-8ba961365e27.js"></script>
<script crossorigin="anonymous" defer="defer" type="application/javascript" src="https://github.githubassets.com/assets/command-palette-afa8aec97e66.js"></script>

            <header class="AppHeader">
    <div class="AppHeader-globalBar pb-2 js-global-bar">
      <div class="AppHeader-globalBar-start">
          <deferred-side-panel data-url="/_side-panels/global">
  <include-fragment data-target="deferred-side-panel.fragment">
      
  <button aria-label="Open global navigation menu" data-action="click:deferred-side-panel#loadPanel click:deferred-side-panel#panelOpened" data-show-dialog-id="dialog-cb1ecb72-aa02-4acf-9079-8fc5a1820ab7" id="dialog-show-dialog-cb1ecb72-aa02-4acf-9079-8fc5a1820ab7" type="button" data-view-component="true" class="Button Button--iconOnly Button--secondary Button--medium AppHeader-button color-bg-transparent p-0 color-fg-muted">    <svg aria-hidden="true" height="16" viewBox="0 0 16 16" version="1.1" width="16" data-view-component="true" class="octicon octicon-three-bars Button-visual">
    <path d="M1 2.75A.75.75 0 0 1 1.75 2h12.5a.75.75 0 0 1 0 1.5H1.75A.75.75 0 0 1 1 2.75Zm0 5A.75.75 0 0 1 1.75 7h12.5a.75.75 0 0 1 0 1.5H1.75A.75.75 0 0 1 1 7.75ZM1.75 12h12.5a.75.75 0 0 1 0 1.5H1.75a.75.75 0 0 1 0-1.5Z"></path>
</svg>
</button>  

<div class="Overlay--hidden Overlay-backdrop--side Overlay-backdrop--placement-left" data-modal-dialog-overlay>
  <modal-dialog data-target="deferred-side-panel.panel" role="dialog" id="dialog-cb1ecb72-aa02-4acf-9079-8fc5a1820ab7" aria-modal="true" aria-disabled="true" aria-describedby="dialog-cb1ecb72-aa02-4acf-9079-8fc5a1820ab7-title dialog-cb1ecb72-aa02-4acf-9079-8fc5a1820ab7-description" data-view-component="true" class="Overlay Overlay-whenNarrow Overlay--size-small-portrait Overlay--motion-scaleFade SidePanel">
    <div styles="flex-direction: row;" data-view-component="true" class="Overlay-header">
  <div class="Overlay-headerContentWrap">
    <div class="Overlay-titleWrap">
      <h1 class="Overlay-title sr-only" id="dialog-cb1ecb72-aa02-4acf-9079-8fc5a1820ab7-title">
        Global navigation
      </h1>
            <div data-view-component="true" class="d-flex">
      <div data-view-component="true" class="AppHeader-logo position-relative">
        <svg aria-hidden="true" height="24" viewBox="0 0 16 16" version="1.1" width="24" data-view-component="true" class="octicon octicon-mark-github">
    <path d="M8 0c4.42 0 8 3.58 8 8a8.013 8.013 0 0 1-5.45 7.59c-.4.08-.55-.17-.55-.38 0-.27.01-1.13.01-2.2 0-.75-.25-1.23-.54-1.48 1.78-.2 3.65-.88 3.65-3.95 0-.88-.31-1.59-.82-2.15.08-.2.36-1.02-.08-2.12 0 0-.67-.22-2.2.82-.64-.18-1.32-.27-2-.27-.68 0-1.36.09-2 .27-1.53-1.03-2.2-.82-2.2-.82-.44 1.1-.16 1.92-.08 2.12-.51.56-.82 1.28-.82 2.15 0 3.06 1.86 3.75 3.64 3.95-.23.2-.44.55-.51 1.07-.46.21-1.61.55-2.33-.66-.15-.24-.6-.83-1.23-.82-.67.01-.27.38.01.53.34.19.73.9.82 1.13.16.45.68 1.31 2.69.94 0 .67.01 1.3.01 1.49 0 .21-.15.45-.55.38A7.995 7.995 0 0 1 0 8c0-4.42 3.58-8 8-8Z"></path>
</svg>
</div></div>
    </div>
    <div class="Overlay-actionWrap">
      <button data-close-dialog-id="dialog-cb1ecb72-aa02-4acf-9079-8fc5a1820ab7" aria-label="Close" type="button" data-view-component="true" class="close-button Overlay-closeButton"><svg aria-hidden="true" height="16" viewBox="0 0 16 16" version="1.1" width="16" data-view-component="true" class="octicon octicon-x">
    <path d="M3.72 3.72a.75.75 0 0 1 1.06 0L8 6.94l3.22-3.22a.749.749 0 0 1 1.275.326.749.749 0 0 1-.215.734L9.06 8l3.22 3.22a.749.749 0 0 1-.326 1.275.749.749 0 0 1-.734-.215L8 9.06l-3.22 3.22a.751.751 0 0 1-1.042-.018.751.751 0 0 1-.018-1.042L6.94 8 3.72 4.78a.75.75 0 0 1 0-1.06Z"></path>
</svg></button>
    </div>
  </div>
</div>
      <div data-view-component="true" class="Overlay-body d-flex flex-column height-full px-2">      <nav aria-label="Site navigation" data-view-component="true" class="ActionList">
  
  <nav-list>
    <ul data-view-component="true" class="ActionListWrap">
        
          
<li item_id="general" data-item-id="" data-targets="nav-list.items" data-view-component="true" class="ActionListItem">
    
    <a data-hotkey="g d" hydro-click="{&quot;event_type&quot;:&quot;global_header.user_menu_dropdown.click&quot;,&quot;payload&quot;:{&quot;request_url&quot;:&quot;https://github.com/Arunima-Singh/StockPrediction/blob/main/StockPrediction.ipynb&quot;,&quot;target&quot;:&quot;HOME&quot;,&quot;originating_url&quot;:&quot;https://github.com/Arunima-Singh/StockPrediction/blob/main/StockPrediction.ipynb&quot;,&quot;user_id&quot;:112893710}}" hydro-click-hmac="50339a64c7f2b9cca9e3ae7ebf1bbbbd128eb8fa8845e7b78670db1b8bd170c8" id="item-3c840936-b538-4ae6-b2c9-65d16846e88e" href="/dashboard" data-view-component="true" class="ActionListContent ActionListContent--visual16">
        <span class="ActionListItem-visual ActionListItem-visual--leading">
          <svg aria-hidden="true" height="16" viewBox="0 0 16 16" version="1.1" width="16" data-view-component="true" class="octicon octicon-home">
    <path d="M6.906.664a1.749 1.749 0 0 1 2.187 0l5.25 4.2c.415.332.657.835.657 1.367v7.019A1.75 1.75 0 0 1 13.25 15h-3.5a.75.75 0 0 1-.75-.75V9H7v5.25a.75.75 0 0 1-.75.75h-3.5A1.75 1.75 0 0 1 1 13.25V6.23c0-.531.242-1.034.657-1.366l5.25-4.2Zm1.25 1.171a.25.25 0 0 0-.312 0l-5.25 4.2a.25.25 0 0 0-.094.196v7.019c0 .138.112.25.25.25H5.5V8.25a.75.75 0 0 1 .75-.75h3.5a.75.75 0 0 1 .75.75v5.25h2.75a.25.25 0 0 0 .25-.25V6.23a.25.25 0 0 0-.094-.195Z"></path>
</svg>
        </span>
      
        <span data-view-component="true" class="ActionListItem-label">
          Home
</span></a>
  
  
</li>

        
          
<li item_id="personal_info" data-item-id="" data-targets="nav-list.items" data-view-component="true" class="ActionListItem">
    
    <a data-hotkey="g i" hydro-click="{&quot;event_type&quot;:&quot;global_header.user_menu_dropdown.click&quot;,&quot;payload&quot;:{&quot;request_url&quot;:&quot;https://github.com/Arunima-Singh/StockPrediction/blob/main/StockPrediction.ipynb&quot;,&quot;target&quot;:&quot;ISSUES&quot;,&quot;originating_url&quot;:&quot;https://github.com/Arunima-Singh/StockPrediction/blob/main/StockPrediction.ipynb&quot;,&quot;user_id&quot;:112893710}}" hydro-click-hmac="5b0d8cc7d8aaced2507c6d938dcc2907709f3cfc0862e8fece56686b3196898d" id="item-67a7afb3-5815-40de-adf7-586e07ebdd63" href="/issues" data-view-component="true" class="ActionListContent ActionListContent--visual16">
        <span class="ActionListItem-visual ActionListItem-visual--leading">
          <svg aria-hidden="true" height="16" viewBox="0 0 16 16" version="1.1" width="16" data-view-component="true" class="octicon octicon-issue-opened">
    <path d="M8 9.5a1.5 1.5 0 1 0 0-3 1.5 1.5 0 0 0 0 3Z"></path><path d="M8 0a8 8 0 1 1 0 16A8 8 0 0 1 8 0ZM1.5 8a6.5 6.5 0 1 0 13 0 6.5 6.5 0 0 0-13 0Z"></path>
</svg>
        </span>
      
        <span data-view-component="true" class="ActionListItem-label">
          Issues
</span></a>
  
  
</li>

        
          
<li item_id="password" data-item-id="" data-targets="nav-list.items" data-view-component="true" class="ActionListItem">
    
    <a data-hotkey="g p" hydro-click="{&quot;event_type&quot;:&quot;global_header.user_menu_dropdown.click&quot;,&quot;payload&quot;:{&quot;request_url&quot;:&quot;https://github.com/Arunima-Singh/StockPrediction/blob/main/StockPrediction.ipynb&quot;,&quot;target&quot;:&quot;PULL_REQUESTS&quot;,&quot;originating_url&quot;:&quot;https://github.com/Arunima-Singh/StockPrediction/blob/main/StockPrediction.ipynb&quot;,&quot;user_id&quot;:112893710}}" hydro-click-hmac="970fa323c619160a1be866b34e18a69677804f5d2d5596855bce1882861215fd" id="item-40c55429-6be8-4565-9e8e-0a782687fe40" href="/pulls" data-view-component="true" class="ActionListContent ActionListContent--visual16">
        <span class="ActionListItem-visual ActionListItem-visual--leading">
          <svg aria-hidden="true" height="16" viewBox="0 0 16 16" version="1.1" width="16" data-view-component="true" class="octicon octicon-git-pull-request">
    <path d="M1.5 3.25a2.25 2.25 0 1 1 3 2.122v5.256a2.251 2.251 0 1 1-1.5 0V5.372A2.25 2.25 0 0 1 1.5 3.25Zm5.677-.177L9.573.677A.25.25 0 0 1 10 .854V2.5h1A2.5 2.5 0 0 1 13.5 5v5.628a2.251 2.251 0 1 1-1.5 0V5a1 1 0 0 0-1-1h-1v1.646a.25.25 0 0 1-.427.177L7.177 3.427a.25.25 0 0 1 0-.354ZM3.75 2.5a.75.75 0 1 0 0 1.5.75.75 0 0 0 0-1.5Zm0 9.5a.75.75 0 1 0 0 1.5.75.75 0 0 0 0-1.5Zm8.25.75a.75.75 0 1 0 1.5 0 .75.75 0 0 0-1.5 0Z"></path>
</svg>
        </span>
      
        <span data-view-component="true" class="ActionListItem-label">
          Pull requests
</span></a>
  
  
</li>

        
          
<li item_id="billing" data-item-id="" data-targets="nav-list.items" data-view-component="true" class="ActionListItem">
    
    <a hydro-click="{&quot;event_type&quot;:&quot;global_header.user_menu_dropdown.click&quot;,&quot;payload&quot;:{&quot;request_url&quot;:&quot;https://github.com/Arunima-Singh/StockPrediction/blob/main/StockPrediction.ipynb&quot;,&quot;target&quot;:&quot;DISCUSSIONS&quot;,&quot;originating_url&quot;:&quot;https://github.com/Arunima-Singh/StockPrediction/blob/main/StockPrediction.ipynb&quot;,&quot;user_id&quot;:112893710}}" hydro-click-hmac="a85c329e6b8b47421e1699c642a3b1653fcbc263bbc50121d150284777d19075" id="item-f33c4b18-0690-4b90-9e22-09244ec468af" href="/discussions" data-view-component="true" class="ActionListContent ActionListContent--visual16">
        <span class="ActionListItem-visual ActionListItem-visual--leading">
          <svg aria-hidden="true" height="16" viewBox="0 0 16 16" version="1.1" width="16" data-view-component="true" class="octicon octicon-comment-discussion">
    <path d="M1.75 1h8.5c.966 0 1.75.784 1.75 1.75v5.5A1.75 1.75 0 0 1 10.25 10H7.061l-2.574 2.573A1.458 1.458 0 0 1 2 11.543V10h-.25A1.75 1.75 0 0 1 0 8.25v-5.5C0 1.784.784 1 1.75 1ZM1.5 2.75v5.5c0 .138.112.25.25.25h1a.75.75 0 0 1 .75.75v2.19l2.72-2.72a.749.749 0 0 1 .53-.22h3.5a.25.25 0 0 0 .25-.25v-5.5a.25.25 0 0 0-.25-.25h-8.5a.25.25 0 0 0-.25.25Zm13 2a.25.25 0 0 0-.25-.25h-.5a.75.75 0 0 1 0-1.5h.5c.966 0 1.75.784 1.75 1.75v5.5A1.75 1.75 0 0 1 14.25 12H14v1.543a1.458 1.458 0 0 1-2.487 1.03L9.22 12.28a.749.749 0 0 1 .326-1.275.749.749 0 0 1 .734.215l2.22 2.22v-2.19a.75.75 0 0 1 .75-.75h1a.25.25 0 0 0 .25-.25Z"></path>
</svg>
        </span>
      
        <span data-view-component="true" class="ActionListItem-label">
          Discussions
</span></a>
  
  
</li>

</ul>  </nav-list>
</nav>

      <div data-view-component="true" class="my-3 d-flex flex-justify-center height-full">
        <svg style="box-sizing: content-box; color: var(--color-icon-primary);" width="16" height="16" viewBox="0 0 16 16" fill="none" data-view-component="true" class="anim-rotate">
  <circle cx="8" cy="8" r="7" stroke="currentColor" stroke-opacity="0.25" stroke-width="2" vector-effect="non-scaling-stroke" />
  <path d="M15 8a7.002 7.002 0 00-7-7" stroke="currentColor" stroke-width="2" stroke-linecap="round" vector-effect="non-scaling-stroke" />
</svg>
</div>
</div>
      <div data-view-component="true" class="Overlay-footer Overlay-footer--alignEnd d-block pt-0">      <li role="presentation" aria-hidden="true" data-view-component="true" class="ActionList-sectionDivider mt-0 mb-1"></li>

        <nav aria-label="Additional navigation" data-view-component="true" class="ActionList px-0 flex-1">
  
  <nav-list>
    <ul data-view-component="true" class="ActionListWrap">
        
          
<li item_id="general" data-item-id="" data-targets="nav-list.items" data-view-component="true" class="ActionListItem">
    
    <a hydro-click="{&quot;event_type&quot;:&quot;global_header.user_menu_dropdown.click&quot;,&quot;payload&quot;:{&quot;request_url&quot;:&quot;https://github.com/Arunima-Singh/StockPrediction/blob/main/StockPrediction.ipynb&quot;,&quot;target&quot;:&quot;EXPLORE&quot;,&quot;originating_url&quot;:&quot;https://github.com/Arunima-Singh/StockPrediction/blob/main/StockPrediction.ipynb&quot;,&quot;user_id&quot;:112893710}}" hydro-click-hmac="3b5915bff426f621fdf8449a46db5b88025260296533b506a83d721eaee1a5ba" id="item-661650fe-70d6-410f-b182-ab06f90886b2" href="/explore" data-view-component="true" class="ActionListContent ActionListContent--visual16">
        <span class="ActionListItem-visual ActionListItem-visual--leading">
          <svg aria-hidden="true" height="16" viewBox="0 0 16 16" version="1.1" width="16" data-view-component="true" class="octicon octicon-telescope">
    <path d="M14.184 1.143v-.001l1.422 2.464a1.75 1.75 0 0 1-.757 2.451L3.104 11.713a1.75 1.75 0 0 1-2.275-.702l-.447-.775a1.75 1.75 0 0 1 .53-2.32L11.682.573a1.748 1.748 0 0 1 2.502.57Zm-4.709 9.32h-.001l2.644 3.863a.75.75 0 1 1-1.238.848l-1.881-2.75v2.826a.75.75 0 0 1-1.5 0v-2.826l-1.881 2.75a.75.75 0 1 1-1.238-.848l2.049-2.992a.746.746 0 0 1 .293-.253l1.809-.87a.749.749 0 0 1 .944.252ZM9.436 3.92h-.001l-4.97 3.39.942 1.63 5.42-2.61Zm3.091-2.108h.001l-1.85 1.26 1.505 2.605 2.016-.97a.247.247 0 0 0 .13-.151.247.247 0 0 0-.022-.199l-1.422-2.464a.253.253 0 0 0-.161-.119.254.254 0 0 0-.197.038ZM1.756 9.157a.25.25 0 0 0-.075.33l.447.775a.25.25 0 0 0 .325.1l1.598-.769-.83-1.436-1.465 1Z"></path>
</svg>
        </span>
      
        <span data-view-component="true" class="ActionListItem-label">
          Explore
</span></a>
  
  
</li>

        
          
<li item_id="general" data-item-id="" data-targets="nav-list.items" data-view-component="true" class="ActionListItem">
    
    <a hydro-click="{&quot;event_type&quot;:&quot;global_header.user_menu_dropdown.click&quot;,&quot;payload&quot;:{&quot;request_url&quot;:&quot;https://github.com/Arunima-Singh/StockPrediction/blob/main/StockPrediction.ipynb&quot;,&quot;target&quot;:&quot;MARKETPLACE&quot;,&quot;originating_url&quot;:&quot;https://github.com/Arunima-Singh/StockPrediction/blob/main/StockPrediction.ipynb&quot;,&quot;user_id&quot;:112893710}}" hydro-click-hmac="98c56ea68f39d157ed48d9a91839d77f53e9f6696f9d782ae4df39a4f497102b" id="item-c994a131-8914-4737-91e8-ecce5559d94e" href="/marketplace" data-view-component="true" class="ActionListContent ActionListContent--visual16">
        <span class="ActionListItem-visual ActionListItem-visual--leading">
          <svg aria-hidden="true" height="16" viewBox="0 0 16 16" version="1.1" width="16" data-view-component="true" class="octicon octicon-gift">
    <path d="M2 2.75A2.75 2.75 0 0 1 4.75 0c.983 0 1.873.42 2.57 1.232.268.318.497.668.68 1.042.183-.375.411-.725.68-1.044C9.376.42 10.266 0 11.25 0a2.75 2.75 0 0 1 2.45 4h.55c.966 0 1.75.784 1.75 1.75v2c0 .698-.409 1.301-1 1.582v4.918A1.75 1.75 0 0 1 13.25 16H2.75A1.75 1.75 0 0 1 1 14.25V9.332C.409 9.05 0 8.448 0 7.75v-2C0 4.784.784 4 1.75 4h.55c-.192-.375-.3-.8-.3-1.25ZM7.25 9.5H2.5v4.75c0 .138.112.25.25.25h4.5Zm1.5 0v5h4.5a.25.25 0 0 0 .25-.25V9.5Zm0-4V8h5.5a.25.25 0 0 0 .25-.25v-2a.25.25 0 0 0-.25-.25Zm-7 0a.25.25 0 0 0-.25.25v2c0 .138.112.25.25.25h5.5V5.5h-5.5Zm3-4a1.25 1.25 0 0 0 0 2.5h2.309c-.233-.818-.542-1.401-.878-1.793-.43-.502-.915-.707-1.431-.707ZM8.941 4h2.309a1.25 1.25 0 0 0 0-2.5c-.516 0-1 .205-1.43.707-.337.392-.646.975-.879 1.793Z"></path>
</svg>
        </span>
      
        <span data-view-component="true" class="ActionListItem-label">
          Marketplace
</span></a>
  
  
</li>

        
          
<li item_id="feedback" data-item-id="" data-targets="nav-list.items" data-view-component="true" class="ActionListItem">
    
    <a id="item-e9e49fd9-c45c-48c0-a118-7c37f272f9c0" href="https://gh.io/navigation-update" data-view-component="true" class="ActionListContent ActionListContent--visual16">
        <span class="ActionListItem-visual ActionListItem-visual--leading">
          <svg aria-hidden="true" height="16" viewBox="0 0 16 16" version="1.1" width="16" data-view-component="true" class="octicon octicon-comment-discussion">
    <path d="M1.75 1h8.5c.966 0 1.75.784 1.75 1.75v5.5A1.75 1.75 0 0 1 10.25 10H7.061l-2.574 2.573A1.458 1.458 0 0 1 2 11.543V10h-.25A1.75 1.75 0 0 1 0 8.25v-5.5C0 1.784.784 1 1.75 1ZM1.5 2.75v5.5c0 .138.112.25.25.25h1a.75.75 0 0 1 .75.75v2.19l2.72-2.72a.749.749 0 0 1 .53-.22h3.5a.25.25 0 0 0 .25-.25v-5.5a.25.25 0 0 0-.25-.25h-8.5a.25.25 0 0 0-.25.25Zm13 2a.25.25 0 0 0-.25-.25h-.5a.75.75 0 0 1 0-1.5h.5c.966 0 1.75.784 1.75 1.75v5.5A1.75 1.75 0 0 1 14.25 12H14v1.543a1.458 1.458 0 0 1-2.487 1.03L9.22 12.28a.749.749 0 0 1 .326-1.275.749.749 0 0 1 .734.215l2.22 2.22v-2.19a.75.75 0 0 1 .75-.75h1a.25.25 0 0 0 .25-.25Z"></path>
</svg>
        </span>
      
        <span data-view-component="true" class="ActionListItem-label">
          Give new navigation feedback
</span>        <span class="ActionListItem-visual ActionListItem-visual--trailing">
          <span title="Beta" data-view-component="true" class="Counter color-bg-default color-border-success-emphasis color-fg-success">Beta</span>
        </span>
</a>
  
  
</li>

</ul>  </nav-list>
</nav>

      <div data-view-component="true" class="px-2">      <p class="color-fg-subtle text-small text-light">&copy; 2023 GitHub, Inc.</p>

      <div data-view-component="true" class="d-flex text-small text-light">
          <a target="_blank" href="/about" data-view-component="true" class="Link no-underline mr-2">About</a>
          <a target="_blank" href="https://github.blog" data-view-component="true" class="Link no-underline mr-2">Blog</a>
          <a target="_blank" href="https://docs.github.com/site-policy/github-terms/github-terms-of-service" data-view-component="true" class="Link no-underline mr-2">Terms</a>
          <a target="_blank" href="https://docs.github.com/site-policy/privacy-policies/github-privacy-statement" data-view-component="true" class="Link no-underline mr-2">Privacy</a>
          <a target="_blank" href="/security" data-view-component="true" class="Link no-underline mr-2">Security</a>
        <a target="_blank" href="https://www.githubstatus.com/" data-view-component="true" class="Link no-underline mr-3">Status</a>
</div></div>
</div>
</modal-dialog></div>

  </include-fragment>
</deferred-side-panel>

        <a
          class="AppHeader-logo ml-2"
          href="https://github.com/"
          data-hotkey="g d"
          aria-label="Homepage "
          data-turbo="false"
          data-analytics-event="{&quot;category&quot;:&quot;Header&quot;,&quot;action&quot;:&quot;go to dashboard&quot;,&quot;label&quot;:&quot;icon:logo&quot;}"
        >
          <svg height="32" aria-hidden="true" viewBox="0 0 16 16" version="1.1" width="32" data-view-component="true" class="octicon octicon-mark-github v-align-middle color-fg-default">
    <path d="M8 0c4.42 0 8 3.58 8 8a8.013 8.013 0 0 1-5.45 7.59c-.4.08-.55-.17-.55-.38 0-.27.01-1.13.01-2.2 0-.75-.25-1.23-.54-1.48 1.78-.2 3.65-.88 3.65-3.95 0-.88-.31-1.59-.82-2.15.08-.2.36-1.02-.08-2.12 0 0-.67-.22-2.2.82-.64-.18-1.32-.27-2-.27-.68 0-1.36.09-2 .27-1.53-1.03-2.2-.82-2.2-.82-.44 1.1-.16 1.92-.08 2.12-.51.56-.82 1.28-.82 2.15 0 3.06 1.86 3.75 3.64 3.95-.23.2-.44.55-.51 1.07-.46.21-1.61.55-2.33-.66-.15-.24-.6-.83-1.23-.82-.67.01-.27.38.01.53.34.19.73.9.82 1.13.16.45.68 1.31 2.69.94 0 .67.01 1.3.01 1.49 0 .21-.15.45-.55.38A7.995 7.995 0 0 1 0 8c0-4.42 3.58-8 8-8Z"></path>
</svg>
        </a>

          <div class="AppHeader-context" >
  <div class="AppHeader-context-compact">
        <button aria-expanded="false" aria-haspopup="dialog" aria-label="Page context: Arunima-Singh / StockPrediction" id="dialog-show-context-region-dialog" data-show-dialog-id="context-region-dialog" type="button" data-view-component="true" class="AppHeader-context-compact-trigger Truncate Button--secondary Button--medium Button box-shadow-none">    <span class="Button-content">
      <span class="Button-label"><span class="AppHeader-context-compact-lead">
                <span class="AppHeader-context-compact-parentItem">Arunima-Singh</span>
                <span class="AppHeader-context-compact-separator">&nbsp;/</span>

            </span>

            <strong class="AppHeader-context-compact-mainItem d-flex flex-items-center Truncate" >
  <span class="Truncate-text ">StockPrediction</span>

</strong></span>
    </span>
</button>  

<div class="Overlay--hidden Overlay-backdrop--center" data-modal-dialog-overlay>
  <modal-dialog role="dialog" id="context-region-dialog" aria-modal="true" aria-disabled="true" aria-describedby="context-region-dialog-title context-region-dialog-description" data-view-component="true" class="Overlay Overlay-whenNarrow Overlay--size-medium Overlay--motion-scaleFade">
    <div data-view-component="true" class="Overlay-header">
  <div class="Overlay-headerContentWrap">
    <div class="Overlay-titleWrap">
      <h1 class="Overlay-title " id="context-region-dialog-title">
        Navigate back to
      </h1>
    </div>
    <div class="Overlay-actionWrap">
      <button data-close-dialog-id="context-region-dialog" aria-label="Close" type="button" data-view-component="true" class="close-button Overlay-closeButton"><svg aria-hidden="true" height="16" viewBox="0 0 16 16" version="1.1" width="16" data-view-component="true" class="octicon octicon-x">
    <path d="M3.72 3.72a.75.75 0 0 1 1.06 0L8 6.94l3.22-3.22a.749.749 0 0 1 1.275.326.749.749 0 0 1-.215.734L9.06 8l3.22 3.22a.749.749 0 0 1-.326 1.275.749.749 0 0 1-.734-.215L8 9.06l-3.22 3.22a.751.751 0 0 1-1.042-.018.751.751 0 0 1-.018-1.042L6.94 8 3.72 4.78a.75.75 0 0 1 0-1.06Z"></path>
</svg></button>
    </div>
  </div>
</div>
      <div data-view-component="true" class="Overlay-body">          <ul role="list" class="list-style-none" >
    <li>
      <a data-analytics-event="{&quot;category&quot;:&quot;SiteHeaderComponent&quot;,&quot;action&quot;:&quot;context_region_crumb&quot;,&quot;label&quot;:&quot;Arunima-Singh&quot;,&quot;screen_size&quot;:&quot;compact&quot;}" href="/Arunima-Singh" data-view-component="true" class="Link--primary Truncate d-flex flex-items-center py-1">
        <span class="AppHeader-context-item-label Truncate-text ">
          Arunima-Singh
        </span>

</a>
    </li>
    <li>
      <a data-analytics-event="{&quot;category&quot;:&quot;SiteHeaderComponent&quot;,&quot;action&quot;:&quot;context_region_crumb&quot;,&quot;label&quot;:&quot;StockPrediction&quot;,&quot;screen_size&quot;:&quot;compact&quot;}" href="/Arunima-Singh/StockPrediction" data-view-component="true" class="Link--primary Truncate d-flex flex-items-center py-1">
        <span class="AppHeader-context-item-label Truncate-text ">
          StockPrediction
        </span>

</a>
    </li>
</ul>

</div>
      
</modal-dialog></div>
  </div>

  <div class="AppHeader-context-full">
    <nav role="navigation" aria-label="Page context">
      <ul role="list" class="list-style-none" >
    <li>
      <a data-analytics-event="{&quot;category&quot;:&quot;SiteHeaderComponent&quot;,&quot;action&quot;:&quot;context_region_crumb&quot;,&quot;label&quot;:&quot;Arunima-Singh&quot;,&quot;screen_size&quot;:&quot;full&quot;}" data-hovercard-type="user" data-hovercard-url="/users/Arunima-Singh/hovercard" data-octo-click="hovercard-link-click" data-octo-dimensions="link_type:self" href="/Arunima-Singh" data-view-component="true" class="AppHeader-context-item">
        <span class="AppHeader-context-item-label  ">
          Arunima-Singh
        </span>

</a>
        <span class="AppHeader-context-item-separator">/</span>
    </li>
    <li>
      <a data-analytics-event="{&quot;category&quot;:&quot;SiteHeaderComponent&quot;,&quot;action&quot;:&quot;context_region_crumb&quot;,&quot;label&quot;:&quot;StockPrediction&quot;,&quot;screen_size&quot;:&quot;full&quot;}" href="/Arunima-Singh/StockPrediction" data-view-component="true" class="AppHeader-context-item">
        <span class="AppHeader-context-item-label  ">
          StockPrediction
        </span>

</a>
    </li>
</ul>

    </nav>
  </div>
</div>

      </div>
      <div class="AppHeader-globalBar-end">
          <div class="AppHeader-search" >
              


<qbsearch-input class="search-input" data-scope="repo:Arunima-Singh/StockPrediction" data-custom-scopes-path="/search/custom_scopes" data-delete-custom-scopes-csrf="DiYaMqlMWWgx-HeGNv7kO0cPmPUP_lpt3kddz6dVTsTlzCkAN9d4GuTgonLz83VRbwi_YkHRBW2gWIPHbU2y9g" data-max-custom-scopes="10" data-header-redesign-enabled="true" data-initial-value="" data-blackbird-suggestions-path="/search/suggestions" data-jump-to-suggestions-path="/_graphql/GetSuggestedNavigationDestinations" data-current-repository="Arunima-Singh/StockPrediction" data-current-org="" data-current-owner="Arunima-Singh" data-logged-in="true">
  <div
    class="search-input-container search-with-dialog position-relative d-flex flex-row flex-items-center height-auto color-bg-transparent border-0 color-fg-subtle mx-0"
    data-action="click:qbsearch-input#searchInputContainerClicked"
  >
      
            <button type="button" data-action="click:qbsearch-input#handleExpand" class="AppHeader-button AppHeader-search-whenNarrow" aria-label="Search or jump to…" aria-expanded="false" aria-haspopup="dialog">
            <svg aria-hidden="true" height="16" viewBox="0 0 16 16" version="1.1" width="16" data-view-component="true" class="octicon octicon-search">
    <path d="M10.68 11.74a6 6 0 0 1-7.922-8.982 6 6 0 0 1 8.982 7.922l3.04 3.04a.749.749 0 0 1-.326 1.275.749.749 0 0 1-.734-.215ZM11.5 7a4.499 4.499 0 1 0-8.997 0A4.499 4.499 0 0 0 11.5 7Z"></path>
</svg>
          </button>


<div class="AppHeader-search-whenRegular">
  <div class="AppHeader-search-wrap AppHeader-search-wrap--hasTrailing">
    <div class="AppHeader-search-control">
      <label
        for="AppHeader-searchInput"
        aria-label="Search or jump to…"
        class="AppHeader-search-visual--leading"
      >
        <svg aria-hidden="true" height="16" viewBox="0 0 16 16" version="1.1" width="16" data-view-component="true" class="octicon octicon-search">
    <path d="M10.68 11.74a6 6 0 0 1-7.922-8.982 6 6 0 0 1 8.982 7.922l3.04 3.04a.749.749 0 0 1-.326 1.275.749.749 0 0 1-.734-.215ZM11.5 7a4.499 4.499 0 1 0-8.997 0A4.499 4.499 0 0 0 11.5 7Z"></path>
</svg>
      </label>

                <button
            type="button"
            data-target="qbsearch-input.inputButton"
            data-action="click:qbsearch-input#handleExpand"
            class="AppHeader-searchButton form-control input-contrast text-left color-fg-subtle no-wrap"
            data-hotkey="s,/"
          >
            <div class="overflow-hidden">
              <span data-target="qbsearch-input.inputButtonText">
                  Type <kbd class="AppHeader-search-kbd">/</kbd> to search
              </span>
            </div>
          </button>

    </div>


      <button type="button" id="AppHeader-commandPalette-button" class="AppHeader-search-action--trailing js-activate-command-palette" data-analytics-event="{&quot;category&quot;:&quot;SiteHeaderComponent&quot;,&quot;action&quot;:&quot;command_palette&quot;,&quot;label&quot;:&quot;open command palette&quot;}">
        <svg aria-hidden="true" height="16" viewBox="0 0 16 16" version="1.1" width="16" data-view-component="true" class="octicon octicon-command-palette">
    <path d="m6.354 8.04-4.773 4.773a.75.75 0 1 0 1.061 1.06L7.945 8.57a.75.75 0 0 0 0-1.06L2.642 2.206a.75.75 0 0 0-1.06 1.061L6.353 8.04ZM8.75 11.5a.75.75 0 0 0 0 1.5h5.5a.75.75 0 0 0 0-1.5h-5.5Z"></path>
</svg>
      </button>

      <tool-tip id="tooltip-f697387c-537e-4dff-9592-8fb9bfa156d0" for="AppHeader-commandPalette-button" popover="manual" data-direction="s" data-type="label" data-view-component="true" class="sr-only position-absolute">Command palette</tool-tip>
  </div>
</div>

    <input type="hidden" name="type" class="js-site-search-type-field">

    
<div class="Overlay--hidden " data-modal-dialog-overlay>
  <modal-dialog data-action="close:qbsearch-input#handleClose cancel:qbsearch-input#handleClose" data-target="qbsearch-input.searchSuggestionsDialog" role="dialog" id="search-suggestions-dialog" aria-modal="true" aria-labelledby="search-suggestions-dialog-header" data-view-component="true" class="Overlay Overlay--width-medium Overlay--height-auto">
      <h1 id="search-suggestions-dialog-header" class="sr-only">Search code, repositories, users, issues, pull requests...</h1>
    <div class="Overlay-body Overlay-body--paddingNone">
      
          <div data-view-component="true">        <div class="search-suggestions position-absolute width-full color-shadow-large border color-fg-default color-bg-default overflow-hidden d-flex flex-column query-builder-container"
          style="border-radius: 12px;"
          data-target="qbsearch-input.queryBuilderContainer"
          hidden
        >
          <!-- '"` --><!-- </textarea></xmp> --></option></form><form id="query-builder-test-form" action="" accept-charset="UTF-8" method="get">
  <query-builder data-target="qbsearch-input.queryBuilder" id="query-builder-query-builder-test" data-filter-key=":" data-view-component="true" class="QueryBuilder search-query-builder">
    <div class="FormControl FormControl--fullWidth">
      <label id="query-builder-test-label" for="query-builder-test" class="FormControl-label sr-only">
        Search
      </label>
      <div class="QueryBuilder-StyledInput width-fit" data-target="query-builder.styledInput">
          <span id="query-builder-test-leadingvisual-wrap" class="FormControl-input-leadingVisualWrap QueryBuilder-leadingVisualWrap">
            <svg aria-hidden="true" height="16" viewBox="0 0 16 16" version="1.1" width="16" data-view-component="true" class="octicon octicon-search FormControl-input-leadingVisual">
    <path d="M10.68 11.74a6 6 0 0 1-7.922-8.982 6 6 0 0 1 8.982 7.922l3.04 3.04a.749.749 0 0 1-.326 1.275.749.749 0 0 1-.734-.215ZM11.5 7a4.499 4.499 0 1 0-8.997 0A4.499 4.499 0 0 0 11.5 7Z"></path>
</svg>
          </span>
        <div data-target="query-builder.styledInputContainer" class="QueryBuilder-StyledInputContainer">
          <div
            aria-hidden="true"
            class="QueryBuilder-StyledInputContent"
            data-target="query-builder.styledInputContent"
          ></div>
          <div class="QueryBuilder-InputWrapper">
            <div aria-hidden="true" class="QueryBuilder-Sizer" data-target="query-builder.sizer"></div>
            <input id="query-builder-test" name="query-builder-test" value="" autocomplete="off" type="text" role="combobox" spellcheck="false" aria-expanded="false" data-target="query-builder.input" data-action="
          input:query-builder#inputChange
          blur:query-builder#inputBlur
          keydown:query-builder#inputKeydown
          focus:query-builder#inputFocus
        " data-view-component="true" class="FormControl-input QueryBuilder-Input FormControl-medium" />
          </div>
        </div>
          <span class="sr-only" id="query-builder-test-clear">Clear</span>
          
  <button role="button" id="query-builder-test-clear-button" aria-labelledby="query-builder-test-clear query-builder-test-label" data-target="query-builder.clearButton" data-action="
                click:query-builder#clear
                focus:query-builder#clearButtonFocus
                blur:query-builder#clearButtonBlur
              " variant="small" hidden="hidden" type="button" data-view-component="true" class="Button Button--iconOnly Button--invisible Button--medium mr-1 px-2 py-0 d-flex flex-items-center rounded-1 color-fg-muted">    <svg aria-hidden="true" height="16" viewBox="0 0 16 16" version="1.1" width="16" data-view-component="true" class="octicon octicon-x-circle-fill Button-visual">
    <path d="M2.343 13.657A8 8 0 1 1 13.658 2.343 8 8 0 0 1 2.343 13.657ZM6.03 4.97a.751.751 0 0 0-1.042.018.751.751 0 0 0-.018 1.042L6.94 8 4.97 9.97a.749.749 0 0 0 .326 1.275.749.749 0 0 0 .734-.215L8 9.06l1.97 1.97a.749.749 0 0 0 1.275-.326.749.749 0 0 0-.215-.734L9.06 8l1.97-1.97a.749.749 0 0 0-.326-1.275.749.749 0 0 0-.734.215L8 6.94Z"></path>
</svg>
</button>  

      </div>
      <template id="search-icon">
  <svg aria-hidden="true" height="16" viewBox="0 0 16 16" version="1.1" width="16" data-view-component="true" class="octicon octicon-search">
    <path d="M10.68 11.74a6 6 0 0 1-7.922-8.982 6 6 0 0 1 8.982 7.922l3.04 3.04a.749.749 0 0 1-.326 1.275.749.749 0 0 1-.734-.215ZM11.5 7a4.499 4.499 0 1 0-8.997 0A4.499 4.499 0 0 0 11.5 7Z"></path>
</svg>
</template>

<template id="code-icon">
  <svg aria-hidden="true" height="16" viewBox="0 0 16 16" version="1.1" width="16" data-view-component="true" class="octicon octicon-code">
    <path d="m11.28 3.22 4.25 4.25a.75.75 0 0 1 0 1.06l-4.25 4.25a.749.749 0 0 1-1.275-.326.749.749 0 0 1 .215-.734L13.94 8l-3.72-3.72a.749.749 0 0 1 .326-1.275.749.749 0 0 1 .734.215Zm-6.56 0a.751.751 0 0 1 1.042.018.751.751 0 0 1 .018 1.042L2.06 8l3.72 3.72a.749.749 0 0 1-.326 1.275.749.749 0 0 1-.734-.215L.47 8.53a.75.75 0 0 1 0-1.06Z"></path>
</svg>
</template>

<template id="file-code-icon">
  <svg aria-hidden="true" height="16" viewBox="0 0 16 16" version="1.1" width="16" data-view-component="true" class="octicon octicon-file-code">
    <path d="M4 1.75C4 .784 4.784 0 5.75 0h5.586c.464 0 .909.184 1.237.513l2.914 2.914c.329.328.513.773.513 1.237v8.586A1.75 1.75 0 0 1 14.25 15h-9a.75.75 0 0 1 0-1.5h9a.25.25 0 0 0 .25-.25V6h-2.75A1.75 1.75 0 0 1 10 4.25V1.5H5.75a.25.25 0 0 0-.25.25v2.5a.75.75 0 0 1-1.5 0Zm1.72 4.97a.75.75 0 0 1 1.06 0l2 2a.75.75 0 0 1 0 1.06l-2 2a.749.749 0 0 1-1.275-.326.749.749 0 0 1 .215-.734l1.47-1.47-1.47-1.47a.75.75 0 0 1 0-1.06ZM3.28 7.78 1.81 9.25l1.47 1.47a.751.751 0 0 1-.018 1.042.751.751 0 0 1-1.042.018l-2-2a.75.75 0 0 1 0-1.06l2-2a.751.751 0 0 1 1.042.018.751.751 0 0 1 .018 1.042Zm8.22-6.218V4.25c0 .138.112.25.25.25h2.688l-.011-.013-2.914-2.914-.013-.011Z"></path>
</svg>
</template>

<template id="history-icon">
  <svg aria-hidden="true" height="16" viewBox="0 0 16 16" version="1.1" width="16" data-view-component="true" class="octicon octicon-history">
    <path d="m.427 1.927 1.215 1.215a8.002 8.002 0 1 1-1.6 5.685.75.75 0 1 1 1.493-.154 6.5 6.5 0 1 0 1.18-4.458l1.358 1.358A.25.25 0 0 1 3.896 6H.25A.25.25 0 0 1 0 5.75V2.104a.25.25 0 0 1 .427-.177ZM7.75 4a.75.75 0 0 1 .75.75v2.992l2.028.812a.75.75 0 0 1-.557 1.392l-2.5-1A.751.751 0 0 1 7 8.25v-3.5A.75.75 0 0 1 7.75 4Z"></path>
</svg>
</template>

<template id="repo-icon">
  <svg aria-hidden="true" height="16" viewBox="0 0 16 16" version="1.1" width="16" data-view-component="true" class="octicon octicon-repo">
    <path d="M2 2.5A2.5 2.5 0 0 1 4.5 0h8.75a.75.75 0 0 1 .75.75v12.5a.75.75 0 0 1-.75.75h-2.5a.75.75 0 0 1 0-1.5h1.75v-2h-8a1 1 0 0 0-.714 1.7.75.75 0 1 1-1.072 1.05A2.495 2.495 0 0 1 2 11.5Zm10.5-1h-8a1 1 0 0 0-1 1v6.708A2.486 2.486 0 0 1 4.5 9h8ZM5 12.25a.25.25 0 0 1 .25-.25h3.5a.25.25 0 0 1 .25.25v3.25a.25.25 0 0 1-.4.2l-1.45-1.087a.249.249 0 0 0-.3 0L5.4 15.7a.25.25 0 0 1-.4-.2Z"></path>
</svg>
</template>

<template id="bookmark-icon">
  <svg aria-hidden="true" height="16" viewBox="0 0 16 16" version="1.1" width="16" data-view-component="true" class="octicon octicon-bookmark">
    <path d="M3 2.75C3 1.784 3.784 1 4.75 1h6.5c.966 0 1.75.784 1.75 1.75v11.5a.75.75 0 0 1-1.227.579L8 11.722l-3.773 3.107A.751.751 0 0 1 3 14.25Zm1.75-.25a.25.25 0 0 0-.25.25v9.91l3.023-2.489a.75.75 0 0 1 .954 0l3.023 2.49V2.75a.25.25 0 0 0-.25-.25Z"></path>
</svg>
</template>

<template id="plus-circle-icon">
  <svg aria-hidden="true" height="16" viewBox="0 0 16 16" version="1.1" width="16" data-view-component="true" class="octicon octicon-plus-circle">
    <path d="M8 0a8 8 0 1 1 0 16A8 8 0 0 1 8 0ZM1.5 8a6.5 6.5 0 1 0 13 0 6.5 6.5 0 0 0-13 0Zm7.25-3.25v2.5h2.5a.75.75 0 0 1 0 1.5h-2.5v2.5a.75.75 0 0 1-1.5 0v-2.5h-2.5a.75.75 0 0 1 0-1.5h2.5v-2.5a.75.75 0 0 1 1.5 0Z"></path>
</svg>
</template>

<template id="circle-icon">
  <svg aria-hidden="true" height="16" viewBox="0 0 16 16" version="1.1" width="16" data-view-component="true" class="octicon octicon-dot-fill">
    <path d="M8 4a4 4 0 1 1 0 8 4 4 0 0 1 0-8Z"></path>
</svg>
</template>

<template id="trash-icon">
  <svg aria-hidden="true" height="16" viewBox="0 0 16 16" version="1.1" width="16" data-view-component="true" class="octicon octicon-trash">
    <path d="M11 1.75V3h2.25a.75.75 0 0 1 0 1.5H2.75a.75.75 0 0 1 0-1.5H5V1.75C5 .784 5.784 0 6.75 0h2.5C10.216 0 11 .784 11 1.75ZM4.496 6.675l.66 6.6a.25.25 0 0 0 .249.225h5.19a.25.25 0 0 0 .249-.225l.66-6.6a.75.75 0 0 1 1.492.149l-.66 6.6A1.748 1.748 0 0 1 10.595 15h-5.19a1.75 1.75 0 0 1-1.741-1.575l-.66-6.6a.75.75 0 1 1 1.492-.15ZM6.5 1.75V3h3V1.75a.25.25 0 0 0-.25-.25h-2.5a.25.25 0 0 0-.25.25Z"></path>
</svg>
</template>

<template id="team-icon">
  <svg aria-hidden="true" height="16" viewBox="0 0 16 16" version="1.1" width="16" data-view-component="true" class="octicon octicon-people">
    <path d="M2 5.5a3.5 3.5 0 1 1 5.898 2.549 5.508 5.508 0 0 1 3.034 4.084.75.75 0 1 1-1.482.235 4 4 0 0 0-7.9 0 .75.75 0 0 1-1.482-.236A5.507 5.507 0 0 1 3.102 8.05 3.493 3.493 0 0 1 2 5.5ZM11 4a3.001 3.001 0 0 1 2.22 5.018 5.01 5.01 0 0 1 2.56 3.012.749.749 0 0 1-.885.954.752.752 0 0 1-.549-.514 3.507 3.507 0 0 0-2.522-2.372.75.75 0 0 1-.574-.73v-.352a.75.75 0 0 1 .416-.672A1.5 1.5 0 0 0 11 5.5.75.75 0 0 1 11 4Zm-5.5-.5a2 2 0 1 0-.001 3.999A2 2 0 0 0 5.5 3.5Z"></path>
</svg>
</template>

<template id="project-icon">
  <svg aria-hidden="true" height="16" viewBox="0 0 16 16" version="1.1" width="16" data-view-component="true" class="octicon octicon-project">
    <path d="M1.75 0h12.5C15.216 0 16 .784 16 1.75v12.5A1.75 1.75 0 0 1 14.25 16H1.75A1.75 1.75 0 0 1 0 14.25V1.75C0 .784.784 0 1.75 0ZM1.5 1.75v12.5c0 .138.112.25.25.25h12.5a.25.25 0 0 0 .25-.25V1.75a.25.25 0 0 0-.25-.25H1.75a.25.25 0 0 0-.25.25ZM11.75 3a.75.75 0 0 1 .75.75v7.5a.75.75 0 0 1-1.5 0v-7.5a.75.75 0 0 1 .75-.75Zm-8.25.75a.75.75 0 0 1 1.5 0v5.5a.75.75 0 0 1-1.5 0ZM8 3a.75.75 0 0 1 .75.75v3.5a.75.75 0 0 1-1.5 0v-3.5A.75.75 0 0 1 8 3Z"></path>
</svg>
</template>

<template id="pencil-icon">
  <svg aria-hidden="true" height="16" viewBox="0 0 16 16" version="1.1" width="16" data-view-component="true" class="octicon octicon-pencil">
    <path d="M11.013 1.427a1.75 1.75 0 0 1 2.474 0l1.086 1.086a1.75 1.75 0 0 1 0 2.474l-8.61 8.61c-.21.21-.47.364-.756.445l-3.251.93a.75.75 0 0 1-.927-.928l.929-3.25c.081-.286.235-.547.445-.758l8.61-8.61Zm.176 4.823L9.75 4.81l-6.286 6.287a.253.253 0 0 0-.064.108l-.558 1.953 1.953-.558a.253.253 0 0 0 .108-.064Zm1.238-3.763a.25.25 0 0 0-.354 0L10.811 3.75l1.439 1.44 1.263-1.263a.25.25 0 0 0 0-.354Z"></path>
</svg>
</template>

        <div class="position-relative">
                <ul
                  role="listbox"
                  class="ActionListWrap QueryBuilder-ListWrap"
                  aria-label="Suggestions"
                  data-action="
                    combobox-commit:query-builder#comboboxCommit
                    mousedown:query-builder#resultsMousedown
                  "
                  data-target="query-builder.resultsList"
                  data-persist-list=false
                  id="query-builder-test-results"
                ></ul>
        </div>
    </div>
    <div data-target="query-builder.screenReaderFeedback" aria-live="polite" aria-atomic="true" class="sr-only"></div>
</query-builder></form>
          <div class="d-flex flex-row color-fg-muted px-3 text-small color-bg-default search-feedback-prompt">
            <a target="_blank" href="https://docs.github.com/en/search-github/github-code-search/understanding-github-code-search-syntax" data-view-component="true" class="Link color-fg-accent text-normal ml-2">
              Search syntax tips
</a>            <div class="d-flex flex-1"></div>
                <button data-action="click:qbsearch-input#showFeedbackDialog" type="button" data-view-component="true" class="Button--link Button--medium Button color-fg-accent text-normal ml-2">    <span class="Button-content">
      <span class="Button-label">Give feedback</span>
    </span>
</button>  
          </div>
        </div>
</div>

    </div>
</modal-dialog></div>
  </div>
  <div data-action="click:qbsearch-input#retract" class="dark-backdrop position-fixed" hidden data-target="qbsearch-input.darkBackdrop"></div>
  <div class="color-fg-default">
    
<div class="Overlay--hidden Overlay-backdrop--center" data-modal-dialog-overlay>
  <modal-dialog data-target="qbsearch-input.feedbackDialog" data-action="close:qbsearch-input#handleDialogClose cancel:qbsearch-input#handleDialogClose" role="dialog" id="feedback-dialog" aria-modal="true" aria-disabled="true" aria-describedby="feedback-dialog-title feedback-dialog-description" data-view-component="true" class="Overlay Overlay-whenNarrow Overlay--size-medium Overlay--motion-scaleFade">
    <div data-view-component="true" class="Overlay-header">
  <div class="Overlay-headerContentWrap">
    <div class="Overlay-titleWrap">
      <h1 class="Overlay-title " id="feedback-dialog-title">
        Provide feedback
      </h1>
    </div>
    <div class="Overlay-actionWrap">
      <button data-close-dialog-id="feedback-dialog" aria-label="Close" type="button" data-view-component="true" class="close-button Overlay-closeButton"><svg aria-hidden="true" height="16" viewBox="0 0 16 16" version="1.1" width="16" data-view-component="true" class="octicon octicon-x">
    <path d="M3.72 3.72a.75.75 0 0 1 1.06 0L8 6.94l3.22-3.22a.749.749 0 0 1 1.275.326.749.749 0 0 1-.215.734L9.06 8l3.22 3.22a.749.749 0 0 1-.326 1.275.749.749 0 0 1-.734-.215L8 9.06l-3.22 3.22a.751.751 0 0 1-1.042-.018.751.751 0 0 1-.018-1.042L6.94 8 3.72 4.78a.75.75 0 0 1 0-1.06Z"></path>
</svg></button>
    </div>
  </div>
</div>
      <div data-view-component="true" class="Overlay-body">        <!-- '"` --><!-- </textarea></xmp> --></option></form><form id="code-search-feedback-form" data-turbo="false" action="/search/feedback" accept-charset="UTF-8" method="post"><input type="hidden" name="authenticity_token" value="yIfHnL3nWRiCFNsYN_FMCdedOYESEYmDx0doGbexNeP9qOQr4m3pv8P3IcUN2nPIJ56YvkGFV6ZcbR5lA_G-Ig" />
          <p>We read every piece of feedback, and take your input very seriously.</p>
          <textarea name="feedback" class="form-control width-full mb-2" style="height: 120px" id="feedback"></textarea>
          <input name="include_email" id="include_email" aria-label="Include my email address so I can be contacted" class="form-control mr-2" type="checkbox">
          <label for="include_email" style="font-weight: normal">Include my email address so I can be contacted</label>
</form></div>
      <div data-view-component="true" class="Overlay-footer Overlay-footer--alignEnd">          <button data-close-dialog-id="feedback-dialog" type="button" data-view-component="true" class="btn">    Cancel
</button>
          <button form="code-search-feedback-form" data-action="click:qbsearch-input#submitFeedback" type="submit" data-view-component="true" class="btn-primary btn">    Submit feedback
</button>
</div>
</modal-dialog></div>

    <custom-scopes data-target="qbsearch-input.customScopesManager">
    
<div class="Overlay--hidden Overlay-backdrop--center" data-modal-dialog-overlay>
  <modal-dialog data-target="custom-scopes.customScopesModalDialog" data-action="close:qbsearch-input#handleDialogClose cancel:qbsearch-input#handleDialogClose" role="dialog" id="custom-scopes-dialog" aria-modal="true" aria-disabled="true" aria-describedby="custom-scopes-dialog-title custom-scopes-dialog-description" data-view-component="true" class="Overlay Overlay-whenNarrow Overlay--size-medium Overlay--motion-scaleFade">
    <div data-view-component="true" class="Overlay-header Overlay-header--divided">
  <div class="Overlay-headerContentWrap">
    <div class="Overlay-titleWrap">
      <h1 class="Overlay-title " id="custom-scopes-dialog-title">
        Saved searches
      </h1>
        <h2 id="custom-scopes-dialog-description" class="Overlay-description">Use saved searches to filter your results more quickly</h2>
    </div>
    <div class="Overlay-actionWrap">
      <button data-close-dialog-id="custom-scopes-dialog" aria-label="Close" type="button" data-view-component="true" class="close-button Overlay-closeButton"><svg aria-hidden="true" height="16" viewBox="0 0 16 16" version="1.1" width="16" data-view-component="true" class="octicon octicon-x">
    <path d="M3.72 3.72a.75.75 0 0 1 1.06 0L8 6.94l3.22-3.22a.749.749 0 0 1 1.275.326.749.749 0 0 1-.215.734L9.06 8l3.22 3.22a.749.749 0 0 1-.326 1.275.749.749 0 0 1-.734-.215L8 9.06l-3.22 3.22a.751.751 0 0 1-1.042-.018.751.751 0 0 1-.018-1.042L6.94 8 3.72 4.78a.75.75 0 0 1 0-1.06Z"></path>
</svg></button>
    </div>
  </div>
</div>
      <div data-view-component="true" class="Overlay-body">        <div data-target="custom-scopes.customScopesModalDialogFlash"></div>

        <div hidden class="create-custom-scope-form" data-target="custom-scopes.createCustomScopeForm">
        <!-- '"` --><!-- </textarea></xmp> --></option></form><form id="custom-scopes-dialog-form" data-turbo="false" action="/search/custom_scopes" accept-charset="UTF-8" method="post"><input type="hidden" name="authenticity_token" value="-zRV7sUS_0To8yM8TzaDaVFh0pyOM6cQp4wNiQ5DQvCt72y-ChW5atx_dsCXuHCXYzSv_Yfm2SfYluz_ZidTVQ" />
          <div data-target="custom-scopes.customScopesModalDialogFlash"></div>

          <input type="hidden" id="custom_scope_id" name="custom_scope_id" data-target="custom-scopes.customScopesIdField">

          <div class="form-group">
            <label for="custom_scope_name">Name</label>
            <auto-check src="/search/custom_scopes/check_name" required>
              <input
                type="text"
                name="custom_scope_name"
                id="custom_scope_name"
                data-target="custom-scopes.customScopesNameField"
                class="form-control"
                autocomplete="off"
                placeholder="github-ruby"
                required
                maxlength="50">
              <input type="hidden" value="Rjzyoco8fO4hMouUA8QRc0HEiSoDKv_N19EN92V2TGlMNrAf8ecDi7OBVmi0a9WA9xOVi4vRHuJ4ZcaJvkWfgg" data-csrf="true" />
            </auto-check>
          </div>

          <div class="form-group">
            <label for="custom_scope_query">Query</label>
            <input
              type="text"
              name="custom_scope_query"
              id="custom_scope_query"
              data-target="custom-scopes.customScopesQueryField"
              class="form-control"
              autocomplete="off"
              placeholder="(repo:mona/a OR repo:mona/b) AND lang:python"
              required
              maxlength="500">
          </div>

          <p class="text-small color-fg-muted">
            To see all available qualifiers, see our <a href="https://docs.github.com/en/search-github/github-code-search/understanding-github-code-search-syntax">documentation</a>.
          </p>
</form>        </div>

        <div data-target="custom-scopes.manageCustomScopesForm">
          <div data-target="custom-scopes.list"></div>
        </div>

</div>
      <div data-view-component="true" class="Overlay-footer Overlay-footer--alignEnd Overlay-footer--divided">          <button data-action="click:custom-scopes#customScopesCancel" type="button" data-view-component="true" class="btn">    Cancel
</button>
          <button form="custom-scopes-dialog-form" data-action="click:custom-scopes#customScopesSubmit" data-target="custom-scopes.customScopesSubmitButton" type="submit" data-view-component="true" class="btn-primary btn">    Create saved search
</button>
</div>
</modal-dialog></div>
    </custom-scopes>
  </div>
</qbsearch-input><input type="hidden" value="-WkMgMS5rv1OgP8883b_QB049WU6iND5xNJn2LjEvR8g-v6o4vHSff6T7JGT1RDPkFk_Z1nsKt8zoxhpwYWOIg" data-csrf="true" class="js-data-jump-to-suggestions-path-csrf" />

          </div>

        <div class="AppHeader-actions">
          <action-menu data-select-variant="none" data-view-component="true">
  <focus-group direction="vertical" mnemonics retain>
    <div data-view-component="true" class="Button-withTooltip">  <button id="global-create-menu-button" popovertarget="global-create-menu-overlay" aria-label="Create something new" aria-controls="global-create-menu-list" aria-haspopup="true" type="button" data-view-component="true" class="AppHeader-button Button--secondary Button--small Button width-auto color-fg-muted box-shadow-none">    <span class="Button-content">
        <span class="Button-visual Button-leadingVisual">
          <svg aria-hidden="true" height="16" viewBox="0 0 16 16" version="1.1" width="16" data-view-component="true" class="octicon octicon-plus">
    <path d="M7.75 2a.75.75 0 0 1 .75.75V7h4.25a.75.75 0 0 1 0 1.5H8.5v4.25a.75.75 0 0 1-1.5 0V8.5H2.75a.75.75 0 0 1 0-1.5H7V2.75A.75.75 0 0 1 7.75 2Z"></path>
</svg>
        </span>
      <span class="Button-label"><svg aria-hidden="true" height="16" viewBox="0 0 16 16" version="1.1" width="16" data-view-component="true" class="octicon octicon-triangle-down">
    <path d="m4.427 7.427 3.396 3.396a.25.25 0 0 0 .354 0l3.396-3.396A.25.25 0 0 0 11.396 7H4.604a.25.25 0 0 0-.177.427Z"></path>
</svg></span>
    </span>
</button>  <tool-tip id="tooltip-3ea8c2da-4c5d-4882-a112-653d7934fbdd" for="global-create-menu-button" popover="manual" data-direction="s" data-type="description" data-view-component="true" class="sr-only position-absolute">Create new...</tool-tip>
</div>

<anchored-position id="global-create-menu-overlay" anchor="global-create-menu-button" align="end" side="outside-bottom" anchor-offset="normal" popover="auto" aria-label="Menu" data-view-component="true">
  <div data-view-component="true" class="Overlay Overlay--size-auto">
    
      
        <div data-view-component="true">
  <ul aria-labelledby="global-create-menu-button" id="global-create-menu-list" role="menu" data-view-component="true" class="ActionListWrap--inset ActionListWrap">
      <li data-analytics-event="{&quot;category&quot;:&quot;SiteHeaderComponent&quot;,&quot;action&quot;:&quot;add_dropdown&quot;,&quot;label&quot;:&quot;new repository&quot;}" data-targets="action-list.items" role="none" data-view-component="true" class="ActionListItem">
    
    <a href="/new" tabindex="-1" id="item-a15ae898-bee3-408f-95e6-3a189f0de279" role="menuitem" data-view-component="true" class="ActionListContent ActionListContent--visual16">
        <span class="ActionListItem-visual ActionListItem-visual--leading">
          <svg aria-hidden="true" height="16" viewBox="0 0 16 16" version="1.1" width="16" data-view-component="true" class="octicon octicon-repo">
    <path d="M2 2.5A2.5 2.5 0 0 1 4.5 0h8.75a.75.75 0 0 1 .75.75v12.5a.75.75 0 0 1-.75.75h-2.5a.75.75 0 0 1 0-1.5h1.75v-2h-8a1 1 0 0 0-.714 1.7.75.75 0 1 1-1.072 1.05A2.495 2.495 0 0 1 2 11.5Zm10.5-1h-8a1 1 0 0 0-1 1v6.708A2.486 2.486 0 0 1 4.5 9h8ZM5 12.25a.25.25 0 0 1 .25-.25h3.5a.25.25 0 0 1 .25.25v3.25a.25.25 0 0 1-.4.2l-1.45-1.087a.249.249 0 0 0-.3 0L5.4 15.7a.25.25 0 0 1-.4-.2Z"></path>
</svg>
        </span>
      
        <span data-view-component="true" class="ActionListItem-label">
              New repository

</span></a>
  
  
</li>
      <li data-analytics-event="{&quot;category&quot;:&quot;SiteHeaderComponent&quot;,&quot;action&quot;:&quot;add_dropdown&quot;,&quot;label&quot;:&quot;import repository&quot;}" data-targets="action-list.items" role="none" data-view-component="true" class="ActionListItem">
    
    <a href="/new/import" tabindex="-1" id="item-678e1c5e-419c-4e2f-b3e5-3a4e246578ab" role="menuitem" data-view-component="true" class="ActionListContent ActionListContent--visual16">
        <span class="ActionListItem-visual ActionListItem-visual--leading">
          <svg aria-hidden="true" height="16" viewBox="0 0 16 16" version="1.1" width="16" data-view-component="true" class="octicon octicon-repo-push">
    <path d="M1 2.5A2.5 2.5 0 0 1 3.5 0h8.75a.75.75 0 0 1 .75.75v3.5a.75.75 0 0 1-1.5 0V1.5h-8a1 1 0 0 0-1 1v6.708A2.493 2.493 0 0 1 3.5 9h3.25a.75.75 0 0 1 0 1.5H3.5a1 1 0 0 0 0 2h5.75a.75.75 0 0 1 0 1.5H3.5A2.5 2.5 0 0 1 1 11.5Zm13.23 7.79h-.001l-1.224-1.224v6.184a.75.75 0 0 1-1.5 0V9.066L10.28 10.29a.75.75 0 0 1-1.06-1.061l2.505-2.504a.75.75 0 0 1 1.06 0L15.29 9.23a.751.751 0 0 1-.018 1.042.751.751 0 0 1-1.042.018Z"></path>
</svg>
        </span>
      
        <span data-view-component="true" class="ActionListItem-label">
                Import repository

</span></a>
  
  
</li>
      <li role="presentation" aria-hidden="true" data-view-component="true" class="ActionList-sectionDivider"></li>
      <li data-analytics-event="{&quot;category&quot;:&quot;SiteHeaderComponent&quot;,&quot;action&quot;:&quot;add_dropdown&quot;,&quot;label&quot;:&quot;new codespace&quot;}" data-targets="action-list.items" role="none" data-view-component="true" class="ActionListItem">
    
    <a href="/codespaces/new" tabindex="-1" id="item-aa57a887-f934-4cc6-aef8-5d68df8fde4d" role="menuitem" data-view-component="true" class="ActionListContent ActionListContent--visual16">
        <span class="ActionListItem-visual ActionListItem-visual--leading">
          <svg aria-hidden="true" height="16" viewBox="0 0 16 16" version="1.1" width="16" data-view-component="true" class="octicon octicon-codespaces">
    <path d="M0 11.25c0-.966.784-1.75 1.75-1.75h12.5c.966 0 1.75.784 1.75 1.75v3A1.75 1.75 0 0 1 14.25 16H1.75A1.75 1.75 0 0 1 0 14.25Zm2-9.5C2 .784 2.784 0 3.75 0h8.5C13.216 0 14 .784 14 1.75v5a1.75 1.75 0 0 1-1.75 1.75h-8.5A1.75 1.75 0 0 1 2 6.75Zm1.75-.25a.25.25 0 0 0-.25.25v5c0 .138.112.25.25.25h8.5a.25.25 0 0 0 .25-.25v-5a.25.25 0 0 0-.25-.25Zm-2 9.5a.25.25 0 0 0-.25.25v3c0 .138.112.25.25.25h12.5a.25.25 0 0 0 .25-.25v-3a.25.25 0 0 0-.25-.25Z"></path><path d="M7 12.75a.75.75 0 0 1 .75-.75h4.5a.75.75 0 0 1 0 1.5h-4.5a.75.75 0 0 1-.75-.75Zm-4 0a.75.75 0 0 1 .75-.75h.5a.75.75 0 0 1 0 1.5h-.5a.75.75 0 0 1-.75-.75Z"></path>
</svg>
        </span>
      
        <span data-view-component="true" class="ActionListItem-label">
                New codespace

</span></a>
  
  
</li>
      <li data-analytics-event="{&quot;category&quot;:&quot;SiteHeaderComponent&quot;,&quot;action&quot;:&quot;add_dropdown&quot;,&quot;label&quot;:&quot;new gist&quot;}" data-targets="action-list.items" role="none" data-view-component="true" class="ActionListItem">
    
    <a href="https://gist.github.com/" tabindex="-1" id="item-c643aa05-b812-4445-9011-34e0cecac8d9" role="menuitem" data-view-component="true" class="ActionListContent ActionListContent--visual16">
        <span class="ActionListItem-visual ActionListItem-visual--leading">
          <svg aria-hidden="true" height="16" viewBox="0 0 16 16" version="1.1" width="16" data-view-component="true" class="octicon octicon-code">
    <path d="m11.28 3.22 4.25 4.25a.75.75 0 0 1 0 1.06l-4.25 4.25a.749.749 0 0 1-1.275-.326.749.749 0 0 1 .215-.734L13.94 8l-3.72-3.72a.749.749 0 0 1 .326-1.275.749.749 0 0 1 .734.215Zm-6.56 0a.751.751 0 0 1 1.042.018.751.751 0 0 1 .018 1.042L2.06 8l3.72 3.72a.749.749 0 0 1-.326 1.275.749.749 0 0 1-.734-.215L.47 8.53a.75.75 0 0 1 0-1.06Z"></path>
</svg>
        </span>
      
        <span data-view-component="true" class="ActionListItem-label">
              New gist

</span></a>
  
  
</li>
      <li role="presentation" aria-hidden="true" data-view-component="true" class="ActionList-sectionDivider"></li>
      <li data-analytics-event="{&quot;category&quot;:&quot;SiteHeaderComponent&quot;,&quot;action&quot;:&quot;add_dropdown&quot;,&quot;label&quot;:&quot;new organization&quot;}" data-targets="action-list.items" role="none" data-view-component="true" class="ActionListItem">
    
    <a href="/account/organizations/new" tabindex="-1" id="item-cd464221-c7c4-4f90-8149-0618b464aff0" role="menuitem" data-view-component="true" class="ActionListContent ActionListContent--visual16">
        <span class="ActionListItem-visual ActionListItem-visual--leading">
          <svg aria-hidden="true" height="16" viewBox="0 0 16 16" version="1.1" width="16" data-view-component="true" class="octicon octicon-organization">
    <path d="M1.75 16A1.75 1.75 0 0 1 0 14.25V1.75C0 .784.784 0 1.75 0h8.5C11.216 0 12 .784 12 1.75v12.5c0 .085-.006.168-.018.25h2.268a.25.25 0 0 0 .25-.25V8.285a.25.25 0 0 0-.111-.208l-1.055-.703a.749.749 0 1 1 .832-1.248l1.055.703c.487.325.779.871.779 1.456v5.965A1.75 1.75 0 0 1 14.25 16h-3.5a.766.766 0 0 1-.197-.026c-.099.017-.2.026-.303.026h-3a.75.75 0 0 1-.75-.75V14h-1v1.25a.75.75 0 0 1-.75.75Zm-.25-1.75c0 .138.112.25.25.25H4v-1.25a.75.75 0 0 1 .75-.75h2.5a.75.75 0 0 1 .75.75v1.25h2.25a.25.25 0 0 0 .25-.25V1.75a.25.25 0 0 0-.25-.25h-8.5a.25.25 0 0 0-.25.25ZM3.75 6h.5a.75.75 0 0 1 0 1.5h-.5a.75.75 0 0 1 0-1.5ZM3 3.75A.75.75 0 0 1 3.75 3h.5a.75.75 0 0 1 0 1.5h-.5A.75.75 0 0 1 3 3.75Zm4 3A.75.75 0 0 1 7.75 6h.5a.75.75 0 0 1 0 1.5h-.5A.75.75 0 0 1 7 6.75ZM7.75 3h.5a.75.75 0 0 1 0 1.5h-.5a.75.75 0 0 1 0-1.5ZM3 9.75A.75.75 0 0 1 3.75 9h.5a.75.75 0 0 1 0 1.5h-.5A.75.75 0 0 1 3 9.75ZM7.75 9h.5a.75.75 0 0 1 0 1.5h-.5a.75.75 0 0 1 0-1.5Z"></path>
</svg>
        </span>
      
        <span data-view-component="true" class="ActionListItem-label">
                New organization

</span></a>
  
  
</li>
</ul>  
</div>

</div></anchored-position>  </focus-group>
</action-menu>

          <div data-view-component="true" class="Button-withTooltip">
  <a href="/issues" id="icon-button-c2eece6e-f3f2-4c89-8e74-debfe30e85d7" data-view-component="true" class="Button Button--iconOnly Button--secondary Button--medium AppHeader-button color-fg-muted">    <svg aria-hidden="true" height="16" viewBox="0 0 16 16" version="1.1" width="16" data-view-component="true" class="octicon octicon-issue-opened Button-visual">
    <path d="M8 9.5a1.5 1.5 0 1 0 0-3 1.5 1.5 0 0 0 0 3Z"></path><path d="M8 0a8 8 0 1 1 0 16A8 8 0 0 1 8 0ZM1.5 8a6.5 6.5 0 1 0 13 0 6.5 6.5 0 0 0-13 0Z"></path>
</svg>
</a>  <tool-tip id="tooltip-d8821863-710c-4bf7-90ec-0fada0c5e441" for="icon-button-c2eece6e-f3f2-4c89-8e74-debfe30e85d7" popover="manual" data-direction="s" data-type="label" data-view-component="true" class="sr-only position-absolute">Issues</tool-tip>
</div>
          <div data-view-component="true" class="Button-withTooltip">
  <a href="/pulls" id="icon-button-f26ed581-db57-4bf3-bc28-258eebbf6e25" data-view-component="true" class="Button Button--iconOnly Button--secondary Button--medium AppHeader-button color-fg-muted">    <svg aria-hidden="true" height="16" viewBox="0 0 16 16" version="1.1" width="16" data-view-component="true" class="octicon octicon-git-pull-request Button-visual">
    <path d="M1.5 3.25a2.25 2.25 0 1 1 3 2.122v5.256a2.251 2.251 0 1 1-1.5 0V5.372A2.25 2.25 0 0 1 1.5 3.25Zm5.677-.177L9.573.677A.25.25 0 0 1 10 .854V2.5h1A2.5 2.5 0 0 1 13.5 5v5.628a2.251 2.251 0 1 1-1.5 0V5a1 1 0 0 0-1-1h-1v1.646a.25.25 0 0 1-.427.177L7.177 3.427a.25.25 0 0 1 0-.354ZM3.75 2.5a.75.75 0 1 0 0 1.5.75.75 0 0 0 0-1.5Zm0 9.5a.75.75 0 1 0 0 1.5.75.75 0 0 0 0-1.5Zm8.25.75a.75.75 0 1 0 1.5 0 .75.75 0 0 0-1.5 0Z"></path>
</svg>
</a>  <tool-tip id="tooltip-aa9c2f19-4002-40e4-97b3-e763c45542b0" for="icon-button-f26ed581-db57-4bf3-bc28-258eebbf6e25" popover="manual" data-direction="s" data-type="label" data-view-component="true" class="sr-only position-absolute">Pull requests</tool-tip>
</div>
        </div>

        <div class="mr-0">
          

<notification-indicator data-channel="eyJjIjoibm90aWZpY2F0aW9uLWNoYW5nZWQ6MTEyODkzNzEwIiwidCI6MTY5MDgxOTUxMH0=--ab0adecbdace8bcee3d01ba3d23a71fcca2c16f71fcdf04ae332ba737840d257" data-indicator-mode="none" data-tooltip-global="You have unread notifications" data-tooltip-unavailable="Notifications are unavailable at the moment." data-tooltip-none="You have no unread notifications" data-header-redesign-enabled="true" data-fetch-indicator-src="/notifications/indicator" data-fetch-indicator-enabled="true" data-view-component="true" class="js-socket-channel">
  <a id="AppHeader-notifications-button" href="/notifications"
    class="AppHeader-button"

    style="width:32px;height:32px;"

    data-hotkey="g n"
    data-target="notification-indicator.link"
    aria-label="Notifications"

      data-analytics-event="{&quot;category&quot;:&quot;SiteHeaderComponent&quot;,&quot;action&quot;:&quot;notifications&quot;,&quot;label&quot;:null}"
  >

    <span
      data-target="notification-indicator.badge"
      class="mail-status unread d-none" hidden>
    </span>

      <svg aria-hidden="true" height="16" viewBox="0 0 16 16" version="1.1" width="16" data-view-component="true" class="octicon octicon-inbox color-fg-muted mr-0">
    <path d="M2.8 2.06A1.75 1.75 0 0 1 4.41 1h7.18c.7 0 1.333.417 1.61 1.06l2.74 6.395c.04.093.06.194.06.295v4.5A1.75 1.75 0 0 1 14.25 15H1.75A1.75 1.75 0 0 1 0 13.25v-4.5c0-.101.02-.202.06-.295Zm1.61.44a.25.25 0 0 0-.23.152L1.887 8H4.75a.75.75 0 0 1 .6.3L6.625 10h2.75l1.275-1.7a.75.75 0 0 1 .6-.3h2.863L11.82 2.652a.25.25 0 0 0-.23-.152Zm10.09 7h-2.875l-1.275 1.7a.75.75 0 0 1-.6.3h-3.5a.75.75 0 0 1-.6-.3L4.375 9.5H1.5v3.75c0 .138.112.25.25.25h12.5a.25.25 0 0 0 .25-.25Z"></path>
</svg>
  </a>

    <tool-tip data-target="notification-indicator.tooltip" id="tooltip-ee26ee0c-27ef-4fc1-8d44-f7cca77acf54" for="AppHeader-notifications-button" popover="manual" data-direction="s" data-type="description" data-view-component="true" class="sr-only position-absolute">Notifications</tool-tip>
</notification-indicator>
        </div>

        

        <div class="AppHeader-user">
          <deferred-side-panel data-url="/_side-panels/user?memex_enabled=true&amp;repository=StockPrediction&amp;user=Gaurav8683&amp;user_can_create_organizations=true&amp;user_id=112893710">
  <include-fragment data-target="deferred-side-panel.fragment">
      <user-drawer-side-panel>
      <button aria-label="Open user account menu" data-action="click:deferred-side-panel#loadPanel click:deferred-side-panel#panelOpened" data-show-dialog-id="dialog-cd530674-5da5-43af-9bb8-f98be4fa58d5" id="dialog-show-dialog-cd530674-5da5-43af-9bb8-f98be4fa58d5" type="button" data-view-component="true" class="AppHeader-logo Button--invisible Button--medium Button Button--invisible-noVisuals color-bg-transparent p-0">    <span class="Button-content">
      <span class="Button-label"><img src="https://avatars.githubusercontent.com/u/112893710?v=4" alt="" size="32" height="32" width="32" data-view-component="true" class="avatar circle" /></span>
    </span>
</button>  

<div class="Overlay--hidden Overlay-backdrop--side Overlay-backdrop--placement-right" data-modal-dialog-overlay>
  <modal-dialog data-target="deferred-side-panel.panel" role="dialog" id="dialog-cd530674-5da5-43af-9bb8-f98be4fa58d5" aria-modal="true" aria-disabled="true" aria-describedby="dialog-cd530674-5da5-43af-9bb8-f98be4fa58d5-title dialog-cd530674-5da5-43af-9bb8-f98be4fa58d5-description" data-view-component="true" class="Overlay Overlay-whenNarrow Overlay--size-small-portrait Overlay--motion-scaleFade SidePanel">
    <div styles="flex-direction: row;" data-view-component="true" class="Overlay-header">
  <div class="Overlay-headerContentWrap">
    <div class="Overlay-titleWrap">
      <h1 class="Overlay-title sr-only" id="dialog-cd530674-5da5-43af-9bb8-f98be4fa58d5-title">
        Account menu
      </h1>
            <div data-view-component="true" class="d-flex">
      <div data-view-component="true" class="AppHeader-logo position-relative">
        <img src="https://avatars.githubusercontent.com/u/112893710?v=4" alt="" size="32" height="32" width="32" data-view-component="true" class="avatar circle" />
</div>        <div data-view-component="true" class="d-flex width-full">        <div data-view-component="true" class="lh-condensed d-flex flex-column flex-justify-center ml-2 f5 mr-auto">
          <span data-view-component="true" class="Truncate d-block text-bold">
    <span data-view-component="true" class="Truncate-text">
            Gaurav8683
</span>
</span>          <span data-view-component="true" class="Truncate d-block color-fg-subtle">
    <span data-view-component="true" class="Truncate-text">
            Gaurav
</span>
</span></div>
</div>
</div>
    </div>
    <div class="Overlay-actionWrap">
      <button data-close-dialog-id="dialog-cd530674-5da5-43af-9bb8-f98be4fa58d5" aria-label="Close" type="button" data-view-component="true" class="close-button Overlay-closeButton"><svg aria-hidden="true" height="16" viewBox="0 0 16 16" version="1.1" width="16" data-view-component="true" class="octicon octicon-x">
    <path d="M3.72 3.72a.75.75 0 0 1 1.06 0L8 6.94l3.22-3.22a.749.749 0 0 1 1.275.326.749.749 0 0 1-.215.734L9.06 8l3.22 3.22a.749.749 0 0 1-.326 1.275.749.749 0 0 1-.734-.215L8 9.06l-3.22 3.22a.751.751 0 0 1-1.042-.018.751.751 0 0 1-.018-1.042L6.94 8 3.72 4.78a.75.75 0 0 1 0-1.06Z"></path>
</svg></button>
    </div>
  </div>
</div>
      <div data-view-component="true" class="Overlay-body d-flex flex-column height-full px-2">      <nav aria-label="User navigation" data-view-component="true" class="ActionList">
  
  <nav-list>
    <ul data-view-component="true" class="ActionListWrap">
        
          
<li data-item-id="" data-targets="nav-list.items" data-view-component="true" class="ActionListItem">
    
    <button id="item-6a2f2524-c214-4434-b7eb-97df6c6dd3ae" type="button" data-view-component="true" class="ActionListContent ActionListContent--visual16">
        <span class="ActionListItem-visual ActionListItem-visual--leading">
          <span data-view-component="true" class="d-flex flex-items-center">    <svg style="box-sizing: content-box; color: var(--color-icon-primary);" width="16" height="16" viewBox="0 0 16 16" fill="none" data-view-component="true" class="anim-rotate">
  <circle cx="8" cy="8" r="7" stroke="currentColor" stroke-opacity="0.25" stroke-width="2" vector-effect="non-scaling-stroke" />
  <path d="M15 8a7.002 7.002 0 00-7-7" stroke="currentColor" stroke-width="2" stroke-linecap="round" vector-effect="non-scaling-stroke" />
</svg>
</span>
        </span>
      
        <span data-view-component="true" class="ActionListItem-label">
          

  <span class="color-fg-muted">
    Loading...
  </span>

</span></button>
  
  
</li>

        
          <li role="presentation" aria-hidden="true" data-view-component="true" class="ActionList-sectionDivider"></li>
        
          
<li data-item-id="" data-targets="nav-list.items" data-view-component="true" class="ActionListItem">
    
    <a id="item-805562a3-504f-4d97-af96-d83236b795c1" href="https://github.com/Gaurav8683" data-view-component="true" class="ActionListContent ActionListContent--visual16">
        <span class="ActionListItem-visual ActionListItem-visual--leading">
          <svg aria-hidden="true" height="16" viewBox="0 0 16 16" version="1.1" width="16" data-view-component="true" class="octicon octicon-person">
    <path d="M10.561 8.073a6.005 6.005 0 0 1 3.432 5.142.75.75 0 1 1-1.498.07 4.5 4.5 0 0 0-8.99 0 .75.75 0 0 1-1.498-.07 6.004 6.004 0 0 1 3.431-5.142 3.999 3.999 0 1 1 5.123 0ZM10.5 5a2.5 2.5 0 1 0-5 0 2.5 2.5 0 0 0 5 0Z"></path>
</svg>
        </span>
      
        <span data-view-component="true" class="ActionListItem-label">
          Your profile
</span></a>
  
  
</li>

        
          <li role="presentation" aria-hidden="true" data-view-component="true" class="ActionList-sectionDivider"></li>
        
          
<li data-item-id="" data-targets="nav-list.items" data-view-component="true" class="ActionListItem">
    
    <a id="item-da41d6f4-121f-469e-bf90-45c080abc84f" href="/Gaurav8683?tab=repositories" data-view-component="true" class="ActionListContent ActionListContent--visual16">
        <span class="ActionListItem-visual ActionListItem-visual--leading">
          <svg aria-hidden="true" height="16" viewBox="0 0 16 16" version="1.1" width="16" data-view-component="true" class="octicon octicon-repo">
    <path d="M2 2.5A2.5 2.5 0 0 1 4.5 0h8.75a.75.75 0 0 1 .75.75v12.5a.75.75 0 0 1-.75.75h-2.5a.75.75 0 0 1 0-1.5h1.75v-2h-8a1 1 0 0 0-.714 1.7.75.75 0 1 1-1.072 1.05A2.495 2.495 0 0 1 2 11.5Zm10.5-1h-8a1 1 0 0 0-1 1v6.708A2.486 2.486 0 0 1 4.5 9h8ZM5 12.25a.25.25 0 0 1 .25-.25h3.5a.25.25 0 0 1 .25.25v3.25a.25.25 0 0 1-.4.2l-1.45-1.087a.249.249 0 0 0-.3 0L5.4 15.7a.25.25 0 0 1-.4-.2Z"></path>
</svg>
        </span>
      
        <span data-view-component="true" class="ActionListItem-label">
          Your repositories
</span></a>
  
  
</li>

        
          
<li data-item-id="" data-targets="nav-list.items" data-view-component="true" class="ActionListItem">
    
    <a id="item-cfb9e570-487f-4d46-a29e-ae159c01d6e8" href="/Gaurav8683?tab=projects" data-view-component="true" class="ActionListContent ActionListContent--visual16">
        <span class="ActionListItem-visual ActionListItem-visual--leading">
          <svg aria-hidden="true" height="16" viewBox="0 0 16 16" version="1.1" width="16" data-view-component="true" class="octicon octicon-project">
    <path d="M1.75 0h12.5C15.216 0 16 .784 16 1.75v12.5A1.75 1.75 0 0 1 14.25 16H1.75A1.75 1.75 0 0 1 0 14.25V1.75C0 .784.784 0 1.75 0ZM1.5 1.75v12.5c0 .138.112.25.25.25h12.5a.25.25 0 0 0 .25-.25V1.75a.25.25 0 0 0-.25-.25H1.75a.25.25 0 0 0-.25.25ZM11.75 3a.75.75 0 0 1 .75.75v7.5a.75.75 0 0 1-1.5 0v-7.5a.75.75 0 0 1 .75-.75Zm-8.25.75a.75.75 0 0 1 1.5 0v5.5a.75.75 0 0 1-1.5 0ZM8 3a.75.75 0 0 1 .75.75v3.5a.75.75 0 0 1-1.5 0v-3.5A.75.75 0 0 1 8 3Z"></path>
</svg>
        </span>
      
        <span data-view-component="true" class="ActionListItem-label">
          Your projects
</span></a>
  
  
</li>

        
          
<li data-item-id="" data-targets="nav-list.items" data-view-component="true" class="ActionListItem">
    
    <a id="item-6c5d9139-a662-48d2-85f6-c0b3193c2b6c" href="/codespaces" data-view-component="true" class="ActionListContent ActionListContent--visual16">
        <span class="ActionListItem-visual ActionListItem-visual--leading">
          <svg aria-hidden="true" height="16" viewBox="0 0 16 16" version="1.1" width="16" data-view-component="true" class="octicon octicon-codespaces">
    <path d="M0 11.25c0-.966.784-1.75 1.75-1.75h12.5c.966 0 1.75.784 1.75 1.75v3A1.75 1.75 0 0 1 14.25 16H1.75A1.75 1.75 0 0 1 0 14.25Zm2-9.5C2 .784 2.784 0 3.75 0h8.5C13.216 0 14 .784 14 1.75v5a1.75 1.75 0 0 1-1.75 1.75h-8.5A1.75 1.75 0 0 1 2 6.75Zm1.75-.25a.25.25 0 0 0-.25.25v5c0 .138.112.25.25.25h8.5a.25.25 0 0 0 .25-.25v-5a.25.25 0 0 0-.25-.25Zm-2 9.5a.25.25 0 0 0-.25.25v3c0 .138.112.25.25.25h12.5a.25.25 0 0 0 .25-.25v-3a.25.25 0 0 0-.25-.25Z"></path><path d="M7 12.75a.75.75 0 0 1 .75-.75h4.5a.75.75 0 0 1 0 1.5h-4.5a.75.75 0 0 1-.75-.75Zm-4 0a.75.75 0 0 1 .75-.75h.5a.75.75 0 0 1 0 1.5h-.5a.75.75 0 0 1-.75-.75Z"></path>
</svg>
        </span>
      
        <span data-view-component="true" class="ActionListItem-label">
          Your codespaces
</span></a>
  
  
</li>

        
          
<li data-item-id="" data-targets="nav-list.items" data-view-component="true" class="ActionListItem">
    
    <button id="item-f6d8c850-afc0-46c7-9fe1-e9b072b8e13d" type="button" data-view-component="true" class="ActionListContent ActionListContent--visual16">
        <span class="ActionListItem-visual ActionListItem-visual--leading">
          <span data-view-component="true" class="d-flex flex-items-center">    <svg style="box-sizing: content-box; color: var(--color-icon-primary);" width="16" height="16" viewBox="0 0 16 16" fill="none" data-view-component="true" class="anim-rotate">
  <circle cx="8" cy="8" r="7" stroke="currentColor" stroke-opacity="0.25" stroke-width="2" vector-effect="non-scaling-stroke" />
  <path d="M15 8a7.002 7.002 0 00-7-7" stroke="currentColor" stroke-width="2" stroke-linecap="round" vector-effect="non-scaling-stroke" />
</svg>
</span>
        </span>
      
        <span data-view-component="true" class="ActionListItem-label">
          

  <span class="color-fg-muted">
    Loading...
  </span>

</span></button>
  
  
</li>

        
          
<li data-item-id="" data-targets="nav-list.items" data-view-component="true" class="ActionListItem">
    
    <a id="item-9bb38770-5a9b-4cdd-8e65-5206ac112f2f" href="/Gaurav8683?tab=stars" data-view-component="true" class="ActionListContent ActionListContent--visual16">
        <span class="ActionListItem-visual ActionListItem-visual--leading">
          <svg aria-hidden="true" height="16" viewBox="0 0 16 16" version="1.1" width="16" data-view-component="true" class="octicon octicon-star">
    <path d="M8 .25a.75.75 0 0 1 .673.418l1.882 3.815 4.21.612a.75.75 0 0 1 .416 1.279l-3.046 2.97.719 4.192a.751.751 0 0 1-1.088.791L8 12.347l-3.766 1.98a.75.75 0 0 1-1.088-.79l.72-4.194L.818 6.374a.75.75 0 0 1 .416-1.28l4.21-.611L7.327.668A.75.75 0 0 1 8 .25Zm0 2.445L6.615 5.5a.75.75 0 0 1-.564.41l-3.097.45 2.24 2.184a.75.75 0 0 1 .216.664l-.528 3.084 2.769-1.456a.75.75 0 0 1 .698 0l2.77 1.456-.53-3.084a.75.75 0 0 1 .216-.664l2.24-2.183-3.096-.45a.75.75 0 0 1-.564-.41L8 2.694Z"></path>
</svg>
        </span>
      
        <span data-view-component="true" class="ActionListItem-label">
          Your stars
</span></a>
  
  
</li>

        
          
<li data-item-id="" data-targets="nav-list.items" data-view-component="true" class="ActionListItem">
    
    <a id="item-da0fde69-b627-4b2a-bc5d-98764bb9013f" href="/sponsors/accounts" data-view-component="true" class="ActionListContent ActionListContent--visual16">
        <span class="ActionListItem-visual ActionListItem-visual--leading">
          <svg aria-hidden="true" height="16" viewBox="0 0 16 16" version="1.1" width="16" data-view-component="true" class="octicon octicon-heart">
    <path d="m8 14.25.345.666a.75.75 0 0 1-.69 0l-.008-.004-.018-.01a7.152 7.152 0 0 1-.31-.17 22.055 22.055 0 0 1-3.434-2.414C2.045 10.731 0 8.35 0 5.5 0 2.836 2.086 1 4.25 1 5.797 1 7.153 1.802 8 3.02 8.847 1.802 10.203 1 11.75 1 13.914 1 16 2.836 16 5.5c0 2.85-2.045 5.231-3.885 6.818a22.066 22.066 0 0 1-3.744 2.584l-.018.01-.006.003h-.002ZM4.25 2.5c-1.336 0-2.75 1.164-2.75 3 0 2.15 1.58 4.144 3.365 5.682A20.58 20.58 0 0 0 8 13.393a20.58 20.58 0 0 0 3.135-2.211C12.92 9.644 14.5 7.65 14.5 5.5c0-1.836-1.414-3-2.75-3-1.373 0-2.609.986-3.029 2.456a.749.749 0 0 1-1.442 0C6.859 3.486 5.623 2.5 4.25 2.5Z"></path>
</svg>
        </span>
      
        <span data-view-component="true" class="ActionListItem-label">
          Your sponsors
</span></a>
  
  
</li>

        
          
<li data-item-id="" data-targets="nav-list.items" data-view-component="true" class="ActionListItem">
    
    <a id="item-05fcdf35-113f-4ca3-ab5a-411f5e210707" href="https://gist.github.com/mine" data-view-component="true" class="ActionListContent ActionListContent--visual16">
        <span class="ActionListItem-visual ActionListItem-visual--leading">
          <svg aria-hidden="true" height="16" viewBox="0 0 16 16" version="1.1" width="16" data-view-component="true" class="octicon octicon-code-square">
    <path d="M0 1.75C0 .784.784 0 1.75 0h12.5C15.216 0 16 .784 16 1.75v12.5A1.75 1.75 0 0 1 14.25 16H1.75A1.75 1.75 0 0 1 0 14.25Zm1.75-.25a.25.25 0 0 0-.25.25v12.5c0 .138.112.25.25.25h12.5a.25.25 0 0 0 .25-.25V1.75a.25.25 0 0 0-.25-.25Zm7.47 3.97a.75.75 0 0 1 1.06 0l2 2a.75.75 0 0 1 0 1.06l-2 2a.749.749 0 0 1-1.275-.326.749.749 0 0 1 .215-.734L10.69 8 9.22 6.53a.75.75 0 0 1 0-1.06ZM6.78 6.53 5.31 8l1.47 1.47a.749.749 0 0 1-.326 1.275.749.749 0 0 1-.734-.215l-2-2a.75.75 0 0 1 0-1.06l2-2a.751.751 0 0 1 1.042.018.751.751 0 0 1 .018 1.042Z"></path>
</svg>
        </span>
      
        <span data-view-component="true" class="ActionListItem-label">
          Your gists
</span></a>
  
  
</li>

        
          <li role="presentation" aria-hidden="true" data-view-component="true" class="ActionList-sectionDivider"></li>
        
          
<li data-item-id="" data-targets="nav-list.items" data-view-component="true" class="ActionListItem">
    
    <button id="item-8fc46939-3c0e-4eb2-9142-f6828fbe7e59" type="button" data-view-component="true" class="ActionListContent ActionListContent--visual16">
        <span class="ActionListItem-visual ActionListItem-visual--leading">
          <span data-view-component="true" class="d-flex flex-items-center">    <svg style="box-sizing: content-box; color: var(--color-icon-primary);" width="16" height="16" viewBox="0 0 16 16" fill="none" data-view-component="true" class="anim-rotate">
  <circle cx="8" cy="8" r="7" stroke="currentColor" stroke-opacity="0.25" stroke-width="2" vector-effect="non-scaling-stroke" />
  <path d="M15 8a7.002 7.002 0 00-7-7" stroke="currentColor" stroke-width="2" stroke-linecap="round" vector-effect="non-scaling-stroke" />
</svg>
</span>
        </span>
      
        <span data-view-component="true" class="ActionListItem-label">
          

  <span class="color-fg-muted">
    Loading...
  </span>

</span></button>
  
  
</li>

        
          
<li data-item-id="" data-targets="nav-list.items" data-view-component="true" class="ActionListItem">
    
    <button id="item-806e3d3f-f0f7-40e3-b08f-bedbdeac3496" type="button" data-view-component="true" class="ActionListContent ActionListContent--visual16">
        <span class="ActionListItem-visual ActionListItem-visual--leading">
          <span data-view-component="true" class="d-flex flex-items-center">    <svg style="box-sizing: content-box; color: var(--color-icon-primary);" width="16" height="16" viewBox="0 0 16 16" fill="none" data-view-component="true" class="anim-rotate">
  <circle cx="8" cy="8" r="7" stroke="currentColor" stroke-opacity="0.25" stroke-width="2" vector-effect="non-scaling-stroke" />
  <path d="M15 8a7.002 7.002 0 00-7-7" stroke="currentColor" stroke-width="2" stroke-linecap="round" vector-effect="non-scaling-stroke" />
</svg>
</span>
        </span>
      
        <span data-view-component="true" class="ActionListItem-label">
          

  <span class="color-fg-muted">
    Loading...
  </span>

</span></button>
  
  
</li>

        
          
<li data-item-id="" data-targets="nav-list.items" data-view-component="true" class="ActionListItem">
    
    <button id="item-743f0a9b-0f6f-4ec5-b6e8-0bde9f376e95" type="button" data-view-component="true" class="ActionListContent ActionListContent--visual16">
        <span class="ActionListItem-visual ActionListItem-visual--leading">
          <span data-view-component="true" class="d-flex flex-items-center">    <svg style="box-sizing: content-box; color: var(--color-icon-primary);" width="16" height="16" viewBox="0 0 16 16" fill="none" data-view-component="true" class="anim-rotate">
  <circle cx="8" cy="8" r="7" stroke="currentColor" stroke-opacity="0.25" stroke-width="2" vector-effect="non-scaling-stroke" />
  <path d="M15 8a7.002 7.002 0 00-7-7" stroke="currentColor" stroke-width="2" stroke-linecap="round" vector-effect="non-scaling-stroke" />
</svg>
</span>
        </span>
      
        <span data-view-component="true" class="ActionListItem-label">
          

  <span class="color-fg-muted">
    Loading...
  </span>

</span></button>
  
  
</li>

        
          
<li data-item-id="" data-targets="nav-list.items" data-view-component="true" class="ActionListItem">
    
    <a id="item-0c3ddf9b-6b11-46ec-8bbe-4f60d4a8a9cf" href="/settings/profile" data-view-component="true" class="ActionListContent ActionListContent--visual16">
        <span class="ActionListItem-visual ActionListItem-visual--leading">
          <svg aria-hidden="true" height="16" viewBox="0 0 16 16" version="1.1" width="16" data-view-component="true" class="octicon octicon-gear">
    <path d="M8 0a8.2 8.2 0 0 1 .701.031C9.444.095 9.99.645 10.16 1.29l.288 1.107c.018.066.079.158.212.224.231.114.454.243.668.386.123.082.233.09.299.071l1.103-.303c.644-.176 1.392.021 1.82.63.27.385.506.792.704 1.218.315.675.111 1.422-.364 1.891l-.814.806c-.049.048-.098.147-.088.294.016.257.016.515 0 .772-.01.147.038.246.088.294l.814.806c.475.469.679 1.216.364 1.891a7.977 7.977 0 0 1-.704 1.217c-.428.61-1.176.807-1.82.63l-1.102-.302c-.067-.019-.177-.011-.3.071a5.909 5.909 0 0 1-.668.386c-.133.066-.194.158-.211.224l-.29 1.106c-.168.646-.715 1.196-1.458 1.26a8.006 8.006 0 0 1-1.402 0c-.743-.064-1.289-.614-1.458-1.26l-.289-1.106c-.018-.066-.079-.158-.212-.224a5.738 5.738 0 0 1-.668-.386c-.123-.082-.233-.09-.299-.071l-1.103.303c-.644.176-1.392-.021-1.82-.63a8.12 8.12 0 0 1-.704-1.218c-.315-.675-.111-1.422.363-1.891l.815-.806c.05-.048.098-.147.088-.294a6.214 6.214 0 0 1 0-.772c.01-.147-.038-.246-.088-.294l-.815-.806C.635 6.045.431 5.298.746 4.623a7.92 7.92 0 0 1 .704-1.217c.428-.61 1.176-.807 1.82-.63l1.102.302c.067.019.177.011.3-.071.214-.143.437-.272.668-.386.133-.066.194-.158.211-.224l.29-1.106C6.009.645 6.556.095 7.299.03 7.53.01 7.764 0 8 0Zm-.571 1.525c-.036.003-.108.036-.137.146l-.289 1.105c-.147.561-.549.967-.998 1.189-.173.086-.34.183-.5.29-.417.278-.97.423-1.529.27l-1.103-.303c-.109-.03-.175.016-.195.045-.22.312-.412.644-.573.99-.014.031-.021.11.059.19l.815.806c.411.406.562.957.53 1.456a4.709 4.709 0 0 0 0 .582c.032.499-.119 1.05-.53 1.456l-.815.806c-.081.08-.073.159-.059.19.162.346.353.677.573.989.02.03.085.076.195.046l1.102-.303c.56-.153 1.113-.008 1.53.27.161.107.328.204.501.29.447.222.85.629.997 1.189l.289 1.105c.029.109.101.143.137.146a6.6 6.6 0 0 0 1.142 0c.036-.003.108-.036.137-.146l.289-1.105c.147-.561.549-.967.998-1.189.173-.086.34-.183.5-.29.417-.278.97-.423 1.529-.27l1.103.303c.109.029.175-.016.195-.045.22-.313.411-.644.573-.99.014-.031.021-.11-.059-.19l-.815-.806c-.411-.406-.562-.957-.53-1.456a4.709 4.709 0 0 0 0-.582c-.032-.499.119-1.05.53-1.456l.815-.806c.081-.08.073-.159.059-.19a6.464 6.464 0 0 0-.573-.989c-.02-.03-.085-.076-.195-.046l-1.102.303c-.56.153-1.113.008-1.53-.27a4.44 4.44 0 0 0-.501-.29c-.447-.222-.85-.629-.997-1.189l-.289-1.105c-.029-.11-.101-.143-.137-.146a6.6 6.6 0 0 0-1.142 0ZM11 8a3 3 0 1 1-6 0 3 3 0 0 1 6 0ZM9.5 8a1.5 1.5 0 1 0-3.001.001A1.5 1.5 0 0 0 9.5 8Z"></path>
</svg>
        </span>
      
        <span data-view-component="true" class="ActionListItem-label">
          Settings
</span></a>
  
  
</li>

        
          <li role="presentation" aria-hidden="true" data-view-component="true" class="ActionList-sectionDivider"></li>
        
          
<li data-item-id="" data-targets="nav-list.items" data-view-component="true" class="ActionListItem">
    
    <a id="item-3ed627a8-3956-49ee-8533-9180dbb81d72" href="https://docs.github.com" data-view-component="true" class="ActionListContent ActionListContent--visual16">
        <span class="ActionListItem-visual ActionListItem-visual--leading">
          <svg aria-hidden="true" height="16" viewBox="0 0 16 16" version="1.1" width="16" data-view-component="true" class="octicon octicon-book">
    <path d="M0 1.75A.75.75 0 0 1 .75 1h4.253c1.227 0 2.317.59 3 1.501A3.743 3.743 0 0 1 11.006 1h4.245a.75.75 0 0 1 .75.75v10.5a.75.75 0 0 1-.75.75h-4.507a2.25 2.25 0 0 0-1.591.659l-.622.621a.75.75 0 0 1-1.06 0l-.622-.621A2.25 2.25 0 0 0 5.258 13H.75a.75.75 0 0 1-.75-.75Zm7.251 10.324.004-5.073-.002-2.253A2.25 2.25 0 0 0 5.003 2.5H1.5v9h3.757a3.75 3.75 0 0 1 1.994.574ZM8.755 4.75l-.004 7.322a3.752 3.752 0 0 1 1.992-.572H14.5v-9h-3.495a2.25 2.25 0 0 0-2.25 2.25Z"></path>
</svg>
        </span>
      
        <span data-view-component="true" class="ActionListItem-label">
          GitHub Docs
</span></a>
  
  
</li>

        
          
<li data-item-id="" data-targets="nav-list.items" data-view-component="true" class="ActionListItem">
    
    <a id="item-fe6663fd-71be-4a3d-a24b-1e2656f655af" href="https://support.github.com" data-view-component="true" class="ActionListContent ActionListContent--visual16">
        <span class="ActionListItem-visual ActionListItem-visual--leading">
          <svg aria-hidden="true" height="16" viewBox="0 0 16 16" version="1.1" width="16" data-view-component="true" class="octicon octicon-people">
    <path d="M2 5.5a3.5 3.5 0 1 1 5.898 2.549 5.508 5.508 0 0 1 3.034 4.084.75.75 0 1 1-1.482.235 4 4 0 0 0-7.9 0 .75.75 0 0 1-1.482-.236A5.507 5.507 0 0 1 3.102 8.05 3.493 3.493 0 0 1 2 5.5ZM11 4a3.001 3.001 0 0 1 2.22 5.018 5.01 5.01 0 0 1 2.56 3.012.749.749 0 0 1-.885.954.752.752 0 0 1-.549-.514 3.507 3.507 0 0 0-2.522-2.372.75.75 0 0 1-.574-.73v-.352a.75.75 0 0 1 .416-.672A1.5 1.5 0 0 0 11 5.5.75.75 0 0 1 11 4Zm-5.5-.5a2 2 0 1 0-.001 3.999A2 2 0 0 0 5.5 3.5Z"></path>
</svg>
        </span>
      
        <span data-view-component="true" class="ActionListItem-label">
          GitHub Support
</span></a>
  
  
</li>

        
          <li role="presentation" aria-hidden="true" data-view-component="true" class="ActionList-sectionDivider"></li>
        
          
<li data-item-id="" data-targets="nav-list.items" data-view-component="true" class="ActionListItem">
    
    <a id="item-1d38c5c3-949a-49cf-8a2d-ec9a0df218cb" href="/logout" data-view-component="true" class="ActionListContent">
      
        <span data-view-component="true" class="ActionListItem-label">
          Sign out
</span></a>
  
  
</li>

</ul>  </nav-list>
</nav>


</div>
      
</modal-dialog></div>
  </user-drawer-side-panel>

  </include-fragment>
</deferred-side-panel>
        </div>

        <div class="Header-item position-relative mr-2 mt-2">
            
<site-header-logged-in-user-menu>

</site-header-logged-in-user-menu>

        </div>
      </div>
    </div>


      <div class="AppHeader-localBar" >
        <nav data-pjax="#js-repo-pjax-container" aria-label="Repository" data-view-component="true" class="js-repo-nav js-sidenav-container-pjax js-responsive-underlinenav overflow-hidden UnderlineNav">

  <ul data-view-component="true" class="UnderlineNav-body list-style-none">
      <li data-view-component="true" class="d-inline-flex">
  <a id="code-tab" href="/Arunima-Singh/StockPrediction" data-tab-item="i0code-tab" data-selected-links="repo_source repo_downloads repo_commits repo_releases repo_tags repo_branches repo_packages repo_deployments /Arunima-Singh/StockPrediction" data-pjax="#repo-content-pjax-container" data-turbo-frame="repo-content-turbo-frame" data-hotkey="g c" data-analytics-event="{&quot;category&quot;:&quot;Underline navbar&quot;,&quot;action&quot;:&quot;Click tab&quot;,&quot;label&quot;:&quot;Code&quot;,&quot;target&quot;:&quot;UNDERLINE_NAV.TAB&quot;}" data-view-component="true" class="UnderlineNav-item no-wrap js-responsive-underlinenav-item js-selected-navigation-item">
    
              <svg aria-hidden="true" height="16" viewBox="0 0 16 16" version="1.1" width="16" data-view-component="true" class="octicon octicon-code UnderlineNav-octicon d-none d-sm-inline">
    <path d="m11.28 3.22 4.25 4.25a.75.75 0 0 1 0 1.06l-4.25 4.25a.749.749 0 0 1-1.275-.326.749.749 0 0 1 .215-.734L13.94 8l-3.72-3.72a.749.749 0 0 1 .326-1.275.749.749 0 0 1 .734.215Zm-6.56 0a.751.751 0 0 1 1.042.018.751.751 0 0 1 .018 1.042L2.06 8l3.72 3.72a.749.749 0 0 1-.326 1.275.749.749 0 0 1-.734-.215L.47 8.53a.75.75 0 0 1 0-1.06Z"></path>
</svg>
        <span data-content="Code">Code</span>
          <span id="code-repo-tab-count" data-pjax-replace="" data-turbo-replace="" title="Not available" data-view-component="true" class="Counter"></span>


    
</a></li>
      <li data-view-component="true" class="d-inline-flex">
  <a id="issues-tab" href="/Arunima-Singh/StockPrediction/issues" data-tab-item="i1issues-tab" data-selected-links="repo_issues repo_labels repo_milestones /Arunima-Singh/StockPrediction/issues" data-pjax="#repo-content-pjax-container" data-turbo-frame="repo-content-turbo-frame" data-hotkey="g i" data-analytics-event="{&quot;category&quot;:&quot;Underline navbar&quot;,&quot;action&quot;:&quot;Click tab&quot;,&quot;label&quot;:&quot;Issues&quot;,&quot;target&quot;:&quot;UNDERLINE_NAV.TAB&quot;}" data-view-component="true" class="UnderlineNav-item no-wrap js-responsive-underlinenav-item js-selected-navigation-item">
    
              <svg aria-hidden="true" height="16" viewBox="0 0 16 16" version="1.1" width="16" data-view-component="true" class="octicon octicon-issue-opened UnderlineNav-octicon d-none d-sm-inline">
    <path d="M8 9.5a1.5 1.5 0 1 0 0-3 1.5 1.5 0 0 0 0 3Z"></path><path d="M8 0a8 8 0 1 1 0 16A8 8 0 0 1 8 0ZM1.5 8a6.5 6.5 0 1 0 13 0 6.5 6.5 0 0 0-13 0Z"></path>
</svg>
        <span data-content="Issues">Issues</span>
          <span id="issues-repo-tab-count" data-pjax-replace="" data-turbo-replace="" title="0" hidden="hidden" data-view-component="true" class="Counter">0</span>


    
</a></li>
      <li data-view-component="true" class="d-inline-flex">
  <a id="pull-requests-tab" href="/Arunima-Singh/StockPrediction/pulls" data-tab-item="i2pull-requests-tab" data-selected-links="repo_pulls checks /Arunima-Singh/StockPrediction/pulls" data-pjax="#repo-content-pjax-container" data-turbo-frame="repo-content-turbo-frame" data-hotkey="g p" data-analytics-event="{&quot;category&quot;:&quot;Underline navbar&quot;,&quot;action&quot;:&quot;Click tab&quot;,&quot;label&quot;:&quot;Pull requests&quot;,&quot;target&quot;:&quot;UNDERLINE_NAV.TAB&quot;}" data-view-component="true" class="UnderlineNav-item no-wrap js-responsive-underlinenav-item js-selected-navigation-item">
    
              <svg aria-hidden="true" height="16" viewBox="0 0 16 16" version="1.1" width="16" data-view-component="true" class="octicon octicon-git-pull-request UnderlineNav-octicon d-none d-sm-inline">
    <path d="M1.5 3.25a2.25 2.25 0 1 1 3 2.122v5.256a2.251 2.251 0 1 1-1.5 0V5.372A2.25 2.25 0 0 1 1.5 3.25Zm5.677-.177L9.573.677A.25.25 0 0 1 10 .854V2.5h1A2.5 2.5 0 0 1 13.5 5v5.628a2.251 2.251 0 1 1-1.5 0V5a1 1 0 0 0-1-1h-1v1.646a.25.25 0 0 1-.427.177L7.177 3.427a.25.25 0 0 1 0-.354ZM3.75 2.5a.75.75 0 1 0 0 1.5.75.75 0 0 0 0-1.5Zm0 9.5a.75.75 0 1 0 0 1.5.75.75 0 0 0 0-1.5Zm8.25.75a.75.75 0 1 0 1.5 0 .75.75 0 0 0-1.5 0Z"></path>
</svg>
        <span data-content="Pull requests">Pull requests</span>
          <span id="pull-requests-repo-tab-count" data-pjax-replace="" data-turbo-replace="" title="0" hidden="hidden" data-view-component="true" class="Counter">0</span>


    
</a></li>
      <li data-view-component="true" class="d-inline-flex">
  <a id="actions-tab" href="/Arunima-Singh/StockPrediction/actions" data-tab-item="i3actions-tab" data-selected-links="repo_actions /Arunima-Singh/StockPrediction/actions" data-pjax="#repo-content-pjax-container" data-turbo-frame="repo-content-turbo-frame" data-hotkey="g a" data-analytics-event="{&quot;category&quot;:&quot;Underline navbar&quot;,&quot;action&quot;:&quot;Click tab&quot;,&quot;label&quot;:&quot;Actions&quot;,&quot;target&quot;:&quot;UNDERLINE_NAV.TAB&quot;}" data-view-component="true" class="UnderlineNav-item no-wrap js-responsive-underlinenav-item js-selected-navigation-item">
    
              <svg aria-hidden="true" height="16" viewBox="0 0 16 16" version="1.1" width="16" data-view-component="true" class="octicon octicon-play UnderlineNav-octicon d-none d-sm-inline">
    <path d="M8 0a8 8 0 1 1 0 16A8 8 0 0 1 8 0ZM1.5 8a6.5 6.5 0 1 0 13 0 6.5 6.5 0 0 0-13 0Zm4.879-2.773 4.264 2.559a.25.25 0 0 1 0 .428l-4.264 2.559A.25.25 0 0 1 6 10.559V5.442a.25.25 0 0 1 .379-.215Z"></path>
</svg>
        <span data-content="Actions">Actions</span>
          <span id="actions-repo-tab-count" data-pjax-replace="" data-turbo-replace="" title="Not available" data-view-component="true" class="Counter"></span>


    
</a></li>
      <li data-view-component="true" class="d-inline-flex">
  <a id="projects-tab" href="/Arunima-Singh/StockPrediction/projects" data-tab-item="i4projects-tab" data-selected-links="repo_projects new_repo_project repo_project /Arunima-Singh/StockPrediction/projects" data-pjax="#repo-content-pjax-container" data-turbo-frame="repo-content-turbo-frame" data-hotkey="g b" data-analytics-event="{&quot;category&quot;:&quot;Underline navbar&quot;,&quot;action&quot;:&quot;Click tab&quot;,&quot;label&quot;:&quot;Projects&quot;,&quot;target&quot;:&quot;UNDERLINE_NAV.TAB&quot;}" data-view-component="true" class="UnderlineNav-item no-wrap js-responsive-underlinenav-item js-selected-navigation-item">
    
              <svg aria-hidden="true" height="16" viewBox="0 0 16 16" version="1.1" width="16" data-view-component="true" class="octicon octicon-table UnderlineNav-octicon d-none d-sm-inline">
    <path d="M0 1.75C0 .784.784 0 1.75 0h12.5C15.216 0 16 .784 16 1.75v12.5A1.75 1.75 0 0 1 14.25 16H1.75A1.75 1.75 0 0 1 0 14.25ZM6.5 6.5v8h7.75a.25.25 0 0 0 .25-.25V6.5Zm8-1.5V1.75a.25.25 0 0 0-.25-.25H6.5V5Zm-13 1.5v7.75c0 .138.112.25.25.25H5v-8ZM5 5V1.5H1.75a.25.25 0 0 0-.25.25V5Z"></path>
</svg>
        <span data-content="Projects">Projects</span>
          <span id="projects-repo-tab-count" data-pjax-replace="" data-turbo-replace="" title="0" hidden="hidden" data-view-component="true" class="Counter">0</span>


    
</a></li>
      <li data-view-component="true" class="d-inline-flex">
  <a id="security-tab" href="/Arunima-Singh/StockPrediction/security" data-tab-item="i5security-tab" data-selected-links="security overview alerts policy token_scanning code_scanning /Arunima-Singh/StockPrediction/security" data-pjax="#repo-content-pjax-container" data-turbo-frame="repo-content-turbo-frame" data-hotkey="g s" data-analytics-event="{&quot;category&quot;:&quot;Underline navbar&quot;,&quot;action&quot;:&quot;Click tab&quot;,&quot;label&quot;:&quot;Security&quot;,&quot;target&quot;:&quot;UNDERLINE_NAV.TAB&quot;}" data-view-component="true" class="UnderlineNav-item no-wrap js-responsive-underlinenav-item js-selected-navigation-item">
    
              <svg aria-hidden="true" height="16" viewBox="0 0 16 16" version="1.1" width="16" data-view-component="true" class="octicon octicon-shield UnderlineNav-octicon d-none d-sm-inline">
    <path d="M7.467.133a1.748 1.748 0 0 1 1.066 0l5.25 1.68A1.75 1.75 0 0 1 15 3.48V7c0 1.566-.32 3.182-1.303 4.682-.983 1.498-2.585 2.813-5.032 3.855a1.697 1.697 0 0 1-1.33 0c-2.447-1.042-4.049-2.357-5.032-3.855C1.32 10.182 1 8.566 1 7V3.48a1.75 1.75 0 0 1 1.217-1.667Zm.61 1.429a.25.25 0 0 0-.153 0l-5.25 1.68a.25.25 0 0 0-.174.238V7c0 1.358.275 2.666 1.057 3.86.784 1.194 2.121 2.34 4.366 3.297a.196.196 0 0 0 .154 0c2.245-.956 3.582-2.104 4.366-3.298C13.225 9.666 13.5 8.36 13.5 7V3.48a.251.251 0 0 0-.174-.237l-5.25-1.68ZM8.75 4.75v3a.75.75 0 0 1-1.5 0v-3a.75.75 0 0 1 1.5 0ZM9 10.5a1 1 0 1 1-2 0 1 1 0 0 1 2 0Z"></path>
</svg>
        <span data-content="Security">Security</span>
          <include-fragment src="/Arunima-Singh/StockPrediction/security/overall-count" accept="text/fragment+html"></include-fragment>

    
</a></li>
      <li data-view-component="true" class="d-inline-flex">
  <a id="insights-tab" href="/Arunima-Singh/StockPrediction/pulse" data-tab-item="i6insights-tab" data-selected-links="repo_graphs repo_contributors dependency_graph dependabot_updates pulse people community /Arunima-Singh/StockPrediction/pulse" data-pjax="#repo-content-pjax-container" data-turbo-frame="repo-content-turbo-frame" data-analytics-event="{&quot;category&quot;:&quot;Underline navbar&quot;,&quot;action&quot;:&quot;Click tab&quot;,&quot;label&quot;:&quot;Insights&quot;,&quot;target&quot;:&quot;UNDERLINE_NAV.TAB&quot;}" data-view-component="true" class="UnderlineNav-item no-wrap js-responsive-underlinenav-item js-selected-navigation-item">
    
              <svg aria-hidden="true" height="16" viewBox="0 0 16 16" version="1.1" width="16" data-view-component="true" class="octicon octicon-graph UnderlineNav-octicon d-none d-sm-inline">
    <path d="M1.5 1.75V13.5h13.75a.75.75 0 0 1 0 1.5H.75a.75.75 0 0 1-.75-.75V1.75a.75.75 0 0 1 1.5 0Zm14.28 2.53-5.25 5.25a.75.75 0 0 1-1.06 0L7 7.06 4.28 9.78a.751.751 0 0 1-1.042-.018.751.751 0 0 1-.018-1.042l3.25-3.25a.75.75 0 0 1 1.06 0L10 7.94l4.72-4.72a.751.751 0 0 1 1.042.018.751.751 0 0 1 .018 1.042Z"></path>
</svg>
        <span data-content="Insights">Insights</span>
          <span id="insights-repo-tab-count" data-pjax-replace="" data-turbo-replace="" title="Not available" data-view-component="true" class="Counter"></span>


    
</a></li>
</ul>
    <div style="visibility:hidden;" data-view-component="true" class="UnderlineNav-actions js-responsive-underlinenav-overflow position-absolute pr-3 pr-md-4 pr-lg-5 right-0">        <details data-view-component="true" class="details-overlay details-reset position-relative">
    <summary role="button" data-view-component="true">          <div class="UnderlineNav-item mr-0 border-0">
            <svg aria-hidden="true" height="16" viewBox="0 0 16 16" version="1.1" width="16" data-view-component="true" class="octicon octicon-kebab-horizontal">
    <path d="M8 9a1.5 1.5 0 1 0 0-3 1.5 1.5 0 0 0 0 3ZM1.5 9a1.5 1.5 0 1 0 0-3 1.5 1.5 0 0 0 0 3Zm13 0a1.5 1.5 0 1 0 0-3 1.5 1.5 0 0 0 0 3Z"></path>
</svg>
            <span class="sr-only">More</span>
          </div>
</summary>
    <details-menu role="menu" data-view-component="true" class="dropdown-menu dropdown-menu-sw">
          <ul>
              <li data-menu-item="i0code-tab" hidden>
                <a role="menuitem" class="js-selected-navigation-item dropdown-item" data-selected-links="repo_source repo_downloads repo_commits repo_releases repo_tags repo_branches repo_packages repo_deployments /Arunima-Singh/StockPrediction" href="/Arunima-Singh/StockPrediction">
                  Code
</a>              </li>
              <li data-menu-item="i1issues-tab" hidden>
                <a role="menuitem" class="js-selected-navigation-item dropdown-item" data-selected-links="repo_issues repo_labels repo_milestones /Arunima-Singh/StockPrediction/issues" href="/Arunima-Singh/StockPrediction/issues">
                  Issues
</a>              </li>
              <li data-menu-item="i2pull-requests-tab" hidden>
                <a role="menuitem" class="js-selected-navigation-item dropdown-item" data-selected-links="repo_pulls checks /Arunima-Singh/StockPrediction/pulls" href="/Arunima-Singh/StockPrediction/pulls">
                  Pull requests
</a>              </li>
              <li data-menu-item="i3actions-tab" hidden>
                <a role="menuitem" class="js-selected-navigation-item dropdown-item" data-selected-links="repo_actions /Arunima-Singh/StockPrediction/actions" href="/Arunima-Singh/StockPrediction/actions">
                  Actions
</a>              </li>
              <li data-menu-item="i4projects-tab" hidden>
                <a role="menuitem" class="js-selected-navigation-item dropdown-item" data-selected-links="repo_projects new_repo_project repo_project /Arunima-Singh/StockPrediction/projects" href="/Arunima-Singh/StockPrediction/projects">
                  Projects
</a>              </li>
              <li data-menu-item="i5security-tab" hidden>
                <a role="menuitem" class="js-selected-navigation-item dropdown-item" data-selected-links="security overview alerts policy token_scanning code_scanning /Arunima-Singh/StockPrediction/security" href="/Arunima-Singh/StockPrediction/security">
                  Security
</a>              </li>
              <li data-menu-item="i6insights-tab" hidden>
                <a role="menuitem" class="js-selected-navigation-item dropdown-item" data-selected-links="repo_graphs repo_contributors dependency_graph dependabot_updates pulse people community /Arunima-Singh/StockPrediction/pulse" href="/Arunima-Singh/StockPrediction/pulse">
                  Insights
</a>              </li>
          </ul>
</details-menu>
</details></div>
</nav>
      </div>
</header>


      <div hidden="hidden" data-view-component="true" class="js-stale-session-flash flash flash-warn mb-3">
  
        <svg aria-hidden="true" height="16" viewBox="0 0 16 16" version="1.1" width="16" data-view-component="true" class="octicon octicon-alert">
    <path d="M6.457 1.047c.659-1.234 2.427-1.234 3.086 0l6.082 11.378A1.75 1.75 0 0 1 14.082 15H1.918a1.75 1.75 0 0 1-1.543-2.575Zm1.763.707a.25.25 0 0 0-.44 0L1.698 13.132a.25.25 0 0 0 .22.368h12.164a.25.25 0 0 0 .22-.368Zm.53 3.996v2.5a.75.75 0 0 1-1.5 0v-2.5a.75.75 0 0 1 1.5 0ZM9 11a1 1 0 1 1-2 0 1 1 0 0 1 2 0Z"></path>
</svg>
        <span class="js-stale-session-flash-signed-in" hidden>You signed in with another tab or window. <a href="">Reload</a> to refresh your session.</span>
        <span class="js-stale-session-flash-signed-out" hidden>You signed out in another tab or window. <a href="">Reload</a> to refresh your session.</span>
        <span class="js-stale-session-flash-switched" hidden>You switched accounts on another tab or window. <a href="">Reload</a> to refresh your session.</span>

    <button class="flash-close js-flash-close" type="button" aria-label="Close">
      <svg aria-hidden="true" height="16" viewBox="0 0 16 16" version="1.1" width="16" data-view-component="true" class="octicon octicon-x">
    <path d="M3.72 3.72a.75.75 0 0 1 1.06 0L8 6.94l3.22-3.22a.749.749 0 0 1 1.275.326.749.749 0 0 1-.215.734L9.06 8l3.22 3.22a.749.749 0 0 1-.326 1.275.749.749 0 0 1-.734-.215L8 9.06l-3.22 3.22a.751.751 0 0 1-1.042-.018.751.751 0 0 1-.018-1.042L6.94 8 3.72 4.78a.75.75 0 0 1 0-1.06Z"></path>
</svg>
    </button>

  
</div>
          
    </div>

  <div id="start-of-content" class="show-on-focus"></div>








    <div id="js-flash-container" data-turbo-replace>





  <template class="js-flash-template">
    
<div class="flash flash-full   {{ className }}">
  <div class="px-2" >
    <button autofocus class="flash-close js-flash-close" type="button" aria-label="Dismiss this message">
      <svg aria-hidden="true" height="16" viewBox="0 0 16 16" version="1.1" width="16" data-view-component="true" class="octicon octicon-x">
    <path d="M3.72 3.72a.75.75 0 0 1 1.06 0L8 6.94l3.22-3.22a.749.749 0 0 1 1.275.326.749.749 0 0 1-.215.734L9.06 8l3.22 3.22a.749.749 0 0 1-.326 1.275.749.749 0 0 1-.734-.215L8 9.06l-3.22 3.22a.751.751 0 0 1-1.042-.018.751.751 0 0 1-.018-1.042L6.94 8 3.72 4.78a.75.75 0 0 1 0-1.06Z"></path>
</svg>
    </button>
    <div aria-atomic="true" role="alert" class="js-flash-alert">
      
      <div>{{ message }}</div>

    </div>
  </div>
</div>
  </template>
</div>


    
    <notification-shelf-watcher data-base-url="https://github.com/notifications/beta/shelf" data-channel="eyJjIjoibm90aWZpY2F0aW9uLWNoYW5nZWQ6MTEyODkzNzEwIiwidCI6MTY5MDgxOTUxMH0=--ab0adecbdace8bcee3d01ba3d23a71fcca2c16f71fcdf04ae332ba737840d257" data-view-component="true" class="js-socket-channel"></notification-shelf-watcher>
  <div hidden data-initial data-target="notification-shelf-watcher.placeholder"></div>






      <details
  class="details-reset details-overlay details-overlay-dark js-command-palette-dialog"
  id="command-palette-pjax-container"
  data-turbo-replace
>
  <summary aria-label="command palette trigger" tabindex="-1"></summary>
  <details-dialog class="command-palette-details-dialog d-flex flex-column flex-justify-center height-fit" aria-label="command palette">
    <command-palette
      class="command-palette color-bg-default rounded-3 border color-shadow-small"
      return-to=/Arunima-Singh/StockPrediction/blob/main/StockPrediction.ipynb
      user-id="112893710"
      activation-hotkey="Mod+k,Mod+Alt+k"
      command-mode-hotkey="Mod+Shift+k"
      data-action="
        command-palette-input-ready:command-palette#inputReady
        command-palette-page-stack-updated:command-palette#updateInputScope
        itemsUpdated:command-palette#itemsUpdated
        keydown:command-palette#onKeydown
        loadingStateChanged:command-palette#loadingStateChanged
        selectedItemChanged:command-palette#selectedItemChanged
        pageFetchError:command-palette#pageFetchError
      ">

        <command-palette-mode
          data-char="#"
            data-scope-types="[&quot;&quot;]"
            data-placeholder="Search issues and pull requests"
        ></command-palette-mode>
        <command-palette-mode
          data-char="#"
            data-scope-types="[&quot;owner&quot;,&quot;repository&quot;]"
            data-placeholder="Search issues, pull requests, discussions, and projects"
        ></command-palette-mode>
        <command-palette-mode
          data-char="!"
            data-scope-types="[&quot;owner&quot;,&quot;repository&quot;]"
            data-placeholder="Search projects"
        ></command-palette-mode>
        <command-palette-mode
          data-char="@"
            data-scope-types="[&quot;&quot;]"
            data-placeholder="Search or jump to a user, organization, or repository"
        ></command-palette-mode>
        <command-palette-mode
          data-char="@"
            data-scope-types="[&quot;owner&quot;]"
            data-placeholder="Search or jump to a repository"
        ></command-palette-mode>
        <command-palette-mode
          data-char="/"
            data-scope-types="[&quot;repository&quot;]"
            data-placeholder="Search files"
        ></command-palette-mode>
        <command-palette-mode
          data-char="?"
        ></command-palette-mode>
        <command-palette-mode
          data-char="&gt;"
            data-placeholder="Run a command"
        ></command-palette-mode>
        <command-palette-mode
          data-char=""
            data-scope-types="[&quot;&quot;]"
            data-placeholder="Search or jump to..."
        ></command-palette-mode>
        <command-palette-mode
          data-char=""
            data-scope-types="[&quot;owner&quot;]"
            data-placeholder="Search or jump to..."
        ></command-palette-mode>
      <command-palette-mode
        class="js-command-palette-default-mode"
        data-char=""
        data-placeholder="Search or jump to..."
      ></command-palette-mode>

      <command-palette-input placeholder="Search or jump to..."

        data-action="
          command-palette-input:command-palette#onInput
          command-palette-select:command-palette#onSelect
          command-palette-descope:command-palette#onDescope
          command-palette-cleared:command-palette#onInputClear
        "
      >
        <div class="js-search-icon d-flex flex-items-center mr-2" style="height: 26px">
          <svg aria-hidden="true" height="16" viewBox="0 0 16 16" version="1.1" width="16" data-view-component="true" class="octicon octicon-search color-fg-muted">
    <path d="M10.68 11.74a6 6 0 0 1-7.922-8.982 6 6 0 0 1 8.982 7.922l3.04 3.04a.749.749 0 0 1-.326 1.275.749.749 0 0 1-.734-.215ZM11.5 7a4.499 4.499 0 1 0-8.997 0A4.499 4.499 0 0 0 11.5 7Z"></path>
</svg>
        </div>
        <div class="js-spinner d-flex flex-items-center mr-2 color-fg-muted" hidden>
          <svg aria-label="Loading" class="anim-rotate" viewBox="0 0 16 16" fill="none" width="16" height="16">
            <circle
              cx="8"
              cy="8"
              r="7"
              stroke="currentColor"
              stroke-opacity="0.25"
              stroke-width="2"
              vector-effect="non-scaling-stroke"
            ></circle>
            <path
              d="M15 8a7.002 7.002 0 00-7-7"
              stroke="currentColor"
              stroke-width="2"
              stroke-linecap="round"
              vector-effect="non-scaling-stroke"
            ></path>
          </svg>
        </div>
        <command-palette-scope >
          <div data-target="command-palette-scope.placeholder" hidden class="color-fg-subtle">/&nbsp;&nbsp;<span class="text-semibold color-fg-default">...</span>&nbsp;&nbsp;/&nbsp;&nbsp;</div>
              <command-palette-token
                data-text="Arunima-Singh"
                data-id="MDQ6VXNlcjI1ODY2MzAx"
                data-type="owner"
                data-value="Arunima-Singh"
                data-targets="command-palette-scope.tokens"
                class="color-fg-default text-semibold"
                style="white-space:nowrap;line-height:20px;"
                >Arunima-Singh<span class="color-fg-subtle text-normal">&nbsp;&nbsp;/&nbsp;&nbsp;</span></command-palette-token>
              <command-palette-token
                data-text="StockPrediction"
                data-id="R_kgDOH-h7Ug"
                data-type="repository"
                data-value="StockPrediction"
                data-targets="command-palette-scope.tokens"
                class="color-fg-default text-semibold"
                style="white-space:nowrap;line-height:20px;"
                >StockPrediction<span class="color-fg-subtle text-normal">&nbsp;&nbsp;/&nbsp;&nbsp;</span></command-palette-token>
        </command-palette-scope>
        <div class="command-palette-input-group flex-1 form-control border-0 box-shadow-none" style="z-index: 0">
          <div class="command-palette-typeahead position-absolute d-flex flex-items-center Truncate">
            <span class="typeahead-segment input-mirror" data-target="command-palette-input.mirror"></span>
            <span class="Truncate-text" data-target="command-palette-input.typeaheadText"></span>
            <span class="typeahead-segment" data-target="command-palette-input.typeaheadPlaceholder"></span>
          </div>
          <input
            class="js-overlay-input typeahead-input d-none"
            disabled
            tabindex="-1"
            aria-label="Hidden input for typeahead"
          >
          <input
            type="text"
            autocomplete="off"
            autocorrect="off"
            autocapitalize="off"
            spellcheck="false"
            class="js-input typeahead-input form-control border-0 box-shadow-none input-block width-full no-focus-indicator"
            aria-label="Command palette input"
            aria-haspopup="listbox"
            aria-expanded="false"
            aria-autocomplete="list"
            aria-controls="command-palette-page-stack"
            role="combobox"
            data-action="
              input:command-palette-input#onInput
              keydown:command-palette-input#onKeydown
            "
          >
        </div>
          <div data-view-component="true" class="position-relative d-inline-block">
    <button aria-keyshortcuts="Control+Backspace" data-action="click:command-palette-input#onClear keypress:command-palette-input#onClear" data-target="command-palette-input.clearButton" id="command-palette-clear-button" hidden="hidden" type="button" data-view-component="true" class="btn-octicon command-palette-input-clear-button">      <svg aria-hidden="true" height="16" viewBox="0 0 16 16" version="1.1" width="16" data-view-component="true" class="octicon octicon-x-circle-fill">
    <path d="M2.343 13.657A8 8 0 1 1 13.658 2.343 8 8 0 0 1 2.343 13.657ZM6.03 4.97a.751.751 0 0 0-1.042.018.751.751 0 0 0-.018 1.042L6.94 8 4.97 9.97a.749.749 0 0 0 .326 1.275.749.749 0 0 0 .734-.215L8 9.06l1.97 1.97a.749.749 0 0 0 1.275-.326.749.749 0 0 0-.215-.734L9.06 8l1.97-1.97a.749.749 0 0 0-.326-1.275.749.749 0 0 0-.734.215L8 6.94Z"></path>
</svg>
</button>    <tool-tip id="tooltip-b50cd84a-fe9f-41bb-8b5b-31f3a7b343b1" for="command-palette-clear-button" popover="manual" data-direction="w" data-type="label" data-view-component="true" class="sr-only position-absolute">Clear Command Palette</tool-tip>
</div>
      </command-palette-input>

      <command-palette-page-stack
        data-default-scope-id="R_kgDOH-h7Ug"
        data-default-scope-type="Repository"
        data-action="command-palette-page-octicons-cached:command-palette-page-stack#cacheOcticons"
      >
          <command-palette-tip
            class="color-fg-muted f6 px-3 py-1 my-2"
              data-scope-types="[&quot;&quot;,&quot;owner&quot;,&quot;repository&quot;]"
            data-mode=""
            data-value="">
            <div class="d-flex flex-items-start flex-justify-between">
              <div>
                <span class="text-bold">Tip:</span>
                  Type <kbd class="hx_kbd">#</kbd> to search pull requests
              </div>
              <div class="ml-2 flex-shrink-0">
                Type <kbd class="hx_kbd">?</kbd> for help and tips
              </div>
            </div>
          </command-palette-tip>
          <command-palette-tip
            class="color-fg-muted f6 px-3 py-1 my-2"
              data-scope-types="[&quot;&quot;,&quot;owner&quot;,&quot;repository&quot;]"
            data-mode=""
            data-value="">
            <div class="d-flex flex-items-start flex-justify-between">
              <div>
                <span class="text-bold">Tip:</span>
                  Type <kbd class="hx_kbd">#</kbd> to search issues
              </div>
              <div class="ml-2 flex-shrink-0">
                Type <kbd class="hx_kbd">?</kbd> for help and tips
              </div>
            </div>
          </command-palette-tip>
          <command-palette-tip
            class="color-fg-muted f6 px-3 py-1 my-2"
              data-scope-types="[&quot;owner&quot;,&quot;repository&quot;]"
            data-mode=""
            data-value="">
            <div class="d-flex flex-items-start flex-justify-between">
              <div>
                <span class="text-bold">Tip:</span>
                  Type <kbd class="hx_kbd">#</kbd> to search discussions
              </div>
              <div class="ml-2 flex-shrink-0">
                Type <kbd class="hx_kbd">?</kbd> for help and tips
              </div>
            </div>
          </command-palette-tip>
          <command-palette-tip
            class="color-fg-muted f6 px-3 py-1 my-2"
              data-scope-types="[&quot;owner&quot;,&quot;repository&quot;]"
            data-mode=""
            data-value="">
            <div class="d-flex flex-items-start flex-justify-between">
              <div>
                <span class="text-bold">Tip:</span>
                  Type <kbd class="hx_kbd">!</kbd> to search projects
              </div>
              <div class="ml-2 flex-shrink-0">
                Type <kbd class="hx_kbd">?</kbd> for help and tips
              </div>
            </div>
          </command-palette-tip>
          <command-palette-tip
            class="color-fg-muted f6 px-3 py-1 my-2"
              data-scope-types="[&quot;owner&quot;]"
            data-mode=""
            data-value="">
            <div class="d-flex flex-items-start flex-justify-between">
              <div>
                <span class="text-bold">Tip:</span>
                  Type <kbd class="hx_kbd">@</kbd> to search teams
              </div>
              <div class="ml-2 flex-shrink-0">
                Type <kbd class="hx_kbd">?</kbd> for help and tips
              </div>
            </div>
          </command-palette-tip>
          <command-palette-tip
            class="color-fg-muted f6 px-3 py-1 my-2"
              data-scope-types="[&quot;&quot;]"
            data-mode=""
            data-value="">
            <div class="d-flex flex-items-start flex-justify-between">
              <div>
                <span class="text-bold">Tip:</span>
                  Type <kbd class="hx_kbd">@</kbd> to search people and organizations
              </div>
              <div class="ml-2 flex-shrink-0">
                Type <kbd class="hx_kbd">?</kbd> for help and tips
              </div>
            </div>
          </command-palette-tip>
          <command-palette-tip
            class="color-fg-muted f6 px-3 py-1 my-2"
              data-scope-types="[&quot;&quot;,&quot;owner&quot;,&quot;repository&quot;]"
            data-mode=""
            data-value="">
            <div class="d-flex flex-items-start flex-justify-between">
              <div>
                <span class="text-bold">Tip:</span>
                  Type <kbd class="hx_kbd">&gt;</kbd> to activate command mode
              </div>
              <div class="ml-2 flex-shrink-0">
                Type <kbd class="hx_kbd">?</kbd> for help and tips
              </div>
            </div>
          </command-palette-tip>
          <command-palette-tip
            class="color-fg-muted f6 px-3 py-1 my-2"
              data-scope-types="[&quot;&quot;,&quot;owner&quot;,&quot;repository&quot;]"
            data-mode=""
            data-value="">
            <div class="d-flex flex-items-start flex-justify-between">
              <div>
                <span class="text-bold">Tip:</span>
                  Go to your accessibility settings to change your keyboard shortcuts
              </div>
              <div class="ml-2 flex-shrink-0">
                Type <kbd class="hx_kbd">?</kbd> for help and tips
              </div>
            </div>
          </command-palette-tip>
          <command-palette-tip
            class="color-fg-muted f6 px-3 py-1 my-2"
              data-scope-types="[&quot;&quot;,&quot;owner&quot;,&quot;repository&quot;]"
            data-mode="#"
            data-value="">
            <div class="d-flex flex-items-start flex-justify-between">
              <div>
                <span class="text-bold">Tip:</span>
                  Type author:@me to search your content
              </div>
              <div class="ml-2 flex-shrink-0">
                Type <kbd class="hx_kbd">?</kbd> for help and tips
              </div>
            </div>
          </command-palette-tip>
          <command-palette-tip
            class="color-fg-muted f6 px-3 py-1 my-2"
              data-scope-types="[&quot;&quot;,&quot;owner&quot;,&quot;repository&quot;]"
            data-mode="#"
            data-value="">
            <div class="d-flex flex-items-start flex-justify-between">
              <div>
                <span class="text-bold">Tip:</span>
                  Type is:pr to filter to pull requests
              </div>
              <div class="ml-2 flex-shrink-0">
                Type <kbd class="hx_kbd">?</kbd> for help and tips
              </div>
            </div>
          </command-palette-tip>
          <command-palette-tip
            class="color-fg-muted f6 px-3 py-1 my-2"
              data-scope-types="[&quot;&quot;,&quot;owner&quot;,&quot;repository&quot;]"
            data-mode="#"
            data-value="">
            <div class="d-flex flex-items-start flex-justify-between">
              <div>
                <span class="text-bold">Tip:</span>
                  Type is:issue to filter to issues
              </div>
              <div class="ml-2 flex-shrink-0">
                Type <kbd class="hx_kbd">?</kbd> for help and tips
              </div>
            </div>
          </command-palette-tip>
          <command-palette-tip
            class="color-fg-muted f6 px-3 py-1 my-2"
              data-scope-types="[&quot;owner&quot;,&quot;repository&quot;]"
            data-mode="#"
            data-value="">
            <div class="d-flex flex-items-start flex-justify-between">
              <div>
                <span class="text-bold">Tip:</span>
                  Type is:project to filter to projects
              </div>
              <div class="ml-2 flex-shrink-0">
                Type <kbd class="hx_kbd">?</kbd> for help and tips
              </div>
            </div>
          </command-palette-tip>
          <command-palette-tip
            class="color-fg-muted f6 px-3 py-1 my-2"
              data-scope-types="[&quot;&quot;,&quot;owner&quot;,&quot;repository&quot;]"
            data-mode="#"
            data-value="">
            <div class="d-flex flex-items-start flex-justify-between">
              <div>
                <span class="text-bold">Tip:</span>
                  Type is:open to filter to open content
              </div>
              <div class="ml-2 flex-shrink-0">
                Type <kbd class="hx_kbd">?</kbd> for help and tips
              </div>
            </div>
          </command-palette-tip>
        <command-palette-tip class="mx-3 my-2 flash flash-error d-flex flex-items-center" data-scope-types="*" data-on-error>
          <div>
            <svg aria-hidden="true" height="16" viewBox="0 0 16 16" version="1.1" width="16" data-view-component="true" class="octicon octicon-alert">
    <path d="M6.457 1.047c.659-1.234 2.427-1.234 3.086 0l6.082 11.378A1.75 1.75 0 0 1 14.082 15H1.918a1.75 1.75 0 0 1-1.543-2.575Zm1.763.707a.25.25 0 0 0-.44 0L1.698 13.132a.25.25 0 0 0 .22.368h12.164a.25.25 0 0 0 .22-.368Zm.53 3.996v2.5a.75.75 0 0 1-1.5 0v-2.5a.75.75 0 0 1 1.5 0ZM9 11a1 1 0 1 1-2 0 1 1 0 0 1 2 0Z"></path>
</svg>
          </div>
          <div class="px-2">
            We’ve encountered an error and some results aren't available at this time. Type a new search or try again later.
          </div>
        </command-palette-tip>
        <command-palette-tip class="h4 color-fg-default pl-3 pb-2 pt-3" data-on-empty data-scope-types="*" data-match-mode="[^?]|^$">
          No results matched your search
        </command-palette-tip>

        <div hidden>

            <div data-targets="command-palette-page-stack.localOcticons" data-octicon-id="arrow-right-color-fg-muted">
              <svg height="16" class="octicon octicon-arrow-right color-fg-muted" viewBox="0 0 16 16" version="1.1" width="16" aria-hidden="true"><path d="M8.22 2.97a.75.75 0 0 1 1.06 0l4.25 4.25a.75.75 0 0 1 0 1.06l-4.25 4.25a.751.751 0 0 1-1.042-.018.751.751 0 0 1-.018-1.042l2.97-2.97H3.75a.75.75 0 0 1 0-1.5h7.44L8.22 4.03a.75.75 0 0 1 0-1.06Z"></path></svg>
            </div>
            <div data-targets="command-palette-page-stack.localOcticons" data-octicon-id="arrow-right-color-fg-default">
              <svg height="16" class="octicon octicon-arrow-right color-fg-default" viewBox="0 0 16 16" version="1.1" width="16" aria-hidden="true"><path d="M8.22 2.97a.75.75 0 0 1 1.06 0l4.25 4.25a.75.75 0 0 1 0 1.06l-4.25 4.25a.751.751 0 0 1-1.042-.018.751.751 0 0 1-.018-1.042l2.97-2.97H3.75a.75.75 0 0 1 0-1.5h7.44L8.22 4.03a.75.75 0 0 1 0-1.06Z"></path></svg>
            </div>
            <div data-targets="command-palette-page-stack.localOcticons" data-octicon-id="codespaces-color-fg-muted">
              <svg height="16" class="octicon octicon-codespaces color-fg-muted" viewBox="0 0 16 16" version="1.1" width="16" aria-hidden="true"><path d="M0 11.25c0-.966.784-1.75 1.75-1.75h12.5c.966 0 1.75.784 1.75 1.75v3A1.75 1.75 0 0 1 14.25 16H1.75A1.75 1.75 0 0 1 0 14.25Zm2-9.5C2 .784 2.784 0 3.75 0h8.5C13.216 0 14 .784 14 1.75v5a1.75 1.75 0 0 1-1.75 1.75h-8.5A1.75 1.75 0 0 1 2 6.75Zm1.75-.25a.25.25 0 0 0-.25.25v5c0 .138.112.25.25.25h8.5a.25.25 0 0 0 .25-.25v-5a.25.25 0 0 0-.25-.25Zm-2 9.5a.25.25 0 0 0-.25.25v3c0 .138.112.25.25.25h12.5a.25.25 0 0 0 .25-.25v-3a.25.25 0 0 0-.25-.25Z"></path><path d="M7 12.75a.75.75 0 0 1 .75-.75h4.5a.75.75 0 0 1 0 1.5h-4.5a.75.75 0 0 1-.75-.75Zm-4 0a.75.75 0 0 1 .75-.75h.5a.75.75 0 0 1 0 1.5h-.5a.75.75 0 0 1-.75-.75Z"></path></svg>
            </div>
            <div data-targets="command-palette-page-stack.localOcticons" data-octicon-id="copy-color-fg-muted">
              <svg height="16" class="octicon octicon-copy color-fg-muted" viewBox="0 0 16 16" version="1.1" width="16" aria-hidden="true"><path d="M0 6.75C0 5.784.784 5 1.75 5h1.5a.75.75 0 0 1 0 1.5h-1.5a.25.25 0 0 0-.25.25v7.5c0 .138.112.25.25.25h7.5a.25.25 0 0 0 .25-.25v-1.5a.75.75 0 0 1 1.5 0v1.5A1.75 1.75 0 0 1 9.25 16h-7.5A1.75 1.75 0 0 1 0 14.25Z"></path><path d="M5 1.75C5 .784 5.784 0 6.75 0h7.5C15.216 0 16 .784 16 1.75v7.5A1.75 1.75 0 0 1 14.25 11h-7.5A1.75 1.75 0 0 1 5 9.25Zm1.75-.25a.25.25 0 0 0-.25.25v7.5c0 .138.112.25.25.25h7.5a.25.25 0 0 0 .25-.25v-7.5a.25.25 0 0 0-.25-.25Z"></path></svg>
            </div>
            <div data-targets="command-palette-page-stack.localOcticons" data-octicon-id="dash-color-fg-muted">
              <svg height="16" class="octicon octicon-dash color-fg-muted" viewBox="0 0 16 16" version="1.1" width="16" aria-hidden="true"><path d="M2 7.75A.75.75 0 0 1 2.75 7h10a.75.75 0 0 1 0 1.5h-10A.75.75 0 0 1 2 7.75Z"></path></svg>
            </div>
            <div data-targets="command-palette-page-stack.localOcticons" data-octicon-id="file-color-fg-muted">
              <svg height="16" class="octicon octicon-file color-fg-muted" viewBox="0 0 16 16" version="1.1" width="16" aria-hidden="true"><path d="M2 1.75C2 .784 2.784 0 3.75 0h6.586c.464 0 .909.184 1.237.513l2.914 2.914c.329.328.513.773.513 1.237v9.586A1.75 1.75 0 0 1 13.25 16h-9.5A1.75 1.75 0 0 1 2 14.25Zm1.75-.25a.25.25 0 0 0-.25.25v12.5c0 .138.112.25.25.25h9.5a.25.25 0 0 0 .25-.25V6h-2.75A1.75 1.75 0 0 1 9 4.25V1.5Zm6.75.062V4.25c0 .138.112.25.25.25h2.688l-.011-.013-2.914-2.914-.013-.011Z"></path></svg>
            </div>
            <div data-targets="command-palette-page-stack.localOcticons" data-octicon-id="gear-color-fg-muted">
              <svg height="16" class="octicon octicon-gear color-fg-muted" viewBox="0 0 16 16" version="1.1" width="16" aria-hidden="true"><path d="M8 0a8.2 8.2 0 0 1 .701.031C9.444.095 9.99.645 10.16 1.29l.288 1.107c.018.066.079.158.212.224.231.114.454.243.668.386.123.082.233.09.299.071l1.103-.303c.644-.176 1.392.021 1.82.63.27.385.506.792.704 1.218.315.675.111 1.422-.364 1.891l-.814.806c-.049.048-.098.147-.088.294.016.257.016.515 0 .772-.01.147.038.246.088.294l.814.806c.475.469.679 1.216.364 1.891a7.977 7.977 0 0 1-.704 1.217c-.428.61-1.176.807-1.82.63l-1.102-.302c-.067-.019-.177-.011-.3.071a5.909 5.909 0 0 1-.668.386c-.133.066-.194.158-.211.224l-.29 1.106c-.168.646-.715 1.196-1.458 1.26a8.006 8.006 0 0 1-1.402 0c-.743-.064-1.289-.614-1.458-1.26l-.289-1.106c-.018-.066-.079-.158-.212-.224a5.738 5.738 0 0 1-.668-.386c-.123-.082-.233-.09-.299-.071l-1.103.303c-.644.176-1.392-.021-1.82-.63a8.12 8.12 0 0 1-.704-1.218c-.315-.675-.111-1.422.363-1.891l.815-.806c.05-.048.098-.147.088-.294a6.214 6.214 0 0 1 0-.772c.01-.147-.038-.246-.088-.294l-.815-.806C.635 6.045.431 5.298.746 4.623a7.92 7.92 0 0 1 .704-1.217c.428-.61 1.176-.807 1.82-.63l1.102.302c.067.019.177.011.3-.071.214-.143.437-.272.668-.386.133-.066.194-.158.211-.224l.29-1.106C6.009.645 6.556.095 7.299.03 7.53.01 7.764 0 8 0Zm-.571 1.525c-.036.003-.108.036-.137.146l-.289 1.105c-.147.561-.549.967-.998 1.189-.173.086-.34.183-.5.29-.417.278-.97.423-1.529.27l-1.103-.303c-.109-.03-.175.016-.195.045-.22.312-.412.644-.573.99-.014.031-.021.11.059.19l.815.806c.411.406.562.957.53 1.456a4.709 4.709 0 0 0 0 .582c.032.499-.119 1.05-.53 1.456l-.815.806c-.081.08-.073.159-.059.19.162.346.353.677.573.989.02.03.085.076.195.046l1.102-.303c.56-.153 1.113-.008 1.53.27.161.107.328.204.501.29.447.222.85.629.997 1.189l.289 1.105c.029.109.101.143.137.146a6.6 6.6 0 0 0 1.142 0c.036-.003.108-.036.137-.146l.289-1.105c.147-.561.549-.967.998-1.189.173-.086.34-.183.5-.29.417-.278.97-.423 1.529-.27l1.103.303c.109.029.175-.016.195-.045.22-.313.411-.644.573-.99.014-.031.021-.11-.059-.19l-.815-.806c-.411-.406-.562-.957-.53-1.456a4.709 4.709 0 0 0 0-.582c-.032-.499.119-1.05.53-1.456l.815-.806c.081-.08.073-.159.059-.19a6.464 6.464 0 0 0-.573-.989c-.02-.03-.085-.076-.195-.046l-1.102.303c-.56.153-1.113.008-1.53-.27a4.44 4.44 0 0 0-.501-.29c-.447-.222-.85-.629-.997-1.189l-.289-1.105c-.029-.11-.101-.143-.137-.146a6.6 6.6 0 0 0-1.142 0ZM11 8a3 3 0 1 1-6 0 3 3 0 0 1 6 0ZM9.5 8a1.5 1.5 0 1 0-3.001.001A1.5 1.5 0 0 0 9.5 8Z"></path></svg>
            </div>
            <div data-targets="command-palette-page-stack.localOcticons" data-octicon-id="lock-color-fg-muted">
              <svg height="16" class="octicon octicon-lock color-fg-muted" viewBox="0 0 16 16" version="1.1" width="16" aria-hidden="true"><path d="M4 4a4 4 0 0 1 8 0v2h.25c.966 0 1.75.784 1.75 1.75v5.5A1.75 1.75 0 0 1 12.25 15h-8.5A1.75 1.75 0 0 1 2 13.25v-5.5C2 6.784 2.784 6 3.75 6H4Zm8.25 3.5h-8.5a.25.25 0 0 0-.25.25v5.5c0 .138.112.25.25.25h8.5a.25.25 0 0 0 .25-.25v-5.5a.25.25 0 0 0-.25-.25ZM10.5 6V4a2.5 2.5 0 1 0-5 0v2Z"></path></svg>
            </div>
            <div data-targets="command-palette-page-stack.localOcticons" data-octicon-id="moon-color-fg-muted">
              <svg height="16" class="octicon octicon-moon color-fg-muted" viewBox="0 0 16 16" version="1.1" width="16" aria-hidden="true"><path d="M9.598 1.591a.749.749 0 0 1 .785-.175 7.001 7.001 0 1 1-8.967 8.967.75.75 0 0 1 .961-.96 5.5 5.5 0 0 0 7.046-7.046.75.75 0 0 1 .175-.786Zm1.616 1.945a7 7 0 0 1-7.678 7.678 5.499 5.499 0 1 0 7.678-7.678Z"></path></svg>
            </div>
            <div data-targets="command-palette-page-stack.localOcticons" data-octicon-id="person-color-fg-muted">
              <svg height="16" class="octicon octicon-person color-fg-muted" viewBox="0 0 16 16" version="1.1" width="16" aria-hidden="true"><path d="M10.561 8.073a6.005 6.005 0 0 1 3.432 5.142.75.75 0 1 1-1.498.07 4.5 4.5 0 0 0-8.99 0 .75.75 0 0 1-1.498-.07 6.004 6.004 0 0 1 3.431-5.142 3.999 3.999 0 1 1 5.123 0ZM10.5 5a2.5 2.5 0 1 0-5 0 2.5 2.5 0 0 0 5 0Z"></path></svg>
            </div>
            <div data-targets="command-palette-page-stack.localOcticons" data-octicon-id="pencil-color-fg-muted">
              <svg height="16" class="octicon octicon-pencil color-fg-muted" viewBox="0 0 16 16" version="1.1" width="16" aria-hidden="true"><path d="M11.013 1.427a1.75 1.75 0 0 1 2.474 0l1.086 1.086a1.75 1.75 0 0 1 0 2.474l-8.61 8.61c-.21.21-.47.364-.756.445l-3.251.93a.75.75 0 0 1-.927-.928l.929-3.25c.081-.286.235-.547.445-.758l8.61-8.61Zm.176 4.823L9.75 4.81l-6.286 6.287a.253.253 0 0 0-.064.108l-.558 1.953 1.953-.558a.253.253 0 0 0 .108-.064Zm1.238-3.763a.25.25 0 0 0-.354 0L10.811 3.75l1.439 1.44 1.263-1.263a.25.25 0 0 0 0-.354Z"></path></svg>
            </div>
            <div data-targets="command-palette-page-stack.localOcticons" data-octicon-id="issue-opened-open">
              <svg height="16" class="octicon octicon-issue-opened open" viewBox="0 0 16 16" version="1.1" width="16" aria-hidden="true"><path d="M8 9.5a1.5 1.5 0 1 0 0-3 1.5 1.5 0 0 0 0 3Z"></path><path d="M8 0a8 8 0 1 1 0 16A8 8 0 0 1 8 0ZM1.5 8a6.5 6.5 0 1 0 13 0 6.5 6.5 0 0 0-13 0Z"></path></svg>
            </div>
            <div data-targets="command-palette-page-stack.localOcticons" data-octicon-id="git-pull-request-draft-color-fg-muted">
              <svg height="16" class="octicon octicon-git-pull-request-draft color-fg-muted" viewBox="0 0 16 16" version="1.1" width="16" aria-hidden="true"><path d="M3.25 1A2.25 2.25 0 0 1 4 5.372v5.256a2.251 2.251 0 1 1-1.5 0V5.372A2.251 2.251 0 0 1 3.25 1Zm9.5 14a2.25 2.25 0 1 1 0-4.5 2.25 2.25 0 0 1 0 4.5ZM2.5 3.25a.75.75 0 1 0 1.5 0 .75.75 0 0 0-1.5 0ZM3.25 12a.75.75 0 1 0 0 1.5.75.75 0 0 0 0-1.5Zm9.5 0a.75.75 0 1 0 0 1.5.75.75 0 0 0 0-1.5ZM14 7.5a1.25 1.25 0 1 1-2.5 0 1.25 1.25 0 0 1 2.5 0Zm0-4.25a1.25 1.25 0 1 1-2.5 0 1.25 1.25 0 0 1 2.5 0Z"></path></svg>
            </div>
            <div data-targets="command-palette-page-stack.localOcticons" data-octicon-id="search-color-fg-muted">
              <svg height="16" class="octicon octicon-search color-fg-muted" viewBox="0 0 16 16" version="1.1" width="16" aria-hidden="true"><path d="M10.68 11.74a6 6 0 0 1-7.922-8.982 6 6 0 0 1 8.982 7.922l3.04 3.04a.749.749 0 0 1-.326 1.275.749.749 0 0 1-.734-.215ZM11.5 7a4.499 4.499 0 1 0-8.997 0A4.499 4.499 0 0 0 11.5 7Z"></path></svg>
            </div>
            <div data-targets="command-palette-page-stack.localOcticons" data-octicon-id="sun-color-fg-muted">
              <svg height="16" class="octicon octicon-sun color-fg-muted" viewBox="0 0 16 16" version="1.1" width="16" aria-hidden="true"><path d="M8 12a4 4 0 1 1 0-8 4 4 0 0 1 0 8Zm0-1.5a2.5 2.5 0 1 0 0-5 2.5 2.5 0 0 0 0 5Zm5.657-8.157a.75.75 0 0 1 0 1.061l-1.061 1.06a.749.749 0 0 1-1.275-.326.749.749 0 0 1 .215-.734l1.06-1.06a.75.75 0 0 1 1.06 0Zm-9.193 9.193a.75.75 0 0 1 0 1.06l-1.06 1.061a.75.75 0 1 1-1.061-1.06l1.06-1.061a.75.75 0 0 1 1.061 0ZM8 0a.75.75 0 0 1 .75.75v1.5a.75.75 0 0 1-1.5 0V.75A.75.75 0 0 1 8 0ZM3 8a.75.75 0 0 1-.75.75H.75a.75.75 0 0 1 0-1.5h1.5A.75.75 0 0 1 3 8Zm13 0a.75.75 0 0 1-.75.75h-1.5a.75.75 0 0 1 0-1.5h1.5A.75.75 0 0 1 16 8Zm-8 5a.75.75 0 0 1 .75.75v1.5a.75.75 0 0 1-1.5 0v-1.5A.75.75 0 0 1 8 13Zm3.536-1.464a.75.75 0 0 1 1.06 0l1.061 1.06a.75.75 0 0 1-1.06 1.061l-1.061-1.06a.75.75 0 0 1 0-1.061ZM2.343 2.343a.75.75 0 0 1 1.061 0l1.06 1.061a.751.751 0 0 1-.018 1.042.751.751 0 0 1-1.042.018l-1.06-1.06a.75.75 0 0 1 0-1.06Z"></path></svg>
            </div>
            <div data-targets="command-palette-page-stack.localOcticons" data-octicon-id="sync-color-fg-muted">
              <svg height="16" class="octicon octicon-sync color-fg-muted" viewBox="0 0 16 16" version="1.1" width="16" aria-hidden="true"><path d="M1.705 8.005a.75.75 0 0 1 .834.656 5.5 5.5 0 0 0 9.592 2.97l-1.204-1.204a.25.25 0 0 1 .177-.427h3.646a.25.25 0 0 1 .25.25v3.646a.25.25 0 0 1-.427.177l-1.38-1.38A7.002 7.002 0 0 1 1.05 8.84a.75.75 0 0 1 .656-.834ZM8 2.5a5.487 5.487 0 0 0-4.131 1.869l1.204 1.204A.25.25 0 0 1 4.896 6H1.25A.25.25 0 0 1 1 5.75V2.104a.25.25 0 0 1 .427-.177l1.38 1.38A7.002 7.002 0 0 1 14.95 7.16a.75.75 0 0 1-1.49.178A5.5 5.5 0 0 0 8 2.5Z"></path></svg>
            </div>
            <div data-targets="command-palette-page-stack.localOcticons" data-octicon-id="trash-color-fg-muted">
              <svg height="16" class="octicon octicon-trash color-fg-muted" viewBox="0 0 16 16" version="1.1" width="16" aria-hidden="true"><path d="M11 1.75V3h2.25a.75.75 0 0 1 0 1.5H2.75a.75.75 0 0 1 0-1.5H5V1.75C5 .784 5.784 0 6.75 0h2.5C10.216 0 11 .784 11 1.75ZM4.496 6.675l.66 6.6a.25.25 0 0 0 .249.225h5.19a.25.25 0 0 0 .249-.225l.66-6.6a.75.75 0 0 1 1.492.149l-.66 6.6A1.748 1.748 0 0 1 10.595 15h-5.19a1.75 1.75 0 0 1-1.741-1.575l-.66-6.6a.75.75 0 1 1 1.492-.15ZM6.5 1.75V3h3V1.75a.25.25 0 0 0-.25-.25h-2.5a.25.25 0 0 0-.25.25Z"></path></svg>
            </div>
            <div data-targets="command-palette-page-stack.localOcticons" data-octicon-id="key-color-fg-muted">
              <svg height="16" class="octicon octicon-key color-fg-muted" viewBox="0 0 16 16" version="1.1" width="16" aria-hidden="true"><path d="M10.5 0a5.499 5.499 0 1 1-1.288 10.848l-.932.932a.749.749 0 0 1-.53.22H7v.75a.749.749 0 0 1-.22.53l-.5.5a.749.749 0 0 1-.53.22H5v.75a.749.749 0 0 1-.22.53l-.5.5a.749.749 0 0 1-.53.22h-2A1.75 1.75 0 0 1 0 14.25v-2c0-.199.079-.389.22-.53l4.932-4.932A5.5 5.5 0 0 1 10.5 0Zm-4 5.5c-.001.431.069.86.205 1.269a.75.75 0 0 1-.181.768L1.5 12.56v1.69c0 .138.112.25.25.25h1.69l.06-.06v-1.19a.75.75 0 0 1 .75-.75h1.19l.06-.06v-1.19a.75.75 0 0 1 .75-.75h1.19l1.023-1.025a.75.75 0 0 1 .768-.18A4 4 0 1 0 6.5 5.5ZM11 6a1 1 0 1 1 0-2 1 1 0 0 1 0 2Z"></path></svg>
            </div>
            <div data-targets="command-palette-page-stack.localOcticons" data-octicon-id="comment-discussion-color-fg-muted">
              <svg height="16" class="octicon octicon-comment-discussion color-fg-muted" viewBox="0 0 16 16" version="1.1" width="16" aria-hidden="true"><path d="M1.75 1h8.5c.966 0 1.75.784 1.75 1.75v5.5A1.75 1.75 0 0 1 10.25 10H7.061l-2.574 2.573A1.458 1.458 0 0 1 2 11.543V10h-.25A1.75 1.75 0 0 1 0 8.25v-5.5C0 1.784.784 1 1.75 1ZM1.5 2.75v5.5c0 .138.112.25.25.25h1a.75.75 0 0 1 .75.75v2.19l2.72-2.72a.749.749 0 0 1 .53-.22h3.5a.25.25 0 0 0 .25-.25v-5.5a.25.25 0 0 0-.25-.25h-8.5a.25.25 0 0 0-.25.25Zm13 2a.25.25 0 0 0-.25-.25h-.5a.75.75 0 0 1 0-1.5h.5c.966 0 1.75.784 1.75 1.75v5.5A1.75 1.75 0 0 1 14.25 12H14v1.543a1.458 1.458 0 0 1-2.487 1.03L9.22 12.28a.749.749 0 0 1 .326-1.275.749.749 0 0 1 .734.215l2.22 2.22v-2.19a.75.75 0 0 1 .75-.75h1a.25.25 0 0 0 .25-.25Z"></path></svg>
            </div>
            <div data-targets="command-palette-page-stack.localOcticons" data-octicon-id="bell-color-fg-muted">
              <svg height="16" class="octicon octicon-bell color-fg-muted" viewBox="0 0 16 16" version="1.1" width="16" aria-hidden="true"><path d="M8 16a2 2 0 0 0 1.985-1.75c.017-.137-.097-.25-.235-.25h-3.5c-.138 0-.252.113-.235.25A2 2 0 0 0 8 16ZM3 5a5 5 0 0 1 10 0v2.947c0 .05.015.098.042.139l1.703 2.555A1.519 1.519 0 0 1 13.482 13H2.518a1.516 1.516 0 0 1-1.263-2.36l1.703-2.554A.255.255 0 0 0 3 7.947Zm5-3.5A3.5 3.5 0 0 0 4.5 5v2.947c0 .346-.102.683-.294.97l-1.703 2.556a.017.017 0 0 0-.003.01l.001.006c0 .002.002.004.004.006l.006.004.007.001h10.964l.007-.001.006-.004.004-.006.001-.007a.017.017 0 0 0-.003-.01l-1.703-2.554a1.745 1.745 0 0 1-.294-.97V5A3.5 3.5 0 0 0 8 1.5Z"></path></svg>
            </div>
            <div data-targets="command-palette-page-stack.localOcticons" data-octicon-id="bell-slash-color-fg-muted">
              <svg height="16" class="octicon octicon-bell-slash color-fg-muted" viewBox="0 0 16 16" version="1.1" width="16" aria-hidden="true"><path d="m4.182 4.31.016.011 10.104 7.316.013.01 1.375.996a.75.75 0 1 1-.88 1.214L13.626 13H2.518a1.516 1.516 0 0 1-1.263-2.36l1.703-2.554A.255.255 0 0 0 3 7.947V5.305L.31 3.357a.75.75 0 1 1 .88-1.214Zm7.373 7.19L4.5 6.391v1.556c0 .346-.102.683-.294.97l-1.703 2.556a.017.017 0 0 0-.003.01c0 .005.002.009.005.012l.006.004.007.001ZM8 1.5c-.997 0-1.895.416-2.534 1.086A.75.75 0 1 1 4.38 1.55 5 5 0 0 1 13 5v2.373a.75.75 0 0 1-1.5 0V5A3.5 3.5 0 0 0 8 1.5ZM8 16a2 2 0 0 1-1.985-1.75c-.017-.137.097-.25.235-.25h3.5c.138 0 .252.113.235.25A2 2 0 0 1 8 16Z"></path></svg>
            </div>
            <div data-targets="command-palette-page-stack.localOcticons" data-octicon-id="paintbrush-color-fg-muted">
              <svg height="16" class="octicon octicon-paintbrush color-fg-muted" viewBox="0 0 16 16" version="1.1" width="16" aria-hidden="true"><path d="M11.134 1.535c.7-.509 1.416-.942 2.076-1.155.649-.21 1.463-.267 2.069.34.603.601.568 1.411.368 2.07-.202.668-.624 1.39-1.125 2.096-1.011 1.424-2.496 2.987-3.775 4.249-1.098 1.084-2.132 1.839-3.04 2.3a3.744 3.744 0 0 1-1.055 3.217c-.431.431-1.065.691-1.657.861-.614.177-1.294.287-1.914.357A21.151 21.151 0 0 1 .797 16H.743l.007-.75H.749L.742 16a.75.75 0 0 1-.743-.742l.743-.008-.742.007v-.054a21.25 21.25 0 0 1 .13-2.284c.067-.647.187-1.287.358-1.914.17-.591.43-1.226.86-1.657a3.746 3.746 0 0 1 3.227-1.054c.466-.893 1.225-1.907 2.314-2.982 1.271-1.255 2.833-2.75 4.245-3.777ZM1.62 13.089c-.051.464-.086.929-.104 1.395.466-.018.932-.053 1.396-.104a10.511 10.511 0 0 0 1.668-.309c.526-.151.856-.325 1.011-.48a2.25 2.25 0 1 0-3.182-3.182c-.155.155-.329.485-.48 1.01a10.515 10.515 0 0 0-.309 1.67Zm10.396-10.34c-1.224.89-2.605 2.189-3.822 3.384l1.718 1.718c1.21-1.205 2.51-2.597 3.387-3.833.47-.662.78-1.227.912-1.662.134-.444.032-.551.009-.575h-.001V1.78c-.014-.014-.113-.113-.548.027-.432.14-.995.462-1.655.942Zm-4.832 7.266-.001.001a9.859 9.859 0 0 0 1.63-1.142L7.155 7.216a9.7 9.7 0 0 0-1.161 1.607c.482.302.889.71 1.19 1.192Z"></path></svg>
            </div>

            <command-palette-item-group
              data-group-id="top"
              data-group-title="Top result"
              data-group-hint=""
              data-group-limits="{}"
              data-default-priority="0"
            >
            </command-palette-item-group>
            <command-palette-item-group
              data-group-id="commands"
              data-group-title="Commands"
              data-group-hint="Type &gt; to filter"
              data-group-limits="{&quot;static_items_page&quot;:50,&quot;issue&quot;:50,&quot;pull_request&quot;:50,&quot;discussion&quot;:50}"
              data-default-priority="1"
            >
            </command-palette-item-group>
            <command-palette-item-group
              data-group-id="global_commands"
              data-group-title="Global Commands"
              data-group-hint="Type &gt; to filter"
              data-group-limits="{&quot;issue&quot;:0,&quot;pull_request&quot;:0,&quot;discussion&quot;:0}"
              data-default-priority="2"
            >
            </command-palette-item-group>
            <command-palette-item-group
              data-group-id="this_page"
              data-group-title="This Page"
              data-group-hint=""
              data-group-limits="{}"
              data-default-priority="3"
            >
            </command-palette-item-group>
            <command-palette-item-group
              data-group-id="files"
              data-group-title="Files"
              data-group-hint=""
              data-group-limits="{}"
              data-default-priority="4"
            >
            </command-palette-item-group>
            <command-palette-item-group
              data-group-id="default"
              data-group-title="Default"
              data-group-hint=""
              data-group-limits="{&quot;static_items_page&quot;:50}"
              data-default-priority="5"
            >
            </command-palette-item-group>
            <command-palette-item-group
              data-group-id="pages"
              data-group-title="Pages"
              data-group-hint=""
              data-group-limits="{&quot;repository&quot;:10}"
              data-default-priority="6"
            >
            </command-palette-item-group>
            <command-palette-item-group
              data-group-id="access_policies"
              data-group-title="Access Policies"
              data-group-hint=""
              data-group-limits="{}"
              data-default-priority="7"
            >
            </command-palette-item-group>
            <command-palette-item-group
              data-group-id="organizations"
              data-group-title="Organizations"
              data-group-hint=""
              data-group-limits="{}"
              data-default-priority="8"
            >
            </command-palette-item-group>
            <command-palette-item-group
              data-group-id="repositories"
              data-group-title="Repositories"
              data-group-hint=""
              data-group-limits="{}"
              data-default-priority="9"
            >
            </command-palette-item-group>
            <command-palette-item-group
              data-group-id="references"
              data-group-title="Issues, pull requests, and discussions"
              data-group-hint="Type # to filter"
              data-group-limits="{}"
              data-default-priority="10"
            >
            </command-palette-item-group>
            <command-palette-item-group
              data-group-id="teams"
              data-group-title="Teams"
              data-group-hint=""
              data-group-limits="{}"
              data-default-priority="11"
            >
            </command-palette-item-group>
            <command-palette-item-group
              data-group-id="users"
              data-group-title="Users"
              data-group-hint=""
              data-group-limits="{}"
              data-default-priority="12"
            >
            </command-palette-item-group>
            <command-palette-item-group
              data-group-id="memex_projects"
              data-group-title="Projects"
              data-group-hint=""
              data-group-limits="{}"
              data-default-priority="13"
            >
            </command-palette-item-group>
            <command-palette-item-group
              data-group-id="projects"
              data-group-title="Projects (classic)"
              data-group-hint=""
              data-group-limits="{}"
              data-default-priority="14"
            >
            </command-palette-item-group>
            <command-palette-item-group
              data-group-id="footer"
              data-group-title="Footer"
              data-group-hint=""
              data-group-limits="{}"
              data-default-priority="15"
            >
            </command-palette-item-group>
            <command-palette-item-group
              data-group-id="modes_help"
              data-group-title="Modes"
              data-group-hint=""
              data-group-limits="{}"
              data-default-priority="16"
            >
            </command-palette-item-group>
            <command-palette-item-group
              data-group-id="filters_help"
              data-group-title="Use filters in issues, pull requests, discussions, and projects"
              data-group-hint=""
              data-group-limits="{}"
              data-default-priority="17"
            >
            </command-palette-item-group>

            <command-palette-page
              data-page-title="Arunima-Singh"
              data-scope-id="MDQ6VXNlcjI1ODY2MzAx"
              data-scope-type="owner"
              data-targets="command-palette-page-stack.defaultPages"
              hidden
            >
            </command-palette-page>
            <command-palette-page
              data-page-title="StockPrediction"
              data-scope-id="R_kgDOH-h7Ug"
              data-scope-type="repository"
              data-targets="command-palette-page-stack.defaultPages"
              hidden
            >
            </command-palette-page>
        </div>

        <command-palette-page data-is-root>
        </command-palette-page>
          <command-palette-page
            data-page-title="Arunima-Singh"
            data-scope-id="MDQ6VXNlcjI1ODY2MzAx"
            data-scope-type="owner"
          >
          </command-palette-page>
          <command-palette-page
            data-page-title="StockPrediction"
            data-scope-id="R_kgDOH-h7Ug"
            data-scope-type="repository"
          >
          </command-palette-page>
      </command-palette-page-stack>

      <server-defined-provider data-type="search-links" data-targets="command-palette.serverDefinedProviderElements"></server-defined-provider>
      <server-defined-provider data-type="help" data-targets="command-palette.serverDefinedProviderElements">
          <command-palette-help
            data-group="modes_help"
              data-prefix="#"
              data-scope-types="[&quot;&quot;]"
          >
            <span data-target="command-palette-help.titleElement">Search for <strong>issues</strong> and <strong>pull requests</strong></span>
              <span data-target="command-palette-help.hintElement">
                <kbd class="hx_kbd">#</kbd>
              </span>
          </command-palette-help>
          <command-palette-help
            data-group="modes_help"
              data-prefix="#"
              data-scope-types="[&quot;owner&quot;,&quot;repository&quot;]"
          >
            <span data-target="command-palette-help.titleElement">Search for <strong>issues, pull requests, discussions,</strong> and <strong>projects</strong></span>
              <span data-target="command-palette-help.hintElement">
                <kbd class="hx_kbd">#</kbd>
              </span>
          </command-palette-help>
          <command-palette-help
            data-group="modes_help"
              data-prefix="@"
              data-scope-types="[&quot;&quot;]"
          >
            <span data-target="command-palette-help.titleElement">Search for <strong>organizations, repositories,</strong> and <strong>users</strong></span>
              <span data-target="command-palette-help.hintElement">
                <kbd class="hx_kbd">@</kbd>
              </span>
          </command-palette-help>
          <command-palette-help
            data-group="modes_help"
              data-prefix="!"
              data-scope-types="[&quot;owner&quot;,&quot;repository&quot;]"
          >
            <span data-target="command-palette-help.titleElement">Search for <strong>projects</strong></span>
              <span data-target="command-palette-help.hintElement">
                <kbd class="hx_kbd">!</kbd>
              </span>
          </command-palette-help>
          <command-palette-help
            data-group="modes_help"
              data-prefix="/"
              data-scope-types="[&quot;repository&quot;]"
          >
            <span data-target="command-palette-help.titleElement">Search for <strong>files</strong></span>
              <span data-target="command-palette-help.hintElement">
                <kbd class="hx_kbd">/</kbd>
              </span>
          </command-palette-help>
          <command-palette-help
            data-group="modes_help"
              data-prefix="&gt;"
          >
            <span data-target="command-palette-help.titleElement">Activate <strong>command mode</strong></span>
              <span data-target="command-palette-help.hintElement">
                <kbd class="hx_kbd">&gt;</kbd>
              </span>
          </command-palette-help>
          <command-palette-help
            data-group="filters_help"
              data-prefix="# author:@me"
          >
            <span data-target="command-palette-help.titleElement">Search your issues, pull requests, and discussions</span>
              <span data-target="command-palette-help.hintElement">
                <kbd class="hx_kbd"># author:@me</kbd>
              </span>
          </command-palette-help>
          <command-palette-help
            data-group="filters_help"
              data-prefix="# author:@me"
          >
            <span data-target="command-palette-help.titleElement">Search your issues, pull requests, and discussions</span>
              <span data-target="command-palette-help.hintElement">
                <kbd class="hx_kbd"># author:@me</kbd>
              </span>
          </command-palette-help>
          <command-palette-help
            data-group="filters_help"
              data-prefix="# is:pr"
          >
            <span data-target="command-palette-help.titleElement">Filter to pull requests</span>
              <span data-target="command-palette-help.hintElement">
                <kbd class="hx_kbd"># is:pr</kbd>
              </span>
          </command-palette-help>
          <command-palette-help
            data-group="filters_help"
              data-prefix="# is:issue"
          >
            <span data-target="command-palette-help.titleElement">Filter to issues</span>
              <span data-target="command-palette-help.hintElement">
                <kbd class="hx_kbd"># is:issue</kbd>
              </span>
          </command-palette-help>
          <command-palette-help
            data-group="filters_help"
              data-prefix="# is:discussion"
              data-scope-types="[&quot;owner&quot;,&quot;repository&quot;]"
          >
            <span data-target="command-palette-help.titleElement">Filter to discussions</span>
              <span data-target="command-palette-help.hintElement">
                <kbd class="hx_kbd"># is:discussion</kbd>
              </span>
          </command-palette-help>
          <command-palette-help
            data-group="filters_help"
              data-prefix="# is:project"
              data-scope-types="[&quot;owner&quot;,&quot;repository&quot;]"
          >
            <span data-target="command-palette-help.titleElement">Filter to projects</span>
              <span data-target="command-palette-help.hintElement">
                <kbd class="hx_kbd"># is:project</kbd>
              </span>
          </command-palette-help>
          <command-palette-help
            data-group="filters_help"
              data-prefix="# is:open"
          >
            <span data-target="command-palette-help.titleElement">Filter to open issues, pull requests, and discussions</span>
              <span data-target="command-palette-help.hintElement">
                <kbd class="hx_kbd"># is:open</kbd>
              </span>
          </command-palette-help>
      </server-defined-provider>

        <server-defined-provider
          data-type="commands"
          data-fetch-debounce="0"
            data-src="/command_palette/commands"
          data-supported-modes="[]"
            data-supports-commands
          
          data-targets="command-palette.serverDefinedProviderElements"
          ></server-defined-provider>
        <server-defined-provider
          data-type="prefetched"
          data-fetch-debounce="0"
            data-src="/command_palette/jump_to_page_navigation"
          data-supported-modes="[&quot;&quot;]"
            data-supported-scope-types="[&quot;&quot;,&quot;owner&quot;,&quot;repository&quot;]"
          
          data-targets="command-palette.serverDefinedProviderElements"
          ></server-defined-provider>
        <server-defined-provider
          data-type="remote"
          data-fetch-debounce="200"
            data-src="/command_palette/issues"
          data-supported-modes="[&quot;#&quot;,&quot;#&quot;]"
            data-supported-scope-types="[&quot;owner&quot;,&quot;repository&quot;,&quot;&quot;]"
          
          data-targets="command-palette.serverDefinedProviderElements"
          ></server-defined-provider>
        <server-defined-provider
          data-type="remote"
          data-fetch-debounce="200"
            data-src="/command_palette/jump_to"
          data-supported-modes="[&quot;@&quot;,&quot;@&quot;]"
            data-supported-scope-types="[&quot;&quot;,&quot;owner&quot;]"
          
          data-targets="command-palette.serverDefinedProviderElements"
          ></server-defined-provider>
        <server-defined-provider
          data-type="remote"
          data-fetch-debounce="200"
            data-src="/command_palette/jump_to_members_only"
          data-supported-modes="[&quot;@&quot;,&quot;@&quot;,&quot;&quot;,&quot;&quot;]"
            data-supported-scope-types="[&quot;&quot;,&quot;owner&quot;]"
          
          data-targets="command-palette.serverDefinedProviderElements"
          ></server-defined-provider>
        <server-defined-provider
          data-type="prefetched"
          data-fetch-debounce="0"
            data-src="/command_palette/jump_to_members_only_prefetched"
          data-supported-modes="[&quot;@&quot;,&quot;@&quot;,&quot;&quot;,&quot;&quot;]"
            data-supported-scope-types="[&quot;&quot;,&quot;owner&quot;]"
          
          data-targets="command-palette.serverDefinedProviderElements"
          ></server-defined-provider>
        <server-defined-provider
          data-type="files"
          data-fetch-debounce="0"
            data-src="/command_palette/files"
          data-supported-modes="[&quot;/&quot;]"
            data-supported-scope-types="[&quot;repository&quot;]"
          
          data-targets="command-palette.serverDefinedProviderElements"
          ></server-defined-provider>
        <server-defined-provider
          data-type="remote"
          data-fetch-debounce="200"
            data-src="/command_palette/discussions"
          data-supported-modes="[&quot;#&quot;]"
            data-supported-scope-types="[&quot;owner&quot;,&quot;repository&quot;]"
          
          data-targets="command-palette.serverDefinedProviderElements"
          ></server-defined-provider>
        <server-defined-provider
          data-type="remote"
          data-fetch-debounce="200"
            data-src="/command_palette/projects"
          data-supported-modes="[&quot;#&quot;,&quot;!&quot;]"
            data-supported-scope-types="[&quot;owner&quot;,&quot;repository&quot;]"
          
          data-targets="command-palette.serverDefinedProviderElements"
          ></server-defined-provider>
        <server-defined-provider
          data-type="prefetched"
          data-fetch-debounce="0"
            data-src="/command_palette/recent_issues"
          data-supported-modes="[&quot;#&quot;,&quot;#&quot;]"
            data-supported-scope-types="[&quot;owner&quot;,&quot;repository&quot;,&quot;&quot;]"
          
          data-targets="command-palette.serverDefinedProviderElements"
          ></server-defined-provider>
        <server-defined-provider
          data-type="remote"
          data-fetch-debounce="200"
            data-src="/command_palette/teams"
          data-supported-modes="[&quot;@&quot;,&quot;&quot;]"
            data-supported-scope-types="[&quot;owner&quot;]"
          
          data-targets="command-palette.serverDefinedProviderElements"
          ></server-defined-provider>
        <server-defined-provider
          data-type="remote"
          data-fetch-debounce="200"
            data-src="/command_palette/name_with_owner_repository"
          data-supported-modes="[&quot;@&quot;,&quot;@&quot;,&quot;&quot;,&quot;&quot;]"
            data-supported-scope-types="[&quot;&quot;,&quot;owner&quot;]"
          
          data-targets="command-palette.serverDefinedProviderElements"
          ></server-defined-provider>
    </command-palette>
  </details-dialog>
</details>

<div class="position-fixed bottom-0 left-0 ml-5 mb-5 js-command-palette-toasts" style="z-index: 1000">
  <div hidden class="Toast Toast--loading">
    <span class="Toast-icon">
      <svg class="Toast--spinner" viewBox="0 0 32 32" width="18" height="18" aria-hidden="true">
        <path
          fill="#959da5"
          d="M16 0 A16 16 0 0 0 16 32 A16 16 0 0 0 16 0 M16 4 A12 12 0 0 1 16 28 A12 12 0 0 1 16 4"
        />
        <path fill="#ffffff" d="M16 0 A16 16 0 0 1 32 16 L28 16 A12 12 0 0 0 16 4z"></path>
      </svg>
    </span>
    <span class="Toast-content"></span>
  </div>

  <div hidden class="anim-fade-in fast Toast Toast--error">
    <span class="Toast-icon">
      <svg aria-hidden="true" height="16" viewBox="0 0 16 16" version="1.1" width="16" data-view-component="true" class="octicon octicon-stop">
    <path d="M4.47.22A.749.749 0 0 1 5 0h6c.199 0 .389.079.53.22l4.25 4.25c.141.14.22.331.22.53v6a.749.749 0 0 1-.22.53l-4.25 4.25A.749.749 0 0 1 11 16H5a.749.749 0 0 1-.53-.22L.22 11.53A.749.749 0 0 1 0 11V5c0-.199.079-.389.22-.53Zm.84 1.28L1.5 5.31v5.38l3.81 3.81h5.38l3.81-3.81V5.31L10.69 1.5ZM8 4a.75.75 0 0 1 .75.75v3.5a.75.75 0 0 1-1.5 0v-3.5A.75.75 0 0 1 8 4Zm0 8a1 1 0 1 1 0-2 1 1 0 0 1 0 2Z"></path>
</svg>
    </span>
    <span class="Toast-content"></span>
  </div>

  <div hidden class="anim-fade-in fast Toast Toast--warning">
    <span class="Toast-icon">
      <svg aria-hidden="true" height="16" viewBox="0 0 16 16" version="1.1" width="16" data-view-component="true" class="octicon octicon-alert">
    <path d="M6.457 1.047c.659-1.234 2.427-1.234 3.086 0l6.082 11.378A1.75 1.75 0 0 1 14.082 15H1.918a1.75 1.75 0 0 1-1.543-2.575Zm1.763.707a.25.25 0 0 0-.44 0L1.698 13.132a.25.25 0 0 0 .22.368h12.164a.25.25 0 0 0 .22-.368Zm.53 3.996v2.5a.75.75 0 0 1-1.5 0v-2.5a.75.75 0 0 1 1.5 0ZM9 11a1 1 0 1 1-2 0 1 1 0 0 1 2 0Z"></path>
</svg>
    </span>
    <span class="Toast-content"></span>
  </div>


  <div hidden class="anim-fade-in fast Toast Toast--success">
    <span class="Toast-icon">
      <svg aria-hidden="true" height="16" viewBox="0 0 16 16" version="1.1" width="16" data-view-component="true" class="octicon octicon-check">
    <path d="M13.78 4.22a.75.75 0 0 1 0 1.06l-7.25 7.25a.75.75 0 0 1-1.06 0L2.22 9.28a.751.751 0 0 1 .018-1.042.751.751 0 0 1 1.042-.018L6 10.94l6.72-6.72a.75.75 0 0 1 1.06 0Z"></path>
</svg>
    </span>
    <span class="Toast-content"></span>
  </div>

  <div hidden class="anim-fade-in fast Toast">
    <span class="Toast-icon">
      <svg aria-hidden="true" height="16" viewBox="0 0 16 16" version="1.1" width="16" data-view-component="true" class="octicon octicon-info">
    <path d="M0 8a8 8 0 1 1 16 0A8 8 0 0 1 0 8Zm8-6.5a6.5 6.5 0 1 0 0 13 6.5 6.5 0 0 0 0-13ZM6.5 7.75A.75.75 0 0 1 7.25 7h1a.75.75 0 0 1 .75.75v2.75h.25a.75.75 0 0 1 0 1.5h-2a.75.75 0 0 1 0-1.5h.25v-2h-.25a.75.75 0 0 1-.75-.75ZM8 6a1 1 0 1 1 0-2 1 1 0 0 1 0 2Z"></path>
</svg>
    </span>
    <span class="Toast-content"></span>
  </div>
</div>


  <div
    class="application-main "
    data-commit-hovercards-enabled
    data-discussion-hovercards-enabled
    data-issue-and-pr-hovercards-enabled
  >
        <div itemscope itemtype="http://schema.org/SoftwareSourceCode" class="">
    <main id="js-repo-pjax-container" >
      
      






    
  <div id="repository-container-header" data-turbo-replace hidden></div>




<turbo-frame id="repo-content-turbo-frame" target="_top" data-turbo-action="advance" class="">
    <div id="repo-content-pjax-container" class="repository-content " >
      <a href="https://github.dev/" class="d-none js-github-dev-shortcut" data-hotkey=".,Meta+Shift+/">Open in github.dev</a>
  <a href="https://github.dev/" class="d-none js-github-dev-new-tab-shortcut" data-hotkey="Shift+.,Shift+&gt;,&gt;" target="_blank" rel="noopener noreferrer">Open in a new github.dev tab</a>
    <a class="d-none" data-hotkey=",,Meta+Shift+&#39;" target="_blank" href="/codespaces/new/Arunima-Singh/StockPrediction/tree/main?resume=1">Open in codespace</a>



    
      
    





<react-app
  app-name="react-code-view"
  initial-path="/Arunima-Singh/StockPrediction/blob/main/StockPrediction.ipynb"
  style="min-height: calc(100vh - 62px)"
  data-ssr="false"
  data-lazy="false"
  data-alternate="false"
>
  
  <script type="application/json" data-target="react-app.embeddedData">{"payload":{"allShortcutsEnabled":true,"fileTree":{"":{"items":[{"name":"AAPL.csv","path":"AAPL.csv","contentType":"file"},{"name":"README.md","path":"README.md","contentType":"file"},{"name":"StockPrediction.ipynb","path":"StockPrediction.ipynb","contentType":"file"}],"totalCount":3}},"fileTreeProcessingTime":2.526348,"foldersToFetch":[],"reducedMotionEnabled":"system","repo":{"id":535329618,"defaultBranch":"main","name":"StockPrediction","ownerLogin":"Arunima-Singh","currentUserCanPush":false,"isFork":false,"isEmpty":false,"createdAt":"2022-09-11T20:21:02.000+05:30","ownerAvatar":"https://avatars.githubusercontent.com/u/25866301?v=4","public":true,"private":false,"isOrgOwned":false},"refInfo":{"name":"main","listCacheKey":"v0:1662907862.697255","canEdit":true,"refType":"branch","currentOid":"669352bc89b3c32c069742c47ba661c1f409659b"},"path":"StockPrediction.ipynb","currentUser":{"id":112893710,"login":"Gaurav8683","userEmail":"gouravrajput9306457212@gmail.com"},"blob":{"rawLines":["{"," \"cells\": [","  {","   \"cell_type\": \"markdown\",","   \"metadata\": {},","   \"source\": [","    \"### Stock Market Prediction And Forecasting Using Stacked LSTM\"","   ]","  },","  {","   \"cell_type\": \"code\",","   \"execution_count\": null,","   \"metadata\": {},","   \"outputs\": [],","   \"source\": [","    \"### Keras and Tensorflow \u003e2.0\"","   ]","  },","  {","   \"cell_type\": \"code\",","   \"execution_count\": 403,","   \"metadata\": {},","   \"outputs\": [],","   \"source\": [","    \"### Data Collection\\n\",","    \"import pandas_datareader as pdr\\n\",","    \"key=\\\"\\\"\"","   ]","  },","  {","   \"cell_type\": \"code\",","   \"execution_count\": 404,","   \"metadata\": {},","   \"outputs\": [],","   \"source\": [","    \"df = pdr.get_data_tiingo('AAPL', api_key=key)\"","   ]","  },","  {","   \"cell_type\": \"code\",","   \"execution_count\": 283,","   \"metadata\": {},","   \"outputs\": [],","   \"source\": [","    \"df.to_csv('AAPL.csv')\"","   ]","  },","  {","   \"cell_type\": \"code\",","   \"execution_count\": 405,","   \"metadata\": {},","   \"outputs\": [],","   \"source\": [","    \"import pandas as pd\"","   ]","  },","  {","   \"cell_type\": \"code\",","   \"execution_count\": 406,","   \"metadata\": {},","   \"outputs\": [],","   \"source\": [","    \"df=pd.read_csv('AAPL.csv')\"","   ]","  },","  {","   \"cell_type\": \"code\",","   \"execution_count\": 407,","   \"metadata\": {},","   \"outputs\": [","    {","     \"data\": {","      \"text/html\": [","       \"\u003cdiv\u003e\\n\",","       \"\u003cstyle scoped\u003e\\n\",","       \"    .dataframe tbody tr th:only-of-type {\\n\",","       \"        vertical-align: middle;\\n\",","       \"    }\\n\",","       \"\\n\",","       \"    .dataframe tbody tr th {\\n\",","       \"        vertical-align: top;\\n\",","       \"    }\\n\",","       \"\\n\",","       \"    .dataframe thead th {\\n\",","       \"        text-align: right;\\n\",","       \"    }\\n\",","       \"\u003c/style\u003e\\n\",","       \"\u003ctable border=\\\"1\\\" class=\\\"dataframe\\\"\u003e\\n\",","       \"  \u003cthead\u003e\\n\",","       \"    \u003ctr style=\\\"text-align: right;\\\"\u003e\\n\",","       \"      \u003cth\u003e\u003c/th\u003e\\n\",","       \"      \u003cth\u003eUnnamed: 0\u003c/th\u003e\\n\",","       \"      \u003cth\u003esymbol\u003c/th\u003e\\n\",","       \"      \u003cth\u003edate\u003c/th\u003e\\n\",","       \"      \u003cth\u003eclose\u003c/th\u003e\\n\",","       \"      \u003cth\u003ehigh\u003c/th\u003e\\n\",","       \"      \u003cth\u003elow\u003c/th\u003e\\n\",","       \"      \u003cth\u003eopen\u003c/th\u003e\\n\",","       \"      \u003cth\u003evolume\u003c/th\u003e\\n\",","       \"      \u003cth\u003eadjClose\u003c/th\u003e\\n\",","       \"      \u003cth\u003eadjHigh\u003c/th\u003e\\n\",","       \"      \u003cth\u003eadjLow\u003c/th\u003e\\n\",","       \"      \u003cth\u003eadjOpen\u003c/th\u003e\\n\",","       \"      \u003cth\u003eadjVolume\u003c/th\u003e\\n\",","       \"      \u003cth\u003edivCash\u003c/th\u003e\\n\",","       \"      \u003cth\u003esplitFactor\u003c/th\u003e\\n\",","       \"    \u003c/tr\u003e\\n\",","       \"  \u003c/thead\u003e\\n\",","       \"  \u003ctbody\u003e\\n\",","       \"    \u003ctr\u003e\\n\",","       \"      \u003cth\u003e0\u003c/th\u003e\\n\",","       \"      \u003ctd\u003e0\u003c/td\u003e\\n\",","       \"      \u003ctd\u003eAAPL\u003c/td\u003e\\n\",","       \"      \u003ctd\u003e2015-05-27 00:00:00+00:00\u003c/td\u003e\\n\",","       \"      \u003ctd\u003e132.045\u003c/td\u003e\\n\",","       \"      \u003ctd\u003e132.260\u003c/td\u003e\\n\",","       \"      \u003ctd\u003e130.05\u003c/td\u003e\\n\",","       \"      \u003ctd\u003e130.34\u003c/td\u003e\\n\",","       \"      \u003ctd\u003e45833246\u003c/td\u003e\\n\",","       \"      \u003ctd\u003e121.682558\u003c/td\u003e\\n\",","       \"      \u003ctd\u003e121.880685\u003c/td\u003e\\n\",","       \"      \u003ctd\u003e119.844118\u003c/td\u003e\\n\",","       \"      \u003ctd\u003e120.111360\u003c/td\u003e\\n\",","       \"      \u003ctd\u003e45833246\u003c/td\u003e\\n\",","       \"      \u003ctd\u003e0.0\u003c/td\u003e\\n\",","       \"      \u003ctd\u003e1.0\u003c/td\u003e\\n\",","       \"    \u003c/tr\u003e\\n\",","       \"    \u003ctr\u003e\\n\",","       \"      \u003cth\u003e1\u003c/th\u003e\\n\",","       \"      \u003ctd\u003e1\u003c/td\u003e\\n\",","       \"      \u003ctd\u003eAAPL\u003c/td\u003e\\n\",","       \"      \u003ctd\u003e2015-05-28 00:00:00+00:00\u003c/td\u003e\\n\",","       \"      \u003ctd\u003e131.780\u003c/td\u003e\\n\",","       \"      \u003ctd\u003e131.950\u003c/td\u003e\\n\",","       \"      \u003ctd\u003e131.10\u003c/td\u003e\\n\",","       \"      \u003ctd\u003e131.86\u003c/td\u003e\\n\",","       \"      \u003ctd\u003e30733309\u003c/td\u003e\\n\",","       \"      \u003ctd\u003e121.438354\u003c/td\u003e\\n\",","       \"      \u003ctd\u003e121.595013\u003c/td\u003e\\n\",","       \"      \u003ctd\u003e120.811718\u003c/td\u003e\\n\",","       \"      \u003ctd\u003e121.512076\u003c/td\u003e\\n\",","       \"      \u003ctd\u003e30733309\u003c/td\u003e\\n\",","       \"      \u003ctd\u003e0.0\u003c/td\u003e\\n\",","       \"      \u003ctd\u003e1.0\u003c/td\u003e\\n\",","       \"    \u003c/tr\u003e\\n\",","       \"    \u003ctr\u003e\\n\",","       \"      \u003cth\u003e2\u003c/th\u003e\\n\",","       \"      \u003ctd\u003e2\u003c/td\u003e\\n\",","       \"      \u003ctd\u003eAAPL\u003c/td\u003e\\n\",","       \"      \u003ctd\u003e2015-05-29 00:00:00+00:00\u003c/td\u003e\\n\",","       \"      \u003ctd\u003e130.280\u003c/td\u003e\\n\",","       \"      \u003ctd\u003e131.450\u003c/td\u003e\\n\",","       \"      \u003ctd\u003e129.90\u003c/td\u003e\\n\",","       \"      \u003ctd\u003e131.23\u003c/td\u003e\\n\",","       \"      \u003ctd\u003e50884452\u003c/td\u003e\\n\",","       \"      \u003ctd\u003e120.056069\u003c/td\u003e\\n\",","       \"      \u003ctd\u003e121.134251\u003c/td\u003e\\n\",","       \"      \u003ctd\u003e119.705890\u003c/td\u003e\\n\",","       \"      \u003ctd\u003e120.931516\u003c/td\u003e\\n\",","       \"      \u003ctd\u003e50884452\u003c/td\u003e\\n\",","       \"      \u003ctd\u003e0.0\u003c/td\u003e\\n\",","       \"      \u003ctd\u003e1.0\u003c/td\u003e\\n\",","       \"    \u003c/tr\u003e\\n\",","       \"    \u003ctr\u003e\\n\",","       \"      \u003cth\u003e3\u003c/th\u003e\\n\",","       \"      \u003ctd\u003e3\u003c/td\u003e\\n\",","       \"      \u003ctd\u003eAAPL\u003c/td\u003e\\n\",","       \"      \u003ctd\u003e2015-06-01 00:00:00+00:00\u003c/td\u003e\\n\",","       \"      \u003ctd\u003e130.535\u003c/td\u003e\\n\",","       \"      \u003ctd\u003e131.390\u003c/td\u003e\\n\",","       \"      \u003ctd\u003e130.05\u003c/td\u003e\\n\",","       \"      \u003ctd\u003e131.20\u003c/td\u003e\\n\",","       \"      \u003ctd\u003e32112797\u003c/td\u003e\\n\",","       \"      \u003ctd\u003e120.291057\u003c/td\u003e\\n\",","       \"      \u003ctd\u003e121.078960\u003c/td\u003e\\n\",","       \"      \u003ctd\u003e119.844118\u003c/td\u003e\\n\",","       \"      \u003ctd\u003e120.903870\u003c/td\u003e\\n\",","       \"      \u003ctd\u003e32112797\u003c/td\u003e\\n\",","       \"      \u003ctd\u003e0.0\u003c/td\u003e\\n\",","       \"      \u003ctd\u003e1.0\u003c/td\u003e\\n\",","       \"    \u003c/tr\u003e\\n\",","       \"    \u003ctr\u003e\\n\",","       \"      \u003cth\u003e4\u003c/th\u003e\\n\",","       \"      \u003ctd\u003e4\u003c/td\u003e\\n\",","       \"      \u003ctd\u003eAAPL\u003c/td\u003e\\n\",","       \"      \u003ctd\u003e2015-06-02 00:00:00+00:00\u003c/td\u003e\\n\",","       \"      \u003ctd\u003e129.960\u003c/td\u003e\\n\",","       \"      \u003ctd\u003e130.655\u003c/td\u003e\\n\",","       \"      \u003ctd\u003e129.32\u003c/td\u003e\\n\",","       \"      \u003ctd\u003e129.86\u003c/td\u003e\\n\",","       \"      \u003ctd\u003e33667627\u003c/td\u003e\\n\",","       \"      \u003ctd\u003e119.761181\u003c/td\u003e\\n\",","       \"      \u003ctd\u003e120.401640\u003c/td\u003e\\n\",","       \"      \u003ctd\u003e119.171406\u003c/td\u003e\\n\",","       \"      \u003ctd\u003e119.669029\u003c/td\u003e\\n\",","       \"      \u003ctd\u003e33667627\u003c/td\u003e\\n\",","       \"      \u003ctd\u003e0.0\u003c/td\u003e\\n\",","       \"      \u003ctd\u003e1.0\u003c/td\u003e\\n\",","       \"    \u003c/tr\u003e\\n\",","       \"  \u003c/tbody\u003e\\n\",","       \"\u003c/table\u003e\\n\",","       \"\u003c/div\u003e\"","      ],","      \"text/plain\": [","       \"   Unnamed: 0 symbol                       date    close     high     low  \\\\\\n\",","       \"0           0   AAPL  2015-05-27 00:00:00+00:00  132.045  132.260  130.05   \\n\",","       \"1           1   AAPL  2015-05-28 00:00:00+00:00  131.780  131.950  131.10   \\n\",","       \"2           2   AAPL  2015-05-29 00:00:00+00:00  130.280  131.450  129.90   \\n\",","       \"3           3   AAPL  2015-06-01 00:00:00+00:00  130.535  131.390  130.05   \\n\",","       \"4           4   AAPL  2015-06-02 00:00:00+00:00  129.960  130.655  129.32   \\n\",","       \"\\n\",","       \"     open    volume    adjClose     adjHigh      adjLow     adjOpen  \\\\\\n\",","       \"0  130.34  45833246  121.682558  121.880685  119.844118  120.111360   \\n\",","       \"1  131.86  30733309  121.438354  121.595013  120.811718  121.512076   \\n\",","       \"2  131.23  50884452  120.056069  121.134251  119.705890  120.931516   \\n\",","       \"3  131.20  32112797  120.291057  121.078960  119.844118  120.903870   \\n\",","       \"4  129.86  33667627  119.761181  120.401640  119.171406  119.669029   \\n\",","       \"\\n\",","       \"   adjVolume  divCash  splitFactor  \\n\",","       \"0   45833246      0.0          1.0  \\n\",","       \"1   30733309      0.0          1.0  \\n\",","       \"2   50884452      0.0          1.0  \\n\",","       \"3   32112797      0.0          1.0  \\n\",","       \"4   33667627      0.0          1.0  \"","      ]","     },","     \"execution_count\": 407,","     \"metadata\": {},","     \"output_type\": \"execute_result\"","    }","   ],","   \"source\": [","    \"df.head()\"","   ]","  },","  {","   \"cell_type\": \"code\",","   \"execution_count\": 409,","   \"metadata\": {},","   \"outputs\": [","    {","     \"data\": {","      \"text/html\": [","       \"\u003cdiv\u003e\\n\",","       \"\u003cstyle scoped\u003e\\n\",","       \"    .dataframe tbody tr th:only-of-type {\\n\",","       \"        vertical-align: middle;\\n\",","       \"    }\\n\",","       \"\\n\",","       \"    .dataframe tbody tr th {\\n\",","       \"        vertical-align: top;\\n\",","       \"    }\\n\",","       \"\\n\",","       \"    .dataframe thead th {\\n\",","       \"        text-align: right;\\n\",","       \"    }\\n\",","       \"\u003c/style\u003e\\n\",","       \"\u003ctable border=\\\"1\\\" class=\\\"dataframe\\\"\u003e\\n\",","       \"  \u003cthead\u003e\\n\",","       \"    \u003ctr style=\\\"text-align: right;\\\"\u003e\\n\",","       \"      \u003cth\u003e\u003c/th\u003e\\n\",","       \"      \u003cth\u003eUnnamed: 0\u003c/th\u003e\\n\",","       \"      \u003cth\u003esymbol\u003c/th\u003e\\n\",","       \"      \u003cth\u003edate\u003c/th\u003e\\n\",","       \"      \u003cth\u003eclose\u003c/th\u003e\\n\",","       \"      \u003cth\u003ehigh\u003c/th\u003e\\n\",","       \"      \u003cth\u003elow\u003c/th\u003e\\n\",","       \"      \u003cth\u003eopen\u003c/th\u003e\\n\",","       \"      \u003cth\u003evolume\u003c/th\u003e\\n\",","       \"      \u003cth\u003eadjClose\u003c/th\u003e\\n\",","       \"      \u003cth\u003eadjHigh\u003c/th\u003e\\n\",","       \"      \u003cth\u003eadjLow\u003c/th\u003e\\n\",","       \"      \u003cth\u003eadjOpen\u003c/th\u003e\\n\",","       \"      \u003cth\u003eadjVolume\u003c/th\u003e\\n\",","       \"      \u003cth\u003edivCash\u003c/th\u003e\\n\",","       \"      \u003cth\u003esplitFactor\u003c/th\u003e\\n\",","       \"    \u003c/tr\u003e\\n\",","       \"  \u003c/thead\u003e\\n\",","       \"  \u003ctbody\u003e\\n\",","       \"    \u003ctr\u003e\\n\",","       \"      \u003cth\u003e1253\u003c/th\u003e\\n\",","       \"      \u003ctd\u003e1253\u003c/td\u003e\\n\",","       \"      \u003ctd\u003eAAPL\u003c/td\u003e\\n\",","       \"      \u003ctd\u003e2020-05-18 00:00:00+00:00\u003c/td\u003e\\n\",","       \"      \u003ctd\u003e314.96\u003c/td\u003e\\n\",","       \"      \u003ctd\u003e316.50\u003c/td\u003e\\n\",","       \"      \u003ctd\u003e310.3241\u003c/td\u003e\\n\",","       \"      \u003ctd\u003e313.17\u003c/td\u003e\\n\",","       \"      \u003ctd\u003e33843125\u003c/td\u003e\\n\",","       \"      \u003ctd\u003e314.96\u003c/td\u003e\\n\",","       \"      \u003ctd\u003e316.50\u003c/td\u003e\\n\",","       \"      \u003ctd\u003e310.3241\u003c/td\u003e\\n\",","       \"      \u003ctd\u003e313.17\u003c/td\u003e\\n\",","       \"      \u003ctd\u003e33843125\u003c/td\u003e\\n\",","       \"      \u003ctd\u003e0.0\u003c/td\u003e\\n\",","       \"      \u003ctd\u003e1.0\u003c/td\u003e\\n\",","       \"    \u003c/tr\u003e\\n\",","       \"    \u003ctr\u003e\\n\",","       \"      \u003cth\u003e1254\u003c/th\u003e\\n\",","       \"      \u003ctd\u003e1254\u003c/td\u003e\\n\",","       \"      \u003ctd\u003eAAPL\u003c/td\u003e\\n\",","       \"      \u003ctd\u003e2020-05-19 00:00:00+00:00\u003c/td\u003e\\n\",","       \"      \u003ctd\u003e313.14\u003c/td\u003e\\n\",","       \"      \u003ctd\u003e318.52\u003c/td\u003e\\n\",","       \"      \u003ctd\u003e313.0100\u003c/td\u003e\\n\",","       \"      \u003ctd\u003e315.03\u003c/td\u003e\\n\",","       \"      \u003ctd\u003e25432385\u003c/td\u003e\\n\",","       \"      \u003ctd\u003e313.14\u003c/td\u003e\\n\",","       \"      \u003ctd\u003e318.52\u003c/td\u003e\\n\",","       \"      \u003ctd\u003e313.0100\u003c/td\u003e\\n\",","       \"      \u003ctd\u003e315.03\u003c/td\u003e\\n\",","       \"      \u003ctd\u003e25432385\u003c/td\u003e\\n\",","       \"      \u003ctd\u003e0.0\u003c/td\u003e\\n\",","       \"      \u003ctd\u003e1.0\u003c/td\u003e\\n\",","       \"    \u003c/tr\u003e\\n\",","       \"    \u003ctr\u003e\\n\",","       \"      \u003cth\u003e1255\u003c/th\u003e\\n\",","       \"      \u003ctd\u003e1255\u003c/td\u003e\\n\",","       \"      \u003ctd\u003eAAPL\u003c/td\u003e\\n\",","       \"      \u003ctd\u003e2020-05-20 00:00:00+00:00\u003c/td\u003e\\n\",","       \"      \u003ctd\u003e319.23\u003c/td\u003e\\n\",","       \"      \u003ctd\u003e319.52\u003c/td\u003e\\n\",","       \"      \u003ctd\u003e316.2000\u003c/td\u003e\\n\",","       \"      \u003ctd\u003e316.68\u003c/td\u003e\\n\",","       \"      \u003ctd\u003e27876215\u003c/td\u003e\\n\",","       \"      \u003ctd\u003e319.23\u003c/td\u003e\\n\",","       \"      \u003ctd\u003e319.52\u003c/td\u003e\\n\",","       \"      \u003ctd\u003e316.2000\u003c/td\u003e\\n\",","       \"      \u003ctd\u003e316.68\u003c/td\u003e\\n\",","       \"      \u003ctd\u003e27876215\u003c/td\u003e\\n\",","       \"      \u003ctd\u003e0.0\u003c/td\u003e\\n\",","       \"      \u003ctd\u003e1.0\u003c/td\u003e\\n\",","       \"    \u003c/tr\u003e\\n\",","       \"    \u003ctr\u003e\\n\",","       \"      \u003cth\u003e1256\u003c/th\u003e\\n\",","       \"      \u003ctd\u003e1256\u003c/td\u003e\\n\",","       \"      \u003ctd\u003eAAPL\u003c/td\u003e\\n\",","       \"      \u003ctd\u003e2020-05-21 00:00:00+00:00\u003c/td\u003e\\n\",","       \"      \u003ctd\u003e316.85\u003c/td\u003e\\n\",","       \"      \u003ctd\u003e320.89\u003c/td\u003e\\n\",","       \"      \u003ctd\u003e315.8700\u003c/td\u003e\\n\",","       \"      \u003ctd\u003e318.66\u003c/td\u003e\\n\",","       \"      \u003ctd\u003e25672211\u003c/td\u003e\\n\",","       \"      \u003ctd\u003e316.85\u003c/td\u003e\\n\",","       \"      \u003ctd\u003e320.89\u003c/td\u003e\\n\",","       \"      \u003ctd\u003e315.8700\u003c/td\u003e\\n\",","       \"      \u003ctd\u003e318.66\u003c/td\u003e\\n\",","       \"      \u003ctd\u003e25672211\u003c/td\u003e\\n\",","       \"      \u003ctd\u003e0.0\u003c/td\u003e\\n\",","       \"      \u003ctd\u003e1.0\u003c/td\u003e\\n\",","       \"    \u003c/tr\u003e\\n\",","       \"    \u003ctr\u003e\\n\",","       \"      \u003cth\u003e1257\u003c/th\u003e\\n\",","       \"      \u003ctd\u003e1257\u003c/td\u003e\\n\",","       \"      \u003ctd\u003eAAPL\u003c/td\u003e\\n\",","       \"      \u003ctd\u003e2020-05-22 00:00:00+00:00\u003c/td\u003e\\n\",","       \"      \u003ctd\u003e318.89\u003c/td\u003e\\n\",","       \"      \u003ctd\u003e319.23\u003c/td\u003e\\n\",","       \"      \u003ctd\u003e315.3500\u003c/td\u003e\\n\",","       \"      \u003ctd\u003e315.77\u003c/td\u003e\\n\",","       \"      \u003ctd\u003e20450754\u003c/td\u003e\\n\",","       \"      \u003ctd\u003e318.89\u003c/td\u003e\\n\",","       \"      \u003ctd\u003e319.23\u003c/td\u003e\\n\",","       \"      \u003ctd\u003e315.3500\u003c/td\u003e\\n\",","       \"      \u003ctd\u003e315.77\u003c/td\u003e\\n\",","       \"      \u003ctd\u003e20450754\u003c/td\u003e\\n\",","       \"      \u003ctd\u003e0.0\u003c/td\u003e\\n\",","       \"      \u003ctd\u003e1.0\u003c/td\u003e\\n\",","       \"    \u003c/tr\u003e\\n\",","       \"  \u003c/tbody\u003e\\n\",","       \"\u003c/table\u003e\\n\",","       \"\u003c/div\u003e\"","      ],","      \"text/plain\": [","       \"      Unnamed: 0 symbol                       date   close    high       low  \\\\\\n\",","       \"1253        1253   AAPL  2020-05-18 00:00:00+00:00  314.96  316.50  310.3241   \\n\",","       \"1254        1254   AAPL  2020-05-19 00:00:00+00:00  313.14  318.52  313.0100   \\n\",","       \"1255        1255   AAPL  2020-05-20 00:00:00+00:00  319.23  319.52  316.2000   \\n\",","       \"1256        1256   AAPL  2020-05-21 00:00:00+00:00  316.85  320.89  315.8700   \\n\",","       \"1257        1257   AAPL  2020-05-22 00:00:00+00:00  318.89  319.23  315.3500   \\n\",","       \"\\n\",","       \"        open    volume  adjClose  adjHigh    adjLow  adjOpen  adjVolume  \\\\\\n\",","       \"1253  313.17  33843125    314.96   316.50  310.3241   313.17   33843125   \\n\",","       \"1254  315.03  25432385    313.14   318.52  313.0100   315.03   25432385   \\n\",","       \"1255  316.68  27876215    319.23   319.52  316.2000   316.68   27876215   \\n\",","       \"1256  318.66  25672211    316.85   320.89  315.8700   318.66   25672211   \\n\",","       \"1257  315.77  20450754    318.89   319.23  315.3500   315.77   20450754   \\n\",","       \"\\n\",","       \"      divCash  splitFactor  \\n\",","       \"1253      0.0          1.0  \\n\",","       \"1254      0.0          1.0  \\n\",","       \"1255      0.0          1.0  \\n\",","       \"1256      0.0          1.0  \\n\",","       \"1257      0.0          1.0  \"","      ]","     },","     \"execution_count\": 409,","     \"metadata\": {},","     \"output_type\": \"execute_result\"","    }","   ],","   \"source\": [","    \"df.tail()\"","   ]","  },","  {","   \"cell_type\": \"code\",","   \"execution_count\": 410,","   \"metadata\": {},","   \"outputs\": [],","   \"source\": [","    \"df1=df.reset_index()['close']\"","   ]","  },","  {","   \"cell_type\": \"code\",","   \"execution_count\": 412,","   \"metadata\": {},","   \"outputs\": [","    {","     \"data\": {","      \"text/plain\": [","       \"0       132.045\\n\",","       \"1       131.780\\n\",","       \"2       130.280\\n\",","       \"3       130.535\\n\",","       \"4       129.960\\n\",","       \"         ...   \\n\",","       \"1253    314.960\\n\",","       \"1254    313.140\\n\",","       \"1255    319.230\\n\",","       \"1256    316.850\\n\",","       \"1257    318.890\\n\",","       \"Name: close, Length: 1258, dtype: float64\"","      ]","     },","     \"execution_count\": 412,","     \"metadata\": {},","     \"output_type\": \"execute_result\"","    }","   ],","   \"source\": [","    \"df1\"","   ]","  },","  {","   \"cell_type\": \"code\",","   \"execution_count\": 413,","   \"metadata\": {},","   \"outputs\": [","    {","     \"data\": {","      \"text/plain\": [","       \"[\u003cmatplotlib.lines.Line2D at 0x2d1a92724e0\u003e]\"","      ]","     },","     \"execution_count\": 413,","     \"metadata\": {},","     \"output_type\": \"execute_result\"","    },","    {","     \"data\": {","      \"image/png\": \"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\\n\",","      \"text/plain\": [","       \"\u003cFigure size 432x288 with 1 Axes\u003e\"","      ]","     },","     \"metadata\": {","      \"needs_background\": \"light\"","     },","     \"output_type\": \"display_data\"","    }","   ],","   \"source\": [","    \"import matplotlib.pyplot as plt\\n\",","    \"plt.plot(df1)\"","   ]","  },","  {","   \"cell_type\": \"code\",","   \"execution_count\": 291,","   \"metadata\": {},","   \"outputs\": [],","   \"source\": [","    \"### LSTM are sensitive to the scale of the data. so we apply MinMax scaler \"","   ]","  },","  {","   \"cell_type\": \"code\",","   \"execution_count\": 292,","   \"metadata\": {},","   \"outputs\": [],","   \"source\": [","    \"import numpy as np\"","   ]","  },","  {","   \"cell_type\": \"code\",","   \"execution_count\": 414,","   \"metadata\": {},","   \"outputs\": [","    {","     \"data\": {","      \"text/plain\": [","       \"0       132.045\\n\",","       \"1       131.780\\n\",","       \"2       130.280\\n\",","       \"3       130.535\\n\",","       \"4       129.960\\n\",","       \"         ...   \\n\",","       \"1253    314.960\\n\",","       \"1254    313.140\\n\",","       \"1255    319.230\\n\",","       \"1256    316.850\\n\",","       \"1257    318.890\\n\",","       \"Name: close, Length: 1258, dtype: float64\"","      ]","     },","     \"execution_count\": 414,","     \"metadata\": {},","     \"output_type\": \"execute_result\"","    }","   ],","   \"source\": [","    \"df1\"","   ]","  },","  {","   \"cell_type\": \"code\",","   \"execution_count\": 415,","   \"metadata\": {},","   \"outputs\": [],","   \"source\": [","    \"from sklearn.preprocessing import MinMaxScaler\\n\",","    \"scaler=MinMaxScaler(feature_range=(0,1))\\n\",","    \"df1=scaler.fit_transform(np.array(df1).reshape(-1,1))\"","   ]","  },","  {","   \"cell_type\": \"code\",","   \"execution_count\": 417,","   \"metadata\": {},","   \"outputs\": [","    {","     \"name\": \"stdout\",","     \"output_type\": \"stream\",","     \"text\": [","      \"[[0.17607447]\\n\",","      \" [0.17495567]\\n\",","      \" [0.16862282]\\n\",","      \" ...\\n\",","      \" [0.96635143]\\n\",","      \" [0.9563033 ]\\n\",","      \" [0.96491598]]\\n\"","     ]","    }","   ],","   \"source\": [","    \"print(df1)\"","   ]","  },","  {","   \"cell_type\": \"code\",","   \"execution_count\": 418,","   \"metadata\": {},","   \"outputs\": [],","   \"source\": [","    \"##splitting dataset into train and test split\\n\",","    \"training_size=int(len(df1)*0.65)\\n\",","    \"test_size=len(df1)-training_size\\n\",","    \"train_data,test_data=df1[0:training_size,:],df1[training_size:len(df1),:1]\"","   ]","  },","  {","   \"cell_type\": \"code\",","   \"execution_count\": 419,","   \"metadata\": {},","   \"outputs\": [","    {","     \"data\": {","      \"text/plain\": [","       \"(817, 441)\"","      ]","     },","     \"execution_count\": 419,","     \"metadata\": {},","     \"output_type\": \"execute_result\"","    }","   ],","   \"source\": [","    \"training_size,test_size\"","   ]","  },","  {","   \"cell_type\": \"code\",","   \"execution_count\": 422,","   \"metadata\": {},","   \"outputs\": [","    {","     \"data\": {","      \"text/plain\": [","       \"array([[0.17607447],\\n\",","       \"       [0.17495567],\\n\",","       \"       [0.16862282],\\n\",","       \"       [0.1696994 ],\\n\",","       \"       [0.16727181],\\n\",","       \"       [0.16794731],\\n\",","       \"       [0.16473866],\\n\",","       \"       [0.16174111],\\n\",","       \"       [0.1581525 ],\\n\",","       \"       [0.15654817],\\n\",","       \"       [0.16271215],\\n\",","       \"       [0.1614878 ],\\n\",","       \"       [0.1554927 ],\\n\",","       \"       [0.15443722],\\n\",","       \"       [0.15730811],\\n\",","       \"       [0.15604154],\\n\",","       \"       [0.15849025],\\n\",","       \"       [0.15308621],\\n\",","       \"       [0.15735033],\\n\",","       \"       [0.15490163],\\n\",","       \"       [0.15946129],\\n\",","       \"       [0.15688592],\\n\",","       \"       [0.1537195 ],\\n\",","       \"       [0.14434687],\\n\",","       \"       [0.14812547],\\n\",","       \"       [0.15308621],\\n\",","       \"       [0.15241071],\\n\",","       \"       [0.15055307],\\n\",","       \"       [0.14924428],\\n\",","       \"       [0.13607194],\\n\",","       \"       [0.12551718],\\n\",","       \"       [0.13906949],\\n\",","       \"       [0.14911762],\\n\",","       \"       [0.14890653],\\n\",","       \"       [0.15401503],\\n\",","       \"       [0.16115005],\\n\",","       \"       [0.16583636],\\n\",","       \"       [0.17618002],\\n\",","       \"       [0.17060711],\\n\",","       \"       [0.14725998],\\n\",","       \"       [0.14700667],\\n\",","       \"       [0.14422021],\\n\",","       \"       [0.13691632],\\n\",","       \"       [0.13949168],\\n\",","       \"       [0.13784514],\\n\",","       \"       [0.13522756],\\n\",","       \"       [0.13071012],\\n\",","       \"       [0.11863548],\\n\",","       \"       [0.10259225],\\n\",","       \"       [0.1058009 ],\\n\",","       \"       [0.10466098],\\n\",","       \"       [0.10630752],\\n\",","       \"       [0.12403952],\\n\",","       \"       [0.09773706],\\n\",","       \"       [0.10512539],\\n\",","       \"       [0.10474542],\\n\",","       \"       [0.10816516],\\n\",","       \"       [0.11323144],\\n\",","       \"       [0.11044499],\\n\",","       \"       [0.10415435],\\n\",","       \"       [0.09419066],\\n\",","       \"       [0.06510175],\\n\",","       \"       [0.05395592],\\n\",","       \"       [0.0565735 ],\\n\",","       \"       [0.08169383],\\n\",","       \"       [0.09533058],\\n\",","       \"       [0.09689268],\\n\",","       \"       [0.09465507],\\n\",","       \"       [0.07337668],\\n\",","       \"       [0.09288187],\\n\",","       \"       [0.08456472],\\n\",","       \"       [0.07992063],\\n\",","       \"       [0.09275521],\\n\",","       \"       [0.0836359 ],\\n\",","       \"       [0.09385291],\\n\",","       \"       [0.10077683],\\n\",","       \"       [0.10542092],\\n\",","       \"       [0.10951617],\\n\",","       \"       [0.11006502],\\n\",","       \"       [0.09955248],\\n\",","       \"       [0.09756818],\\n\",","       \"       [0.10499873],\\n\",","       \"       [0.09735709],\\n\",","       \"       [0.10124124],\\n\",","       \"       [0.10411213],\\n\",","       \"       [0.10288778],\\n\",","       \"       [0.09330406],\\n\",","       \"       [0.07903403],\\n\",","       \"       [0.08426919],\\n\",","       \"       [0.08122942],\\n\",","       \"       [0.08460694],\\n\",","       \"       [0.0862957 ],\\n\",","       \"       [0.08853331],\\n\",","       \"       [0.0862957 ],\\n\",","       \"       [0.08089167],\\n\",","       \"       [0.09195305],\\n\",","       \"       [0.08975766],\\n\",","       \"       [0.09055982],\\n\",","       \"       [0.08388922],\\n\",","       \"       [0.09085536],\\n\",","       \"       [0.0873934 ],\\n\",","       \"       [0.09030651],\\n\",","       \"       [0.09891919],\\n\",","       \"       [0.09887697],\\n\",","       \"       [0.10622309],\\n\",","       \"       [0.1213375 ],\\n\",","       \"       [0.10529427],\\n\",","       \"       [0.10221228],\\n\",","       \"       [0.12213966],\\n\",","       \"       [0.12745926],\\n\",","       \"       [0.1231107 ],\\n\",","       \"       [0.1302035 ],\\n\",","       \"       [0.13607194],\\n\",","       \"       [0.13366546],\\n\",","       \"       [0.1291058 ],\\n\",","       \"       [0.12969687],\\n\",","       \"       [0.12762813],\\n\",","       \"       [0.1115849 ],\\n\",","       \"       [0.10879845],\\n\",","       \"       [0.1071519 ],\\n\",","       \"       [0.09288187],\\n\",","       \"       [0.10062906],\\n\",","       \"       [0.09858144],\\n\",","       \"       [0.11378029],\\n\",","       \"       [0.12007093],\\n\",","       \"       [0.12226632],\\n\",","       \"       [0.11572237],\\n\",","       \"       [0.12049312],\\n\",","       \"       [0.1169045 ],\\n\",","       \"       [0.11597568],\\n\",","       \"       [0.11804441],\\n\",","       \"       [0.11399139],\\n\",","       \"       [0.10951617],\\n\",","       \"       [0.10495651],\\n\",","       \"       [0.1211264 ],\\n\",","       \"       [0.11795998],\\n\",","       \"       [0.11774888],\\n\",","       \"       [0.10672971],\\n\",","       \"       [0.10905176],\\n\",","       \"       [0.09642827],\\n\",","       \"       [0.09347294],\\n\",","       \"       [0.08507135],\\n\",","       \"       [0.08865997],\\n\",","       \"       [0.07869628],\\n\",","       \"       [0.06624166],\\n\",","       \"       [0.07173014],\\n\",","       \"       [0.07130795],\\n\",","       \"       [0.07713417],\\n\",","       \"       [0.07468547],\\n\",","       \"       [0.06957697],\\n\",","       \"       [0.07768302],\\n\",","       \"       [0.07168792],\\n\",","       \"       [0.0629908 ],\\n\",","       \"       [0.06337077],\\n\",","       \"       [0.05222494],\\n\",","       \"       [0.04373892],\\n\",","       \"       [0.02579583],\\n\",","       \"       [0.027949  ],\\n\",","       \"       [0.03457739],\\n\",","       \"       [0.04061471],\\n\",","       \"       [0.02976442],\\n\",","       \"       [0.03875707],\\n\",","       \"       [0.02866672],\\n\",","       \"       [0.02668243],\\n\",","       \"       [0.02723128],\\n\",","       \"       [0.02516254],\\n\",","       \"       [0.04677869],\\n\",","       \"       [0.03841932],\\n\",","       \"       [0.04074137],\\n\",","       \"       [0.01300346],\\n\",","       \"       [0.01583214],\\n\",","       \"       [0.02955332],\\n\",","       \"       [0.02571139],\\n\",","       \"       [0.01747868],\\n\",","       \"       [0.02537364],\\n\",","       \"       [0.02642911],\\n\",","       \"       [0.0155366 ],\\n\",","       \"       [0.01971629],\\n\",","       \"       [0.01963185],\\n\",","       \"       [0.01659208],\\n\",","       \"       [0.01418559],\\n\",","       \"       [0.01540995],\\n\",","       \"       [0.02659799],\\n\",","       \"       [0.03284641],\\n\",","       \"       [0.02499367],\\n\",","       \"       [0.02406485],\\n\",","       \"       [0.02761125],\\n\",","       \"       [0.01836528],\\n\",","       \"       [0.02431816],\\n\",","       \"       [0.02710462],\\n\",","       \"       [0.0277379 ],\\n\",","       \"       [0.02680909],\\n\",","       \"       [0.04302119],\\n\",","       \"       [0.04395001],\\n\",","       \"       [0.04711644],\\n\",","       \"       [0.05349151],\\n\",","       \"       [0.04867854],\\n\",","       \"       [0.04513215],\\n\",","       \"       [0.04551212],\\n\",","       \"       [0.04572321],\\n\",","       \"       [0.05032509],\\n\",","       \"       [0.05142278],\\n\",","       \"       [0.0601199 ],\\n\",","       \"       [0.06598835],\\n\",","       \"       [0.06527062],\\n\",","       \"       [0.06577725],\\n\",","       \"       [0.06573503],\\n\",","       \"       [0.06915477],\\n\",","       \"       [0.06666385],\\n\",","       \"       [0.06472178],\\n\",","       \"       [0.06269526],\\n\",","       \"       [0.0732078 ],\\n\",","       \"       [0.08114498],\\n\",","       \"       [0.0787385 ],\\n\",","       \"       [0.0829604 ],\\n\",","       \"       [0.08773115],\\n\",","       \"       [0.08220046],\\n\",","       \"       [0.08705564],\\n\",","       \"       [0.07683864],\\n\",","       \"       [0.07734527],\\n\",","       \"       [0.07886515],\\n\",","       \"       [0.08486026],\\n\",","       \"       [0.0916153 ],\\n\",","       \"       [0.09186861],\\n\",","       \"       [0.08236933],\\n\",","       \"       [0.07236342],\\n\",","       \"       [0.06995694],\\n\",","       \"       [0.07088576],\\n\",","       \"       [0.06598835],\\n\",","       \"       [0.064764  ],\\n\",","       \"       [0.06223085],\\n\",","       \"       [0.05914886],\\n\",","       \"       [0.03157984],\\n\",","       \"       [0.01895635],\\n\",","       \"       [0.01435447],\\n\",","       \"       [0.01393228],\\n\",","       \"       [0.02043401],\\n\",","       \"       [0.01625433],\\n\",","       \"       [0.01224352],\\n\",","       \"       [0.01004813],\\n\",","       \"       [0.01034366],\\n\",","       \"       [0.01300346],\\n\",","       \"       [0.00916153],\\n\",","       \"       [0.        ],\\n\",","       \"       [0.00075994],\\n\",","       \"       [0.01494554],\\n\",","       \"       [0.013299  ],\\n\",","       \"       [0.01781643],\\n\",","       \"       [0.01629655],\\n\",","       \"       [0.02060289],\\n\",","       \"       [0.02571139],\\n\",","       \"       [0.03191759],\\n\",","       \"       [0.03917926],\\n\",","       \"       [0.04251457],\\n\",","       \"       [0.04226125],\\n\",","       \"       [0.04019252],\\n\",","       \"       [0.03428185],\\n\",","       \"       [0.03115765],\\n\",","       \"       [0.03200203],\\n\",","       \"       [0.03499958],\\n\",","       \"       [0.03668834],\\n\",","       \"       [0.03630837],\\n\",","       \"       [0.03930592],\\n\",","       \"       [0.03584396],\\n\",","       \"       [0.02955332],\\n\",","       \"       [0.03005995],\\n\",","       \"       [0.02870894],\\n\",","       \"       [0.03043992],\\n\",","       \"       [0.0210673 ],\\n\",","       \"       [0.02009626],\\n\",","       \"       [0.023516  ],\\n\",","       \"       [0.02199612],\\n\",","       \"       [0.02431816],\\n\",","       \"       [0.01291902],\\n\",","       \"       [0.00717724],\\n\",","       \"       [0.01372119],\\n\",","       \"       [0.01714093],\\n\",","       \"       [0.02220721],\\n\",","       \"       [0.02343156],\\n\",","       \"       [0.01963185],\\n\",","       \"       [0.02191168],\\n\",","       \"       [0.02364266],\\n\",","       \"       [0.02676687],\\n\",","       \"       [0.02803344],\\n\",","       \"       [0.02989107],\\n\",","       \"       [0.02756903],\\n\",","       \"       [0.03567508],\\n\",","       \"       [0.03563286],\\n\",","       \"       [0.04006586],\\n\",","       \"       [0.04023474],\\n\",","       \"       [0.04061471],\\n\",","       \"       [0.0383771 ],\\n\",","       \"       [0.03512623],\\n\",","       \"       [0.02955332],\\n\",","       \"       [0.02672465],\\n\",","       \"       [0.0532382 ],\\n\",","       \"       [0.05910665],\\n\",","       \"       [0.0585578 ],\\n\",","       \"       [0.0663261 ],\\n\",","       \"       [0.05969771],\\n\",","       \"       [0.0652284 ],\\n\",","       \"       [0.06556616],\\n\",","       \"       [0.07236342],\\n\",","       \"       [0.07612092],\\n\",","       \"       [0.07797855],\\n\",","       \"       [0.07455881],\\n\",","       \"       [0.07426328],\\n\",","       \"       [0.07531875],\\n\",","       \"       [0.08080723],\\n\",","       \"       [0.08038504],\\n\",","       \"       [0.07970953],\\n\",","       \"       [0.07911847],\\n\",","       \"       [0.0803006 ],\\n\",","       \"       [0.07671198],\\n\",","       \"       [0.07814743],\\n\",","       \"       [0.07468547],\\n\",","       \"       [0.07274339],\\n\",","       \"       [0.07008359],\\n\",","       \"       [0.06957697],\\n\",","       \"       [0.066115  ],\\n\",","       \"       [0.06653719],\\n\",","       \"       [0.06919699],\\n\",","       \"       [0.0734189 ],\\n\",","       \"       [0.07329224],\\n\",","       \"       [0.0760787 ],\\n\",","       \"       [0.06408849],\\n\",","       \"       [0.05399814],\\n\",","       \"       [0.06375074],\\n\",","       \"       [0.07434772],\\n\",","       \"       [0.09047539],\\n\",","       \"       [0.10651862],\\n\",","       \"       [0.10377438],\\n\",","       \"       [0.09811703],\\n\",","       \"       [0.09807481],\\n\",","       \"       [0.09799037],\\n\",","       \"       [0.10250781],\\n\",","       \"       [0.09444398],\\n\",","       \"       [0.0951617 ],\\n\",","       \"       [0.0960483 ],\\n\",","       \"       [0.09967914],\\n\",","       \"       [0.09220637],\\n\",","       \"       [0.09587942],\\n\",","       \"       [0.09364181],\\n\",","       \"       [0.09566833],\\n\",","       \"       [0.09587942],\\n\",","       \"       [0.09942582],\\n\",","       \"       [0.10014354],\\n\",","       \"       [0.10854513],\\n\",","       \"       [0.10960061],\\n\",","       \"       [0.11399139],\\n\",","       \"       [0.1124715 ],\\n\",","       \"       [0.11521574],\\n\",","       \"       [0.11487799],\\n\",","       \"       [0.11454023],\\n\",","       \"       [0.11306257],\\n\",","       \"       [0.11280925],\\n\",","       \"       [0.11086718],\\n\",","       \"       [0.11530018],\\n\",","       \"       [0.11783332],\\n\",","       \"       [0.10660306],\\n\",","       \"       [0.10191674],\\n\",","       \"       [0.0987081 ],\\n\",","       \"       [0.09794816],\\n\",","       \"       [0.08929325],\\n\",","       \"       [0.08971544],\\n\",","       \"       [0.08228489],\\n\",","       \"       [0.07810521],\\n\",","       \"       [0.0847336 ],\\n\",","       \"       [0.08747784],\\n\",","       \"       [0.08671789],\\n\",","       \"       [0.07367221],\\n\",","       \"       [0.07637423],\\n\",","       \"       [0.06489065],\\n\",","       \"       [0.07080132],\\n\",","       \"       [0.0829604 ],\\n\",","       \"       [0.08279152],\\n\",","       \"       [0.08325593],\\n\",","       \"       [0.09030651],\\n\",","       \"       [0.09060204],\\n\",","       \"       [0.08819556],\\n\",","       \"       [0.09055982],\\n\",","       \"       [0.08963101],\\n\",","       \"       [0.0891666 ],\\n\",","       \"       [0.08519801],\\n\",","       \"       [0.08084945],\\n\",","       \"       [0.08258043],\\n\",","       \"       [0.07924512],\\n\",","       \"       [0.08279152],\\n\",","       \"       [0.08735118],\\n\",","       \"       [0.09195305],\\n\",","       \"       [0.09967914],\\n\",","       \"       [0.0969349 ],\\n\",","       \"       [0.1049143 ],\\n\",","       \"       [0.1049143 ],\\n\",","       \"       [0.10757409],\\n\",","       \"       [0.10820738],\\n\",","       \"       [0.11103606],\\n\",","       \"       [0.11234485],\\n\",","       \"       [0.11280925],\\n\",","       \"       [0.10955839],\\n\",","       \"       [0.11052943],\\n\",","       \"       [0.11365364],\\n\",","       \"       [0.11154268],\\n\",","       \"       [0.11141603],\\n\",","       \"       [0.10757409],\\n\",","       \"       [0.10896732],\\n\",","       \"       [0.10841848],\\n\",","       \"       [0.1109094 ],\\n\",","       \"       [0.11639787],\\n\",","       \"       [0.12095753],\\n\",","       \"       [0.12146416],\\n\",","       \"       [0.12416617],\\n\",","       \"       [0.12205522],\\n\",","       \"       [0.12116862],\\n\",","       \"       [0.12522165],\\n\",","       \"       [0.12517943],\\n\",","       \"       [0.12429283],\\n\",","       \"       [0.12522165],\\n\",","       \"       [0.1255594 ],\\n\",","       \"       [0.12509499],\\n\",","       \"       [0.13315883],\\n\",","       \"       [0.13341214],\\n\",","       \"       [0.13345436],\\n\",","       \"       [0.13210335],\\n\",","       \"       [0.13092122],\\n\",","       \"       [0.1621633 ],\\n\",","       \"       [0.16123448],\\n\",","       \"       [0.16355653],\\n\",","       \"       [0.16866503],\\n\",","       \"       [0.17390019],\\n\",","       \"       [0.17605336],\\n\",","       \"       [0.17765769],\\n\",","       \"       [0.17639112],\\n\",","       \"       [0.18133074],\\n\",","       \"       [0.18863464],\\n\",","       \"       [0.19070337],\\n\",","       \"       [0.19000676],\\n\",","       \"       [0.19158997],\\n\",","       \"       [0.19572743],\\n\",","       \"       [0.19745841],\\n\",","       \"       [0.19500971],\\n\",","       \"       [0.19555856],\\n\",","       \"       [0.19669847],\\n\",","       \"       [0.19695179],\\n\",","       \"       [0.20877311],\\n\",","       \"       [0.20526894],\\n\",","       \"       [0.2087309 ],\\n\",","       \"       [0.20687326],\\n\",","       \"       [0.2076332 ],\\n\",","       \"       [0.20543781],\\n\",","       \"       [0.2040868 ],\\n\",","       \"       [0.20602888],\\n\",","       \"       [0.20628219],\\n\",","       \"       [0.20539559],\\n\",","       \"       [0.21160179],\\n\",","       \"       [0.21257283],\\n\",","       \"       [0.2096175 ],\\n\",","       \"       [0.21582369],\\n\",","       \"       [0.20898421],\\n\",","       \"       [0.21565482],\\n\",","       \"       [0.21354387],\\n\",","       \"       [0.21236173],\\n\",","       \"       [0.21337499],\\n\",","       \"       [0.22570295],\\n\",","       \"       [0.22705396],\\n\",","       \"       [0.22625179],\\n\",","       \"       [0.22511188],\\n\",","       \"       [0.22528076],\\n\",","       \"       [0.22979819],\\n\",","       \"       [0.22663177],\\n\",","       \"       [0.22511188],\\n\",","       \"       [0.22376087],\\n\",","       \"       [0.22304315],\\n\",","       \"       [0.21654142],\\n\",","       \"       [0.21725914],\\n\",","       \"       [0.21409271],\\n\",","       \"       [0.2173858 ],\\n\",","       \"       [0.214726  ],\\n\",","       \"       [0.21253061],\\n\",","       \"       [0.21996116],\\n\",","       \"       [0.21924343],\\n\",","       \"       [0.22502744],\\n\",","       \"       [0.22878494],\\n\",","       \"       [0.22519632],\\n\",","       \"       [0.22566073],\\n\",","       \"       [0.22506966],\\n\",","       \"       [0.23743984],\\n\",","       \"       [0.24136621],\\n\",","       \"       [0.23946635],\\n\",","       \"       [0.23722874],\\n\",","       \"       [0.24748797],\\n\",","       \"       [0.26458668],\\n\",","       \"       [0.26872414],\\n\",","       \"       [0.26564215],\\n\",","       \"       [0.26855526],\\n\",","       \"       [0.27763236],\\n\",","       \"       [0.2759436 ],\\n\",","       \"       [0.27497256],\\n\",","       \"       [0.25293422],\\n\",","       \"       [0.26260238],\\n\",","       \"       [0.26479777],\\n\",","       \"       [0.26872414],\\n\",","       \"       [0.26792198],\\n\",","       \"       [0.2659799 ],\\n\",","       \"       [0.26821751],\\n\",","       \"       [0.26711982],\\n\",","       \"       [0.26737313],\\n\",","       \"       [0.2635312 ],\\n\",","       \"       [0.2653044 ],\\n\",","       \"       [0.27488812],\\n\",","       \"       [0.26847083],\\n\",","       \"       [0.27066622],\\n\",","       \"       [0.27455037],\\n\",","       \"       [0.27294604],\\n\",","       \"       [0.24757241],\\n\",","       \"       [0.23254243],\\n\",","       \"       [0.23748206],\\n\",","       \"       [0.23144474],\\n\",","       \"       [0.22777168],\\n\",","       \"       [0.21924343],\\n\",","       \"       [0.23642658],\\n\",","       \"       [0.23081145],\\n\",","       \"       [0.23444229],\\n\",","       \"       [0.23342903],\\n\",","       \"       [0.23617327],\\n\",","       \"       [0.23423119],\\n\",","       \"       [0.22540741],\\n\",","       \"       [0.23427341],\\n\",","       \"       [0.22519632],\\n\",","       \"       [0.22663177],\\n\",","       \"       [0.22443638],\\n\",","       \"       [0.2269273 ],\\n\",","       \"       [0.22118551],\\n\",","       \"       [0.22730727],\\n\",","       \"       [0.23102254],\\n\",","       \"       [0.23300684],\\n\",","       \"       [0.23389344],\\n\",","       \"       [0.2424639 ],\\n\",","       \"       [0.24782572],\\n\",","       \"       [0.25002111],\\n\",","       \"       [0.2522165 ],\\n\",","       \"       [0.25618509],\\n\",","       \"       [0.25331419],\\n\",","       \"       [0.25301866],\\n\",","       \"       [0.26070252],\\n\",","       \"       [0.26344676],\\n\",","       \"       [0.26648653],\\n\",","       \"       [0.25424301],\\n\",","       \"       [0.2497678 ],\\n\",","       \"       [0.24651693],\\n\",","       \"       [0.25208984],\\n\",","       \"       [0.28202314],\\n\",","       \"       [0.27539475],\\n\",","       \"       [0.27885671],\\n\",","       \"       [0.28907371],\\n\",","       \"       [0.29443553],\\n\",","       \"       [0.298573  ],\\n\",","       \"       [0.27433927],\\n\",","       \"       [0.28345858],\\n\",","       \"       [0.29346449],\\n\",","       \"       [0.30085282],\\n\",","       \"       [0.29810859],\\n\",","       \"       [0.28506291],\\n\",","       \"       [0.28354302],\\n\",","       \"       [0.28231867],\\n\",","       \"       [0.29316896],\\n\",","       \"       [0.29401334],\\n\",","       \"       [0.29101579],\\n\",","       \"       [0.29350671],\\n\",","       \"       [0.30030398],\\n\",","       \"       [0.30638352],\\n\",","       \"       [0.30824116],\\n\",","       \"       [0.31098539],\\n\",","       \"       [0.31119649],\\n\",","       \"       [0.30287934],\\n\",","       \"       [0.30216161],\\n\",","       \"       [0.29941738],\\n\",","       \"       [0.28831377],\\n\",","       \"       [0.30043063],\\n\",","       \"       [0.29772862],\\n\",","       \"       [0.29262011],\\n\",","       \"       [0.28683611],\\n\",","       \"       [0.29359115],\\n\",","       \"       [0.28848265],\\n\",","       \"       [0.28873596],\\n\",","       \"       [0.2775057 ],\\n\",","       \"       [0.266191  ],\\n\",","       \"       [0.25985814],\\n\",","       \"       [0.25420079],\\n\",","       \"       [0.26513552],\\n\",","       \"       [0.2697374 ],\\n\",","       \"       [0.26572659],\\n\",","       \"       [0.26927299],\\n\",","       \"       [0.2679642 ],\\n\",","       \"       [0.27079287],\\n\",","       \"       [0.26657097],\\n\",","       \"       [0.27463481],\\n\",","       \"       [0.27425483],\\n\",","       \"       [0.27653466],\\n\",","       \"       [0.27678798],\\n\",","       \"       [0.27953221],\\n\",","       \"       [0.27721017],\\n\",","       \"       [0.28138985],\\n\",","       \"       [0.29359115],\\n\",","       \"       [0.29608207],\\n\",","       \"       [0.29308452],\\n\",","       \"       [0.27712573],\\n\",","       \"       [0.27826564],\\n\",","       \"       [0.27792789],\\n\",","       \"       [0.28185426],\\n\",","       \"       [0.27894115],\\n\",","       \"       [0.28316305],\\n\",","       \"       [0.30697458],\\n\",","       \"       [0.32246897],\\n\",","       \"       [0.33226378],\\n\",","       \"       [0.32318669],\\n\",","       \"       [0.32833741],\\n\",","       \"       [0.34687157],\\n\",","       \"       [0.3542599 ],\\n\",","       \"       [0.35662417],\\n\",","       \"       [0.36266149],\\n\",","       \"       [0.3611416 ],\\n\",","       \"       [0.3560331 ],\\n\",","       \"       [0.35307777],\\n\",","       \"       [0.34197416],\\n\",","       \"       [0.33243266],\\n\",","       \"       [0.34096091],\\n\",","       \"       [0.3369501 ],\\n\",","       \"       [0.33623237],\\n\",","       \"       [0.34957359],\\n\",","       \"       [0.35725745],\\n\",","       \"       [0.35729967],\\n\",","       \"       [0.3535844 ],\\n\",","       \"       [0.34927805],\\n\",","       \"       [0.33412142],\\n\",","       \"       [0.34412733],\\n\",","       \"       [0.34074981],\\n\",","       \"       [0.33547243],\\n\",","       \"       [0.33479693],\\n\",","       \"       [0.33213713],\\n\",","       \"       [0.33344592],\\n\",","       \"       [0.33365701],\\n\",","       \"       [0.34758929],\\n\",","       \"       [0.34349405],\\n\",","       \"       [0.34590053],\\n\",","       \"       [0.34568944],\\n\",","       \"       [0.35307777],\\n\",","       \"       [0.36342143],\\n\",","       \"       [0.35548425],\\n\",","       \"       [0.35468209],\\n\",","       \"       [0.35746855],\\n\",","       \"       [0.35746855],\\n\",","       \"       [0.3387233 ],\\n\",","       \"       [0.33884995],\\n\",","       \"       [0.34087647],\\n\",","       \"       [0.33306595],\\n\",","       \"       [0.34585831],\\n\",","       \"       [0.34573166],\\n\",","       \"       [0.34910918],\\n\",","       \"       [0.35742633],\\n\",","       \"       [0.35468209],\\n\",","       \"       [0.35459765],\\n\",","       \"       [0.35442878],\\n\",","       \"       [0.35860846],\\n\",","       \"       [0.36625011],\\n\",","       \"       [0.36245039],\\n\",","       \"       [0.37473613],\\n\",","       \"       [0.37541164],\\n\",","       \"       [0.37203411],\\n\",","       \"       [0.36587013],\\n\",","       \"       [0.36603901],\\n\",","       \"       [0.35413324],\\n\",","       \"       [0.34100312],\\n\",","       \"       [0.34269189],\\n\",","       \"       [0.32770413],\\n\",","       \"       [0.32352444],\\n\",","       \"       [0.32546652],\\n\",","       \"       [0.32694419],\\n\",","       \"       [0.29620873],\\n\",","       \"       [0.2792789 ],\\n\",","       \"       [0.30689015],\\n\",","       \"       [0.2921557 ],\\n\",","       \"       [0.27362155],\\n\",","       \"       [0.27894115],\\n\",","       \"       [0.30553914],\\n\",","       \"       [0.31242084],\\n\",","       \"       [0.32521321],\\n\",","       \"       [0.3489403 ],\\n\",","       \"       [0.34657604],\\n\",","       \"       [0.34412733],\\n\",","       \"       [0.34083425],\\n\",","       \"       [0.34687157],\\n\",","       \"       [0.35953728],\\n\",","       \"       [0.37418728],\\n\",","       \"       [0.37173858],\\n\",","       \"       [0.37059867],\\n\",","       \"       [0.35742633],\\n\",","       \"       [0.36253483],\\n\",","       \"       [0.36511019],\\n\",","       \"       [0.36447691],\\n\",","       \"       [0.35755298],\\n\",","       \"       [0.36561682],\\n\",","       \"       [0.37845141],\\n\",","       \"       [0.38579752],\\n\",","       \"       [0.37840919],\\n\",","       \"       [0.37194967],\\n\",","       \"       [0.37283627],\\n\",","       \"       [0.37017648],\\n\",","       \"       [0.3586929 ],\\n\",","       \"       [0.35843958],\\n\",","       \"       [0.34167863],\\n\",","       \"       [0.33146162],\\n\",","       \"       [0.31495398],\\n\",","       \"       [0.34801148],\\n\",","       \"       [0.32930845],\\n\",","       \"       [0.32145571],\\n\",","       \"       [0.32694419],\\n\",","       \"       [0.32230009],\\n\",","       \"       [0.32951955],\\n\",","       \"       [0.34311408],\\n\",","       \"       [0.34813814],\\n\",","       \"       [0.32947733],\\n\",","       \"       [0.33652791],\\n\",","       \"       [0.350038  ],\\n\",","       \"       [0.34661826],\\n\",","       \"       [0.35379549],\\n\",","       \"       [0.35628641],\\n\",","       \"       [0.36088829],\\n\",","       \"       [0.37110529],\\n\",","       \"       [0.36941653],\\n\",","       \"       [0.34813814],\\n\",","       \"       [0.31824707],\\n\",","       \"       [0.31622055],\\n\",","       \"       [0.30651017],\\n\",","       \"       [0.30950773],\\n\",","       \"       [0.31191421],\\n\",","       \"       [0.30389259],\\n\",","       \"       [0.31630499],\\n\",","       \"       [0.3325171 ],\\n\",","       \"       [0.36405472],\\n\",","       \"       [0.36540572],\\n\",","       \"       [0.39470573],\\n\",","       \"       [0.40032086],\\n\",","       \"       [0.40407836],\\n\",","       \"       [0.40960905],\\n\",","       \"       [0.42092375],\\n\",","       \"       [0.41480199],\\n\",","       \"       [0.41294436],\\n\",","       \"       [0.4057249 ],\\n\",","       \"       [0.41307101],\\n\",","       \"       [0.40804695],\\n\",","       \"       [0.40517605],\\n\",","       \"       [0.41074897],\\n\",","       \"       [0.40876467],\\n\",","       \"       [0.41383095],\\n\",","       \"       [0.41294436],\\n\",","       \"       [0.41475977],\\n\",","       \"       [0.41188888],\\n\",","       \"       [0.41020012],\\n\",","       \"       [0.40754032],\\n\",","       \"       [0.42176813],\\n\",","       \"       [0.42848096],\\n\",","       \"       [0.43472938],\\n\",","       \"       [0.43755805],\\n\",","       \"       [0.43536266],\\n\",","       \"       [0.42793211],\\n\",","       \"       [0.42594782],\\n\",","       \"       [0.43038082],\\n\",","       \"       [0.42371021],\\n\",","       \"       [0.4241324 ],\\n\",","       \"       [0.41585747],\\n\",","       \"       [0.41543528],\\n\",","       \"       [0.40255847],\\n\",","       \"       [0.40597821],\\n\",","       \"       [0.40158744],\\n\",","       \"       [0.39930761],\\n\",","       \"       [0.38769737],\\n\",","       \"       [0.39723888],\\n\",","       \"       [0.39609896],\\n\",","       \"       [0.40175631],\\n\",","       \"       [0.40010977],\\n\",","       \"       [0.40884911],\\n\",","       \"       [0.3950857 ],\\n\",","       \"       [0.40133412],\\n\",","       \"       [0.41218441],\\n\",","       \"       [0.42320358],\\n\",","       \"       [0.42223254],\\n\",","       \"       [0.41180444],\\n\",","       \"       [0.42510344],\\n\",","       \"       [0.42637001],\\n\",","       \"       [0.42459681],\\n\",","       \"       [0.42687664],\\n\",","       \"       [0.42244364],\\n\",","       \"       [0.42869205],\\n\",","       \"       [0.42683442],\\n\",","       \"       [0.42755214],\\n\",","       \"       [0.43342059],\\n\",","       \"       [0.44110445],\\n\",","       \"       [0.43852909],\\n\",","       \"       [0.42489234],\\n\",","       \"       [0.42037491],\\n\",","       \"       [0.42197923],\\n\",","       \"       [0.46930676],\\n\",","       \"       [0.49417377],\\n\",","       \"       [0.49670692],\\n\",","       \"       [0.50126657],\\n\",","       \"       [0.49299164],\\n\",","       \"       [0.49358271],\\n\",","       \"       [0.50046441],\\n\",","       \"       [0.49476484],\\n\",","       \"       [0.50042219],\\n\",","       \"       [0.50413747],\\n\",","       \"       [0.5062062 ],\\n\",","       \"       [0.51920966],\\n\",","       \"       [0.53719497],\\n\",","       \"       [0.52824453],\\n\",","       \"       [0.52647133]])\"","      ]","     },","     \"execution_count\": 422,","     \"metadata\": {},","     \"output_type\": \"execute_result\"","    }","   ],","   \"source\": [","    \"train_data\"","   ]","  },","  {","   \"cell_type\": \"code\",","   \"execution_count\": 423,","   \"metadata\": {},","   \"outputs\": [],","   \"source\": [","    \"import numpy\\n\",","    \"# convert an array of values into a dataset matrix\\n\",","    \"def create_dataset(dataset, time_step=1):\\n\",","    \"\\tdataX, dataY = [], []\\n\",","    \"\\tfor i in range(len(dataset)-time_step-1):\\n\",","    \"\\t\\ta = dataset[i:(i+time_step), 0]   ###i=0, 0,1,2,3-----99   100 \\n\",","    \"\\t\\tdataX.append(a)\\n\",","    \"\\t\\tdataY.append(dataset[i + time_step, 0])\\n\",","    \"\\treturn numpy.array(dataX), numpy.array(dataY)\"","   ]","  },","  {","   \"cell_type\": \"code\",","   \"execution_count\": 424,","   \"metadata\": {},","   \"outputs\": [],","   \"source\": [","    \"# reshape into X=t,t+1,t+2,t+3 and Y=t+4\\n\",","    \"time_step = 100\\n\",","    \"X_train, y_train = create_dataset(train_data, time_step)\\n\",","    \"X_test, ytest = create_dataset(test_data, time_step)\"","   ]","  },","  {","   \"cell_type\": \"code\",","   \"execution_count\": 426,","   \"metadata\": {},","   \"outputs\": [","    {","     \"name\": \"stdout\",","     \"output_type\": \"stream\",","     \"text\": [","      \"(716, 100)\\n\",","      \"(716,)\\n\"","     ]","    },","    {","     \"data\": {","      \"text/plain\": [","       \"(None, None)\"","      ]","     },","     \"execution_count\": 426,","     \"metadata\": {},","     \"output_type\": \"execute_result\"","    }","   ],","   \"source\": [","    \"print(X_train.shape), print(y_train.shape)\"","   ]","  },","  {","   \"cell_type\": \"code\",","   \"execution_count\": 299,","   \"metadata\": {},","   \"outputs\": [","    {","     \"name\": \"stdout\",","     \"output_type\": \"stream\",","     \"text\": [","      \"(340, 100)\\n\",","      \"(340,)\\n\"","     ]","    },","    {","     \"data\": {","      \"text/plain\": [","       \"(None, None)\"","      ]","     },","     \"execution_count\": 299,","     \"metadata\": {},","     \"output_type\": \"execute_result\"","    }","   ],","   \"source\": [","    \"print(X_test.shape), print(ytest.shape)\"","   ]","  },","  {","   \"cell_type\": \"code\",","   \"execution_count\": 427,","   \"metadata\": {},","   \"outputs\": [],","   \"source\": [","    \"# reshape input to be [samples, time steps, features] which is required for LSTM\\n\",","    \"X_train =X_train.reshape(X_train.shape[0],X_train.shape[1] , 1)\\n\",","    \"X_test = X_test.reshape(X_test.shape[0],X_test.shape[1] , 1)\"","   ]","  },","  {","   \"cell_type\": \"code\",","   \"execution_count\": 428,","   \"metadata\": {},","   \"outputs\": [],","   \"source\": [","    \"### Create the Stacked LSTM model\\n\",","    \"from tensorflow.keras.models import Sequential\\n\",","    \"from tensorflow.keras.layers import Dense\\n\",","    \"from tensorflow.keras.layers import LSTM\"","   ]","  },","  {","   \"cell_type\": \"code\",","   \"execution_count\": 429,","   \"metadata\": {},","   \"outputs\": [],","   \"source\": [","    \"model=Sequential()\\n\",","    \"model.add(LSTM(50,return_sequences=True,input_shape=(100,1)))\\n\",","    \"model.add(LSTM(50,return_sequences=True))\\n\",","    \"model.add(LSTM(50))\\n\",","    \"model.add(Dense(1))\\n\",","    \"model.compile(loss='mean_squared_error',optimizer='adam')\\n\"","   ]","  },","  {","   \"cell_type\": \"code\",","   \"execution_count\": 430,","   \"metadata\": {},","   \"outputs\": [","    {","     \"name\": \"stdout\",","     \"output_type\": \"stream\",","     \"text\": [","      \"Model: \\\"sequential_3\\\"\\n\",","      \"_________________________________________________________________\\n\",","      \"Layer (type)                 Output Shape              Param #   \\n\",","      \"=================================================================\\n\",","      \"lstm_7 (LSTM)                (None, 100, 50)           10400     \\n\",","      \"_________________________________________________________________\\n\",","      \"lstm_8 (LSTM)                (None, 100, 50)           20200     \\n\",","      \"_________________________________________________________________\\n\",","      \"lstm_9 (LSTM)                (None, 50)                20200     \\n\",","      \"_________________________________________________________________\\n\",","      \"dense_3 (Dense)              (None, 1)                 51        \\n\",","      \"=================================================================\\n\",","      \"Total params: 50,851\\n\",","      \"Trainable params: 50,851\\n\",","      \"Non-trainable params: 0\\n\",","      \"_________________________________________________________________\\n\"","     ]","    }","   ],","   \"source\": [","    \"model.summary()\"","   ]","  },","  {","   \"cell_type\": \"code\",","   \"execution_count\": 306,","   \"metadata\": {},","   \"outputs\": [","    {","     \"name\": \"stdout\",","     \"output_type\": \"stream\",","     \"text\": [","      \"Model: \\\"sequential_2\\\"\\n\",","      \"_________________________________________________________________\\n\",","      \"Layer (type)                 Output Shape              Param #   \\n\",","      \"=================================================================\\n\",","      \"lstm_4 (LSTM)                (None, 100, 50)           10400     \\n\",","      \"_________________________________________________________________\\n\",","      \"lstm_5 (LSTM)                (None, 100, 50)           20200     \\n\",","      \"_________________________________________________________________\\n\",","      \"lstm_6 (LSTM)                (None, 50)                20200     \\n\",","      \"_________________________________________________________________\\n\",","      \"dense_2 (Dense)              (None, 1)                 51        \\n\",","      \"=================================================================\\n\",","      \"Total params: 50,851\\n\",","      \"Trainable params: 50,851\\n\",","      \"Non-trainable params: 0\\n\",","      \"_________________________________________________________________\\n\"","     ]","    }","   ],","   \"source\": [","    \"model.summary()\"","   ]","  },","  {","   \"cell_type\": \"code\",","   \"execution_count\": null,","   \"metadata\": {},","   \"outputs\": [],","   \"source\": []","  },","  {","   \"cell_type\": \"code\",","   \"execution_count\": 431,","   \"metadata\": {},","   \"outputs\": [","    {","     \"name\": \"stdout\",","     \"output_type\": \"stream\",","     \"text\": [","      \"Epoch 1/100\\n\",","      \"12/12 [==============================] - 6s 487ms/step - loss: 0.0206 - val_loss: 0.0505\\n\",","      \"Epoch 2/100\\n\",","      \"12/12 [==============================] - 4s 309ms/step - loss: 0.0035 - val_loss: 0.0046\\n\",","      \"Epoch 3/100\\n\",","      \"12/12 [==============================] - 4s 300ms/step - loss: 0.0014 - val_loss: 0.0040\\n\",","      \"Epoch 4/100\\n\",","      \"12/12 [==============================] - 3s 287ms/step - loss: 8.1361e-04 - val_loss: 0.0073\\n\",","      \"Epoch 5/100\\n\",","      \"12/12 [==============================] - 3s 290ms/step - loss: 6.6860e-04 - val_loss: 0.0062\\n\",","      \"Epoch 6/100\\n\",","      \"12/12 [==============================] - 3s 255ms/step - loss: 6.4653e-04 - val_loss: 0.0062\\n\",","      \"Epoch 7/100\\n\",","      \"12/12 [==============================] - 3s 291ms/step - loss: 6.6186e-04 - val_loss: 0.0062\\n\",","      \"Epoch 8/100\\n\",","      \"12/12 [==============================] - 4s 300ms/step - loss: 6.2498e-04 - val_loss: 0.0049\\n\",","      \"Epoch 9/100\\n\",","      \"12/12 [==============================] - 4s 297ms/step - loss: 6.2745e-04 - val_loss: 0.0042\\n\",","      \"Epoch 10/100\\n\",","      \"12/12 [==============================] - 4s 303ms/step - loss: 6.0206e-04 - val_loss: 0.0050\\n\",","      \"Epoch 11/100\\n\",","      \"12/12 [==============================] - 4s 298ms/step - loss: 5.9884e-04 - val_loss: 0.0061\\n\",","      \"Epoch 12/100\\n\",","      \"12/12 [==============================] - 4s 304ms/step - loss: 6.1458e-04 - val_loss: 0.0044\\n\",","      \"Epoch 13/100\\n\",","      \"12/12 [==============================] - 4s 304ms/step - loss: 5.6830e-04 - val_loss: 0.0041\\n\",","      \"Epoch 14/100\\n\",","      \"12/12 [==============================] - 3s 262ms/step - loss: 5.5734e-04 - val_loss: 0.0038\\n\",","      \"Epoch 15/100\\n\",","      \"12/12 [==============================] - 3s 244ms/step - loss: 5.5456e-04 - val_loss: 0.0034\\n\",","      \"Epoch 16/100\\n\",","      \"12/12 [==============================] - 3s 277ms/step - loss: 5.3865e-04 - val_loss: 0.0034\\n\",","      \"Epoch 17/100\\n\",","      \"12/12 [==============================] - 3s 271ms/step - loss: 5.3872e-04 - val_loss: 0.0032\\n\",","      \"Epoch 18/100\\n\",","      \"12/12 [==============================] - 3s 260ms/step - loss: 5.2315e-04 - val_loss: 0.0030\\n\",","      \"Epoch 19/100\\n\",","      \"12/12 [==============================] - 3s 275ms/step - loss: 5.1791e-04 - val_loss: 0.0029\\n\",","      \"Epoch 20/100\\n\",","      \"12/12 [==============================] - 3s 274ms/step - loss: 5.0077e-04 - val_loss: 0.0028\\n\",","      \"Epoch 21/100\\n\",","      \"12/12 [==============================] - 3s 273ms/step - loss: 4.8672e-04 - val_loss: 0.0032\\n\",","      \"Epoch 22/100\\n\",","      \"12/12 [==============================] - 3s 270ms/step - loss: 4.9148e-04 - val_loss: 0.0026\\n\",","      \"Epoch 23/100\\n\",","      \"12/12 [==============================] - 3s 283ms/step - loss: 4.9279e-04 - val_loss: 0.0026\\n\",","      \"Epoch 24/100\\n\",","      \"12/12 [==============================] - 4s 308ms/step - loss: 5.2013e-04 - val_loss: 0.0024\\n\",","      \"Epoch 25/100\\n\",","      \"12/12 [==============================] - 3s 275ms/step - loss: 5.7301e-04 - val_loss: 0.0024\\n\",","      \"Epoch 26/100\\n\",","      \"12/12 [==============================] - 4s 295ms/step - loss: 5.5014e-04 - val_loss: 0.0030\\n\",","      \"Epoch 27/100\\n\",","      \"12/12 [==============================] - 4s 301ms/step - loss: 4.8608e-04 - val_loss: 0.0022\\n\",","      \"Epoch 28/100\\n\",","      \"12/12 [==============================] - 3s 278ms/step - loss: 4.4525e-04 - val_loss: 0.0022\\n\",","      \"Epoch 29/100\\n\",","      \"12/12 [==============================] - 4s 299ms/step - loss: 4.2446e-04 - val_loss: 0.0028\\n\",","      \"Epoch 30/100\\n\",","      \"12/12 [==============================] - 4s 302ms/step - loss: 4.9896e-04 - val_loss: 0.0023\\n\",","      \"Epoch 31/100\\n\",","      \"12/12 [==============================] - 3s 278ms/step - loss: 4.7568e-04 - val_loss: 0.0022\\n\",","      \"Epoch 32/100\\n\",","      \"12/12 [==============================] - 4s 294ms/step - loss: 4.3184e-04 - val_loss: 0.0027\\n\",","      \"Epoch 33/100\\n\",","      \"12/12 [==============================] - 4s 292ms/step - loss: 4.1365e-04 - val_loss: 0.0025\\n\",","      \"Epoch 34/100\\n\",","      \"12/12 [==============================] - 3s 276ms/step - loss: 4.0967e-04 - val_loss: 0.0022\\n\",","      \"Epoch 35/100\\n\",","      \"12/12 [==============================] - 3s 250ms/step - loss: 3.9084e-04 - val_loss: 0.0018\\n\",","      \"Epoch 36/100\\n\",","      \"12/12 [==============================] - 3s 291ms/step - loss: 3.8744e-04 - val_loss: 0.0016\\n\",","      \"Epoch 37/100\\n\",","      \"12/12 [==============================] - 3s 254ms/step - loss: 3.6441e-04 - val_loss: 0.0024\\n\",","      \"Epoch 38/100\\n\",","      \"12/12 [==============================] - 3s 272ms/step - loss: 4.3088e-04 - val_loss: 0.0025\\n\",","      \"Epoch 39/100\\n\",","      \"12/12 [==============================] - 3s 259ms/step - loss: 4.1398e-04 - val_loss: 0.0016\\n\",","      \"Epoch 40/100\\n\",","      \"12/12 [==============================] - 3s 274ms/step - loss: 3.8981e-04 - val_loss: 0.0016\\n\",","      \"Epoch 41/100\\n\",","      \"12/12 [==============================] - 3s 261ms/step - loss: 3.4896e-04 - val_loss: 0.0028\\n\",","      \"Epoch 42/100\\n\",","      \"12/12 [==============================] - 3s 282ms/step - loss: 3.7910e-04 - val_loss: 0.0014\\n\",","      \"Epoch 43/100\\n\",","      \"12/12 [==============================] - 3s 274ms/step - loss: 3.6404e-04 - val_loss: 0.0022\\n\",","      \"Epoch 44/100\\n\",","      \"12/12 [==============================] - 3s 277ms/step - loss: 3.8073e-04 - val_loss: 0.0014\\n\",","      \"Epoch 45/100\\n\",","      \"12/12 [==============================] - 3s 276ms/step - loss: 4.0008e-04 - val_loss: 0.0016\\n\",","      \"Epoch 46/100\\n\",","      \"12/12 [==============================] - 3s 273ms/step - loss: 4.0253e-04 - val_loss: 0.0015\\n\",","      \"Epoch 47/100\\n\",","      \"12/12 [==============================] - 3s 286ms/step - loss: 3.5930e-04 - val_loss: 0.0018\\n\",","      \"Epoch 48/100\\n\",","      \"12/12 [==============================] - 3s 264ms/step - loss: 3.0690e-04 - val_loss: 0.0016\\n\",","      \"Epoch 49/100\\n\",","      \"12/12 [==============================] - 3s 288ms/step - loss: 3.0504e-04 - val_loss: 0.0022\\n\",","      \"Epoch 50/100\\n\",","      \"12/12 [==============================] - 3s 277ms/step - loss: 3.1205e-04 - val_loss: 0.0016\\n\",","      \"Epoch 51/100\\n\",","      \"12/12 [==============================] - 3s 291ms/step - loss: 2.8386e-04 - val_loss: 0.0014\\n\",","      \"Epoch 52/100\\n\",","      \"12/12 [==============================] - 3s 282ms/step - loss: 2.9832e-04 - val_loss: 0.0016\\n\",","      \"Epoch 53/100\\n\",","      \"12/12 [==============================] - 3s 287ms/step - loss: 2.8287e-04 - val_loss: 0.0018\\n\",","      \"Epoch 54/100\\n\",","      \"12/12 [==============================] - 3s 286ms/step - loss: 2.8193e-04 - val_loss: 0.0013\\n\",","      \"Epoch 55/100\\n\",","      \"12/12 [==============================] - 4s 295ms/step - loss: 2.8989e-04 - val_loss: 0.0026\\n\",","      \"Epoch 56/100\\n\",","      \"12/12 [==============================] - 3s 262ms/step - loss: 2.7761e-04 - val_loss: 0.0014\\n\",","      \"Epoch 57/100\\n\",","      \"12/12 [==============================] - 3s 270ms/step - loss: 2.6088e-04 - val_loss: 0.0016\\n\",","      \"Epoch 58/100\\n\",","      \"12/12 [==============================] - 3s 289ms/step - loss: 2.7300e-04 - val_loss: 0.0013\\n\",","      \"Epoch 59/100\\n\",","      \"12/12 [==============================] - 3s 288ms/step - loss: 2.6058e-04 - val_loss: 0.0020\\n\",","      \"Epoch 60/100\\n\",","      \"12/12 [==============================] - 3s 285ms/step - loss: 2.5682e-04 - val_loss: 0.0014\\n\",","      \"Epoch 61/100\\n\",","      \"12/12 [==============================] - 3s 285ms/step - loss: 2.4091e-04 - val_loss: 0.0013\\n\",","      \"Epoch 62/100\\n\",","      \"12/12 [==============================] - 4s 296ms/step - loss: 2.2724e-04 - val_loss: 0.0016\\n\",","      \"Epoch 63/100\\n\",","      \"12/12 [==============================] - 3s 258ms/step - loss: 2.3206e-04 - val_loss: 0.0012\\n\",","      \"Epoch 64/100\\n\",","      \"12/12 [==============================] - 3s 277ms/step - loss: 2.4468e-04 - val_loss: 0.0014\\n\",","      \"Epoch 65/100\\n\",","      \"12/12 [==============================] - 3s 266ms/step - loss: 2.2395e-04 - val_loss: 0.0012\\n\",","      \"Epoch 66/100\\n\",","      \"12/12 [==============================] - 3s 263ms/step - loss: 2.1142e-04 - val_loss: 0.0012\\n\",","      \"Epoch 67/100\\n\",","      \"12/12 [==============================] - 3s 281ms/step - loss: 2.0540e-04 - val_loss: 0.0016\\n\",","      \"Epoch 68/100\\n\",","      \"12/12 [==============================] - 4s 297ms/step - loss: 2.0560e-04 - val_loss: 0.0012\\n\",","      \"Epoch 69/100\\n\",","      \"12/12 [==============================] - 3s 218ms/step - loss: 1.9982e-04 - val_loss: 0.0014\\n\",","      \"Epoch 70/100\\n\",","      \"12/12 [==============================] - 3s 257ms/step - loss: 2.3622e-04 - val_loss: 0.0015\\n\",","      \"Epoch 71/100\\n\",","      \"12/12 [==============================] - 3s 283ms/step - loss: 2.6216e-04 - val_loss: 0.0012\\n\",","      \"Epoch 72/100\\n\",","      \"12/12 [==============================] - 3s 282ms/step - loss: 2.4869e-04 - val_loss: 0.0017\\n\",","      \"Epoch 73/100\\n\",","      \"12/12 [==============================] - 3s 280ms/step - loss: 2.1853e-04 - val_loss: 0.0013\\n\",","      \"Epoch 74/100\\n\",","      \"12/12 [==============================] - 3s 244ms/step - loss: 2.2121e-04 - val_loss: 0.0014\\n\",","      \"Epoch 75/100\\n\",","      \"12/12 [==============================] - 3s 283ms/step - loss: 1.9690e-04 - val_loss: 0.0011\\n\",","      \"Epoch 76/100\\n\",","      \"12/12 [==============================] - 3s 261ms/step - loss: 2.2144e-04 - val_loss: 0.0011\\n\",","      \"Epoch 77/100\\n\",","      \"12/12 [==============================] - 3s 282ms/step - loss: 1.8420e-04 - val_loss: 0.0011\\n\",","      \"Epoch 78/100\\n\"","     ]","    },","    {","     \"name\": \"stdout\",","     \"output_type\": \"stream\",","     \"text\": [","      \"12/12 [==============================] - 3s 282ms/step - loss: 1.7841e-04 - val_loss: 0.0014\\n\",","      \"Epoch 79/100\\n\",","      \"12/12 [==============================] - 3s 260ms/step - loss: 1.9611e-04 - val_loss: 0.0013\\n\",","      \"Epoch 80/100\\n\",","      \"12/12 [==============================] - 3s 281ms/step - loss: 2.0224e-04 - val_loss: 0.0012\\n\",","      \"Epoch 81/100\\n\",","      \"12/12 [==============================] - 3s 290ms/step - loss: 2.1049e-04 - val_loss: 0.0020\\n\",","      \"Epoch 82/100\\n\",","      \"12/12 [==============================] - 3s 288ms/step - loss: 1.9466e-04 - val_loss: 0.0010\\n\",","      \"Epoch 83/100\\n\",","      \"12/12 [==============================] - 3s 284ms/step - loss: 1.5801e-04 - val_loss: 0.0010\\n\",","      \"Epoch 84/100\\n\",","      \"12/12 [==============================] - 3s 272ms/step - loss: 1.6260e-04 - val_loss: 9.4397e-04\\n\",","      \"Epoch 85/100\\n\",","      \"12/12 [==============================] - 3s 249ms/step - loss: 1.5695e-04 - val_loss: 0.0013\\n\",","      \"Epoch 86/100\\n\",","      \"12/12 [==============================] - 3s 242ms/step - loss: 2.0192e-04 - val_loss: 9.7445e-04\\n\",","      \"Epoch 87/100\\n\",","      \"12/12 [==============================] - 3s 271ms/step - loss: 2.2179e-04 - val_loss: 0.0020\\n\",","      \"Epoch 88/100\\n\",","      \"12/12 [==============================] - 3s 249ms/step - loss: 2.5509e-04 - val_loss: 0.0015\\n\",","      \"Epoch 89/100\\n\",","      \"12/12 [==============================] - 3s 261ms/step - loss: 1.9912e-04 - val_loss: 0.0011\\n\",","      \"Epoch 90/100\\n\",","      \"12/12 [==============================] - 3s 265ms/step - loss: 1.6930e-04 - val_loss: 8.9285e-04\\n\",","      \"Epoch 91/100\\n\",","      \"12/12 [==============================] - 3s 276ms/step - loss: 1.6435e-04 - val_loss: 9.1264e-04\\n\",","      \"Epoch 92/100\\n\",","      \"12/12 [==============================] - 3s 259ms/step - loss: 1.6799e-04 - val_loss: 0.0014\\n\",","      \"Epoch 93/100\\n\",","      \"12/12 [==============================] - 3s 282ms/step - loss: 1.9593e-04 - val_loss: 0.0016\\n\",","      \"Epoch 94/100\\n\",","      \"12/12 [==============================] - 3s 287ms/step - loss: 1.8104e-04 - val_loss: 0.0010\\n\",","      \"Epoch 95/100\\n\",","      \"12/12 [==============================] - 3s 277ms/step - loss: 1.3988e-04 - val_loss: 8.5343e-04\\n\",","      \"Epoch 96/100\\n\",","      \"12/12 [==============================] - 3s 280ms/step - loss: 1.4097e-04 - val_loss: 9.3255e-04\\n\",","      \"Epoch 97/100\\n\",","      \"12/12 [==============================] - 3s 287ms/step - loss: 1.4070e-04 - val_loss: 8.3848e-04\\n\",","      \"Epoch 98/100\\n\",","      \"12/12 [==============================] - 3s 290ms/step - loss: 1.3528e-04 - val_loss: 8.4349e-04\\n\",","      \"Epoch 99/100\\n\",","      \"12/12 [==============================] - 3s 288ms/step - loss: 1.4087e-04 - val_loss: 9.8092e-04\\n\",","      \"Epoch 100/100\\n\",","      \"12/12 [==============================] - 3s 285ms/step - loss: 1.4775e-04 - val_loss: 9.3230e-04\\n\"","     ]","    },","    {","     \"data\": {","      \"text/plain\": [","       \"\u003ctensorflow.python.keras.callbacks.History at 0x2d1aa544a58\u003e\"","      ]","     },","     \"execution_count\": 431,","     \"metadata\": {},","     \"output_type\": \"execute_result\"","    }","   ],","   \"source\": [","    \"model.fit(X_train,y_train,validation_data=(X_test,ytest),epochs=100,batch_size=64,verbose=1)\"","   ]","  },","  {","   \"cell_type\": \"code\",","   \"execution_count\": 37,","   \"metadata\": {},","   \"outputs\": [],","   \"source\": [","    \"import tensorflow as tf\"","   ]","  },","  {","   \"cell_type\": \"code\",","   \"execution_count\": 39,","   \"metadata\": {},","   \"outputs\": [","    {","     \"data\": {","      \"text/plain\": [","       \"'2.1.0'\"","      ]","     },","     \"execution_count\": 39,","     \"metadata\": {},","     \"output_type\": \"execute_result\"","    }","   ],","   \"source\": [","    \"tf.__version__\"","   ]","  },","  {","   \"cell_type\": \"code\",","   \"execution_count\": 432,","   \"metadata\": {},","   \"outputs\": [],","   \"source\": [","    \"### Lets Do the prediction and check performance metrics\\n\",","    \"train_predict=model.predict(X_train)\\n\",","    \"test_predict=model.predict(X_test)\"","   ]","  },","  {","   \"cell_type\": \"code\",","   \"execution_count\": 433,","   \"metadata\": {},","   \"outputs\": [],","   \"source\": [","    \"##Transformback to original form\\n\",","    \"train_predict=scaler.inverse_transform(train_predict)\\n\",","    \"test_predict=scaler.inverse_transform(test_predict)\"","   ]","  },","  {","   \"cell_type\": \"code\",","   \"execution_count\": 434,","   \"metadata\": {},","   \"outputs\": [","    {","     \"data\": {","      \"text/plain\": [","       \"140.9909210035748\"","      ]","     },","     \"execution_count\": 434,","     \"metadata\": {},","     \"output_type\": \"execute_result\"","    }","   ],","   \"source\": [","    \"### Calculate RMSE performance metrics\\n\",","    \"import math\\n\",","    \"from sklearn.metrics import mean_squared_error\\n\",","    \"math.sqrt(mean_squared_error(y_train,train_predict))\"","   ]","  },","  {","   \"cell_type\": \"code\",","   \"execution_count\": 435,","   \"metadata\": {},","   \"outputs\": [","    {","     \"data\": {","      \"text/plain\": [","       \"235.7193088627771\"","      ]","     },","     \"execution_count\": 435,","     \"metadata\": {},","     \"output_type\": \"execute_result\"","    }","   ],","   \"source\": [","    \"### Test Data RMSE\\n\",","    \"math.sqrt(mean_squared_error(ytest,test_predict))\"","   ]","  },","  {","   \"cell_type\": \"code\",","   \"execution_count\": 436,","   \"metadata\": {},","   \"outputs\": [","    {","     \"data\": {","      \"image/png\": \"iVBORw0KGgoAAAANSUhEUgAAAXcAAAD4CAYAAAAXUaZHAAAABHNCSVQICAgIfAhkiAAAAAlwSFlzAAALEgAACxIB0t1+/AAAADh0RVh0U29mdHdhcmUAbWF0cGxvdGxpYiB2ZXJzaW9uMy4yLjEsIGh0dHA6Ly9tYXRwbG90bGliLm9yZy+j8jraAAAgAElEQVR4nO3dd3gdxdX48e/ZvUVdsmVZttzk3sBgMGCaaaYTDIEEE3poeYEESIXkR14Seg8hCdW0vIQSOphiYww21QWDe69yU+/S1S3z+2Ov5Curl6t6Ps/jR7uzs3vPYnw0d3Z2RowxKKWU6lmszg5AKaVU+9PkrpRSPZAmd6WU6oE0uSulVA+kyV0ppXogV2cHANCvXz+TmZnZ2WEopVS3snTp0lxjTFp9x7pEcs/MzGTJkiWdHYZSSnUrIrKtoWPaLaOUUj2QJnellOqBNLkrpVQPpMldKaV6IE3uSinVA2lyV0qpHkiTu1JK9UCa3JVSqhWWbstn1a6izg6jQV3iJSallOpuznv8awC23ntmJ0dSP03uSinVApX+IE98vqlm3x8M4ba7XieIJnellGqmbXllHPfAZ7XK3liaxczDh3ZOQI3oer9ulFKqi8oqqKi1b8dt5pa3u+a8WJrclVKqmaoCoZptK3YbccOewpM6vxMjapgmd6WUaqYKfxAAy7OX+MzHw9u5nRlSgzS5K6VUM3y6di/XvfQddsJaYoc+W1Nux22hzF/W4uttyS0j85bZzPpiS3uGWUOTu1JKNcPPn3f61uOGPI/l3je+3XKVsaWo5Qn6n/M3AnDH+6vbJ8D9aHJXSqkmnPXYwjpllthM7/s7APaUZbf4mgleZ7BiZmpc24JrgCZ3pZRqwsqdxXXKRiSNZUjCWAD2lLas333dnhJ84Yezz1w2pe0B1kPHuSulVDOJq7BmO9GdSKInHoASX2mzr1HpD3Lq3xbU7I/ol9B+AUbQlrtSSjUiFDI12wmj763ZdltuEj1Ol0qpv7LZ1yuu8NfatyxpY4T10+SulFKNqAw4wx/FnVer3BJI8MRgjFBWVVHfqfUqrEnuIey4DeRWRGcopSZ3pZRqRHmVk9xdCWtrlVuWhcdlgXFTEWh+ci8KJ3exy4gbNou52+a2X7CR8UXlqkop1UNs2Ov0px8yuvZY9vF9x+N2WZiQm8pA87tlisrDyd3lPKRNi01rp0hr0+SulFKN2JpXhjt5MatLPoWqNErW3EXFrvO45qCr8dgWtDS5V7fcXSUApMVFJ7nraBmllGpEmS+Au++XAJw48iBuPvckNuUcQZzbi9suwxg3lcGWJXdx5+Pp8w0QvZa7JnellGpESWUAE0gG9nD3sXcS744ns58zBNJtC4Q8+FqY3OMy/4HlKgegX2y/aISt3TJKKdWYMl8A21XO0RlHE++Or3XMbVsY48YX9DX7ekUV/prEDuCxPe0WayRN7kop1YiyqgCWXUGSN6nOMY/L6XMv9hdw8QcX88HmD5q8XtF+49yjpcnkLiIxIrJIRH4QkVUi8pdweV8RmSsiG8I/+0Scc6uIbBSRdSJyajRvQCmloqnUFwS7nBRvSp1j1S337Mpt/JDzAw8sfrDJ6xVV+BHjjUaotTSn5e4DTjTGHAQcDJwmIlOBW4B5xpjRwLzwPiIyAZgJTAROA/4lInY0gldKqWgyxlBc6cNIBcne5DrHnT53d81+SVVJk9csrPBhqGJE8ghmnTKrXeON1GRyN47qiRPc4T8GmAG8EC5/ATgnvD0DeMUY4zPGbAE2Aoe3a9RKKdUBfvf6cj7fuB3E1Nty94Rb7tUCJtDkNQsrS0AM540+j8MHRi81NqvPXURsEfkeyAbmGmO+BdKNMbsBwj/7h6sPAnZEnJ4VLtv/mteIyBIRWZKTk9OWe1BKqah4fWkWYjsPP+trubtsC0L7HoiGTLDJaxZVOnPB19eH356aldyNMUFjzMHAYOBwETmgker1zYJj6hQY85QxZooxZkpaWnTGeSqlVFvVJHdP/d0yJqJbxtRNdbUYYyj1O103SZ4ukNyrGWMKgc9w+tL3ishAgPDP6tnqs4AhEacNBna1OVKllOpgo/onILYzb0xDD1SJ6JZxibtOnUiV/hABcXq56/sm0J6aM1omTURSwtuxwHRgLfAucFm42mXAO+Htd4GZIuIVkeHAaGBReweulFLRlpbgZXi6M4a9T0yfOsfdtoWJ6Jaxmxg7UlTh3zftQJTeTK3WnDdUBwIvhEe8WMBrxpj3ReRr4DURuRLYDvwEwBizSkReA1YDAeB6Y5rREaWUUl1MuT/I3vhXAchIyKhz3LYEi32t9aYGBr6/fBdW9YRhUZpTplqTyd0YsxyYXE95HnBSA+fcBdzV5uiUUqoT5ZbnQUKI4wcfjyX1d3QEg/uSu0Xjyf3O2WvwphcTaycQ64pt11j3p2+oKqVUPXyBINm+DQBcOvHShitGdMsEm9FJIe4iUmOiP4hEk7tSStXj++2F4HKGLQ5NHNpgPRPa97Zp0DQ9tYDlyWVgfN0unvamyV0pperx7g+7EJczsqVvTN+GK9ZK7k203K0KbG82k9IObI8QG/+oqH+CUkp1Q8GQQVzFJHmScNsND3GMHC1jCGJMw2Pd7Vjn/c4jBh7SfoE2QJO7UkrVo9QXIC4hh1Epoxqt1zc2sdZ+IFR7CoL/fWclmbfMZk9RJQmJewA4UFvuSinVOUp9foKuXYzuM7rRemccMLzWvj9Uu9/9ha+3AXDn7NX4KcGFlwRPQvsGWw9N7kopVY/dJTkYqWRE8ohG67kkptb+9oLieuuV+gKEpByvFf3EDprclVKqjoqqIBvznVlT+sf1b7Sui9r98QUVtZP7gYOScff5gnWFy8CuIMau3Y0TLbqGqlJK7aeowg+2M01AU2ucilV7rsRCX2Gt/dREi5ik9ykFrMoMYqzGf1m0F225K6XUft5cloVVPQdME9MEWOIkdxN0Rs3sn9zLgvumNLc8OcRbA9sz1Ibj6pBPUUqpbmJTTin3f7QOCc8B02TLHShZcydlm38LwLaSzbWO+0Kl++paflLtCe0bcAM0uSulVIRteWUAWJ58+nhT8dqNr3fqNNxdmEASJuhlQ15WreP+UHmt/RRPIy9EtSNN7kopFaGw3I8Vsx13ylKGJw9rsr5ErE9kjIsvNu2pdbzK1E7ulx85rn0CbYImd6WUilBU4cebNgeA1NjUJutL5PNUYyNS+yUm/37JPTU2uot0VNPkrpRSEQrL/Yjb6W+/9fBbm6xfa6yMcYHUnl8mQO3k3hEvMIEmd6WUqqWowo/tKuZn437W4gU1TH3J3VTU2o9zxbU5xubQ5K6UUhHyy0vBrmx2Yp8xeRDjBoRfTKqnWyawX7eMSO1x8dGiyV0ppcL2FFWyeIczF0xz1zgdmZbARzdNc3aMC/bvc6esXWNsLn1DVSmlwqbeMw87bi9xtG6N0+opfUMmhCUWxhgCUogdciNW0wt5tCdtuSulVATLkw3A8KThTdRsWEmV83ZreVUQcZUQLG96SGV705a7UqpX25xTSsgYrnh+MQCuxFX08fRnQPyAFl8rVNUHy1NAmb+MZG8yRRV+xK4kkTEU5mXw6Izz2zv8BmlyV0r1aic+9HnNtrgKcCVs4JxRv2jVg09f9unEDv4PpX5nyoHt+eWI+JiamcGjp/y53WJuDu2WUUr1WrmlvpptK2Y73rRPADhl+HEtvtaZkwZiQs7c7uV+Z4TMzsIysPykxXfMNL+RNLkrpXqti5/5tmY7fvi/cKcsBWBI4pAWX+t/z5qACS+WXd1yL6osR8SQ7O2YF5ciabeMUqrXWrunBMSHK2llrfIkT1KLr2VZAkGn5V6d3L/YuBOA5Jj4NkbacprclVK9UkmlMzTR2/9jPH2/qnWsNf3tlkhNy73YV8zZb5/N+uIY3ImQHKMtd6WU6hBbc51+8WEDC9jta6JyM9gRyX132W62FG3BHe5qT/B0fMtd+9yVUr3SN5vzQALk+zc3XbkZLAsIJ/fssuxaxzpqPplI2nJXSvU6oZDhha+3ktZvN5UhHy5xISKc1P9KLj7kmFZd01luzyIUiGfh1jW1jsW5NbkrpVTULdqaT1ZBBalD1mGLzeczPyfWFYvbcrf6mnZ4oWzj70O+bEfsfce05a6UUh0gv6wKgPT+O+iXMKlVo2P2V71QdsjfBzu29lJ7ndFy1z53pVSvU1zhx47dzI7ydRyVcVS7XDOy5b6/zmi5a3JXSvU6xZV+PP3mkx43gIvGX9Qu1wzndkwwts6xeHcXHC0jIkNEZL6IrBGRVSJyY7j8dhHZKSLfh/+cEXHOrSKyUUTWicip0bwBpZRqqZLKAJa7kIPSJpHoaZ+pAarHxptQ3X77tvTlt1Zz+twDwG+MMd+JSCKwVETmho89Yox5MLKyiEwAZgITgQzgExEZY4ypvfaUUkp1kuIKP5arnBRvSvtf3HjqFHXU6kuRmmy5G2N2G2O+C2+XAGuAQY2cMgN4xRjjM8ZsATYCh7dHsEop1Va+QJDlOwvAKifZm9zu1zehusm9M7Soz11EMoHJQPVsOzeIyHIReVZEqp8iDAJ2RJyWRT2/DETkGhFZIiJLcnJyWhy4Ukq1xq9f+4FlWXtBTFSSO/V0y3SGZid3EUkA3gBuMsYUA48DI4GDgd3AQ9VV6znd1Ckw5iljzBRjzJS0tJYvZ6WUUq0xe/luxHamHohGt4wx3Si5i4gbJ7G/ZIx5E8AYs9cYEzTGhICn2df1kgVEzpc5GNjVfiErpVTbRCu5D+kbC92lW0acJwGzgDXGmIcjygdGVDsXqJ4z811gpoh4RWQ4MBpY1H4hK6VU21Qn9/bulgkGTZdpuTdntMzRwCXAChH5Plz2R+BCETkYp8tlK3AtgDFmlYi8BqzGGWlzvY6UUUp1BaGQAbuMuKHPAe2f3P0hU6vP3V98AH3cLV/4oz00mdyNMV9Qfz/6B42ccxdwVxviUkqpdrdqVzGu+A01++2d3APBUK3RMpU7LyYpveOX2AN9Q1Up1YtkFZRjuQtr9ttjTplId5xzQJ1umdSEzumD1+SulOo1/uel7xBPLgA3HnIjLqt95048a1IGU4b0d3aM0+HxtwsObtfPaC5N7kqpXsNlCZYnl0P7H8pVB14Vlc8Q8VCVN41LMx9m671n0j8pJiqf0xRN7kqpXmNU/wRi4/LJTM6M2mfYIviyz2Bw3JiofUZzaHJXSvV4oZDhqQWbWJudjZ9ihiUNi9pnVc/rbnfCfDK14ujUT1dKqQ6wNa+Muz9YixXubx+aNDRqn1Wd06vnd+8smtyVUj1emS8IGOxYZ9qrzKTMqH2WhEeOa3JXSnUofzDU2SF0uLKqAK7kJcQMeBeAIYnRe7GouuVuaXJXSnWU15dmMfpPH7KzsKKzQ+lQ5VUBXImra/Y9dvTGnov2uSulOtpri51uiW25ZZ0cSccq8wURy48tNk+f8nRUP8vSPnelVEfzBZxpnqp6WddMcaUfsUuYOuBYpg6cGtXPqk7pmtyVUlHx8qLtTLnzEyr9++btK6rwA1BY7u+ssDrF3mIf4iplQEK/qH+Wx+Wk1UAn/wLV5K5UD3XrmyvILfXx0co9bA13w+SWVgFw06vfd3ry6Sgrdxbx93lrEbuctLjoJ/c4jzOlQVlV506Gq8ldqR6q+nneTa9+z/EPfkaZL0CpL1BzfP3e0k6KrGMt216A2OWIGFJjUqP+eXEeG4CKqkATNaNLk7tSPZTZb3HLrzfl1dr3unvuP38TvvmSSj+3vbMKy7sHiO4QyGoJXm25K6WipMxXt9WYXeKrtV8VCLEpp7RWa74nmL18N8Nv/YAPVuxm/rocANwpi/FYsRyUdlDUP/+qY0cwbUwaF0zpnEU6qrXvfJdKqS5hT3FlnbI/vrUCgDtmTOS2d1Zx+qMLARjcJ5ZgyPD29UeT3kkzGLan15Y4wz2ve+k7jhqZiuXdgzt5OWeOOJcET0LUPz8t0cuLPz+86YpRpi13pXqgPUV1k3u1zH7xtfazCirYXVTJnFV7oh1Wh4j32jXbX23KI37E3wCiOhNkV6TJXakeaHcjyd1j1//PPtbTM77Ie2wLb/8PcCV9j7OMsyOaM0F2RT3jb1MpVcvW3DJsSwiGaj9Vve+8A2vGYe8v3mPXW97tSABP6gIAKsxFAAR9aUwbNK0zo+pw2nJXqgcpKveTects/jF/I8NS43jx54eTGr9vHpW0RG+Dyb2h8u6m2L9vVFDs4JcQbD78yX9x2+5Gzup5tOWuVA+yo6C8Znt0/wSmjUljyf+bzo78CjbllHL82DQ25dQ/r0xgv1Z+d1VYlQcRX0ISPfEM6xP98e1dTc/4Va2UApw5VKqdOM5ZqFlEGJoaxwnj+iMiDEiuf0RMT5kKOKc8G4BnT30WgKsPvLozw+k02nJXqgcpKHOS+4yDMzjvkMH11ql+yeanUwYzdUQqv37tBwACwe7TcvcHQxSUVdVZfDq31MeesmxiEmFkykgWXbSIGLv7D+9sDU3uSvUg+eXO3DF/OnM8rgZGxQBsuecMRKRWS78zWu4llX4SY1reF37LGyt447ss1t95Oh6XxZ/fWUmcx0Vaohc7ZjcJrhT6ePvUzK3eG2m3jFI9SEFZFdfZ79B383uN1qtOeoleFxnhbpqO7nNfsD6HA2+fU2dahOZ494edgNMNZYzhxa+38uSXS8gr9WHF7OKg/hN7dWIHTe5K9ShZBeVc7p6Da+vnzaovIrxzwzEA3DV7Ta3pgaPt0mcXAbBka36Lz/WHu5CKK/ws2VaAJ/VzEkbfx47SrdjeHEaljGrXWLsjTe5K9QDr95Yw4pb3+O+S7aRSBAn9m32u23ZauKW+AC99uz1aIdbPqsSIr+l6ER6es67m3BU7C/jJE1+HX1iCjzZ+BRJgZMrI9o6029E+d6V6gDveW8Wnnt+w3gzGJgTxzU/ukX3z2/Oiv/yePxjiX/M3AZA49nZe3tWfXzGvWeeWVwX4+6cbEXcuCaMe5I4F5wJHILYzBNSO3wigLXc0uSvVI5QV5pBp7SWTvU5B8qBmnxs5HUFHLL+3PKuQRz5ZD+JMDVAazG72uVtzyxG7hLjMxwHweX/ASe7Ogt/upBWYkFtb7mi3jFI9Qqwpr13Qt/nJLfLN1KpA9B+q7i12umHEVdyi87bnlXPG3xfi7vMtlsv5hhEMQczgFxFr36gfu2okce649gu4m9KWu1I9gPhKahf0G9Oq63TEA9UtuWV4+7+PJ/WLmrJyf3mDCbnUF+DURxaws9BpnVve3aTHDmJndhKWJwd33OZa9X866YjoBd+NNNlyF5EhIjJfRNaIyCoRuTFc3ldE5orIhvDPPhHn3CoiG0VknYicGs0bUEqBHYhYMu+Ym8FuXbutI5L728t21krsANnlDXfNLN9RyM6SXCxPNq6EVbiTVjEkYRgm5MXy5tbUMyFnzoHJ6ROiE3g305xumQDwG2PMeGAqcL2ITABuAeYZY0YD88L7hI/NBCYCpwH/EpEeMt2cUl2PMQaXP5zcr/oUpt/e6mtFu8/dGMPWvLrdMVsLdzV4zvKdRcQNeZb4kQ8TO+TfAJw6/GRMaN+bp+VbrwWfs/LR2L5j2znq7qnJ5G6M2W2M+S68XQKsAQYBM4AXwtVeAM4Jb88AXjHG+IwxW4CNQOcvS6JUD1UVDBFvnC4LvImtusYtp48DwOePXnJft6eE4bd+QMCu+9LS+tz6k7sxhm8352HH7qwp+/1hv2fm+PMxQW9N2d1nH8PCy1/k9iNvZ0TyiPYPvhtq0Xc3EckEJgPfAunGmN3g/AIQkeqxV4OAbyJOywqX7X+ta4BrAIYOHdrSuJVSYVWBEAnStuT+i+NG8tWmPIoq/E1XbqVT/+bMsW55cuoc21FSdxWoHfnlHHv/fJAAieMirpMZ7umNaLn/eNJE3Lab88ac175Bd2PNHi0jIgnAG8BNxpjGHnPX985vnUfwxpinjDFTjDFT0tLSmhuGUmo/VYEQCYRHy7QyuYMzJLIqEL2W+/iBSSB+4uKdfvJPf/Ipr57yKSbkZm9Z3T73Y++fD4DldYZ3np55Bvcdex/945x2pAk589TbYve6udqbo1ktdxFx4yT2l4wxb4aL94rIwHCrfSBQ/beTBUQu+z0YaLhDTSnVJv6gIV4qMQjiiW/6hAZ4XRZVgeg9UA2G/KSN/QeVspd+sf1Ii0vDgx8TSCKvMrfeczz95uBN+xSAXx5yA0MS96WW6j73BHfrf6H1ZM0ZLSPALGCNMebhiEPvApeFty8D3okonykiXhEZDowGFrVfyEqpSFWBEIlU4HclQBsmy/K4LHzt3HKv9AfZU1RJUbmfraWrqRSnFT4wfiAAsR4bE0igzF9U6zx/yM/gfv6axD6h78RaiR2AkNPnnuhJaNeYe4rmdMscDVwCnCgi34f/nAHcC5wsIhuAk8P7GGNWAa8Bq4GPgOuNMR03G5FSPUhFVZAVWUUNHt+aW8a0B+aTQAVBd+tb7RCdbpmbXvmeqffM493luyDWmRrgqIyjuHzi5YAzr40JxVAZqj3twbQnb6Mo7TYAvPTl7yc+WufaoYDTYjd1e30VzeiWMcZ8Qf396AAnNXDOXcBdbYhLKQX8+Z2V/HdpFnNunsaY9LrdDws35uImQKoUE3C3rQWbGOMiu8THT574iv/+4qg2XavanNXOg9KvN+XiTdzKhNQJPHnykzXHRQQJxeIL7a4pK6rwU2x/W9PyfHT63aTHp9e5dqgyA2Msrp10bbvE2tPo9ANKdWEfrdzN/7pe4K+P/pPQfvOtZ5dUctvbK5nlfoCT7GWE2thyz+znnL94a0GbrhMp3uO0H5dnFWF59jAxdWKdOpaJpSq0b/qEnQUVmNC+YY4NjVv/+8zDuXvyh5w7+tx2i7cn0eSuVBflCwQZHNjKFa6P+T/PPcxds7fm2F/eW8Xhd80jBh/T7BUAuIKVbfq8/onepiu1UHx4Sb+sogJCVlndfnOgyh+DL1RGUYWzilRWQXnNLI8A/WL71Xvtsw/K4OyDMto95p5Ck7tSXchZjy3k6heXAM4cLOPNlppjy9duAGBjdinPfbmVSbKJWe4Ha457fC1f9CJSQkz7TzUV73VeTrfcTmyDEurOVmmCMYiEuPfTjwDYVViB2GWcNuxHfHnhl+0eU2+hyV2pLmTlzmLmrt7Lk59v4rS/LWSMte/NzNjlLwKws7CC6dZSXvfcztH2KsoyTwbANfbkNn129cLZAIF2mIbAGMOmnBJiMv6Du8+3AAxOrGfR7lAsAO/n/olyfzm55WWIXcXIlGEkeZLaHEdvpbNCKtVFOEMay+kjJdzzIaRRyHHW9/hSx7PZn8olRe9TXJTPH15fzoP2R+wy/cj8wzfEx/WFgq1IwoA2fb4VMYyyMhAioZEFtpvjw5V7EE8e7uTlNWX1t9xja7YX7lxIXrnT9983tk+duqr5tOWuVBexcmchb3j+l7me3zFM9jDb+0fGWztwpQxm69grSZZyHnvin5QUFzDFWk//SSdDXF/n5D6Z4I5p9PpNSU/ad357zA6ZVVCOK3ZrzX6iJ5Fkb3KdesGKYTXbC7YtocDnPNDtE6PJvS00uSvVRaxcu44x1k68EuCltH/TXwoBsA+/iowDjqPQxDOh9Gvmen9HjPiJG3pwu35+WqKXP5/lTJdbUhngjvdXU1Te+rlmckurcKcurNlvqItlWPIAStb+hWDlQNbnb6Kw0rnvFG9Kqz9baXJXqsvI2rymZntw8TJIGgx/LoCxp3HQsFTWpJ7MufaXZEg+ZcYLB57f7jGkJjjztby6eAezvtjCg9WLUbfCptwcbG82Jw45EYALxl5Qb73PfncCGC+hqlTyfLvJr3Ra7prc20aTu1IdIBgyGNP4m5SmembE8T9yfh59I1j7/onO63dRzfaWy5ZAFPqkY9zO6JbiSqfFHgi1/sFq9Rztpw8/nS9mflHzVmp9+id6Mf6+5FftoSA86keTe9toclcqykIhw8g/fsA9H65ttJ4nEF4q7/T74ddr4PCrax0/eeqhXFt1E3t/9G8OGBGdabKrk/vn65xpeaWVc9X4AkF2lTnJfUD8AJK9yY1ea87N0whV9SVoApSZbYBon3sbaXJXKspyS50FoZ9asLnRet7q5B6TDEkZdSYBO2JEKk/e/RfSDz07KnECxIQXy65er9RuZXL/fnshAXG6V6onCWtMSpyHGJypfCVmK/F2Ci5LB/O1hSZ3pdroklnfcsVzdSc+XbWriOtf+o4N2aWcaX3DYu8v8O2p3XovKKvCHx5THhMsJYgNDSwU3RGqW+7VbKt1yX1LbhniLsQWu8E3TPfXP9YZJml5c0n2pLbqc9U+mtyVaoOKqiALN+RgNswlu6Cw1rFXFu1g9ord/P715cywvyRNiln7yfO16ky9Zx7nP/4VxhhiQ6X4XIltmra3rfZP7l5361JEbqkPy11Ielw6ttW8JZTPHD+RUJXTz57s0S6ZttLkrtR+jDG8vGg7e4rqztXyw45Cno7oXrn93VWcai3mec/97Hj55lp1PS6LwZJNctEaUsVZvCxlz1c1x0sq/XgCpSTs+oJdRZUkUkZVJy88kRxbe0WjJp4B16vSHyS3tArbXcTAhKa7ZKrNPHwovlznLVt/9ZqwqtW0U0up/WzKKePWN1cwtG8csy6bwspdRZw72XltfsY/nblO0pNjmDAwkVeX7OBvbqdLZnDR0lrXyS31Mcv9IGOtrJqyPqWbnIwpwra8cu5wP8s59ld8s+5YkijHFde5I0QGJNd+EWpXYcuSbKU/yDH3zSe31EfCqEIGxtedBbIhGSmxUDaBQNkILj/8phZ9rqpLk7tS+/lsXTaxVFKVn8cvX7YZnv0JB1vTGX7QNABOtRbzj1d2kB83grtdT3OO7bTG+/l2QKAKXM5Y8aE5n9VK7DtdQxgU2EGgaDeulAzmrN7LZZYzo6Mnby0uKUdi685b3pl2FDSe3I0x/OL/ljJlWF+unjaCc/75ZfgBcghcRc16mBopJSaF3O3XcGC/5v9SUPXTbhml9rNoSz4Pux/nm5hfEtq7msc9jzL8rR+xaEs+oySLJz2PMMf7ByZVfEaopx8AACAASURBVMvPXM4izm+lXI5NCIp2APDcWx/ym7zbnQu64yBpEFvHOUMbZ386nyc+38SsectJlfAImbJckihDYuq+nt9ZpgzrQ2ll42+oFlX4+XTXWzy68SfsLNnLupw9xGX+g8Txf0QkxID4ls13c1im09e+f9+/ajlN7krtZ3deIafbiwG4zvVOTflFTy7kfHtBzf51rnedjRuXsyXxEACqsp1peZcs3te3zpVz4derqRh6AgDLln7DvR+uZboV0Y1TnkuSlCOxnZ/ch/R1JvIa3i+eMl+QYKjhjveCcj/ulMWIXcWv3noDV/J32LH7vq0MTqhnFshGPPTTg3j+isOcLhrVJprcldrPkLKVNdunRCTgA2QLV9gfs2XAaRSbWKZY6wnFpkLKUHLczjC+rRudc/uHx3j/MPwqSHe6GOL7ZlBp3GRIHmdZX/Oo518U230pMnFQnkcyZdixnf9W5uxfHcuiP55EvNfFnuJKRv7xgzqrQFUrKK+q2V6RswZ38jJGJY/n3mMeYETyCCanT27RZ8d5XBw/tn+b4lcOTe5KRdiRX87Yyu8JYbEuNJg48dUc+4XrPbziJ+mYq1gWGg2ANexIEOGykw+jzHixCrYQChlSpIwQwgEX3VcztLFfopfdpi8DJY+Z9qcAzJ94J7kmGU/5XmKlCruTH6gCJMW46Z8UQ07pvnsvb2CWyIKyKsR2+uXdST9gx+zix2N+xJkjT+Odc94h1qUt8M6iyV2pCDP++SVHWqvJThjHzsRJAFTGDybHTudUewkh20Pq2GMZOOFI54TBUwAYmBzHNjOAgh1rKa0KkEwpVa5EbNe+MQupCV52m1QGSy6jrZ28H5yKPeoE8kgipdLpq7fjus747pLKQM12mS9Qb538sirELgPA8hRgi83pw0/vkPhU4zS5KxWhtKyMg2Uju1KmcOLxJwEQkzGBtFN/B4A16mRwxzDmrF/DUb+CKT8HICnWxUaTwcCqrXy5IZc+UorfU7v/PCXWTTHxTLY2ki6FjJh8IvFeF/kmiXR/eMWlmM5vuVd79IKDmZjhTNMbmegjbcjJRSw/fWOcN0qnpE9p9hupKro0uSsVYVxCOR4JMu6AQ2DSBTD1ejj5r84kXtcuhB8/5VRMHACn3OHMA4MzwZZkHMJgycWsfZ8USgnuN6uhZQnvBo8kzyTyiP88JvzoRhK8LvJNAm7CybMLjZbpE+/h1yePAeD8J76qt85nG7cC8JMx53N0xtHcesStHRWeaoImd9UrlPkCLNte0GS9AXYpAHF9BoA3EU67G/qPdw4OnATehAbPHX/atQD0y5pHipQi1askRfggNJVDfU9w052zwB3DqLQE8olYxKILPFCNlJrgBaCwnkU7jDFsKXCmKT4o7SCeOPkJRqaM7ND4VMP0JSbV44VChuMe+IyYsiw++PPPSIr1NFjXW5XnbMS1vGshJiWNr4MTsAs204cSPIl1J7+ae/M0Ytx2zfS3feI95JuI5J7Yspd+om1sesPTIfiDhpDl/DLsG1P3F5nqXNpyVz1WUbmf7XnlLNtRwKTyr/nCeyPr376nwfrGGGKqwq37+JYn9wSvi2xSSKeANKuImD4ZdeqMTk9kSN/asz6mpUfUS2zbItftLdZjc9yYNPrEuescqwqGsFya3LsqTe6qR3rzuywO+uscpj0wn8VbC/iR/TUA9pp3eX1pVp36K7KKyCqooC/OBF/Ep7X4M+O9LnabVIZZ2cRShTQzUf/ijCMAMJYb7LpJtLONSU+gop6hkFWBUM1IGV1Yo+vR5K56pNte+4af2fOwCXLfh6s5xnJeLpokm7jtv9+SXbJvxsfs4kp+9I8v+Nkz35AqxQQsL3jiW/yZbttidShihaSE5iV3GXIEjDwROfeJFn9mR0iMcVPpD1EVqL3knpPcS/FYscS4Yho4W3UWTe6qx6n0B7nC/oi73bO4zfVvjrOWkyZFfMxUbDH8wvU+N7/weU399XtLOd36lqdKf8VI2YU/JrXVc6rPD0W8kZnYzEnAvAlwyVtRWfC6PSTFOI/m9hZXkl+2743UqkAIcZUR7+paD4GVQ5O76nFe+nY7gyQXgMtdc3jecz/GcjPyokfYSTo3ut7kkfzrwe+03ncWlnOd6x3GWzs4yV5GIKb1qwCVENGfnjykTffRVSTGOF1Fx94/n3PCUx7nlvqY9sB8xFVKgib3LkmTu+qyduSX84fXl5MXfg2+pNLf4JuSke54fzVDJbtWmYw5lVGjJzDo/61g9sDr6R/KgV3fsaeoklvf+IHB4V8GAO7ktj3UvKnqOt4IHgN9h7fpOl1FUsQCHtvzywE4/KFZxA59GjtuE328LX8+oaJPk7vqsj5etYdPl6zg0TfnY4zhwNvnMPF/P+ajlbubPHeYtZcFwQP57pQ34KhfwhkPOAdcXvKHngZA3taVnH7PW/zT/Sh9pJQq43Q/xKSPaXXMsy6bwtuhY3iq7x9afY2uJjGm9ojponI/nr4LcMVvQsTgMbreaVek49xVl1TmC3Dv7BWs9v6S3E3JDL/1MUC4xJ5D0bdr4YDf1Hve+8t34SZAhuRTdeAFjDhqOjC9Vp3kgSOoMB6+/uR15ntXkigVMP12PEOOgNm/bVPf90nj0/nL2RM5/YCuNaSxLZJiao/gOeGx/8OVvm+h74sP+HFHh6SaocnkLiLPAmcB2caYA8JltwNXAznhan80xnwQPnYrcCUQBH5ljPk4CnGrHm7RlnyOs37AI0EyyOc6+11+737VObgDoG5yX7O7mBv+s4zhkoNFiBFjDqj32kP6xrPFDOQs+1sANkx/ltHHnOccvK7+1+xb4rKjMtt8ja5k/5Z7fmEKXveRVBUcSZzLw0mXHdxJkanGNKfl/jzwD+DF/cofMcY8GFkgIhOAmcBEIAP4RETGGGPqny9UqQZkl1RymLW+Zr8msVfzldaaCiAYMlz1whJOsJZxkf2JU9in/j7vIX3jWGTSmcA2zKBD9yV2Va+k/RbNxnjwZZ/Fb08Zw/QJXWtZQLVPk33uxpgFQH4zrzcDeMUY4zPGbAE2Aoe3IT7VSxWW+5kkm1gdGrav8LpveDjRmZ2Rktr97u/9sIuZpS/wnOcBptvLnMIGHmj2S/CyyThvhcqEGe0ee0+T4K2/DXjDiaMZNyCp3mOq87XlgeoNIrJcRJ4VkerX0wYR/tIclhUuq0NErhGRJSKyJCcnp74qqhcrKKtivLWd1LFH8c2ku+CcJ6D/eCpiwi3F4p216n+w4Ct+6Xq79kUSGm5VnnLF7RQeeQscfm17h97j2FbdMf+XTB1WT03VlbQ2uT8OjAQOBnYDD4XL63vzo971uYwxTxljphhjpqSl6VAqtU+ZL8DrC5bRR0pJH3kwU398Axx8IQBV1QsuF++qqV9c6adftjO9wNYLnTVOje1t9EWksSOHk3LqreDWNytbyhK445z6n2eorqNVo2WMMXurt0XkaeD98G4WEPnmxmBgF0q1wMuLtjPO2u7spI2tdSzbOBNUffTVUjxbK5l68IGsZyRHWquojE0nc8wkuGkl0gXnaOkpzpxUd0I01fW0quUuIpHzkp4LVK8o/C4wU0S8IjIcGA0saluIqqfbU1RJacTLSVtyy/ixvRC/Kx4GHVKr7kfrC8k3CcTt/pYTv7+ZuOen897i9Uy1VhMaerTTWk8Z0uVmV+zuXrv2SA4Y5PSvHzVSx7V3B00mdxF5GfgaGCsiWSJyJXC/iKwQkeXACcDNAMaYVcBrwGrgI+B6HSmjGvPQnHVMvWdezWvts77YwsJFiznH/hL35AvrrEz01nVHs8ekMs1eUVM28Ye7SZNi4g44s0Nj700OH96XUWnO6CSPre8+dgdNdssYYy6sp3hWI/XvAu5qS1Cqd9hVWMETn67lGfcjjCvawexPnuCOT3zM9vwNC1OzPmmkg4ek8LoZxgS2sTo0DDcBfur6nJDlxhpzaifcRe9RFXRmhfS4NLl3B/q3pDrFjvxyLpn1Lcdb3zPdXsZgyWXogt9ymKxjorWNwFG/hvSJ9Z67M3ESAOOOOIVNk/9AJR78h17pLIunoiYz1ZkGOSNFH0J3B2JMvYNZOtSUKVPMkiVLOjsMFWXGGCr9ISr9QSbfMRcPfp5z388R8bt4p9+1nJd1Lz7jwuWNxf7tugbnVC8pLsT39VP0m3aNs+aovxJcjY+OUW3nD4ZYvCWfo0a1fJUqFR0istQYM6W+Yzq3jOowx9w3n52FFXipYoTk8m/PPQySPMwBV/Hj039L4SP/JaV0E2bq/zS6WEZiUgqJp/5+X4EOZ+wQbtvSxN6NaHJXHWZnYQV/dr3IpfYcXBLC706Ck+5DDr4QbDcpv1oIuRuQAZM6O1Sluj1N7irqAsEQ1//nO/pTwKWuT3DhPJhzT78NjrhmX0VPPGToJFRKtQdN7irqHpyznjWrl/Om9y5sgnDDUrBdkKKvsCsVLZrcVVRll1TyxOcbecXzFIOsAuS4W6HfqM4OS6keT5O7iqrVu4o5xVrCVGsNnPEQHHZVZ4ekVK/Qrce555dV8fPnF5NVUN5gnTJfgLtmr671ervqGIFgiFkvzOJB9xMEU8fCIZd3dkhK9RrdOrnvKqzg07XZXPfSdw3WeeO7LJ5euIXHP9vYgZEpgI9X7eX3rlcI2rHY5z/j9LMrpTpEt07uBwxKJjM1juVZRTyzcHO9dQJB5yWt/DJ/R4amgEWb9jJOdpA89VIYqMMblepI3Tq5Azx7+WEA3Dl7Dde8uIScEh+LtuxbOGpTTikAXp0Po0Ntyinli0WLcEsQK31CZ4ejVK/T7TPeiLQEnrnUeft2zuq9HHbXJ/z0ya/5fL2zutP3OwoBKK/SPveOtHZ3CWMky9nZb052pVT0dfvkDnDiuP4cPar2HNOXPbuIm1/9nlW7igH0gWoHq/QHGSNZGAT6jenscJTqdXrEEy7LEl66aioVVUGWbMvnklnO+iBvLdu3zubc1XsJBEO4dC7qDlHhDzLa2kkwZRguT1xnh6NUr9OjMl2sx+bY0WmcOrH2wsh/PGMc/qCplexVdFX6g4yWLOinXTJKdYYeldyr/euiQ3nlmqk1+z86yFnz8XevL6fS37qFoQLBELe+sZyN61Y0XbmXC4UMq7PyGC67kf7jOzscpXqlHpncbUsY2ndfV8CApBimjUkD4IsNua265to9JaR+93dGvXwMocXPtUucPdVTCzdTteIdPBLEHjS5s8NRqlfqkckdIC3RW7MtIjx58aEAfL05r2Z4ZEuc9dhCLrA/A6Bg8atOYcAHoVCbY+0pduSX89ArH7Hh46e43f0Cud4hMPrkzg5LqV6pRzxQrY/btvjx5EFMn+D0v8d6bOI9NrO+2MKsL7aw9d7mL6b86CcbmChbGWLl4Dc2CXkrGH/LG8z3/hZJyuD9w57nymmjo3UrnSIUMlQFQ8S47WbVL/MFmHn/a3zs/QMJnkoMglz4cqOLbiiloqfHttwBHr7gYM44cGDNfmrCvtb87qKKZl/nkU/Wc7q9iBA2jwR/gjdYynn2QgZIPuklK/nqo5fZmF3SrrF3lnV7SnjuH3ew8M5TOe62/9DUMowVFZWsWr+R+euyOd9eQBw+cma8hNywGDKP6aColVL769HJfX+pCZ6a7SPv+bRWQt6RX84/528kEKzbzeImwDn2l+SlHcYqr/Ma/Qz7y5rjszwP4Xr1Z9AF1qNtq0sefZef5TzKcaFvmev9PSUbv26w7oasvWy7ZwrjX5pC+Wu/4GrXbMg8hrTJZ0G/nvVNRqnuplcl94qq2iNlFkY8XL3i+cU88PE6fvb0t+zI3zfLZDBkONFaxmDJZe+EKxk06hAADrPW44vP4InAjwDIzFsAu3/ogLtoP1tzy5j52Fwqnj4d8/kDrNldzCnWYrzi5/bQVQSxsD69o95zSyr9vDPrHsZZO1gQmsT59gISpBLr0Es7+C6UUvXpVck91lO7/3jdHqflHgwZNmY7D1kXbc3n2Pvn19RZsbOIydZGqoyNb+ixHD0xkyzjLBLsyTiQD9Kv5STfA07lnUs64C7az2frsum/+zNid36FzL+Tz75fxynWEqqSh3P1zXfwcvBE4nZ/CxWFdc69+4M1TA0sIi9hNEf972fMO/FtfOc+Cwec3wl3opTaX69K7k9dMoXp450HrC5LmL1iN8fc9ynPfrGlTt3q7pn3ftjFZGsDeQljOGTEAJJj3WwLOdeQAQfy7i+PZephU8kjGZPVvZJ7yMBIa9+LXQlf3svR9irsA85lUJ84Nvc9FosgZuMn+07ylULxLl5ftIVDrQ0kjz8Bj8vi5OOOx3vQeWD1qv+llOqyetW/xLREL/+66BDeuf5oThrfn5LKAFkFFdz1wRoA/nTGeCZmJAHw5rKdZN7yPsd9ew1HWGsZeMiZiAj9Ej28EzrKueDYMwA4NLMv3wVHUr75mzbHWFBWxUcrdzP5r3NqvllES2F5FSNlFzsYwMLgAVzi+gTjisWechkA4w49gTyTSP6ydzHG8Jd3VrDxrsMI/W0SF9jziZUqXMOPjWqMSqnW6VXJHcDjsjhoSArxnrqjQM8+OIObpzuTXP3+9eUkUIFX/HzPWDjiFwCMG5DE5dfdRuiWLBjsjJ0/cFAy34XGEF+yBcrz61y3uTbsLeHmux5g0n+P4o9Vj1H+2SOtvlZzFJT7GW3vYcioA0m85CWyj7od11UfQ59MAA4fmcanwcm4Ns3lrvdWsPybuYyydmGF/Nzpfs6ZFExHxCjVJfW65F5t//53gP6JXpLj3DX7pcRxQdWfyfjNAkhIqymfMCgZKyaxZj+zXzzfhZzRIaWbvsIXaN0UByc/soBfut4iQ/L5iWsBk9c+BHmbWnWtSOVVAV79YC4PP3Qnnz1xE6ZgKwD5ZT4GkQN9h3PwmEz6n3IzDDiw5rxJg1P4JHQoyVLOhUt+yjWu2VTh5uXACQCYtPEQ17fN8Sml2l+PfYmpKXH7JfdnL5+CiDC8n/PSzZj0BE6dOICbp4/BsqTRa7lti7GHHktghcXrr75AYd8fuOlXvwOXp9HzIhljGEAeh1ob+DR4MElSzhRrPax9H46+seU3GOFPjz3Hg8W/wxYDJVD65EfcNuBJvli7h4SYckgZ2uC5FUOPY/mut5lkbWEku/GPOpWHV85gXEI5k0/+bZviUkpFT69N7rER3TIJXhcnjnMekvZL8Lbo7dVqnphE1pqhXO6aA8VzYAFw4p+ada4xhjmv/YtvYv4IQOX0u3l0Jdy791pGrPkIbxuSe6U/yMVFT5InySw55AGe+Xonr5u/cMPma3kkZrdTKWVYg+c/deU0DvrLPfxP6DVucr2J+4irWXzxycBFrY5JKRV9vbZbprrlfnhmX5beNr3N1xOBeaFDavZDa2c36zx/MMQlj33ItNW3A7B36JmccdzRXDJ1GJ+HDsa181uoLG5VTL5AkHP//CSHWhsomHwDZ5z9U2664mL+HZzOSGv3voqpoxq8Rozb5t9XHsGjgR/z86SndK4YpbqJXpvck2OdvnXbEryu5s2f0phfnjSa+FP+xCvHfMgTgbMwuesh2PTqT5tzysjY+ymxUsU5vr9SNeNpAM4/dDB5g07ENkF8K99rVUwL1udylLUSgGHHOS3taWPS8J56O6/G/pS/+i/h+4wLoYlpeQ8clMzxY9P5w8/OaFUcSqmO12uTe7/wPDPttbZqUoybq6aN4vSjDmOTycAO+aFwW6PnLN60l/J59/Nn17/xJQ3jgRuvYEjqvom2ph53BnkmkeI1n7Yqpnd/2MUkawtF7nRi+mTUlM889gA2TLyZZ4On8+Xo3zpfOxoR67F57orDGTsgsdF6Sqmuo8nkLiLPiki2iKyMKOsrInNFZEP4Z5+IY7eKyEYRWScip0Yr8LaaNDiZpBgXvzmlfVcKSop1scMa7OzkrscYU+/kW2W+AP999gEmb/i789r+QTMZPSCpVp0+CV5Wh4bhLVxf94Oa8a0gq6CcwzzbSB55WJ1j5x4yCIDTDhjQjLtSSnU3zWm5Pw+ctl/ZLcA8Y8xoYF54HxGZAMwEJobP+ZeItL3PIwrSk2JYfvupNYt4tBcRoSwhE4BQ3maG3/oBD8+tm5wXbclnmrWCYhPLvwfcinvazXXqxHlstpoBxJTU/gawZ+c2Qg+Ngw9+13AggSpGlS4lI7gTBh5U5/DEjGS23nsmI9MSWnaDSqluocnkboxZAOz/Zs4M4IXw9gvAORHlrxhjfMaYLcBG4PB2irXb8Cb2o9jE8srHC/DgJ/vzp6Esr1ad//tmG5OtDayJP4LjfvIrcMfWuU6c28VWk46nqqjm5ahAMMTjzzyBVZ4Di57iq6XL6py3cmcRC+4/jwfKb3MKIsauK6V6h9b2uacbY3YDhH/2D5cPAnZE1MsKl9UhIteIyBIRWZKTk9PKMLqm/skxbDPpZIR28zN7Hve5n8bM+ysAW3LLKCyvQgo2M0jyOOK4MxmaGlfvdWI9NttMuNsk35n/Zv3eUg4MOD1kfmNz1HvHY97/da3phh975hmmVS1w6ogHhhwRrVtVSnVR7f1Atb4nc/VOcm6MecoYM8UYMyUtrX27RjpbvMfF2tBQjrd/4Hb3iwD4V7yJ8VdwwoOf8eLdV3N7oTOmnVEnNXwdr81W44y/J38zAMt2FHCErOHD4GFc4f897wenIktmwQ+vAPDNyo38JfQYm0MDOKzyX/x12LP6FqlSvVBrk/teERkIEP6ZHS7PAoZE1BsM7Gp9eN1TrMfm1eDxFJs43ggey//zX4HHX8z8J3/NCdYyfuV6m8GSy5o+J0LfEQ1fx22T7RrgzOESTu5bN6xmiJXDsENP4arLfs4v/TfwfWgkue/dxoLlG9jwyh/oRxErj3yEHFIIJmd20F0rpbqS1r6h+i5wGXBv+Oc7EeX/EZGHgQxgNLCorUF2N9cdP4qP+sWzKv1SfvPMIoQQ063vODH3P5zogRyTzDG+R1l0zVmNDkMUEeLjEthZmYp3+2oS/UHK1swFN0w46mwm9O/P32Yewl2vXsRLchej3jiFo+0CNgy7kB+ddjqDJhQyqr8+MFWqN2rOUMiXga+BsSKSJSJX4iT1k0VkA3ByeB9jzCrgNWA18BFwvTGmdbNodWMDkmO4/OjhHDkqjfvPm4TB4nL/7/mx73bmBSfzJ//PufTYsTUvUjUmEDJsC6WzY+NKxt32ETPsLymMGwZpzhDO6ePTKeo/hYcDPyFD8vFbHsZdeDciwqHD+jTrM5RSPU+TLXdjzIUNHKq3s9gYcxdwV1uC6knGDXRe/LnqmBEsz0rlneTjefyCg7GbmIys2j3nHsjm/wzkEvsTFnv/hzQpwn/kX2ta/PFeFy9fPZWj7swnVYq56pqbILZPE1dVSvV00tTq9h1hypQpZsmS7rWKUUv4gyHcduufXe9ZvxT7pXOxCFHWZzxDr3sHPLVH2GTeMptxAxL56KZpbQ1XKdVNiMhSY8yU+o712lkhO1JbEjvAgDGH8vdp83h47nr+36HjucpTd+jk4j9Nr3eOeqVU76TJvZuYedgQiir8/PSwIfUeT0v0dnBESqmuTJN7N9E/KYbbzprQ2WEopbqJXjsrpFJK9WSa3JVSqgfS5K6UUj2QJnellOqBNLkrpVQPpMldKaV6IE3uSinVA2lyV0qpHqhLzC0jIjnAtiYrNqwfkNtO4XQGjb/zdfd76O7xQ/e/h86If5gxpt7VjrpEcm8rEVnS0OQ53YHG3/m6+z109/ih+99DV4tfu2WUUqoH0uSulFI9UE9J7k91dgBtpPF3vu5+D909fuj+99Cl4u8Rfe5KKaVq6yktd6WUUhE0uSulVA/UrZO7iJwmIutEZKOI3NLZ8dRHRIaIyHwRWSMiq0TkxnB5XxGZKyIbwj/7RJxza/ie1onIqZ0X/T4iYovIMhF5P7zf3eJPEZHXRWRt+O/iyO50DyJyc/j/n5Ui8rKIxHT1+EXkWRHJFpGVEWUtjllEDhWRFeFjfxeR5q0uH534Hwj/P7RcRN4SkZSuGj/GmG75B7CBTcAIwAP8AEzo7LjqiXMgcEh4OxFYD0wA7gduCZffAtwX3p4QvhcvMDx8j3YXuI9fA/8B3g/vd7f4XwCuCm97gJTucg/AIGALEBvefw24vKvHD0wDDgFWRpS1OGZgEXAkIMCHwOmdGP8pgCu8fV9Xjr87t9wPBzYaYzYbY6qAV4AZnRxTHcaY3caY78LbJcAanH+sM3ASDuGf54S3ZwCvGGN8xpgtwEace+00IjIYOBN4JqK4O8WfhPMPdRaAMabKGFNIN7oHnCUxY0XEBcQBu+ji8RtjFgD5+xW3KGYRGQgkGWO+Nk6mfDHinKiqL35jzBxjTCC8+w0wuKvG352T+yBgR8R+VrisyxKRTGAy8C2QbozZDc4vAKB/uFpXvK+/Ab8HQhFl3Sn+EUAO8Fy4a+kZEYmnm9yDMWYn8CCwHdgNFBlj5tBN4t9PS2MeFN7ev7wr+DlOSxy6YPzdObnX12/VZcd1ikgC8AZwkzGmuLGq9ZR12n2JyFlAtjFmaXNPqaess/9eXDhfrx83xkwGynC6BBrSpe4h3C89A+frfgYQLyIXN3ZKPWWd/XfQlIZi7pL3IiJ/AgLAS9VF9VTr1Pi7c3LPAoZE7A/G+ara5YiIGyexv2SMeTNcvDf8lY3wz+xweVe7r6OBs0VkK07X14ki8n90n/jBiSnLGPNteP91nGTfXe5hOrDFGJNjjPEDbwJH0X3ij9TSmLPY1/URWd5pROQy4CzgonBXC3TB+Ltzcl8MjBaR4SLiAWYC73ZyTHWEn4zPAtYYYx6OOPQucFl4+zLgnYjymSLiFZHhwGicBzKdwhhzqzFmsDEmE+e/8afGmIvpJvEDGGP2ADtEZGy46CRgNd3nHrYDU0UkLvz/00k4z266S/yRWhRzuOumRESmhu/9wbYUEQAAAMxJREFU0ohzOpyInAb8ATjbGFMecajrxd8RT22j9Qc4A2f0ySbgT50dTwMxHoPzNWw58H34zxlAKjAP2BD+2TfinD+F72kdHfRkvZn3cjz7Rst0q/iBg4El4b+Ht4E+3ekegL8Aa4GVwL9xRmV06fiBl3GeEfhxWrBXtiZmYEr4vjcB/yD8Zn0nxb8Rp2+9+t/yE101fp1+QCmleqDu3C2jlFKqAZrclVKqB9LkrpRSPZAmd6WU6oE0uSulVA+kyV0ppXogTe5KKdUD/X90bCByI2nQ9gAAAABJRU5ErkJggg==\\n\",","      \"text/plain\": [","       \"\u003cFigure size 432x288 with 1 Axes\u003e\"","      ]","     },","     \"metadata\": {","      \"needs_background\": \"light\"","     },","     \"output_type\": \"display_data\"","    }","   ],","   \"source\": [","    \"### Plotting \\n\",","    \"# shift train predictions for plotting\\n\",","    \"look_back=100\\n\",","    \"trainPredictPlot = numpy.empty_like(df1)\\n\",","    \"trainPredictPlot[:, :] = np.nan\\n\",","    \"trainPredictPlot[look_back:len(train_predict)+look_back, :] = train_predict\\n\",","    \"# shift test predictions for plotting\\n\",","    \"testPredictPlot = numpy.empty_like(df1)\\n\",","    \"testPredictPlot[:, :] = numpy.nan\\n\",","    \"testPredictPlot[len(train_predict)+(look_back*2)+1:len(df1)-1, :] = test_predict\\n\",","    \"# plot baseline and predictions\\n\",","    \"plt.plot(scaler.inverse_transform(df1))\\n\",","    \"plt.plot(trainPredictPlot)\\n\",","    \"plt.plot(testPredictPlot)\\n\",","    \"plt.show()\"","   ]","  },","  {","   \"cell_type\": \"code\",","   \"execution_count\": 437,","   \"metadata\": {},","   \"outputs\": [","    {","     \"data\": {","      \"text/plain\": [","       \"441\"","      ]","     },","     \"execution_count\": 437,","     \"metadata\": {},","     \"output_type\": \"execute_result\"","    }","   ],","   \"source\": [","    \"len(test_data)\"","   ]","  },","  {","   \"cell_type\": \"code\",","   \"execution_count\": 438,","   \"metadata\": {},","   \"outputs\": [","    {","     \"data\": {","      \"text/plain\": [","       \"(1, 100)\"","      ]","     },","     \"execution_count\": 438,","     \"metadata\": {},","     \"output_type\": \"execute_result\"","    }","   ],","   \"source\": [","    \"x_input=test_data[341:].reshape(1,-1)\\n\",","    \"x_input.shape\\n\"","   ]","  },","  {","   \"cell_type\": \"code\",","   \"execution_count\": null,","   \"metadata\": {},","   \"outputs\": [],","   \"source\": []","  },","  {","   \"cell_type\": \"code\",","   \"execution_count\": null,","   \"metadata\": {},","   \"outputs\": [],","   \"source\": []","  },","  {","   \"cell_type\": \"code\",","   \"execution_count\": 439,","   \"metadata\": {},","   \"outputs\": [],","   \"source\": [","    \"temp_input=list(x_input)\\n\",","    \"temp_input=temp_input[0].tolist()\"","   ]","  },","  {","   \"cell_type\": \"code\",","   \"execution_count\": 440,","   \"metadata\": {},","   \"outputs\": [","    {","     \"data\": {","      \"text/plain\": [","       \"[0.8583551465000423,\\n\",","       \" 0.8866418981676942,\\n\",","       \" 0.8743139407244789,\\n\",","       \" 0.8843198513890065,\\n\",","       \" 0.8783669678290975,\\n\",","       \" 0.8986321033521913,\\n\",","       \" 0.925821160179009,\\n\",","       \" 0.9287764924427933,\\n\",","       \" 0.9567677108840666,\\n\",","       \" 0.9386979650426415,\\n\",","       \" 0.933040614709111,\\n\",","       \" 0.9495060373216249,\\n\",","       \" 0.9642404796082076,\\n\",","       \" 0.9551211686228154,\\n\",","       \" 0.9598919192772104,\\n\",","       \" 0.9663514312251966,\\n\",","       \" 0.9624672802499368,\\n\",","       \" 0.9229502659799038,\\n\",","       \" 0.9598497002448705,\\n\",","       \" 0.9879253567508233,\\n\",","       \" 0.985941062230854,\\n\",","       \" 0.9253145317909315,\\n\",","       \" 0.9217259140420504,\\n\",","       \" 0.964747107996285,\\n\",","       \" 0.9757240564046274,\\n\",","       \" 0.9915984125643842,\\n\",","       \" 0.9697289538123788,\\n\",","       \" 0.9761462467280253,\\n\",","       \" 0.9679557544541082,\\n\",","       \" 1.0000000000000002,\\n\",","       \" 0.9901629654648318,\\n\",","       \" 0.9905007177235499,\\n\",","       \" 0.9653803934813816,\\n\",","       \" 0.9848855864223593,\\n\",","       \" 0.9708688676855528,\\n\",","       \" 0.9402600692392133,\\n\",","       \" 0.8774803681499621,\\n\",","       \" 0.8348391454867856,\\n\",","       \" 0.8541332432660644,\\n\",","       \" 0.7733682344000676,\\n\",","       \" 0.7726927298826314,\\n\",","       \" 0.8801401671873683,\\n\",","       \" 0.8400743054969182,\\n\",","       \" 0.8967322468969012,\\n\",","       \" 0.8552731571392387,\\n\",","       \" 0.8388499535590646,\\n\",","       \" 0.7423372456303303,\\n\",","       \" 0.8232711306256861,\\n\",","       \" 0.7814320695769654,\\n\",","       \" 0.6665963016127672,\\n\",","       \" 0.7921557037912694,\\n\",","       \" 0.6411804441442204,\\n\",","       \" 0.6861437135860848,\\n\",","       \" 0.6600101325677616,\\n\",","       \" 0.6520307354555435,\\n\",","       \" 0.5864223591995272,\\n\",","       \" 0.5658616904500551,\\n\",","       \" 0.660896732246897,\\n\",","       \" 0.6551549438486872,\\n\",","       \" 0.7097019336316812,\\n\",","       \" 0.664527569028118,\\n\",","       \" 0.6943764248923416,\\n\",","       \" 0.692181035210673,\\n\",","       \" 0.6356919699400492,\\n\",","       \" 0.6526640209406402,\\n\",","       \" 0.637802921557038,\\n\",","       \" 0.7267162036646122,\\n\",","       \" 0.7138816178333194,\\n\",","       \" 0.7419150553069325,\\n\",","       \" 0.7500211095161702,\\n\",","       \" 0.7722283205268936,\\n\",","       \" 0.8304905851557884,\\n\",","       \" 0.8194291986827664,\\n\",","       \" 0.8289706999915563,\\n\",","       \" 0.8125474964113824,\\n\",","       \" 0.7877649244279323,\\n\",","       \" 0.7516254327450818,\\n\",","       \" 0.7842607447437306,\\n\",","       \" 0.7797433082833742,\\n\",","       \" 0.8132652199611587,\\n\",","       \" 0.8141096006079542,\\n\",","       \" 0.7947310647639958,\\n\",","       \" 0.8333614793548934,\\n\",","       \" 0.8589884319851391,\\n\",","       \" 0.8390188296884238,\\n\",","       \" 0.8562864139153934,\\n\",","       \" 0.8748627881448958,\\n\",","       \" 0.887824031073208,\\n\",","       \" 0.9009541501308793,\\n\",","       \" 0.9279321117959978,\\n\",","       \" 0.9485349995778098,\\n\",","       \" 0.9333361479354896,\\n\",","       \" 0.9174617917757326,\\n\",","       \" 0.925441188887951,\\n\",","       \" 0.9177151059697712,\\n\",","       \" 0.9483239044161109,\\n\",","       \" 0.9406400405302711,\\n\",","       \" 0.9663514312251966,\\n\",","       \" 0.9563033015283293,\\n\",","       \" 0.964915984125644]\"","      ]","     },","     \"execution_count\": 440,","     \"metadata\": {},","     \"output_type\": \"execute_result\"","    }","   ],","   \"source\": [","    \"temp_input\"","   ]","  },","  {","   \"cell_type\": \"code\",","   \"execution_count\": 441,","   \"metadata\": {},","   \"outputs\": [","    {","     \"name\": \"stdout\",","     \"output_type\": \"stream\",","     \"text\": [","      \"[0.94413203]\\n\",","      \"101\\n\",","      \"1 day input [0.8866419  0.87431394 0.88431985 0.87836697 0.8986321  0.92582116\\n\",","      \" 0.92877649 0.95676771 0.93869797 0.93304061 0.94950604 0.96424048\\n\",","      \" 0.95512117 0.95989192 0.96635143 0.96246728 0.92295027 0.9598497\\n\",","      \" 0.98792536 0.98594106 0.92531453 0.92172591 0.96474711 0.97572406\\n\",","      \" 0.99159841 0.96972895 0.97614625 0.96795575 1.         0.99016297\\n\",","      \" 0.99050072 0.96538039 0.98488559 0.97086887 0.94026007 0.87748037\\n\",","      \" 0.83483915 0.85413324 0.77336823 0.77269273 0.88014017 0.84007431\\n\",","      \" 0.89673225 0.85527316 0.83884995 0.74233725 0.82327113 0.78143207\\n\",","      \" 0.6665963  0.7921557  0.64118044 0.68614371 0.66001013 0.65203074\\n\",","      \" 0.58642236 0.56586169 0.66089673 0.65515494 0.70970193 0.66452757\\n\",","      \" 0.69437642 0.69218104 0.63569197 0.65266402 0.63780292 0.7267162\\n\",","      \" 0.71388162 0.74191506 0.75002111 0.77222832 0.83049059 0.8194292\\n\",","      \" 0.8289707  0.8125475  0.78776492 0.75162543 0.78426074 0.77974331\\n\",","      \" 0.81326522 0.8141096  0.79473106 0.83336148 0.85898843 0.83901883\\n\",","      \" 0.85628641 0.87486279 0.88782403 0.90095415 0.92793211 0.948535\\n\",","      \" 0.93333615 0.91746179 0.92544119 0.91771511 0.9483239  0.94064004\\n\",","      \" 0.96635143 0.9563033  0.96491598 0.94413203]\\n\",","      \"1 day output [[0.9379593]]\\n\",","      \"2 day input [0.87431394 0.88431985 0.87836697 0.8986321  0.92582116 0.92877649\\n\",","      \" 0.95676771 0.93869797 0.93304061 0.94950604 0.96424048 0.95512117\\n\",","      \" 0.95989192 0.96635143 0.96246728 0.92295027 0.9598497  0.98792536\\n\",","      \" 0.98594106 0.92531453 0.92172591 0.96474711 0.97572406 0.99159841\\n\",","      \" 0.96972895 0.97614625 0.96795575 1.         0.99016297 0.99050072\\n\",","      \" 0.96538039 0.98488559 0.97086887 0.94026007 0.87748037 0.83483915\\n\",","      \" 0.85413324 0.77336823 0.77269273 0.88014017 0.84007431 0.89673225\\n\",","      \" 0.85527316 0.83884995 0.74233725 0.82327113 0.78143207 0.6665963\\n\",","      \" 0.7921557  0.64118044 0.68614371 0.66001013 0.65203074 0.58642236\\n\",","      \" 0.56586169 0.66089673 0.65515494 0.70970193 0.66452757 0.69437642\\n\",","      \" 0.69218104 0.63569197 0.65266402 0.63780292 0.7267162  0.71388162\\n\",","      \" 0.74191506 0.75002111 0.77222832 0.83049059 0.8194292  0.8289707\\n\",","      \" 0.8125475  0.78776492 0.75162543 0.78426074 0.77974331 0.81326522\\n\",","      \" 0.8141096  0.79473106 0.83336148 0.85898843 0.83901883 0.85628641\\n\",","      \" 0.87486279 0.88782403 0.90095415 0.92793211 0.948535   0.93333615\\n\",","      \" 0.91746179 0.92544119 0.91771511 0.9483239  0.94064004 0.96635143\\n\",","      \" 0.9563033  0.96491598 0.94413203 0.93795931]\\n\",","      \"2 day output [[0.9286534]]\\n\",","      \"3 day input [0.88431985 0.87836697 0.8986321  0.92582116 0.92877649 0.95676771\\n\",","      \" 0.93869797 0.93304061 0.94950604 0.96424048 0.95512117 0.95989192\\n\",","      \" 0.96635143 0.96246728 0.92295027 0.9598497  0.98792536 0.98594106\\n\",","      \" 0.92531453 0.92172591 0.96474711 0.97572406 0.99159841 0.96972895\\n\",","      \" 0.97614625 0.96795575 1.         0.99016297 0.99050072 0.96538039\\n\",","      \" 0.98488559 0.97086887 0.94026007 0.87748037 0.83483915 0.85413324\\n\",","      \" 0.77336823 0.77269273 0.88014017 0.84007431 0.89673225 0.85527316\\n\",","      \" 0.83884995 0.74233725 0.82327113 0.78143207 0.6665963  0.7921557\\n\",","      \" 0.64118044 0.68614371 0.66001013 0.65203074 0.58642236 0.56586169\\n\",","      \" 0.66089673 0.65515494 0.70970193 0.66452757 0.69437642 0.69218104\\n\",","      \" 0.63569197 0.65266402 0.63780292 0.7267162  0.71388162 0.74191506\\n\",","      \" 0.75002111 0.77222832 0.83049059 0.8194292  0.8289707  0.8125475\\n\",","      \" 0.78776492 0.75162543 0.78426074 0.77974331 0.81326522 0.8141096\\n\",","      \" 0.79473106 0.83336148 0.85898843 0.83901883 0.85628641 0.87486279\\n\",","      \" 0.88782403 0.90095415 0.92793211 0.948535   0.93333615 0.91746179\\n\",","      \" 0.92544119 0.91771511 0.9483239  0.94064004 0.96635143 0.9563033\\n\",","      \" 0.96491598 0.94413203 0.93795931 0.92865342]\\n\",","      \"3 day output [[0.91987926]]\\n\",","      \"4 day input [0.87836697 0.8986321  0.92582116 0.92877649 0.95676771 0.93869797\\n\",","      \" 0.93304061 0.94950604 0.96424048 0.95512117 0.95989192 0.96635143\\n\",","      \" 0.96246728 0.92295027 0.9598497  0.98792536 0.98594106 0.92531453\\n\",","      \" 0.92172591 0.96474711 0.97572406 0.99159841 0.96972895 0.97614625\\n\",","      \" 0.96795575 1.         0.99016297 0.99050072 0.96538039 0.98488559\\n\",","      \" 0.97086887 0.94026007 0.87748037 0.83483915 0.85413324 0.77336823\\n\",","      \" 0.77269273 0.88014017 0.84007431 0.89673225 0.85527316 0.83884995\\n\",","      \" 0.74233725 0.82327113 0.78143207 0.6665963  0.7921557  0.64118044\\n\",","      \" 0.68614371 0.66001013 0.65203074 0.58642236 0.56586169 0.66089673\\n\",","      \" 0.65515494 0.70970193 0.66452757 0.69437642 0.69218104 0.63569197\\n\",","      \" 0.65266402 0.63780292 0.7267162  0.71388162 0.74191506 0.75002111\\n\",","      \" 0.77222832 0.83049059 0.8194292  0.8289707  0.8125475  0.78776492\\n\",","      \" 0.75162543 0.78426074 0.77974331 0.81326522 0.8141096  0.79473106\\n\",","      \" 0.83336148 0.85898843 0.83901883 0.85628641 0.87486279 0.88782403\\n\",","      \" 0.90095415 0.92793211 0.948535   0.93333615 0.91746179 0.92544119\\n\",","      \" 0.91771511 0.9483239  0.94064004 0.96635143 0.9563033  0.96491598\\n\",","      \" 0.94413203 0.93795931 0.92865342 0.91987926]\\n\",","      \"4 day output [[0.9128097]]\\n\",","      \"5 day input [0.8986321  0.92582116 0.92877649 0.95676771 0.93869797 0.93304061\\n\",","      \" 0.94950604 0.96424048 0.95512117 0.95989192 0.96635143 0.96246728\\n\",","      \" 0.92295027 0.9598497  0.98792536 0.98594106 0.92531453 0.92172591\\n\",","      \" 0.96474711 0.97572406 0.99159841 0.96972895 0.97614625 0.96795575\\n\",","      \" 1.         0.99016297 0.99050072 0.96538039 0.98488559 0.97086887\\n\",","      \" 0.94026007 0.87748037 0.83483915 0.85413324 0.77336823 0.77269273\\n\",","      \" 0.88014017 0.84007431 0.89673225 0.85527316 0.83884995 0.74233725\\n\",","      \" 0.82327113 0.78143207 0.6665963  0.7921557  0.64118044 0.68614371\\n\",","      \" 0.66001013 0.65203074 0.58642236 0.56586169 0.66089673 0.65515494\\n\",","      \" 0.70970193 0.66452757 0.69437642 0.69218104 0.63569197 0.65266402\\n\",","      \" 0.63780292 0.7267162  0.71388162 0.74191506 0.75002111 0.77222832\\n\",","      \" 0.83049059 0.8194292  0.8289707  0.8125475  0.78776492 0.75162543\\n\",","      \" 0.78426074 0.77974331 0.81326522 0.8141096  0.79473106 0.83336148\\n\",","      \" 0.85898843 0.83901883 0.85628641 0.87486279 0.88782403 0.90095415\\n\",","      \" 0.92793211 0.948535   0.93333615 0.91746179 0.92544119 0.91771511\\n\",","      \" 0.9483239  0.94064004 0.96635143 0.9563033  0.96491598 0.94413203\\n\",","      \" 0.93795931 0.92865342 0.91987926 0.91280973]\\n\",","      \"5 day output [[0.90777564]]\\n\",","      \"6 day input [0.92582116 0.92877649 0.95676771 0.93869797 0.93304061 0.94950604\\n\",","      \" 0.96424048 0.95512117 0.95989192 0.96635143 0.96246728 0.92295027\\n\",","      \" 0.9598497  0.98792536 0.98594106 0.92531453 0.92172591 0.96474711\\n\",","      \" 0.97572406 0.99159841 0.96972895 0.97614625 0.96795575 1.\\n\",","      \" 0.99016297 0.99050072 0.96538039 0.98488559 0.97086887 0.94026007\\n\",","      \" 0.87748037 0.83483915 0.85413324 0.77336823 0.77269273 0.88014017\\n\",","      \" 0.84007431 0.89673225 0.85527316 0.83884995 0.74233725 0.82327113\\n\",","      \" 0.78143207 0.6665963  0.7921557  0.64118044 0.68614371 0.66001013\\n\",","      \" 0.65203074 0.58642236 0.56586169 0.66089673 0.65515494 0.70970193\\n\",","      \" 0.66452757 0.69437642 0.69218104 0.63569197 0.65266402 0.63780292\\n\",","      \" 0.7267162  0.71388162 0.74191506 0.75002111 0.77222832 0.83049059\\n\",","      \" 0.8194292  0.8289707  0.8125475  0.78776492 0.75162543 0.78426074\\n\",","      \" 0.77974331 0.81326522 0.8141096  0.79473106 0.83336148 0.85898843\\n\",","      \" 0.83901883 0.85628641 0.87486279 0.88782403 0.90095415 0.92793211\\n\",","      \" 0.948535   0.93333615 0.91746179 0.92544119 0.91771511 0.9483239\\n\",","      \" 0.94064004 0.96635143 0.9563033  0.96491598 0.94413203 0.93795931\\n\",","      \" 0.92865342 0.91987926 0.91280973 0.90777564]\\n\",","      \"6 day output [[0.9047326]]\\n\",","      \"7 day input [0.92877649 0.95676771 0.93869797 0.93304061 0.94950604 0.96424048\\n\",","      \" 0.95512117 0.95989192 0.96635143 0.96246728 0.92295027 0.9598497\\n\",","      \" 0.98792536 0.98594106 0.92531453 0.92172591 0.96474711 0.97572406\\n\",","      \" 0.99159841 0.96972895 0.97614625 0.96795575 1.         0.99016297\\n\",","      \" 0.99050072 0.96538039 0.98488559 0.97086887 0.94026007 0.87748037\\n\",","      \" 0.83483915 0.85413324 0.77336823 0.77269273 0.88014017 0.84007431\\n\",","      \" 0.89673225 0.85527316 0.83884995 0.74233725 0.82327113 0.78143207\\n\",","      \" 0.6665963  0.7921557  0.64118044 0.68614371 0.66001013 0.65203074\\n\",","      \" 0.58642236 0.56586169 0.66089673 0.65515494 0.70970193 0.66452757\\n\",","      \" 0.69437642 0.69218104 0.63569197 0.65266402 0.63780292 0.7267162\\n\",","      \" 0.71388162 0.74191506 0.75002111 0.77222832 0.83049059 0.8194292\\n\",","      \" 0.8289707  0.8125475  0.78776492 0.75162543 0.78426074 0.77974331\\n\",","      \" 0.81326522 0.8141096  0.79473106 0.83336148 0.85898843 0.83901883\\n\",","      \" 0.85628641 0.87486279 0.88782403 0.90095415 0.92793211 0.948535\\n\",","      \" 0.93333615 0.91746179 0.92544119 0.91771511 0.9483239  0.94064004\\n\",","      \" 0.96635143 0.9563033  0.96491598 0.94413203 0.93795931 0.92865342\\n\",","      \" 0.91987926 0.91280973 0.90777564 0.90473258]\\n\",","      \"7 day output [[0.9033923]]\\n\",","      \"8 day input [0.95676771 0.93869797 0.93304061 0.94950604 0.96424048 0.95512117\\n\",","      \" 0.95989192 0.96635143 0.96246728 0.92295027 0.9598497  0.98792536\\n\",","      \" 0.98594106 0.92531453 0.92172591 0.96474711 0.97572406 0.99159841\\n\",","      \" 0.96972895 0.97614625 0.96795575 1.         0.99016297 0.99050072\\n\",","      \" 0.96538039 0.98488559 0.97086887 0.94026007 0.87748037 0.83483915\\n\",","      \" 0.85413324 0.77336823 0.77269273 0.88014017 0.84007431 0.89673225\\n\",","      \" 0.85527316 0.83884995 0.74233725 0.82327113 0.78143207 0.6665963\\n\",","      \" 0.7921557  0.64118044 0.68614371 0.66001013 0.65203074 0.58642236\\n\",","      \" 0.56586169 0.66089673 0.65515494 0.70970193 0.66452757 0.69437642\\n\",","      \" 0.69218104 0.63569197 0.65266402 0.63780292 0.7267162  0.71388162\\n\",","      \" 0.74191506 0.75002111 0.77222832 0.83049059 0.8194292  0.8289707\\n\",","      \" 0.8125475  0.78776492 0.75162543 0.78426074 0.77974331 0.81326522\\n\",","      \" 0.8141096  0.79473106 0.83336148 0.85898843 0.83901883 0.85628641\\n\",","      \" 0.87486279 0.88782403 0.90095415 0.92793211 0.948535   0.93333615\\n\",","      \" 0.91746179 0.92544119 0.91771511 0.9483239  0.94064004 0.96635143\\n\",","      \" 0.9563033  0.96491598 0.94413203 0.93795931 0.92865342 0.91987926\\n\",","      \" 0.91280973 0.90777564 0.90473258 0.90339231]\\n\",","      \"8 day output [[0.90332204]]\\n\",","      \"9 day input [0.93869797 0.93304061 0.94950604 0.96424048 0.95512117 0.95989192\\n\",","      \" 0.96635143 0.96246728 0.92295027 0.9598497  0.98792536 0.98594106\\n\",","      \" 0.92531453 0.92172591 0.96474711 0.97572406 0.99159841 0.96972895\\n\",","      \" 0.97614625 0.96795575 1.         0.99016297 0.99050072 0.96538039\\n\",","      \" 0.98488559 0.97086887 0.94026007 0.87748037 0.83483915 0.85413324\\n\",","      \" 0.77336823 0.77269273 0.88014017 0.84007431 0.89673225 0.85527316\\n\",","      \" 0.83884995 0.74233725 0.82327113 0.78143207 0.6665963  0.7921557\\n\",","      \" 0.64118044 0.68614371 0.66001013 0.65203074 0.58642236 0.56586169\\n\",","      \" 0.66089673 0.65515494 0.70970193 0.66452757 0.69437642 0.69218104\\n\",","      \" 0.63569197 0.65266402 0.63780292 0.7267162  0.71388162 0.74191506\\n\",","      \" 0.75002111 0.77222832 0.83049059 0.8194292  0.8289707  0.8125475\\n\",","      \" 0.78776492 0.75162543 0.78426074 0.77974331 0.81326522 0.8141096\\n\",","      \" 0.79473106 0.83336148 0.85898843 0.83901883 0.85628641 0.87486279\\n\",","      \" 0.88782403 0.90095415 0.92793211 0.948535   0.93333615 0.91746179\\n\",","      \" 0.92544119 0.91771511 0.9483239  0.94064004 0.96635143 0.9563033\\n\",","      \" 0.96491598 0.94413203 0.93795931 0.92865342 0.91987926 0.91280973\\n\",","      \" 0.90777564 0.90473258 0.90339231 0.90332204]\\n\",","      \"9 day output [[0.9040391]]\\n\",","      \"10 day input [0.93304061 0.94950604 0.96424048 0.95512117 0.95989192 0.96635143\\n\",","      \" 0.96246728 0.92295027 0.9598497  0.98792536 0.98594106 0.92531453\\n\",","      \" 0.92172591 0.96474711 0.97572406 0.99159841 0.96972895 0.97614625\\n\",","      \" 0.96795575 1.         0.99016297 0.99050072 0.96538039 0.98488559\\n\",","      \" 0.97086887 0.94026007 0.87748037 0.83483915 0.85413324 0.77336823\\n\",","      \" 0.77269273 0.88014017 0.84007431 0.89673225 0.85527316 0.83884995\\n\",","      \" 0.74233725 0.82327113 0.78143207 0.6665963  0.7921557  0.64118044\\n\",","      \" 0.68614371 0.66001013 0.65203074 0.58642236 0.56586169 0.66089673\\n\",","      \" 0.65515494 0.70970193 0.66452757 0.69437642 0.69218104 0.63569197\\n\",","      \" 0.65266402 0.63780292 0.7267162  0.71388162 0.74191506 0.75002111\\n\",","      \" 0.77222832 0.83049059 0.8194292  0.8289707  0.8125475  0.78776492\\n\",","      \" 0.75162543 0.78426074 0.77974331 0.81326522 0.8141096  0.79473106\\n\",","      \" 0.83336148 0.85898843 0.83901883 0.85628641 0.87486279 0.88782403\\n\",","      \" 0.90095415 0.92793211 0.948535   0.93333615 0.91746179 0.92544119\\n\",","      \" 0.91771511 0.9483239  0.94064004 0.96635143 0.9563033  0.96491598\\n\",","      \" 0.94413203 0.93795931 0.92865342 0.91987926 0.91280973 0.90777564\\n\",","      \" 0.90473258 0.90339231 0.90332204 0.90403908]\\n\"","     ]","    },","    {","     \"name\": \"stdout\",","     \"output_type\": \"stream\",","     \"text\": [","      \"10 day output [[0.9050924]]\\n\",","      \"11 day input [0.94950604 0.96424048 0.95512117 0.95989192 0.96635143 0.96246728\\n\",","      \" 0.92295027 0.9598497  0.98792536 0.98594106 0.92531453 0.92172591\\n\",","      \" 0.96474711 0.97572406 0.99159841 0.96972895 0.97614625 0.96795575\\n\",","      \" 1.         0.99016297 0.99050072 0.96538039 0.98488559 0.97086887\\n\",","      \" 0.94026007 0.87748037 0.83483915 0.85413324 0.77336823 0.77269273\\n\",","      \" 0.88014017 0.84007431 0.89673225 0.85527316 0.83884995 0.74233725\\n\",","      \" 0.82327113 0.78143207 0.6665963  0.7921557  0.64118044 0.68614371\\n\",","      \" 0.66001013 0.65203074 0.58642236 0.56586169 0.66089673 0.65515494\\n\",","      \" 0.70970193 0.66452757 0.69437642 0.69218104 0.63569197 0.65266402\\n\",","      \" 0.63780292 0.7267162  0.71388162 0.74191506 0.75002111 0.77222832\\n\",","      \" 0.83049059 0.8194292  0.8289707  0.8125475  0.78776492 0.75162543\\n\",","      \" 0.78426074 0.77974331 0.81326522 0.8141096  0.79473106 0.83336148\\n\",","      \" 0.85898843 0.83901883 0.85628641 0.87486279 0.88782403 0.90095415\\n\",","      \" 0.92793211 0.948535   0.93333615 0.91746179 0.92544119 0.91771511\\n\",","      \" 0.9483239  0.94064004 0.96635143 0.9563033  0.96491598 0.94413203\\n\",","      \" 0.93795931 0.92865342 0.91987926 0.91280973 0.90777564 0.90473258\\n\",","      \" 0.90339231 0.90332204 0.90403908 0.90509242]\\n\",","      \"11 day output [[0.906118]]\\n\",","      \"12 day input [0.96424048 0.95512117 0.95989192 0.96635143 0.96246728 0.92295027\\n\",","      \" 0.9598497  0.98792536 0.98594106 0.92531453 0.92172591 0.96474711\\n\",","      \" 0.97572406 0.99159841 0.96972895 0.97614625 0.96795575 1.\\n\",","      \" 0.99016297 0.99050072 0.96538039 0.98488559 0.97086887 0.94026007\\n\",","      \" 0.87748037 0.83483915 0.85413324 0.77336823 0.77269273 0.88014017\\n\",","      \" 0.84007431 0.89673225 0.85527316 0.83884995 0.74233725 0.82327113\\n\",","      \" 0.78143207 0.6665963  0.7921557  0.64118044 0.68614371 0.66001013\\n\",","      \" 0.65203074 0.58642236 0.56586169 0.66089673 0.65515494 0.70970193\\n\",","      \" 0.66452757 0.69437642 0.69218104 0.63569197 0.65266402 0.63780292\\n\",","      \" 0.7267162  0.71388162 0.74191506 0.75002111 0.77222832 0.83049059\\n\",","      \" 0.8194292  0.8289707  0.8125475  0.78776492 0.75162543 0.78426074\\n\",","      \" 0.77974331 0.81326522 0.8141096  0.79473106 0.83336148 0.85898843\\n\",","      \" 0.83901883 0.85628641 0.87486279 0.88782403 0.90095415 0.92793211\\n\",","      \" 0.948535   0.93333615 0.91746179 0.92544119 0.91771511 0.9483239\\n\",","      \" 0.94064004 0.96635143 0.9563033  0.96491598 0.94413203 0.93795931\\n\",","      \" 0.92865342 0.91987926 0.91280973 0.90777564 0.90473258 0.90339231\\n\",","      \" 0.90332204 0.90403908 0.90509242 0.90611798]\\n\",","      \"12 day output [[0.90686554]]\\n\",","      \"13 day input [0.95512117 0.95989192 0.96635143 0.96246728 0.92295027 0.9598497\\n\",","      \" 0.98792536 0.98594106 0.92531453 0.92172591 0.96474711 0.97572406\\n\",","      \" 0.99159841 0.96972895 0.97614625 0.96795575 1.         0.99016297\\n\",","      \" 0.99050072 0.96538039 0.98488559 0.97086887 0.94026007 0.87748037\\n\",","      \" 0.83483915 0.85413324 0.77336823 0.77269273 0.88014017 0.84007431\\n\",","      \" 0.89673225 0.85527316 0.83884995 0.74233725 0.82327113 0.78143207\\n\",","      \" 0.6665963  0.7921557  0.64118044 0.68614371 0.66001013 0.65203074\\n\",","      \" 0.58642236 0.56586169 0.66089673 0.65515494 0.70970193 0.66452757\\n\",","      \" 0.69437642 0.69218104 0.63569197 0.65266402 0.63780292 0.7267162\\n\",","      \" 0.71388162 0.74191506 0.75002111 0.77222832 0.83049059 0.8194292\\n\",","      \" 0.8289707  0.8125475  0.78776492 0.75162543 0.78426074 0.77974331\\n\",","      \" 0.81326522 0.8141096  0.79473106 0.83336148 0.85898843 0.83901883\\n\",","      \" 0.85628641 0.87486279 0.88782403 0.90095415 0.92793211 0.948535\\n\",","      \" 0.93333615 0.91746179 0.92544119 0.91771511 0.9483239  0.94064004\\n\",","      \" 0.96635143 0.9563033  0.96491598 0.94413203 0.93795931 0.92865342\\n\",","      \" 0.91987926 0.91280973 0.90777564 0.90473258 0.90339231 0.90332204\\n\",","      \" 0.90403908 0.90509242 0.90611798 0.90686554]\\n\",","      \"13 day output [[0.90720606]]\\n\",","      \"14 day input [0.95989192 0.96635143 0.96246728 0.92295027 0.9598497  0.98792536\\n\",","      \" 0.98594106 0.92531453 0.92172591 0.96474711 0.97572406 0.99159841\\n\",","      \" 0.96972895 0.97614625 0.96795575 1.         0.99016297 0.99050072\\n\",","      \" 0.96538039 0.98488559 0.97086887 0.94026007 0.87748037 0.83483915\\n\",","      \" 0.85413324 0.77336823 0.77269273 0.88014017 0.84007431 0.89673225\\n\",","      \" 0.85527316 0.83884995 0.74233725 0.82327113 0.78143207 0.6665963\\n\",","      \" 0.7921557  0.64118044 0.68614371 0.66001013 0.65203074 0.58642236\\n\",","      \" 0.56586169 0.66089673 0.65515494 0.70970193 0.66452757 0.69437642\\n\",","      \" 0.69218104 0.63569197 0.65266402 0.63780292 0.7267162  0.71388162\\n\",","      \" 0.74191506 0.75002111 0.77222832 0.83049059 0.8194292  0.8289707\\n\",","      \" 0.8125475  0.78776492 0.75162543 0.78426074 0.77974331 0.81326522\\n\",","      \" 0.8141096  0.79473106 0.83336148 0.85898843 0.83901883 0.85628641\\n\",","      \" 0.87486279 0.88782403 0.90095415 0.92793211 0.948535   0.93333615\\n\",","      \" 0.91746179 0.92544119 0.91771511 0.9483239  0.94064004 0.96635143\\n\",","      \" 0.9563033  0.96491598 0.94413203 0.93795931 0.92865342 0.91987926\\n\",","      \" 0.91280973 0.90777564 0.90473258 0.90339231 0.90332204 0.90403908\\n\",","      \" 0.90509242 0.90611798 0.90686554 0.90720606]\\n\",","      \"14 day output [[0.9071163]]\\n\",","      \"15 day input [0.96635143 0.96246728 0.92295027 0.9598497  0.98792536 0.98594106\\n\",","      \" 0.92531453 0.92172591 0.96474711 0.97572406 0.99159841 0.96972895\\n\",","      \" 0.97614625 0.96795575 1.         0.99016297 0.99050072 0.96538039\\n\",","      \" 0.98488559 0.97086887 0.94026007 0.87748037 0.83483915 0.85413324\\n\",","      \" 0.77336823 0.77269273 0.88014017 0.84007431 0.89673225 0.85527316\\n\",","      \" 0.83884995 0.74233725 0.82327113 0.78143207 0.6665963  0.7921557\\n\",","      \" 0.64118044 0.68614371 0.66001013 0.65203074 0.58642236 0.56586169\\n\",","      \" 0.66089673 0.65515494 0.70970193 0.66452757 0.69437642 0.69218104\\n\",","      \" 0.63569197 0.65266402 0.63780292 0.7267162  0.71388162 0.74191506\\n\",","      \" 0.75002111 0.77222832 0.83049059 0.8194292  0.8289707  0.8125475\\n\",","      \" 0.78776492 0.75162543 0.78426074 0.77974331 0.81326522 0.8141096\\n\",","      \" 0.79473106 0.83336148 0.85898843 0.83901883 0.85628641 0.87486279\\n\",","      \" 0.88782403 0.90095415 0.92793211 0.948535   0.93333615 0.91746179\\n\",","      \" 0.92544119 0.91771511 0.9483239  0.94064004 0.96635143 0.9563033\\n\",","      \" 0.96491598 0.94413203 0.93795931 0.92865342 0.91987926 0.91280973\\n\",","      \" 0.90777564 0.90473258 0.90339231 0.90332204 0.90403908 0.90509242\\n\",","      \" 0.90611798 0.90686554 0.90720606 0.90711629]\\n\",","      \"15 day output [[0.9066538]]\\n\",","      \"16 day input [0.96246728 0.92295027 0.9598497  0.98792536 0.98594106 0.92531453\\n\",","      \" 0.92172591 0.96474711 0.97572406 0.99159841 0.96972895 0.97614625\\n\",","      \" 0.96795575 1.         0.99016297 0.99050072 0.96538039 0.98488559\\n\",","      \" 0.97086887 0.94026007 0.87748037 0.83483915 0.85413324 0.77336823\\n\",","      \" 0.77269273 0.88014017 0.84007431 0.89673225 0.85527316 0.83884995\\n\",","      \" 0.74233725 0.82327113 0.78143207 0.6665963  0.7921557  0.64118044\\n\",","      \" 0.68614371 0.66001013 0.65203074 0.58642236 0.56586169 0.66089673\\n\",","      \" 0.65515494 0.70970193 0.66452757 0.69437642 0.69218104 0.63569197\\n\",","      \" 0.65266402 0.63780292 0.7267162  0.71388162 0.74191506 0.75002111\\n\",","      \" 0.77222832 0.83049059 0.8194292  0.8289707  0.8125475  0.78776492\\n\",","      \" 0.75162543 0.78426074 0.77974331 0.81326522 0.8141096  0.79473106\\n\",","      \" 0.83336148 0.85898843 0.83901883 0.85628641 0.87486279 0.88782403\\n\",","      \" 0.90095415 0.92793211 0.948535   0.93333615 0.91746179 0.92544119\\n\",","      \" 0.91771511 0.9483239  0.94064004 0.96635143 0.9563033  0.96491598\\n\",","      \" 0.94413203 0.93795931 0.92865342 0.91987926 0.91280973 0.90777564\\n\",","      \" 0.90473258 0.90339231 0.90332204 0.90403908 0.90509242 0.90611798\\n\",","      \" 0.90686554 0.90720606 0.90711629 0.90665382]\\n\",","      \"16 day output [[0.90592706]]\\n\",","      \"17 day input [0.92295027 0.9598497  0.98792536 0.98594106 0.92531453 0.92172591\\n\",","      \" 0.96474711 0.97572406 0.99159841 0.96972895 0.97614625 0.96795575\\n\",","      \" 1.         0.99016297 0.99050072 0.96538039 0.98488559 0.97086887\\n\",","      \" 0.94026007 0.87748037 0.83483915 0.85413324 0.77336823 0.77269273\\n\",","      \" 0.88014017 0.84007431 0.89673225 0.85527316 0.83884995 0.74233725\\n\",","      \" 0.82327113 0.78143207 0.6665963  0.7921557  0.64118044 0.68614371\\n\",","      \" 0.66001013 0.65203074 0.58642236 0.56586169 0.66089673 0.65515494\\n\",","      \" 0.70970193 0.66452757 0.69437642 0.69218104 0.63569197 0.65266402\\n\",","      \" 0.63780292 0.7267162  0.71388162 0.74191506 0.75002111 0.77222832\\n\",","      \" 0.83049059 0.8194292  0.8289707  0.8125475  0.78776492 0.75162543\\n\",","      \" 0.78426074 0.77974331 0.81326522 0.8141096  0.79473106 0.83336148\\n\",","      \" 0.85898843 0.83901883 0.85628641 0.87486279 0.88782403 0.90095415\\n\",","      \" 0.92793211 0.948535   0.93333615 0.91746179 0.92544119 0.91771511\\n\",","      \" 0.9483239  0.94064004 0.96635143 0.9563033  0.96491598 0.94413203\\n\",","      \" 0.93795931 0.92865342 0.91987926 0.91280973 0.90777564 0.90473258\\n\",","      \" 0.90339231 0.90332204 0.90403908 0.90509242 0.90611798 0.90686554\\n\",","      \" 0.90720606 0.90711629 0.90665382 0.90592706]\\n\",","      \"17 day output [[0.9050646]]\\n\",","      \"18 day input [0.9598497  0.98792536 0.98594106 0.92531453 0.92172591 0.96474711\\n\",","      \" 0.97572406 0.99159841 0.96972895 0.97614625 0.96795575 1.\\n\",","      \" 0.99016297 0.99050072 0.96538039 0.98488559 0.97086887 0.94026007\\n\",","      \" 0.87748037 0.83483915 0.85413324 0.77336823 0.77269273 0.88014017\\n\",","      \" 0.84007431 0.89673225 0.85527316 0.83884995 0.74233725 0.82327113\\n\",","      \" 0.78143207 0.6665963  0.7921557  0.64118044 0.68614371 0.66001013\\n\",","      \" 0.65203074 0.58642236 0.56586169 0.66089673 0.65515494 0.70970193\\n\",","      \" 0.66452757 0.69437642 0.69218104 0.63569197 0.65266402 0.63780292\\n\",","      \" 0.7267162  0.71388162 0.74191506 0.75002111 0.77222832 0.83049059\\n\",","      \" 0.8194292  0.8289707  0.8125475  0.78776492 0.75162543 0.78426074\\n\",","      \" 0.77974331 0.81326522 0.8141096  0.79473106 0.83336148 0.85898843\\n\",","      \" 0.83901883 0.85628641 0.87486279 0.88782403 0.90095415 0.92793211\\n\",","      \" 0.948535   0.93333615 0.91746179 0.92544119 0.91771511 0.9483239\\n\",","      \" 0.94064004 0.96635143 0.9563033  0.96491598 0.94413203 0.93795931\\n\",","      \" 0.92865342 0.91987926 0.91280973 0.90777564 0.90473258 0.90339231\\n\",","      \" 0.90332204 0.90403908 0.90509242 0.90611798 0.90686554 0.90720606\\n\",","      \" 0.90711629 0.90665382 0.90592706 0.90506458]\\n\",","      \"18 day output [[0.90419257]]\\n\",","      \"19 day input [0.98792536 0.98594106 0.92531453 0.92172591 0.96474711 0.97572406\\n\",","      \" 0.99159841 0.96972895 0.97614625 0.96795575 1.         0.99016297\\n\",","      \" 0.99050072 0.96538039 0.98488559 0.97086887 0.94026007 0.87748037\\n\",","      \" 0.83483915 0.85413324 0.77336823 0.77269273 0.88014017 0.84007431\\n\",","      \" 0.89673225 0.85527316 0.83884995 0.74233725 0.82327113 0.78143207\\n\",","      \" 0.6665963  0.7921557  0.64118044 0.68614371 0.66001013 0.65203074\\n\",","      \" 0.58642236 0.56586169 0.66089673 0.65515494 0.70970193 0.66452757\\n\",","      \" 0.69437642 0.69218104 0.63569197 0.65266402 0.63780292 0.7267162\\n\",","      \" 0.71388162 0.74191506 0.75002111 0.77222832 0.83049059 0.8194292\\n\",","      \" 0.8289707  0.8125475  0.78776492 0.75162543 0.78426074 0.77974331\\n\",","      \" 0.81326522 0.8141096  0.79473106 0.83336148 0.85898843 0.83901883\\n\",","      \" 0.85628641 0.87486279 0.88782403 0.90095415 0.92793211 0.948535\\n\",","      \" 0.93333615 0.91746179 0.92544119 0.91771511 0.9483239  0.94064004\\n\",","      \" 0.96635143 0.9563033  0.96491598 0.94413203 0.93795931 0.92865342\\n\",","      \" 0.91987926 0.91280973 0.90777564 0.90473258 0.90339231 0.90332204\\n\",","      \" 0.90403908 0.90509242 0.90611798 0.90686554 0.90720606 0.90711629\\n\",","      \" 0.90665382 0.90592706 0.90506458 0.90419257]\\n\",","      \"19 day output [[0.9034131]]\\n\",","      \"20 day input [0.98594106 0.92531453 0.92172591 0.96474711 0.97572406 0.99159841\\n\",","      \" 0.96972895 0.97614625 0.96795575 1.         0.99016297 0.99050072\\n\",","      \" 0.96538039 0.98488559 0.97086887 0.94026007 0.87748037 0.83483915\\n\",","      \" 0.85413324 0.77336823 0.77269273 0.88014017 0.84007431 0.89673225\\n\",","      \" 0.85527316 0.83884995 0.74233725 0.82327113 0.78143207 0.6665963\\n\",","      \" 0.7921557  0.64118044 0.68614371 0.66001013 0.65203074 0.58642236\\n\",","      \" 0.56586169 0.66089673 0.65515494 0.70970193 0.66452757 0.69437642\\n\",","      \" 0.69218104 0.63569197 0.65266402 0.63780292 0.7267162  0.71388162\\n\",","      \" 0.74191506 0.75002111 0.77222832 0.83049059 0.8194292  0.8289707\\n\",","      \" 0.8125475  0.78776492 0.75162543 0.78426074 0.77974331 0.81326522\\n\",","      \" 0.8141096  0.79473106 0.83336148 0.85898843 0.83901883 0.85628641\\n\",","      \" 0.87486279 0.88782403 0.90095415 0.92793211 0.948535   0.93333615\\n\",","      \" 0.91746179 0.92544119 0.91771511 0.9483239  0.94064004 0.96635143\\n\",","      \" 0.9563033  0.96491598 0.94413203 0.93795931 0.92865342 0.91987926\\n\",","      \" 0.91280973 0.90777564 0.90473258 0.90339231 0.90332204 0.90403908\\n\",","      \" 0.90509242 0.90611798 0.90686554 0.90720606 0.90711629 0.90665382\\n\",","      \" 0.90592706 0.90506458 0.90419257 0.90341312]\\n\"","     ]","    },","    {","     \"name\": \"stdout\",","     \"output_type\": \"stream\",","     \"text\": [","      \"20 day output [[0.90279734]]\\n\",","      \"21 day input [0.92531453 0.92172591 0.96474711 0.97572406 0.99159841 0.96972895\\n\",","      \" 0.97614625 0.96795575 1.         0.99016297 0.99050072 0.96538039\\n\",","      \" 0.98488559 0.97086887 0.94026007 0.87748037 0.83483915 0.85413324\\n\",","      \" 0.77336823 0.77269273 0.88014017 0.84007431 0.89673225 0.85527316\\n\",","      \" 0.83884995 0.74233725 0.82327113 0.78143207 0.6665963  0.7921557\\n\",","      \" 0.64118044 0.68614371 0.66001013 0.65203074 0.58642236 0.56586169\\n\",","      \" 0.66089673 0.65515494 0.70970193 0.66452757 0.69437642 0.69218104\\n\",","      \" 0.63569197 0.65266402 0.63780292 0.7267162  0.71388162 0.74191506\\n\",","      \" 0.75002111 0.77222832 0.83049059 0.8194292  0.8289707  0.8125475\\n\",","      \" 0.78776492 0.75162543 0.78426074 0.77974331 0.81326522 0.8141096\\n\",","      \" 0.79473106 0.83336148 0.85898843 0.83901883 0.85628641 0.87486279\\n\",","      \" 0.88782403 0.90095415 0.92793211 0.948535   0.93333615 0.91746179\\n\",","      \" 0.92544119 0.91771511 0.9483239  0.94064004 0.96635143 0.9563033\\n\",","      \" 0.96491598 0.94413203 0.93795931 0.92865342 0.91987926 0.91280973\\n\",","      \" 0.90777564 0.90473258 0.90339231 0.90332204 0.90403908 0.90509242\\n\",","      \" 0.90611798 0.90686554 0.90720606 0.90711629 0.90665382 0.90592706\\n\",","      \" 0.90506458 0.90419257 0.90341312 0.90279734]\\n\",","      \"21 day output [[0.9023812]]\\n\",","      \"22 day input [0.92172591 0.96474711 0.97572406 0.99159841 0.96972895 0.97614625\\n\",","      \" 0.96795575 1.         0.99016297 0.99050072 0.96538039 0.98488559\\n\",","      \" 0.97086887 0.94026007 0.87748037 0.83483915 0.85413324 0.77336823\\n\",","      \" 0.77269273 0.88014017 0.84007431 0.89673225 0.85527316 0.83884995\\n\",","      \" 0.74233725 0.82327113 0.78143207 0.6665963  0.7921557  0.64118044\\n\",","      \" 0.68614371 0.66001013 0.65203074 0.58642236 0.56586169 0.66089673\\n\",","      \" 0.65515494 0.70970193 0.66452757 0.69437642 0.69218104 0.63569197\\n\",","      \" 0.65266402 0.63780292 0.7267162  0.71388162 0.74191506 0.75002111\\n\",","      \" 0.77222832 0.83049059 0.8194292  0.8289707  0.8125475  0.78776492\\n\",","      \" 0.75162543 0.78426074 0.77974331 0.81326522 0.8141096  0.79473106\\n\",","      \" 0.83336148 0.85898843 0.83901883 0.85628641 0.87486279 0.88782403\\n\",","      \" 0.90095415 0.92793211 0.948535   0.93333615 0.91746179 0.92544119\\n\",","      \" 0.91771511 0.9483239  0.94064004 0.96635143 0.9563033  0.96491598\\n\",","      \" 0.94413203 0.93795931 0.92865342 0.91987926 0.91280973 0.90777564\\n\",","      \" 0.90473258 0.90339231 0.90332204 0.90403908 0.90509242 0.90611798\\n\",","      \" 0.90686554 0.90720606 0.90711629 0.90665382 0.90592706 0.90506458\\n\",","      \" 0.90419257 0.90341312 0.90279734 0.90238118]\\n\",","      \"22 day output [[0.9021694]]\\n\",","      \"23 day input [0.96474711 0.97572406 0.99159841 0.96972895 0.97614625 0.96795575\\n\",","      \" 1.         0.99016297 0.99050072 0.96538039 0.98488559 0.97086887\\n\",","      \" 0.94026007 0.87748037 0.83483915 0.85413324 0.77336823 0.77269273\\n\",","      \" 0.88014017 0.84007431 0.89673225 0.85527316 0.83884995 0.74233725\\n\",","      \" 0.82327113 0.78143207 0.6665963  0.7921557  0.64118044 0.68614371\\n\",","      \" 0.66001013 0.65203074 0.58642236 0.56586169 0.66089673 0.65515494\\n\",","      \" 0.70970193 0.66452757 0.69437642 0.69218104 0.63569197 0.65266402\\n\",","      \" 0.63780292 0.7267162  0.71388162 0.74191506 0.75002111 0.77222832\\n\",","      \" 0.83049059 0.8194292  0.8289707  0.8125475  0.78776492 0.75162543\\n\",","      \" 0.78426074 0.77974331 0.81326522 0.8141096  0.79473106 0.83336148\\n\",","      \" 0.85898843 0.83901883 0.85628641 0.87486279 0.88782403 0.90095415\\n\",","      \" 0.92793211 0.948535   0.93333615 0.91746179 0.92544119 0.91771511\\n\",","      \" 0.9483239  0.94064004 0.96635143 0.9563033  0.96491598 0.94413203\\n\",","      \" 0.93795931 0.92865342 0.91987926 0.91280973 0.90777564 0.90473258\\n\",","      \" 0.90339231 0.90332204 0.90403908 0.90509242 0.90611798 0.90686554\\n\",","      \" 0.90720606 0.90711629 0.90665382 0.90592706 0.90506458 0.90419257\\n\",","      \" 0.90341312 0.90279734 0.90238118 0.90216941]\\n\",","      \"23 day output [[0.90213937]]\\n\",","      \"24 day input [0.97572406 0.99159841 0.96972895 0.97614625 0.96795575 1.\\n\",","      \" 0.99016297 0.99050072 0.96538039 0.98488559 0.97086887 0.94026007\\n\",","      \" 0.87748037 0.83483915 0.85413324 0.77336823 0.77269273 0.88014017\\n\",","      \" 0.84007431 0.89673225 0.85527316 0.83884995 0.74233725 0.82327113\\n\",","      \" 0.78143207 0.6665963  0.7921557  0.64118044 0.68614371 0.66001013\\n\",","      \" 0.65203074 0.58642236 0.56586169 0.66089673 0.65515494 0.70970193\\n\",","      \" 0.66452757 0.69437642 0.69218104 0.63569197 0.65266402 0.63780292\\n\",","      \" 0.7267162  0.71388162 0.74191506 0.75002111 0.77222832 0.83049059\\n\",","      \" 0.8194292  0.8289707  0.8125475  0.78776492 0.75162543 0.78426074\\n\",","      \" 0.77974331 0.81326522 0.8141096  0.79473106 0.83336148 0.85898843\\n\",","      \" 0.83901883 0.85628641 0.87486279 0.88782403 0.90095415 0.92793211\\n\",","      \" 0.948535   0.93333615 0.91746179 0.92544119 0.91771511 0.9483239\\n\",","      \" 0.94064004 0.96635143 0.9563033  0.96491598 0.94413203 0.93795931\\n\",","      \" 0.92865342 0.91987926 0.91280973 0.90777564 0.90473258 0.90339231\\n\",","      \" 0.90332204 0.90403908 0.90509242 0.90611798 0.90686554 0.90720606\\n\",","      \" 0.90711629 0.90665382 0.90592706 0.90506458 0.90419257 0.90341312\\n\",","      \" 0.90279734 0.90238118 0.90216941 0.90213937]\\n\",","      \"24 day output [[0.9022528]]\\n\",","      \"25 day input [0.99159841 0.96972895 0.97614625 0.96795575 1.         0.99016297\\n\",","      \" 0.99050072 0.96538039 0.98488559 0.97086887 0.94026007 0.87748037\\n\",","      \" 0.83483915 0.85413324 0.77336823 0.77269273 0.88014017 0.84007431\\n\",","      \" 0.89673225 0.85527316 0.83884995 0.74233725 0.82327113 0.78143207\\n\",","      \" 0.6665963  0.7921557  0.64118044 0.68614371 0.66001013 0.65203074\\n\",","      \" 0.58642236 0.56586169 0.66089673 0.65515494 0.70970193 0.66452757\\n\",","      \" 0.69437642 0.69218104 0.63569197 0.65266402 0.63780292 0.7267162\\n\",","      \" 0.71388162 0.74191506 0.75002111 0.77222832 0.83049059 0.8194292\\n\",","      \" 0.8289707  0.8125475  0.78776492 0.75162543 0.78426074 0.77974331\\n\",","      \" 0.81326522 0.8141096  0.79473106 0.83336148 0.85898843 0.83901883\\n\",","      \" 0.85628641 0.87486279 0.88782403 0.90095415 0.92793211 0.948535\\n\",","      \" 0.93333615 0.91746179 0.92544119 0.91771511 0.9483239  0.94064004\\n\",","      \" 0.96635143 0.9563033  0.96491598 0.94413203 0.93795931 0.92865342\\n\",","      \" 0.91987926 0.91280973 0.90777564 0.90473258 0.90339231 0.90332204\\n\",","      \" 0.90403908 0.90509242 0.90611798 0.90686554 0.90720606 0.90711629\\n\",","      \" 0.90665382 0.90592706 0.90506458 0.90419257 0.90341312 0.90279734\\n\",","      \" 0.90238118 0.90216941 0.90213937 0.90225279]\\n\",","      \"25 day output [[0.90246403]]\\n\",","      \"26 day input [0.96972895 0.97614625 0.96795575 1.         0.99016297 0.99050072\\n\",","      \" 0.96538039 0.98488559 0.97086887 0.94026007 0.87748037 0.83483915\\n\",","      \" 0.85413324 0.77336823 0.77269273 0.88014017 0.84007431 0.89673225\\n\",","      \" 0.85527316 0.83884995 0.74233725 0.82327113 0.78143207 0.6665963\\n\",","      \" 0.7921557  0.64118044 0.68614371 0.66001013 0.65203074 0.58642236\\n\",","      \" 0.56586169 0.66089673 0.65515494 0.70970193 0.66452757 0.69437642\\n\",","      \" 0.69218104 0.63569197 0.65266402 0.63780292 0.7267162  0.71388162\\n\",","      \" 0.74191506 0.75002111 0.77222832 0.83049059 0.8194292  0.8289707\\n\",","      \" 0.8125475  0.78776492 0.75162543 0.78426074 0.77974331 0.81326522\\n\",","      \" 0.8141096  0.79473106 0.83336148 0.85898843 0.83901883 0.85628641\\n\",","      \" 0.87486279 0.88782403 0.90095415 0.92793211 0.948535   0.93333615\\n\",","      \" 0.91746179 0.92544119 0.91771511 0.9483239  0.94064004 0.96635143\\n\",","      \" 0.9563033  0.96491598 0.94413203 0.93795931 0.92865342 0.91987926\\n\",","      \" 0.91280973 0.90777564 0.90473258 0.90339231 0.90332204 0.90403908\\n\",","      \" 0.90509242 0.90611798 0.90686554 0.90720606 0.90711629 0.90665382\\n\",","      \" 0.90592706 0.90506458 0.90419257 0.90341312 0.90279734 0.90238118\\n\",","      \" 0.90216941 0.90213937 0.90225279 0.90246403]\\n\",","      \"26 day output [[0.90272856]]\\n\",","      \"27 day input [0.97614625 0.96795575 1.         0.99016297 0.99050072 0.96538039\\n\",","      \" 0.98488559 0.97086887 0.94026007 0.87748037 0.83483915 0.85413324\\n\",","      \" 0.77336823 0.77269273 0.88014017 0.84007431 0.89673225 0.85527316\\n\",","      \" 0.83884995 0.74233725 0.82327113 0.78143207 0.6665963  0.7921557\\n\",","      \" 0.64118044 0.68614371 0.66001013 0.65203074 0.58642236 0.56586169\\n\",","      \" 0.66089673 0.65515494 0.70970193 0.66452757 0.69437642 0.69218104\\n\",","      \" 0.63569197 0.65266402 0.63780292 0.7267162  0.71388162 0.74191506\\n\",","      \" 0.75002111 0.77222832 0.83049059 0.8194292  0.8289707  0.8125475\\n\",","      \" 0.78776492 0.75162543 0.78426074 0.77974331 0.81326522 0.8141096\\n\",","      \" 0.79473106 0.83336148 0.85898843 0.83901883 0.85628641 0.87486279\\n\",","      \" 0.88782403 0.90095415 0.92793211 0.948535   0.93333615 0.91746179\\n\",","      \" 0.92544119 0.91771511 0.9483239  0.94064004 0.96635143 0.9563033\\n\",","      \" 0.96491598 0.94413203 0.93795931 0.92865342 0.91987926 0.91280973\\n\",","      \" 0.90777564 0.90473258 0.90339231 0.90332204 0.90403908 0.90509242\\n\",","      \" 0.90611798 0.90686554 0.90720606 0.90711629 0.90665382 0.90592706\\n\",","      \" 0.90506458 0.90419257 0.90341312 0.90279734 0.90238118 0.90216941\\n\",","      \" 0.90213937 0.90225279 0.90246403 0.90272856]\\n\",","      \"27 day output [[0.90300757]]\\n\",","      \"28 day input [0.96795575 1.         0.99016297 0.99050072 0.96538039 0.98488559\\n\",","      \" 0.97086887 0.94026007 0.87748037 0.83483915 0.85413324 0.77336823\\n\",","      \" 0.77269273 0.88014017 0.84007431 0.89673225 0.85527316 0.83884995\\n\",","      \" 0.74233725 0.82327113 0.78143207 0.6665963  0.7921557  0.64118044\\n\",","      \" 0.68614371 0.66001013 0.65203074 0.58642236 0.56586169 0.66089673\\n\",","      \" 0.65515494 0.70970193 0.66452757 0.69437642 0.69218104 0.63569197\\n\",","      \" 0.65266402 0.63780292 0.7267162  0.71388162 0.74191506 0.75002111\\n\",","      \" 0.77222832 0.83049059 0.8194292  0.8289707  0.8125475  0.78776492\\n\",","      \" 0.75162543 0.78426074 0.77974331 0.81326522 0.8141096  0.79473106\\n\",","      \" 0.83336148 0.85898843 0.83901883 0.85628641 0.87486279 0.88782403\\n\",","      \" 0.90095415 0.92793211 0.948535   0.93333615 0.91746179 0.92544119\\n\",","      \" 0.91771511 0.9483239  0.94064004 0.96635143 0.9563033  0.96491598\\n\",","      \" 0.94413203 0.93795931 0.92865342 0.91987926 0.91280973 0.90777564\\n\",","      \" 0.90473258 0.90339231 0.90332204 0.90403908 0.90509242 0.90611798\\n\",","      \" 0.90686554 0.90720606 0.90711629 0.90665382 0.90592706 0.90506458\\n\",","      \" 0.90419257 0.90341312 0.90279734 0.90238118 0.90216941 0.90213937\\n\",","      \" 0.90225279 0.90246403 0.90272856 0.90300757]\\n\"","     ]","    },","    {","     \"name\": \"stdout\",","     \"output_type\": \"stream\",","     \"text\": [","      \"28 day output [[0.903272]]\\n\",","      \"29 day input [1.         0.99016297 0.99050072 0.96538039 0.98488559 0.97086887\\n\",","      \" 0.94026007 0.87748037 0.83483915 0.85413324 0.77336823 0.77269273\\n\",","      \" 0.88014017 0.84007431 0.89673225 0.85527316 0.83884995 0.74233725\\n\",","      \" 0.82327113 0.78143207 0.6665963  0.7921557  0.64118044 0.68614371\\n\",","      \" 0.66001013 0.65203074 0.58642236 0.56586169 0.66089673 0.65515494\\n\",","      \" 0.70970193 0.66452757 0.69437642 0.69218104 0.63569197 0.65266402\\n\",","      \" 0.63780292 0.7267162  0.71388162 0.74191506 0.75002111 0.77222832\\n\",","      \" 0.83049059 0.8194292  0.8289707  0.8125475  0.78776492 0.75162543\\n\",","      \" 0.78426074 0.77974331 0.81326522 0.8141096  0.79473106 0.83336148\\n\",","      \" 0.85898843 0.83901883 0.85628641 0.87486279 0.88782403 0.90095415\\n\",","      \" 0.92793211 0.948535   0.93333615 0.91746179 0.92544119 0.91771511\\n\",","      \" 0.9483239  0.94064004 0.96635143 0.9563033  0.96491598 0.94413203\\n\",","      \" 0.93795931 0.92865342 0.91987926 0.91280973 0.90777564 0.90473258\\n\",","      \" 0.90339231 0.90332204 0.90403908 0.90509242 0.90611798 0.90686554\\n\",","      \" 0.90720606 0.90711629 0.90665382 0.90592706 0.90506458 0.90419257\\n\",","      \" 0.90341312 0.90279734 0.90238118 0.90216941 0.90213937 0.90225279\\n\",","      \" 0.90246403 0.90272856 0.90300757 0.90327197]\\n\",","      \"29 day output [[0.90350425]]\\n\",","      \"[[0.9441320300102234], [0.9379593133926392], [0.9286534190177917], [0.9198792576789856], [0.9128097295761108], [0.9077756404876709], [0.9047325849533081], [0.9033923149108887], [0.9033220410346985], [0.9040390849113464], [0.9050924181938171], [0.9061179757118225], [0.9068655371665955], [0.9072060585021973], [0.9071162939071655], [0.9066538214683533], [0.9059270620346069], [0.905064582824707], [0.9041925668716431], [0.9034131169319153], [0.9027973413467407], [0.902381181716919], [0.902169406414032], [0.9021393656730652], [0.9022527933120728], [0.9024640321731567], [0.9027285575866699], [0.9030075669288635], [0.9032719731330872], [0.9035042524337769]]\\n\"","     ]","    }","   ],","   \"source\": [","    \"# demonstrate prediction for next 10 days\\n\",","    \"from numpy import array\\n\",","    \"\\n\",","    \"lst_output=[]\\n\",","    \"n_steps=100\\n\",","    \"i=0\\n\",","    \"while(i\u003c30):\\n\",","    \"    \\n\",","    \"    if(len(temp_input)\u003e100):\\n\",","    \"        #print(temp_input)\\n\",","    \"        x_input=np.array(temp_input[1:])\\n\",","    \"        print(\\\"{} day input {}\\\".format(i,x_input))\\n\",","    \"        x_input=x_input.reshape(1,-1)\\n\",","    \"        x_input = x_input.reshape((1, n_steps, 1))\\n\",","    \"        #print(x_input)\\n\",","    \"        yhat = model.predict(x_input, verbose=0)\\n\",","    \"        print(\\\"{} day output {}\\\".format(i,yhat))\\n\",","    \"        temp_input.extend(yhat[0].tolist())\\n\",","    \"        temp_input=temp_input[1:]\\n\",","    \"        #print(temp_input)\\n\",","    \"        lst_output.extend(yhat.tolist())\\n\",","    \"        i=i+1\\n\",","    \"    else:\\n\",","    \"        x_input = x_input.reshape((1, n_steps,1))\\n\",","    \"        yhat = model.predict(x_input, verbose=0)\\n\",","    \"        print(yhat[0])\\n\",","    \"        temp_input.extend(yhat[0].tolist())\\n\",","    \"        print(len(temp_input))\\n\",","    \"        lst_output.extend(yhat.tolist())\\n\",","    \"        i=i+1\\n\",","    \"    \\n\",","    \"\\n\",","    \"print(lst_output)\"","   ]","  },","  {","   \"cell_type\": \"code\",","   \"execution_count\": 442,","   \"metadata\": {},","   \"outputs\": [],","   \"source\": [","    \"day_new=np.arange(1,101)\\n\",","    \"day_pred=np.arange(101,131)\"","   ]","  },","  {","   \"cell_type\": \"code\",","   \"execution_count\": 443,","   \"metadata\": {},","   \"outputs\": [],","   \"source\": [","    \"import matplotlib.pyplot as plt\"","   ]","  },","  {","   \"cell_type\": \"code\",","   \"execution_count\": 391,","   \"metadata\": {},","   \"outputs\": [","    {","     \"data\": {","      \"text/plain\": [","       \"1258\"","      ]","     },","     \"execution_count\": 391,","     \"metadata\": {},","     \"output_type\": \"execute_result\"","    }","   ],","   \"source\": [","    \"len(df1)\"","   ]","  },","  {","   \"cell_type\": \"code\",","   \"execution_count\": 392,","   \"metadata\": {},","   \"outputs\": [],","   \"source\": []","  },","  {","   \"cell_type\": \"code\",","   \"execution_count\": 444,","   \"metadata\": {},","   \"outputs\": [","    {","     \"data\": {","      \"text/plain\": [","       \"[\u003cmatplotlib.lines.Line2D at 0x2d1b0f352b0\u003e]\"","      ]","     },","     \"execution_count\": 444,","     \"metadata\": {},","     \"output_type\": \"execute_result\"","    },","    {","     \"data\": {","      \"image/png\": \"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\\n\",","      \"text/plain\": [","       \"\u003cFigure size 432x288 with 1 Axes\u003e\"","      ]","     },","     \"metadata\": {","      \"needs_background\": \"light\"","     },","     \"output_type\": \"display_data\"","    }","   ],","   \"source\": [","    \"plt.plot(day_new,scaler.inverse_transform(df1[1158:]))\\n\",","    \"plt.plot(day_pred,scaler.inverse_transform(lst_output))\"","   ]","  },","  {","   \"cell_type\": \"code\",","   \"execution_count\": 446,","   \"metadata\": {},","   \"outputs\": [","    {","     \"data\": {","      \"text/plain\": [","       \"[\u003cmatplotlib.lines.Line2D at 0x2d1b0f55ac8\u003e]\"","      ]","     },","     \"execution_count\": 446,","     \"metadata\": {},","     \"output_type\": \"execute_result\"","    },","    {","     \"data\": {","      \"image/png\": \"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\\n\",","      \"text/plain\": [","       \"\u003cFigure size 432x288 with 1 Axes\u003e\"","      ]","     },","     \"metadata\": {","      \"needs_background\": \"light\"","     },","     \"output_type\": \"display_data\"","    }","   ],","   \"source\": [","    \"df3=df1.tolist()\\n\",","    \"df3.extend(lst_output)\\n\",","    \"plt.plot(df3[1200:])\"","   ]","  },","  {","   \"cell_type\": \"code\",","   \"execution_count\": 395,","   \"metadata\": {},","   \"outputs\": [],","   \"source\": [","    \"df3=scaler.inverse_transform(df3).tolist()\"","   ]","  },","  {","   \"cell_type\": \"code\",","   \"execution_count\": 396,","   \"metadata\": {},","   \"outputs\": [","    {","     \"data\": {","      \"text/plain\": [","       \"[\u003cmatplotlib.lines.Line2D at 0x2d1a904c470\u003e]\"","      ]","     },","     \"execution_count\": 396,","     \"metadata\": {},","     \"output_type\": \"execute_result\"","    },","    {","     \"data\": {","      \"image/png\": \"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\\n\",","      \"text/plain\": [","       \"\u003cFigure size 432x288 with 1 Axes\u003e\"","      ]","     },","     \"metadata\": {","      \"needs_background\": \"light\"","     },","     \"output_type\": \"display_data\"","    }","   ],","   \"source\": [","    \"plt.plot(df3)\"","   ]","  },","  {","   \"cell_type\": \"code\",","   \"execution_count\": null,","   \"metadata\": {},","   \"outputs\": [],","   \"source\": []","  }"," ],"," \"metadata\": {","  \"kernelspec\": {","   \"display_name\": \"Python 3\",","   \"language\": \"python\",","   \"name\": \"python3\"","  },","  \"language_info\": {","   \"codemirror_mode\": {","    \"name\": \"ipython\",","    \"version\": 3","   },","   \"file_extension\": \".py\",","   \"mimetype\": \"text/x-python\",","   \"name\": \"python\",","   \"nbconvert_exporter\": \"python\",","   \"pygments_lexer\": \"ipython3\",","   \"version\": \"3.6.9\"","  }"," },"," \"nbformat\": 4,"," \"nbformat_minor\": 2","}"],"stylingDirectives":null,"csv":null,"csvError":null,"dependabotInfo":{"showConfigurationBanner":false,"configFilePath":null,"networkDependabotPath":"/Arunima-Singh/StockPrediction/network/updates","dismissConfigurationNoticePath":"/settings/dismiss-notice/dependabot_configuration_notice","configurationNoticeDismissed":false,"repoAlertsPath":"/Arunima-Singh/StockPrediction/security/dependabot","repoSecurityAndAnalysisPath":"/Arunima-Singh/StockPrediction/settings/security_analysis","repoOwnerIsOrg":false,"currentUserCanAdminRepo":false},"displayName":"StockPrediction.ipynb","displayUrl":"https://notebooks.githubusercontent.com/view/ipynb?browser=chrome\u0026bypass_fastly=true\u0026color_mode=auto\u0026commit=669352bc89b3c32c069742c47ba661c1f409659b\u0026device=unknown_device\u0026docs_host=https%3A%2F%2Fdocs.github.com\u0026enc_url=68747470733a2f2f7261772e67697468756275736572636f6e74656e742e636f6d2f4172756e696d612d53696e67682f53746f636b50726564696374696f6e2f363639333532626338396233633332633036393734326334376261363631633166343039363539622f53746f636b50726564696374696f6e2e6970796e62\u0026logged_in=true\u0026nwo=Arunima-Singh%2FStockPrediction\u0026path=StockPrediction.ipynb\u0026platform=windows\u0026repository_id=535329618\u0026repository_type=Repository\u0026version=115","headerInfo":{"blobSize":"211 KB","deleteInfo":{"deletePath":"https://github.com/Arunima-Singh/StockPrediction/delete/main/StockPrediction.ipynb","deleteTooltip":"Fork this repository and delete the file"},"editInfo":{"editTooltip":"Fork this repository and edit the file"},"ghDesktopPath":"https://desktop.github.com","gitLfsPath":null,"onBranch":true,"shortPath":"6236996","siteNavLoginPath":"/login?return_to=https%3A%2F%2Fgithub.com%2FArunima-Singh%2FStockPrediction%2Fblob%2Fmain%2FStockPrediction.ipynb","isCSV":false,"isRichtext":false,"toc":null,"lineInfo":{"truncatedLoc":"2944","truncatedSloc":"2944"},"mode":"file"},"image":false,"isCodeownersFile":null,"isValidLegacyIssueTemplate":false,"issueTemplateHelpUrl":"https://docs.github.com/articles/about-issue-and-pull-request-templates","issueTemplate":null,"discussionTemplate":null,"language":"Jupyter Notebook","large":false,"loggedIn":true,"newDiscussionPath":"/Arunima-Singh/StockPrediction/discussions/new","newIssuePath":"/Arunima-Singh/StockPrediction/issues/new","planSupportInfo":{"repoIsFork":null,"repoOwnedByCurrentUser":null,"requestFullPath":"/Arunima-Singh/StockPrediction/blob/main/StockPrediction.ipynb","showFreeOrgGatedFeatureMessage":null,"showPlanSupportBanner":null,"upgradeDataAttributes":null,"upgradePath":null},"publishBannersInfo":{"dismissActionNoticePath":"/settings/dismiss-notice/publish_action_from_dockerfile","dismissStackNoticePath":"/settings/dismiss-notice/publish_stack_from_file","releasePath":"/Arunima-Singh/StockPrediction/releases/new?marketplace=true","showPublishActionBanner":false,"showPublishStackBanner":false},"renderImageOrRaw":false,"richText":null,"renderedFileInfo":{"identityUUID":"da5297ce-7b72-4aaa-9261-f06ed227cabf","renderFileType":"ipynb","size":215681},"tabSize":8,"topBannersInfo":{"overridingGlobalFundingFile":false,"globalPreferredFundingPath":null,"repoOwner":"Arunima-Singh","repoName":"StockPrediction","showInvalidCitationWarning":false,"citationHelpUrl":"https://docs.github.com/en/github/creating-cloning-and-archiving-repositories/creating-a-repository-on-github/about-citation-files","showDependabotConfigurationBanner":false,"actionsOnboardingTip":null},"truncated":false,"viewable":true,"workflowRedirectUrl":null,"symbols":{"timedOut":false,"notAnalyzed":true,"symbols":[]}},"copilotAccessInfo":{"accessAllowed":false,"hasSubscriptionEnded":false,"orgHasCFBAccess":false,"userHasCFIAccess":false,"userIsOrgAdmin":false,"userIsOrgMember":false,"business":null},"csrf_tokens":{"/Arunima-Singh/StockPrediction/branches":{"post":"bu9eDnwC-O2FBNCP-hy0_p02E3OyE_9eAfB7zgKTpByIFxoDZEQJbEseSP6W-slGA__yIw9LP5E1IIebhPGd5A"}}},"title":"StockPrediction/StockPrediction.ipynb at main · Arunima-Singh/StockPrediction","locale":"en","appPayload":{"helpUrl":"https://docs.github.com","findFileWorkerPath":"/assets-cdn/worker/find-file-worker-848bb9a5da17.js","findInFileWorkerPath":"/assets-cdn/worker/find-in-file-worker-4b57095adfc5.js","githubDevUrl":"https://github.dev/","enabled_features":{"virtualize_file_tree":true,"react_repos_overview":true,"code_nav_ui_events":false,"ref_selector_v2":false,"codeview_codemirror_next_editors":false,"blob_firefox_separate_characters":true,"column_symbol_auto_select":true,"copilot_conversational_ux":false,"copilot_conversational_ux_symbols":false,"copilot_popover_file_editor_header":false,"lfs_download_button":true}}}</script>
  <div data-target="react-app.reactRoot"></div>
</react-app>
</turbo-frame>



  </div>

</turbo-frame>

    </main>
  </div>

  </div>

          <footer class="footer width-full container-xl p-responsive" role="contentinfo">
  <h2 class='sr-only'>Footer</h2>

  <div class="position-relative d-flex flex-items-center pb-2 f6 color-fg-muted border-top color-border-muted flex-column-reverse flex-lg-row flex-wrap flex-lg-nowrap mt-6 pt-6">
    <div class="list-style-none d-flex flex-wrap col-0 col-lg-2 flex-justify-start flex-lg-justify-between mb-2 mb-lg-0">
      <div class="mt-2 mt-lg-0 d-flex flex-items-center">
        <a aria-label="Homepage" title="GitHub" class="footer-octicon mr-2" href="https://github.com">
          <svg aria-hidden="true" height="24" viewBox="0 0 16 16" version="1.1" width="24" data-view-component="true" class="octicon octicon-mark-github">
    <path d="M8 0c4.42 0 8 3.58 8 8a8.013 8.013 0 0 1-5.45 7.59c-.4.08-.55-.17-.55-.38 0-.27.01-1.13.01-2.2 0-.75-.25-1.23-.54-1.48 1.78-.2 3.65-.88 3.65-3.95 0-.88-.31-1.59-.82-2.15.08-.2.36-1.02-.08-2.12 0 0-.67-.22-2.2.82-.64-.18-1.32-.27-2-.27-.68 0-1.36.09-2 .27-1.53-1.03-2.2-.82-2.2-.82-.44 1.1-.16 1.92-.08 2.12-.51.56-.82 1.28-.82 2.15 0 3.06 1.86 3.75 3.64 3.95-.23.2-.44.55-.51 1.07-.46.21-1.61.55-2.33-.66-.15-.24-.6-.83-1.23-.82-.67.01-.27.38.01.53.34.19.73.9.82 1.13.16.45.68 1.31 2.69.94 0 .67.01 1.3.01 1.49 0 .21-.15.45-.55.38A7.995 7.995 0 0 1 0 8c0-4.42 3.58-8 8-8Z"></path>
</svg>
</a>        <span>
        &copy; 2023 GitHub, Inc.
        </span>
      </div>
    </div>

    <nav aria-label='Footer' class="col-12 col-lg-8">
      <h3 class='sr-only' id='sr-footer-heading'>Footer navigation</h3>
      <ul class="list-style-none d-flex flex-wrap col-12 flex-justify-center flex-lg-justify-between mb-2 mb-lg-0" aria-labelledby='sr-footer-heading'>
          <li class="mr-3 mr-lg-0"><a href="https://docs.github.com/site-policy/github-terms/github-terms-of-service" data-analytics-event="{&quot;category&quot;:&quot;Footer&quot;,&quot;action&quot;:&quot;go to terms&quot;,&quot;label&quot;:&quot;text:terms&quot;}">Terms</a></li>
          <li class="mr-3 mr-lg-0"><a href="https://docs.github.com/site-policy/privacy-policies/github-privacy-statement" data-analytics-event="{&quot;category&quot;:&quot;Footer&quot;,&quot;action&quot;:&quot;go to privacy&quot;,&quot;label&quot;:&quot;text:privacy&quot;}">Privacy</a></li>
          <li class="mr-3 mr-lg-0"><a data-analytics-event="{&quot;category&quot;:&quot;Footer&quot;,&quot;action&quot;:&quot;go to security&quot;,&quot;label&quot;:&quot;text:security&quot;}" href="https://github.com/security">Security</a></li>
          <li class="mr-3 mr-lg-0"><a href="https://www.githubstatus.com/" data-analytics-event="{&quot;category&quot;:&quot;Footer&quot;,&quot;action&quot;:&quot;go to status&quot;,&quot;label&quot;:&quot;text:status&quot;}">Status</a></li>
          <li class="mr-3 mr-lg-0"><a data-ga-click="Footer, go to help, text:Docs" href="https://docs.github.com">Docs</a></li>
          <li class="mr-3 mr-lg-0"><a href="https://support.github.com?tags=dotcom-footer" data-analytics-event="{&quot;category&quot;:&quot;Footer&quot;,&quot;action&quot;:&quot;go to contact&quot;,&quot;label&quot;:&quot;text:contact&quot;}">Contact GitHub</a></li>
          <li class="mr-3 mr-lg-0"><a href="https://github.com/pricing" data-analytics-event="{&quot;category&quot;:&quot;Footer&quot;,&quot;action&quot;:&quot;go to Pricing&quot;,&quot;label&quot;:&quot;text:Pricing&quot;}">Pricing</a></li>
        <li class="mr-3 mr-lg-0"><a href="https://docs.github.com" data-analytics-event="{&quot;category&quot;:&quot;Footer&quot;,&quot;action&quot;:&quot;go to api&quot;,&quot;label&quot;:&quot;text:api&quot;}">API</a></li>
        <li class="mr-3 mr-lg-0"><a href="https://services.github.com" data-analytics-event="{&quot;category&quot;:&quot;Footer&quot;,&quot;action&quot;:&quot;go to training&quot;,&quot;label&quot;:&quot;text:training&quot;}">Training</a></li>
          <li class="mr-3 mr-lg-0"><a href="https://github.blog" data-analytics-event="{&quot;category&quot;:&quot;Footer&quot;,&quot;action&quot;:&quot;go to blog&quot;,&quot;label&quot;:&quot;text:blog&quot;}">Blog</a></li>
          <li><a data-ga-click="Footer, go to about, text:about" href="https://github.com/about">About</a></li>
      </ul>
    </nav>
  </div>

  <div class="d-flex flex-justify-center pb-6">
    <span class="f6 color-fg-muted"></span>
  </div>
</footer>




  <div id="ajax-error-message" class="ajax-error-message flash flash-error" hidden>
    <svg aria-hidden="true" height="16" viewBox="0 0 16 16" version="1.1" width="16" data-view-component="true" class="octicon octicon-alert">
    <path d="M6.457 1.047c.659-1.234 2.427-1.234 3.086 0l6.082 11.378A1.75 1.75 0 0 1 14.082 15H1.918a1.75 1.75 0 0 1-1.543-2.575Zm1.763.707a.25.25 0 0 0-.44 0L1.698 13.132a.25.25 0 0 0 .22.368h12.164a.25.25 0 0 0 .22-.368Zm.53 3.996v2.5a.75.75 0 0 1-1.5 0v-2.5a.75.75 0 0 1 1.5 0ZM9 11a1 1 0 1 1-2 0 1 1 0 0 1 2 0Z"></path>
</svg>
    <button type="button" class="flash-close js-ajax-error-dismiss" aria-label="Dismiss error">
      <svg aria-hidden="true" height="16" viewBox="0 0 16 16" version="1.1" width="16" data-view-component="true" class="octicon octicon-x">
    <path d="M3.72 3.72a.75.75 0 0 1 1.06 0L8 6.94l3.22-3.22a.749.749 0 0 1 1.275.326.749.749 0 0 1-.215.734L9.06 8l3.22 3.22a.749.749 0 0 1-.326 1.275.749.749 0 0 1-.734-.215L8 9.06l-3.22 3.22a.751.751 0 0 1-1.042-.018.751.751 0 0 1-.018-1.042L6.94 8 3.72 4.78a.75.75 0 0 1 0-1.06Z"></path>
</svg>
    </button>
    You can’t perform that action at this time.
  </div>

    <template id="site-details-dialog">
  <details class="details-reset details-overlay details-overlay-dark lh-default color-fg-default hx_rsm" open>
    <summary role="button" aria-label="Close dialog"></summary>
    <details-dialog class="Box Box--overlay d-flex flex-column anim-fade-in fast hx_rsm-dialog hx_rsm-modal">
      <button class="Box-btn-octicon m-0 btn-octicon position-absolute right-0 top-0" type="button" aria-label="Close dialog" data-close-dialog>
        <svg aria-hidden="true" height="16" viewBox="0 0 16 16" version="1.1" width="16" data-view-component="true" class="octicon octicon-x">
    <path d="M3.72 3.72a.75.75 0 0 1 1.06 0L8 6.94l3.22-3.22a.749.749 0 0 1 1.275.326.749.749 0 0 1-.215.734L9.06 8l3.22 3.22a.749.749 0 0 1-.326 1.275.749.749 0 0 1-.734-.215L8 9.06l-3.22 3.22a.751.751 0 0 1-1.042-.018.751.751 0 0 1-.018-1.042L6.94 8 3.72 4.78a.75.75 0 0 1 0-1.06Z"></path>
</svg>
      </button>
      <div class="octocat-spinner my-6 js-details-dialog-spinner"></div>
    </details-dialog>
  </details>
</template>

    <div class="Popover js-hovercard-content position-absolute" style="display: none; outline: none;" tabindex="0">
  <div class="Popover-message Popover-message--bottom-left Popover-message--large Box color-shadow-large" style="width:360px;">
  </div>
</div>

    <template id="snippet-clipboard-copy-button">
  <div class="zeroclipboard-container position-absolute right-0 top-0">
    <clipboard-copy aria-label="Copy" class="ClipboardButton btn js-clipboard-copy m-2 p-0 tooltipped-no-delay" data-copy-feedback="Copied!" data-tooltip-direction="w">
      <svg aria-hidden="true" height="16" viewBox="0 0 16 16" version="1.1" width="16" data-view-component="true" class="octicon octicon-copy js-clipboard-copy-icon m-2">
    <path d="M0 6.75C0 5.784.784 5 1.75 5h1.5a.75.75 0 0 1 0 1.5h-1.5a.25.25 0 0 0-.25.25v7.5c0 .138.112.25.25.25h7.5a.25.25 0 0 0 .25-.25v-1.5a.75.75 0 0 1 1.5 0v1.5A1.75 1.75 0 0 1 9.25 16h-7.5A1.75 1.75 0 0 1 0 14.25Z"></path><path d="M5 1.75C5 .784 5.784 0 6.75 0h7.5C15.216 0 16 .784 16 1.75v7.5A1.75 1.75 0 0 1 14.25 11h-7.5A1.75 1.75 0 0 1 5 9.25Zm1.75-.25a.25.25 0 0 0-.25.25v7.5c0 .138.112.25.25.25h7.5a.25.25 0 0 0 .25-.25v-7.5a.25.25 0 0 0-.25-.25Z"></path>
</svg>
      <svg aria-hidden="true" height="16" viewBox="0 0 16 16" version="1.1" width="16" data-view-component="true" class="octicon octicon-check js-clipboard-check-icon color-fg-success d-none m-2">
    <path d="M13.78 4.22a.75.75 0 0 1 0 1.06l-7.25 7.25a.75.75 0 0 1-1.06 0L2.22 9.28a.751.751 0 0 1 .018-1.042.751.751 0 0 1 1.042-.018L6 10.94l6.72-6.72a.75.75 0 0 1 1.06 0Z"></path>
</svg>
    </clipboard-copy>
  </div>
</template>
<template id="snippet-clipboard-copy-button-unpositioned">
  <div class="zeroclipboard-container">
    <clipboard-copy aria-label="Copy" class="ClipboardButton btn btn-invisible js-clipboard-copy m-2 p-0 tooltipped-no-delay d-flex flex-justify-center flex-items-center" data-copy-feedback="Copied!" data-tooltip-direction="w">
      <svg aria-hidden="true" height="16" viewBox="0 0 16 16" version="1.1" width="16" data-view-component="true" class="octicon octicon-copy js-clipboard-copy-icon">
    <path d="M0 6.75C0 5.784.784 5 1.75 5h1.5a.75.75 0 0 1 0 1.5h-1.5a.25.25 0 0 0-.25.25v7.5c0 .138.112.25.25.25h7.5a.25.25 0 0 0 .25-.25v-1.5a.75.75 0 0 1 1.5 0v1.5A1.75 1.75 0 0 1 9.25 16h-7.5A1.75 1.75 0 0 1 0 14.25Z"></path><path d="M5 1.75C5 .784 5.784 0 6.75 0h7.5C15.216 0 16 .784 16 1.75v7.5A1.75 1.75 0 0 1 14.25 11h-7.5A1.75 1.75 0 0 1 5 9.25Zm1.75-.25a.25.25 0 0 0-.25.25v7.5c0 .138.112.25.25.25h7.5a.25.25 0 0 0 .25-.25v-7.5a.25.25 0 0 0-.25-.25Z"></path>
</svg>
      <svg aria-hidden="true" height="16" viewBox="0 0 16 16" version="1.1" width="16" data-view-component="true" class="octicon octicon-check js-clipboard-check-icon color-fg-success d-none">
    <path d="M13.78 4.22a.75.75 0 0 1 0 1.06l-7.25 7.25a.75.75 0 0 1-1.06 0L2.22 9.28a.751.751 0 0 1 .018-1.042.751.751 0 0 1 1.042-.018L6 10.94l6.72-6.72a.75.75 0 0 1 1.06 0Z"></path>
</svg>
    </clipboard-copy>
  </div>
</template>


    <style>
      .user-mention[href$="/Gaurav8683"] {
        color: var(--color-user-mention-fg);
        background-color: var(--color-user-mention-bg);
        border-radius: 2px;
        margin-left: -2px;
        margin-right: -2px;
        padding: 0 2px;
      }
    </style>


    </div>

    <div id="js-global-screen-reader-notice" class="sr-only" aria-live="polite" ></div>
  </body>
</html>



